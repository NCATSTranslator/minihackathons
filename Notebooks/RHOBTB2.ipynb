{
 "cells": [
  {
   "cell_type": "code",
   "execution_count": 1,
   "id": "latter-glenn",
   "metadata": {},
   "outputs": [],
   "source": [
    "import json\n",
    "import requests"
   ]
  },
  {
   "cell_type": "code",
   "execution_count": 2,
   "id": "fourth-tomorrow",
   "metadata": {},
   "outputs": [],
   "source": [
    "#https://pypi.org/project/gamma-viewer/\n",
    "from gamma_viewer import GammaViewer\n",
    "from IPython.display import display"
   ]
  },
  {
   "cell_type": "code",
   "execution_count": 3,
   "id": "loose-timber",
   "metadata": {},
   "outputs": [],
   "source": [
    "def submit_to_ars(m,ars_url='https://ars.transltr.io/ars/api',arax_url='https://arax.ncats.io/legacy'):\n",
    "    submit_url=f'{ars_url}/submit'\n",
    "    response = requests.post(submit_url,json=m)\n",
    "    try:\n",
    "        message_id = response.json()['pk']\n",
    "    except:\n",
    "        print('fail')\n",
    "        message_id = None\n",
    "    print(f'{arax_url}/?source=ARS&id={message_id}')\n",
    "    return message_id\n",
    "\n",
    "def retrieve_ars_results(mid,ars_url='https://ars.transltr.io/ars/api'):\n",
    "    message_url = f'{ars_url}/messages/{mid}?trace=y'\n",
    "    response = requests.get(message_url)\n",
    "    j = response.json()\n",
    "    print( j['status'] )\n",
    "    results = {}\n",
    "    for child in j['children']:\n",
    "        print(child['status'])\n",
    "        if child['status']  == 'Done':\n",
    "            childmessage_id = child['message']\n",
    "            child_url = f'{ars_url}/messages/{childmessage_id}'\n",
    "            try:\n",
    "                child_response = requests.get(child_url).json()\n",
    "                nresults = len(child_response['fields']['data']['message']['results'])\n",
    "                if nresults > 0:\n",
    "                    results[child['actor']['agent']] = {'message':child_response['fields']['data']['message']}\n",
    "            except Exception as e:\n",
    "                nresults=0\n",
    "                child['status'] = 'ARS Error'\n",
    "        elif child['status'] == 'Error':\n",
    "            nresults=0\n",
    "            childmessage_id = child['message']\n",
    "            child_url = f'{ars_url}/messages/{childmessage_id}'\n",
    "            try:\n",
    "                child_response = requests.get(child_url).json()\n",
    "                results[child['actor']['agent']] = {'message':child_response['fields']['data']['message']}\n",
    "            except Exception as e:\n",
    "                print(e)\n",
    "                child['status'] = 'ARS Error'\n",
    "        else:\n",
    "            nresults = 0\n",
    "        print( child['status'], child['actor']['agent'],nresults )\n",
    "    return results"
   ]
  },
  {
   "cell_type": "code",
   "execution_count": 4,
   "id": "honest-conducting",
   "metadata": {},
   "outputs": [],
   "source": [
    "def submit_to_devars(m):\n",
    "    return submit_to_ars(m,ars_url='https://ars-dev.transltr.io/ars/api',arax_url='https://arax.ncats.io')\n",
    "\n",
    "def retrieve_devars_results(m):\n",
    "    return retrieve_ars_results(m,ars_url='https://ars-dev.transltr.io/ars/api')"
   ]
  },
  {
   "cell_type": "code",
   "execution_count": 5,
   "id": "future-technique",
   "metadata": {},
   "outputs": [],
   "source": [
    "def printjson(j):\n",
    "    print(json.dumps(j,indent=4))\n",
    "\n",
    "def print_json(j):\n",
    "    printjson(j)"
   ]
  },
  {
   "cell_type": "code",
   "execution_count": 6,
   "id": "minimal-device",
   "metadata": {},
   "outputs": [],
   "source": [
    "def name_lookup(text):\n",
    "    url= f'https://name-resolution-sri.renci.org/lookup?string={text}&offset=0&limit=10'\n",
    "    response = requests.post(url)\n",
    "    printjson(response.json())"
   ]
  },
  {
   "cell_type": "code",
   "execution_count": 77,
   "id": "least-investment",
   "metadata": {},
   "outputs": [],
   "source": [
    "def one_hop_message(subject_category,object_category,predicate=None,subject_id = None, object_id = None):\n",
    "    query_graph = {\n",
    "    \"nodes\": {\n",
    "        'a':{\n",
    "            \"category\": subject_category\n",
    "        },\n",
    "        'b':{\n",
    "            \"category\": object_category\n",
    "        }\n",
    "    },\n",
    "    \"edges\": {\n",
    "        'ab':{\n",
    "            \"subject\": \"a\",\n",
    "            \"object\": \"b\",\n",
    "            #\"predicate\": predicate\n",
    "        }\n",
    "    }\n",
    "    }\n",
    "    if predicate is not None:\n",
    "        query_graph['edges']['ab']['predicate'] = predicate\n",
    "    if subject_id is not None:\n",
    "        query_graph['nodes']['a']['id'] = subject_id\n",
    "    if object_id is not None:\n",
    "        query_graph['nodes']['b']['id'] = object_id\n",
    "    message = {\"message\": {\"query_graph\": query_graph},'knowledge_graph':{\"nodes\": [], \"edges\": [],}, 'results':[]}\n",
    "    return message"
   ]
  },
  {
   "cell_type": "markdown",
   "id": "standard-recovery",
   "metadata": {},
   "source": [
    "# RHOBTB2"
   ]
  },
  {
   "cell_type": "markdown",
   "id": "shaped-choir",
   "metadata": {},
   "source": [
    "Main query should be something like RHOBTB2-gene-chemical where the net effect is to 'down' rhobtb2."
   ]
  },
  {
   "cell_type": "code",
   "execution_count": 9,
   "id": "equipped-annotation",
   "metadata": {},
   "outputs": [],
   "source": [
    "\n",
    "\n",
    "rho_query_1 = {\n",
    "    \"message\": {\n",
    "        \"query_graph\": {\n",
    "            \"edges\": {\n",
    "                \"e01\": {\n",
    "                    \"object\": \"n0\",\n",
    "                    \"subject\": \"n1\",\n",
    "                    \"predicates\": [\n",
    "                        \"biolink:entity_negatively_regulates_entity\"\n",
    "                    ]\n",
    "                }\n",
    "            },\n",
    "            \"nodes\": {\n",
    "                \"n0\": {\n",
    "                    \"ids\": [\n",
    "                        \"NCBIGene:23221\"\n",
    "                    ],\n",
    "                    \"categories\": [\n",
    "                        \"biolink:Gene\"\n",
    "                    ]\n",
    "                },\n",
    "                \"n1\": {\n",
    "                    \"categories\": [\n",
    "                        \"biolink:Gene\"\n",
    "                    ]\n",
    "                }\n",
    "            }\n",
    "        }\n",
    "    }\n",
    "}\n"
   ]
  },
  {
   "cell_type": "code",
   "execution_count": 10,
   "id": "wired-filename",
   "metadata": {},
   "outputs": [
    {
     "name": "stdout",
     "output_type": "stream",
     "text": [
      "https://arax.ncats.io/?source=ARS&id=f364253f-3162-430d-a077-dd9b1fcade2c\n"
     ]
    }
   ],
   "source": [
    "rho_result_id_1 = submit_to_devars(rho_query_1)"
   ]
  },
  {
   "cell_type": "code",
   "execution_count": null,
   "id": "hired-victory",
   "metadata": {},
   "outputs": [],
   "source": []
  }
 ],
 "metadata": {
  "kernelspec": {
   "display_name": "Python 3",
   "language": "python",
   "name": "python3"
  },
  "language_info": {
   "codemirror_mode": {
    "name": "ipython",
    "version": 3
   },
   "file_extension": ".py",
   "mimetype": "text/x-python",
   "name": "python",
   "nbconvert_exporter": "python",
   "pygments_lexer": "ipython3",
   "version": "3.9.1"
  }
 },
 "nbformat": 4,
 "nbformat_minor": 5
}
