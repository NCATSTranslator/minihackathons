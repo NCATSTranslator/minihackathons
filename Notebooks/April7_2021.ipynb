{
 "cells": [
  {
   "cell_type": "code",
   "execution_count": 1,
   "id": "latter-glenn",
   "metadata": {},
   "outputs": [],
   "source": [
    "import json\n",
    "import requests"
   ]
  },
  {
   "cell_type": "code",
   "execution_count": 2,
   "id": "fourth-tomorrow",
   "metadata": {},
   "outputs": [],
   "source": [
    "#https://pypi.org/project/gamma-viewer/\n",
    "from gamma_viewer import GammaViewer\n",
    "from IPython.display import display"
   ]
  },
  {
   "cell_type": "code",
   "execution_count": 3,
   "id": "loose-timber",
   "metadata": {},
   "outputs": [],
   "source": [
    "def submit_to_ars(m):\n",
    "    submit_url = 'https://ars.transltr.io/ars/api/submit'\n",
    "    response = requests.post(submit_url,json=m)\n",
    "    try:\n",
    "        message_id = response.json()['pk']\n",
    "    except:\n",
    "        print('fail')\n",
    "        message_id = None\n",
    "    print(f'https://arax.ncats.io/?source=ARS&id={message_id}')\n",
    "    return message_id"
   ]
  },
  {
   "cell_type": "code",
   "execution_count": 4,
   "id": "honest-conducting",
   "metadata": {},
   "outputs": [],
   "source": [
    "def retrieve_ars_results(mid):\n",
    "    message_url = f'https://ars.transltr.io/ars/api/messages/{mid}?trace=y'\n",
    "    response = requests.get(message_url)\n",
    "    j = response.json()\n",
    "    print( j['status'] )\n",
    "    results = {}\n",
    "    for child in j['children']:\n",
    "        if child['status'] == 'Done':\n",
    "            childmessage_id = child['message']\n",
    "            child_url = f'https://ars.transltr.io/ars/api/messages/{childmessage_id}'\n",
    "            child_response = requests.get(child_url).json()\n",
    "            try:\n",
    "                nresults = len(child_response['fields']['data']['message']['results'])\n",
    "                if nresults > 0:\n",
    "                    results[child['actor']['agent']] = {'message':child_response['fields']['data']['message']}\n",
    "            except:\n",
    "                nresults=0\n",
    "        else:\n",
    "            nresults = 0\n",
    "        print( child['status'], child['actor']['agent'],nresults )\n",
    "    return results"
   ]
  },
  {
   "cell_type": "code",
   "execution_count": 5,
   "id": "future-technique",
   "metadata": {},
   "outputs": [],
   "source": [
    "def printjson(j):\n",
    "    print(json.dumps(j,indent=4))\n",
    "\n",
    "def print_json(j):\n",
    "    printjson(j)"
   ]
  },
  {
   "cell_type": "code",
   "execution_count": 6,
   "id": "minimal-device",
   "metadata": {},
   "outputs": [],
   "source": [
    "def name_lookup(text):\n",
    "    url= f'https://name-resolution-sri.renci.org/lookup?string={text}&offset=0&limit=10'\n",
    "    response = requests.post(url)\n",
    "    printjson(response.json())"
   ]
  },
  {
   "cell_type": "code",
   "execution_count": 7,
   "id": "least-investment",
   "metadata": {},
   "outputs": [],
   "source": [
    "def one_hop_message(subject_category,object_category,predicate=None,subject_id = None, object_id = None):\n",
    "    query_graph = {\n",
    "    \"nodes\": {\n",
    "        'a':{\n",
    "            \"category\": subject_category\n",
    "        },\n",
    "        'b':{\n",
    "            \"category\": object_category\n",
    "        }\n",
    "    },\n",
    "    \"edges\": {\n",
    "        'ab':{\n",
    "            \"subject\": \"a\",\n",
    "            \"object\": \"b\",\n",
    "            #\"predicate\": predicate\n",
    "        }\n",
    "    }\n",
    "    }\n",
    "    if predicate is not None:\n",
    "        query_graph['edges']['ab']['predicate'] = predicate\n",
    "    if subject_id is not None:\n",
    "        query_graph['nodes']['a']['id'] = subject_id\n",
    "    if object_id is not None:\n",
    "        query_graph['nodes']['b']['id'] = object_id\n",
    "    message = {\"message\": {\"query_graph\": query_graph},'knowledge_graph':{\"nodes\": [], \"edges\": [],}, 'results':[]}\n",
    "    return message"
   ]
  },
  {
   "cell_type": "code",
   "execution_count": 12,
   "id": "furnished-taiwan",
   "metadata": {},
   "outputs": [
    {
     "name": "stdout",
     "output_type": "stream",
     "text": [
      "{\n",
      "    \"message\": {\n",
      "        \"query_graph\": {\n",
      "            \"nodes\": {\n",
      "                \"a\": {\n",
      "                    \"category\": \"biolink:ChemicalSubstance\",\n",
      "                    \"id\": \"CHEBI:17754\"\n",
      "                },\n",
      "                \"b\": {\n",
      "                    \"category\": \"biolink:PhenotypicFeature\"\n",
      "                }\n",
      "            },\n",
      "            \"edges\": {\n",
      "                \"ab\": {\n",
      "                    \"subject\": \"a\",\n",
      "                    \"object\": \"b\"\n",
      "                }\n",
      "            }\n",
      "        }\n",
      "    },\n",
      "    \"knowledge_graph\": {\n",
      "        \"nodes\": [],\n",
      "        \"edges\": []\n",
      "    },\n",
      "    \"results\": []\n",
      "}\n"
     ]
    }
   ],
   "source": [
    "x = one_hop_message(\"biolink:ChemicalSubstance\",\"biolink:PhenotypicFeature\",subject_id=\"CHEBI:17754\")\n",
    "printjson(x)"
   ]
  },
  {
   "cell_type": "markdown",
   "id": "constitutional-twist",
   "metadata": {},
   "source": [
    "# Broaden to other diseases"
   ]
  },
  {
   "cell_type": "markdown",
   "id": "protected-confirmation",
   "metadata": {},
   "source": [
    "**What are the inborn errors of metabolism? (MONDO:0019052)**"
   ]
  },
  {
   "cell_type": "code",
   "execution_count": 8,
   "id": "proud-slave",
   "metadata": {},
   "outputs": [
    {
     "name": "stdout",
     "output_type": "stream",
     "text": [
      "{\n",
      "    \"message\": {\n",
      "        \"query_graph\": {\n",
      "            \"nodes\": {\n",
      "                \"a\": {\n",
      "                    \"category\": \"biolink:Disease\"\n",
      "                },\n",
      "                \"b\": {\n",
      "                    \"category\": \"biolink:Disease\",\n",
      "                    \"id\": \"MONDO:0019052\"\n",
      "                }\n",
      "            },\n",
      "            \"edges\": {\n",
      "                \"ab\": {\n",
      "                    \"subject\": \"a\",\n",
      "                    \"object\": \"b\",\n",
      "                    \"predicate\": \"biolink:subclass_of\"\n",
      "                }\n",
      "            }\n",
      "        }\n",
      "    },\n",
      "    \"knowledge_graph\": {\n",
      "        \"nodes\": [],\n",
      "        \"edges\": []\n",
      "    },\n",
      "    \"results\": []\n",
      "}\n",
      "https://arax.ncats.io/?source=ARS&id=9381dd4b-4f26-42fb-b3e0-9bd4997acd51\n"
     ]
    }
   ],
   "source": [
    "subclass_message = one_hop_message('biolink:Disease','biolink:Disease',predicate='biolink:subclass_of',object_id = \"MONDO:0019052\")\n",
    "printjson(subclass_message)\n",
    "subclass_id = submit_to_ars(subclass_message)"
   ]
  },
  {
   "cell_type": "markdown",
   "id": "standard-recovery",
   "metadata": {},
   "source": [
    "# Look at processes?"
   ]
  },
  {
   "cell_type": "code",
   "execution_count": 9,
   "id": "wired-filename",
   "metadata": {},
   "outputs": [
    {
     "name": "stdout",
     "output_type": "stream",
     "text": [
      "{\n",
      "    \"message\": {\n",
      "        \"query_graph\": {\n",
      "            \"nodes\": {\n",
      "                \"a\": {\n",
      "                    \"category\": \"biolink:ChemicalSubstance\",\n",
      "                    \"id\": \"CHEBI:17754\"\n",
      "                },\n",
      "                \"b\": {\n",
      "                    \"category\": \"biolink:BiologicalProcessOrActivity\"\n",
      "                }\n",
      "            },\n",
      "            \"edges\": {\n",
      "                \"ab\": {\n",
      "                    \"subject\": \"a\",\n",
      "                    \"object\": \"b\",\n",
      "                    \"predicate\": \"biolink:related_to\"\n",
      "                }\n",
      "            }\n",
      "        }\n",
      "    },\n",
      "    \"knowledge_graph\": {\n",
      "        \"nodes\": [],\n",
      "        \"edges\": []\n",
      "    },\n",
      "    \"results\": []\n",
      "}\n",
      "https://arax.ncats.io/?source=ARS&id=c2d60d0a-8c1e-468c-a8a1-a8f4105ad6fa\n"
     ]
    }
   ],
   "source": [
    "glycerol_process_message = one_hop_message('biolink:ChemicalSubstance','biolink:BiologicalProcessOrActivity',predicate='biolink:related_to',subject_id = \"CHEBI:17754\")\n",
    "printjson(glycerol_process_message)\n",
    "glycerol_process_id = submit_to_ars(glycerol_process_message)"
   ]
  },
  {
   "cell_type": "code",
   "execution_count": 10,
   "id": "intimate-disease",
   "metadata": {},
   "outputs": [
    {
     "name": "stdout",
     "output_type": "stream",
     "text": [
      "{\n",
      "    \"message\": {\n",
      "        \"query_graph\": {\n",
      "            \"nodes\": {\n",
      "                \"a\": {\n",
      "                    \"category\": \"biolink:Gene\",\n",
      "                    \"id\": \"UniProtKB:P32189\"\n",
      "                },\n",
      "                \"b\": {\n",
      "                    \"category\": \"biolink:BiologicalProcessOrActivity\"\n",
      "                }\n",
      "            },\n",
      "            \"edges\": {\n",
      "                \"ab\": {\n",
      "                    \"subject\": \"a\",\n",
      "                    \"object\": \"b\",\n",
      "                    \"predicate\": \"biolink:related_to\"\n",
      "                }\n",
      "            }\n",
      "        }\n",
      "    },\n",
      "    \"knowledge_graph\": {\n",
      "        \"nodes\": [],\n",
      "        \"edges\": []\n",
      "    },\n",
      "    \"results\": []\n",
      "}\n",
      "https://arax.ncats.io/?source=ARS&id=eb6a3613-6ca8-4485-a97b-995ad7532b60\n"
     ]
    }
   ],
   "source": [
    "gk_process_message = one_hop_message('biolink:Gene','biolink:BiologicalProcessOrActivity',predicate='biolink:related_to',subject_id = \"UniProtKB:P32189\")\n",
    "printjson(gk_process_message)\n",
    "glycerol_process_id = submit_to_ars(gk_process_message)"
   ]
  },
  {
   "cell_type": "code",
   "execution_count": null,
   "id": "infinite-march",
   "metadata": {},
   "outputs": [],
   "source": []
  }
 ],
 "metadata": {
  "kernelspec": {
   "display_name": "Python 3",
   "language": "python",
   "name": "python3"
  },
  "language_info": {
   "codemirror_mode": {
    "name": "ipython",
    "version": 3
   },
   "file_extension": ".py",
   "mimetype": "text/x-python",
   "name": "python",
   "nbconvert_exporter": "python",
   "pygments_lexer": "ipython3",
   "version": "3.9.1"
  }
 },
 "nbformat": 4,
 "nbformat_minor": 5
}
