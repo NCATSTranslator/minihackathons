{
 "cells": [
  {
   "cell_type": "code",
   "execution_count": 1,
   "metadata": {},
   "outputs": [],
   "source": [
    "import json\n",
    "import requests"
   ]
  },
  {
   "cell_type": "code",
   "execution_count": 2,
   "metadata": {},
   "outputs": [],
   "source": [
    "#https://pypi.org/project/gamma-viewer/\n",
    "from gamma_viewer import GammaViewer\n",
    "from IPython.display import display"
   ]
  },
  {
   "cell_type": "code",
   "execution_count": 3,
   "metadata": {},
   "outputs": [],
   "source": [
    "def submit_to_ars(m,ars_url='https://ars.ci.transltr.io/ars/api',arax_url='https://arax.ncats.io'):\n",
    "    submit_url=f'{ars_url}/submit'\n",
    "    response = requests.post(submit_url,json=m)\n",
    "    try:\n",
    "        message_id = response.json()['pk']\n",
    "    except:\n",
    "        print('fail')\n",
    "        message_id = None\n",
    "    print(f'{arax_url}/?source=ARS&id={message_id}')\n",
    "    return message_id\n",
    "\n",
    "def retrieve_ars_results(mid,ars_url='https://ars.ci.transltr.io/ars/api'):\n",
    "    message_url = f'{ars_url}/messages/{mid}?trace=y'\n",
    "    response = requests.get(message_url)\n",
    "    j = response.json()\n",
    "    print( j['status'] )\n",
    "    results = {}\n",
    "    for child in j['children']:\n",
    "        print(child['status'])\n",
    "        if child['status']  == 'Done':\n",
    "            childmessage_id = child['message']\n",
    "            child_url = f'{ars_url}/messages/{childmessage_id}'\n",
    "            try:\n",
    "                child_response = requests.get(child_url).json()\n",
    "                nresults = len(child_response['fields']['data']['message']['results'])\n",
    "                if nresults > 0:\n",
    "                    results[child['actor']['agent']] = {'message':child_response['fields']['data']['message']}\n",
    "            except Exception as e:\n",
    "                nresults=0\n",
    "                child['status'] = 'ARS Error'\n",
    "        elif child['status'] == 'Error':\n",
    "            nresults=0\n",
    "            childmessage_id = child['message']\n",
    "            child_url = f'{ars_url}/messages/{childmessage_id}'\n",
    "            try:\n",
    "                child_response = requests.get(child_url).json()\n",
    "                results[child['actor']['agent']] = {'message':child_response['fields']['data']['message']}\n",
    "            except Exception as e:\n",
    "                print(e)\n",
    "                child['status'] = 'ARS Error'\n",
    "        else:\n",
    "            nresults = 0\n",
    "        print( child['status'], child['actor']['agent'],nresults )\n",
    "    return results"
   ]
  },
  {
   "cell_type": "code",
   "execution_count": 4,
   "metadata": {},
   "outputs": [],
   "source": [
    "def submit_to_devars(m):\n",
    "    return submit_to_ars(m,ars_url='https://ars-dev.transltr.io/ars/api',arax_url='https://arax.ncats.io')\n",
    "\n",
    "def retrieve_devars_results(m):\n",
    "    return retrieve_ars_results(m,ars_url='https://ars-dev.transltr.io/ars/api')"
   ]
  },
  {
   "cell_type": "code",
   "execution_count": 4,
   "metadata": {},
   "outputs": [],
   "source": [
    "def printjson(j):\n",
    "    print(json.dumps(j,indent=4))\n",
    "\n",
    "def print_json(j):\n",
    "    printjson(j)"
   ]
  },
  {
   "cell_type": "code",
   "execution_count": 5,
   "metadata": {},
   "outputs": [],
   "source": [
    "def name_lookup(text):\n",
    "    url= f'https://name-resolution-sri.renci.org/lookup?string={text}&offset=0&limit=10'\n",
    "    response = requests.post(url)\n",
    "    printjson(response.json())"
   ]
  },
  {
   "cell_type": "code",
   "execution_count": 7,
   "metadata": {},
   "outputs": [],
   "source": [
    "def one_hop_message(subject_category,object_category,predicate=None,subject_id = None, object_id = None):\n",
    "    query_graph = {\n",
    "    \"nodes\": {\n",
    "        'a':{\n",
    "            \"category\": subject_category\n",
    "        },\n",
    "        'b':{\n",
    "            \"category\": object_category\n",
    "        }\n",
    "    },\n",
    "    \"edges\": {\n",
    "        'ab':{\n",
    "            \"subject\": \"a\",\n",
    "            \"object\": \"b\",\n",
    "            #\"predicate\": predicate\n",
    "        }\n",
    "    }\n",
    "    }\n",
    "    if predicate is not None:\n",
    "        query_graph['edges']['ab']['predicate'] = predicate\n",
    "    if subject_id is not None:\n",
    "        query_graph['nodes']['a']['id'] = subject_id\n",
    "    if object_id is not None:\n",
    "        query_graph['nodes']['b']['id'] = object_id\n",
    "    message = {\"message\": {\"query_graph\": query_graph},'knowledge_graph':{\"nodes\": [], \"edges\": [],}, 'results':[]}\n",
    "    return message"
   ]
  },
  {
   "cell_type": "code",
   "execution_count": 6,
   "metadata": {},
   "outputs": [],
   "source": [
    "with open('../2021-12_demo/workflowD/parkinsons-crohns.json','r') as inf:\n",
    "    query = json.load(inf)"
   ]
  },
  {
   "cell_type": "code",
   "execution_count": 7,
   "metadata": {},
   "outputs": [
    {
     "name": "stdout",
     "output_type": "stream",
     "text": [
      "{\n",
      "    \"message\": {\n",
      "        \"query_graph\": {\n",
      "            \"edges\": {\n",
      "                \"e00\": {\n",
      "                    \"subject\": \"n00\",\n",
      "                    \"object\": \"n01\"\n",
      "                },\n",
      "                \"e01\": {\n",
      "                    \"subject\": \"n01\",\n",
      "                    \"object\": \"n02\"\n",
      "                }\n",
      "            },\n",
      "            \"nodes\": {\n",
      "                \"n00\": {\n",
      "                    \"ids\": [\n",
      "                        \"DOID:14330\"\n",
      "                    ],\n",
      "                    \"categories\": [\n",
      "                        \"biolink:Disease\"\n",
      "                    ]\n",
      "                },\n",
      "                \"n01\": {\n",
      "                    \"categories\": [\n",
      "                        \"biolink:NamedThing\"\n",
      "                    ]\n",
      "                },\n",
      "                \"n02\": {\n",
      "                    \"ids\": [\n",
      "                        \"DOID:8778\"\n",
      "                    ],\n",
      "                    \"categories\": [\n",
      "                        \"biolink:Disease\"\n",
      "                    ]\n",
      "                }\n",
      "            }\n",
      "        }\n",
      "    }\n",
      "}\n"
     ]
    }
   ],
   "source": [
    "printjson(query)"
   ]
  },
  {
   "cell_type": "code",
   "execution_count": 9,
   "metadata": {},
   "outputs": [
    {
     "name": "stdout",
     "output_type": "stream",
     "text": [
      "https://arax.ncats.io/?source=ARS&id=32bc9435-404a-48b6-a196-2d94611fdaf4\n"
     ]
    }
   ],
   "source": [
    "result_id_1 = submit_to_ars(query)"
   ]
  }
 ],
 "metadata": {
  "kernelspec": {
   "display_name": "Python 3",
   "language": "python",
   "name": "python3"
  },
  "language_info": {
   "codemirror_mode": {
    "name": "ipython",
    "version": 3
   },
   "file_extension": ".py",
   "mimetype": "text/x-python",
   "name": "python",
   "nbconvert_exporter": "python",
   "pygments_lexer": "ipython3",
   "version": "3.7.4"
  }
 },
 "nbformat": 4,
 "nbformat_minor": 5
}
