{
 "cells": [
  {
   "cell_type": "code",
   "execution_count": 10,
   "id": "chemical-juice",
   "metadata": {},
   "outputs": [],
   "source": [
    "### This python Notebook is for Vicki to try out and submit json queries to ARS through backup ARAX \n",
    "\n",
    "## You will need to install jyupter notebook and install all the packages below"
   ]
  },
  {
   "cell_type": "code",
   "execution_count": 1,
   "id": "regular-thailand",
   "metadata": {},
   "outputs": [],
   "source": [
    "# packages\n",
    "import requests\n",
    "import json\n",
    "from collections import defaultdict\n",
    "import os\n",
    "import pandas as pd"
   ]
  },
  {
   "cell_type": "code",
   "execution_count": 2,
   "id": "genetic-prerequisite",
   "metadata": {},
   "outputs": [],
   "source": [
    "def submit_to_ars(m,ars_url='https://ars.transltr.io/ars/api',arax_url='https://arax.ncats.io'):\n",
    "    submit_url=f'{ars_url}/submit'\n",
    "    response = requests.post(submit_url,json=m)\n",
    "    try:\n",
    "        message_id = response.json()['pk']\n",
    "    except:\n",
    "        print('fail')\n",
    "        message_id = None\n",
    "    print(f'{arax_url}/?source=ARS&id={message_id}')\n",
    "    return message_id"
   ]
  },
  {
   "cell_type": "code",
   "execution_count": 3,
   "id": "under-tunisia",
   "metadata": {},
   "outputs": [],
   "source": [
    "def retrieve_ars_results(mid,ars_url='https://ars.transltr.io/ars/api'):\n",
    "    pk = 'https://arax.ncats.io/?source=ARS&id=' + mid\n",
    "    message_url = f'{ars_url}/messages/{mid}?trace=y'\n",
    "    response = requests.get(message_url)\n",
    "    j = response.json()\n",
    "    print( j['status'] )\n",
    "    results = {}\n",
    "    dictionary = {}\n",
    "    for child in j['children']:\n",
    "        print(child['status'])\n",
    "        if child['status']  == 'Done':\n",
    "            childmessage_id = child['message']\n",
    "            child_url = f'{ars_url}/messages/{childmessage_id}'\n",
    "            try:\n",
    "                child_response = requests.get(child_url).json()\n",
    "                nresults = len(child_response['fields']['data']['message']['results'])\n",
    "                if nresults > 0:\n",
    "                    results[child['actor']['agent']] = {'message':child_response['fields']['data']['message']}\n",
    "            except Exception as e:\n",
    "                nresults=0\n",
    "                child['status'] = 'ARS Error'\n",
    "        elif child['status'] == 'Error':\n",
    "            nresults=0\n",
    "            childmessage_id = child['message']\n",
    "            child_url = f'{ars_url}/messages/{childmessage_id}'\n",
    "            try:\n",
    "                child_response = requests.get(child_url).json()\n",
    "                results[child['actor']['agent']] = {'message':child_response['fields']['data']['message']}\n",
    "            except Exception as e:\n",
    "                #print(e)\n",
    "                child['status'] = 'ARS Error'\n",
    "        else:\n",
    "            nresults = 0\n",
    "            \n",
    "        dictionary['pk_id'] =  pk  \n",
    "            \n",
    "        if ((child['status'] == 'Done') & (nresults == 0)):\n",
    "            dictionary[child['actor']['agent']] = 'No Results'\n",
    "            #test =  [child['actor']['agent'], 'No Results']\n",
    "        elif ((child['status'] == 'ARS Error') & (nresults == 0)):\n",
    "            dictionary[child['actor']['agent']] = 'ARS Error'\n",
    "        elif ((child['status'] == 'Error') & (nresults == 0)):\n",
    "            dictionary[child['actor']['agent']] = 'Error'\n",
    "            #test =  [child['actor']['agent'], 'ARS Error']\n",
    "        elif ((child['status'] == 'Done') & (nresults != 0)):\n",
    "            #test =  [child['actor']['agent'], 'Results']\n",
    "            dictionary[child['actor']['agent']] = 'Results' \n",
    "        \n",
    "        \n",
    "        print(child['actor']['agent'], child['status'], nresults)\n",
    "        #test =  [child['actor']['agent'], child['status'], nresults]\n",
    "        #test2.append(test)\n",
    "    return dictionary\n",
    "\n",
    "def printjson(j):\n",
    "    print(json.dumps(j,indent=4))"
   ]
  },
  {
   "cell_type": "markdown",
   "id": "catholic-bracelet",
   "metadata": {},
   "source": [
    "<br>\n",
    "\n",
    "## Test for individual run\n",
    "\n",
    "<br>"
   ]
  },
  {
   "cell_type": "code",
   "execution_count": 5,
   "id": "ceramic-affiliate",
   "metadata": {},
   "outputs": [],
   "source": [
    "with open('/Users/priyash/Documents/GitHub/minihackathons/2021-12_demo/workflowB/B.2_DILI-fourth-one-hop-from-disease-or-phenotypic-feature_trapi.json') as inf:\n",
    "    query1 = json.load(inf)"
   ]
  },
  {
   "cell_type": "code",
   "execution_count": 6,
   "id": "widespread-donna",
   "metadata": {},
   "outputs": [
    {
     "name": "stdout",
     "output_type": "stream",
     "text": [
      "{\n",
      "    \"message\": {\n",
      "        \"query_graph\": {\n",
      "            \"nodes\": {\n",
      "                \"n0\": {\n",
      "                    \"ids\": [\n",
      "                        \"CHEBI:41879\"\n",
      "                    ],\n",
      "                    \"categories\": [\n",
      "                        \"biolink:ChemicalEntity\"\n",
      "                    ]\n",
      "                },\n",
      "                \"n1\": {\n",
      "                    \"categories\": [\n",
      "                        \"biolink:DiseaseOrPhenotypicFeature\"\n",
      "                    ]\n",
      "                }\n",
      "            },\n",
      "            \"edges\": {\n",
      "                \"e0\": {\n",
      "                    \"subject\": \"n0\",\n",
      "                    \"object\": \"n1\",\n",
      "                    \"predicates\": [\n",
      "                        \"has_real_world_evidence_of_association_with\"\n",
      "                    ]\n",
      "                }\n",
      "            }\n",
      "        }\n",
      "    }\n",
      "}\n"
     ]
    }
   ],
   "source": [
    "printjson(query1)"
   ]
  },
  {
   "cell_type": "code",
   "execution_count": 7,
   "id": "happy-scope",
   "metadata": {},
   "outputs": [
    {
     "name": "stdout",
     "output_type": "stream",
     "text": [
      "https://arax.ncats.io/?source=ARS&id=bc950c8d-4ce2-4ded-9c8b-b8c72c9163ad\n"
     ]
    }
   ],
   "source": [
    "kcresult = submit_to_ars(query1)"
   ]
  },
  {
   "cell_type": "code",
   "execution_count": 9,
   "id": "dying-plain",
   "metadata": {},
   "outputs": [
    {
     "name": "stdout",
     "output_type": "stream",
     "text": [
      "Done\n",
      "Error\n",
      "ara-aragorn Error 0\n",
      "Error\n",
      "ara-arax Error 0\n",
      "Done\n",
      "ara-bte Done 0\n",
      "Unknown\n",
      "ara-unsecret Unknown 0\n",
      "Error\n",
      "kp-genetics Error 0\n",
      "Error\n",
      "kp-molecular Error 0\n",
      "Error\n",
      "ara-explanatory Error 0\n",
      "Error\n",
      "ara-improving Error 0\n",
      "Done\n",
      "kp-cam Done 0\n",
      "Done\n",
      "kp-textmining Done 0\n",
      "Error\n",
      "ara-aragorn-exp Error 0\n",
      "Error\n",
      "kp-openpredict Error 0\n",
      "Error\n",
      "kp-icees Error 0\n",
      "Error\n",
      "ara-robokop Error 0\n",
      "Done\n",
      "kp-chp Done 0\n",
      "Error\n",
      "kp-cohd Error 0\n",
      "Error\n",
      "kp-icees-dili Error 0\n"
     ]
    }
   ],
   "source": [
    "result_status = retrieve_ars_results(kcresult)"
   ]
  },
  {
   "cell_type": "code",
   "execution_count": null,
   "id": "precious-extension",
   "metadata": {},
   "outputs": [],
   "source": []
  }
 ],
 "metadata": {
  "kernelspec": {
   "display_name": "Python 3",
   "language": "python",
   "name": "python3"
  },
  "language_info": {
   "codemirror_mode": {
    "name": "ipython",
    "version": 3
   },
   "file_extension": ".py",
   "mimetype": "text/x-python",
   "name": "python",
   "nbconvert_exporter": "python",
   "pygments_lexer": "ipython3",
   "version": "3.9.5"
  }
 },
 "nbformat": 4,
 "nbformat_minor": 5
}
