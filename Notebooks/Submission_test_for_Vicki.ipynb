{
 "cells": [
  {
   "cell_type": "markdown",
   "id": "fantastic-rehabilitation",
   "metadata": {},
   "source": [
    "### This python Notebook is for Vicki to try out and submit json queries to ARS through ARAX \n"
   ]
  },
  {
   "cell_type": "code",
   "execution_count": 1,
   "id": "joined-liver",
   "metadata": {},
   "outputs": [],
   "source": [
    "# packages\n",
    "import requests\n",
    "import json\n",
    "from collections import defaultdict\n",
    "import os\n",
    "import pandas as pd"
   ]
  },
  {
   "cell_type": "code",
   "execution_count": 2,
   "id": "incoming-minneapolis",
   "metadata": {},
   "outputs": [],
   "source": [
    "def submit_to_ars(m,ars_url='https://ars.transltr.io/ars/api',arax_url='https://arax.ncats.io'):\n",
    "    submit_url=f'{ars_url}/submit'\n",
    "    response = requests.post(submit_url,json=m)\n",
    "    try:\n",
    "        message_id = response.json()['pk']\n",
    "    except:\n",
    "        print('fail')\n",
    "        message_id = None\n",
    "    print(f'{arax_url}/?source=ARS&id={message_id}')\n",
    "    return message_id"
   ]
  },
  {
   "cell_type": "code",
   "execution_count": 1,
   "id": "american-impact",
   "metadata": {},
   "outputs": [],
   "source": [
    "def flatten_list(_2d_list):\n",
    "    flat_list = []\n",
    "    # Iterate through the outer list\n",
    "    for element in _2d_list:\n",
    "        if type(element) is list:\n",
    "            # If the element is of type list, iterate through the sublist\n",
    "            for item in element:\n",
    "                flat_list.append(item)\n",
    "        else:\n",
    "            flat_list.append(element)\n",
    "    return flat_list"
   ]
  },
  {
   "cell_type": "code",
   "execution_count": 2,
   "id": "three-annex",
   "metadata": {},
   "outputs": [],
   "source": [
    "def retrieve_ars_results(mid,ars_url='https://ars.transltr.io/ars/api'):\n",
    "    pk = 'https://arax.ncats.io/?source=ARS&id=' + mid\n",
    "    message_url = f'{ars_url}/messages/{mid}?trace=y'\n",
    "    response = requests.get(message_url)\n",
    "    j = response.json()\n",
    "    print( j['status'] )\n",
    "    results = {}\n",
    "    dictionary = {}\n",
    "    dictionary_2 = {}\n",
    "    for child in j['children']:\n",
    "        print(child['status'])\n",
    "        error_code = child['code']\n",
    "        \n",
    "        if child['status']  == 'Done':\n",
    "            childmessage_id = child['message']\n",
    "            child_url = f'{ars_url}/messages/{childmessage_id}'\n",
    "            try:\n",
    "                child_response = requests.get(child_url).json()\n",
    "                nresults = len(child_response['fields']['data']['message']['results'])\n",
    "                if nresults > 0:\n",
    "                    results[child['actor']['agent']] = {'message':child_response['fields']['data']['message']}\n",
    "                    \n",
    "                if child_response['fields']['data']['message']['knowledge_graph']['edges']:\n",
    "                    if child_response['fields']['data']['message']['knowledge_graph']['edges'].keys():\n",
    "                            edge_ex = child_response['fields']['data']['message']['knowledge_graph']['edges']\n",
    "                            test_att_values =[]\n",
    "                            for val in child_response['fields']['data']['message']['knowledge_graph']['edges'].keys():\n",
    "                                #print(val)\n",
    "                                \n",
    "                                for tx in edge_ex[val]['attributes']:\n",
    "                                    if (tx['attribute_type_id'] == 'biolink:primary_knowledge_source') or (tx['attribute_type_id'] == 'biolink:original_knowledge_source') or (tx['attribute_type_id'] == 'biolink:aggregator_knowledge_source') :\n",
    "                                        \n",
    "                                        \n",
    "                                        value_att = tx['value']\n",
    "                        \n",
    "                                        test_att_values.append(value_att)\n",
    "                                        test_att = set(flatten_list(test_att_values))\n",
    "                                        \n",
    "                                        \n",
    "                                        dictionary_2[child['actor']['agent']] = test_att\n",
    "                    #else:\n",
    "                        #dictionary_2[child['actor']['agent']] = [] \n",
    "                #else:\n",
    "                   # dictionary_2[child['actor']['agent']] = []\n",
    "            \n",
    "            except Exception as e:\n",
    "                nresults=0\n",
    "                child['status'] = 'ARS Error'\n",
    "                #dictionary_2[child['actor']['agent']] = []\n",
    "                \n",
    "            \n",
    "        \n",
    "        elif child['status'] == 'Error':\n",
    "            nresults=0\n",
    "            childmessage_id = child['message']\n",
    "            child_url = f'{ars_url}/messages/{childmessage_id}'\n",
    "            try:\n",
    "                child_response = requests.get(child_url).json()\n",
    "                results[child['actor']['agent']] = {'message':child_response['fields']['data']['message']}\n",
    "                #dictionary_2[child['actor']['agent']] = []\n",
    "            except Exception as e:\n",
    "                #print(e)\n",
    "                child['status'] = 'ARS Error'\n",
    "                #dictionary_2[child['actor']['agent']] = []\n",
    "        \n",
    "        \n",
    "        else:\n",
    "            nresults = 0\n",
    "            #dictionary_2[child['actor']['agent']] = []\n",
    "            \n",
    "        dictionary['pk_id'] =  pk  \n",
    "            \n",
    "        if ((child['status'] == 'Done') & (nresults == 0)):\n",
    "            dictionary[child['actor']['agent']] = 'No Results' ': ' + str(error_code)\n",
    "        elif ((child['status'] == 'ARS Error') & (nresults == 0)):\n",
    "            dictionary[child['actor']['agent']] = 'ARS Error' ': ' + str(error_code)\n",
    "        elif ((child['status'] == 'Error') & (nresults == 0)):\n",
    "            dictionary[child['actor']['agent']] = 'Error' ': ' + str(error_code)\n",
    "        elif ((child['status'] == 'Done') & (nresults != 0)):\n",
    "            dictionary[child['actor']['agent']] = 'Results' ': ' + str(error_code)\n",
    "        elif ((child['status'] == 'Unknown') & (nresults == 0)):\n",
    "            dictionary[child['actor']['agent']] = 'Unknown' ': ' + str(error_code)\n",
    "        \n",
    "        \n",
    "        print(child['actor']['agent'], child['status'], nresults)\n",
    "\n",
    "    return [dictionary, dictionary_2]\n",
    "\n",
    "\n",
    "#def submit_to_devars(m):\n",
    "#    return submit_to_ars(m,ars_url='https://ars-dev.transltr.io/ars/api',arax_url='https://arax.ncats.io')\n",
    "\n",
    "#def retrieve_devars_results(m):\n",
    "#     return retrieve_ars_results(m,ars_url='https://ars-dev.transltr.io/ars/api')\n",
    "\n",
    "def printjson(j):\n",
    "    print(json.dumps(j,indent=4))\n",
    "    \n",
    "def make_hyperlink(value):\n",
    "    return '=HYPERLINK(\"%s\", \"%s\")' % (value.format(value), value)"
   ]
  },
  {
   "cell_type": "markdown",
   "id": "helpful-senator",
   "metadata": {},
   "source": [
    "<br>\n",
    "\n",
    "## Test for individual run\n",
    "\n",
    "<br>"
   ]
  },
  {
   "cell_type": "code",
   "execution_count": 5,
   "id": "comprehensive-suspension",
   "metadata": {},
   "outputs": [],
   "source": [
    "with open('/Users/priyash/Documents/GitHub/minihackathons/2021-12_demo/workflowB/B.2_DILI-fourth-one-hop-from-disease-or-phenotypic-feature_trapi.json') as inf:\n",
    "    query1 = json.load(inf)"
   ]
  },
  {
   "cell_type": "code",
   "execution_count": 6,
   "id": "annoying-release",
   "metadata": {},
   "outputs": [
    {
     "name": "stdout",
     "output_type": "stream",
     "text": [
      "{\n",
      "    \"message\": {\n",
      "        \"query_graph\": {\n",
      "            \"nodes\": {\n",
      "                \"n0\": {\n",
      "                    \"ids\": [\n",
      "                        \"CHEBI:41879\"\n",
      "                    ],\n",
      "                    \"categories\": [\n",
      "                        \"biolink:ChemicalEntity\"\n",
      "                    ]\n",
      "                },\n",
      "                \"n1\": {\n",
      "                    \"categories\": [\n",
      "                        \"biolink:DiseaseOrPhenotypicFeature\"\n",
      "                    ]\n",
      "                }\n",
      "            },\n",
      "            \"edges\": {\n",
      "                \"e0\": {\n",
      "                    \"subject\": \"n0\",\n",
      "                    \"object\": \"n1\",\n",
      "                    \"predicates\": [\n",
      "                        \"has_real_world_evidence_of_association_with\"\n",
      "                    ]\n",
      "                }\n",
      "            }\n",
      "        }\n",
      "    }\n",
      "}\n"
     ]
    }
   ],
   "source": [
    "printjson(query1)"
   ]
  },
  {
   "cell_type": "code",
   "execution_count": 7,
   "id": "original-oxford",
   "metadata": {},
   "outputs": [
    {
     "name": "stdout",
     "output_type": "stream",
     "text": [
      "https://arax.ncats.io/?source=ARS&id=bc950c8d-4ce2-4ded-9c8b-b8c72c9163ad\n"
     ]
    }
   ],
   "source": [
    "kcresult = submit_to_ars(query1)"
   ]
  },
  {
   "cell_type": "code",
   "execution_count": 9,
   "id": "played-prior",
   "metadata": {},
   "outputs": [
    {
     "name": "stdout",
     "output_type": "stream",
     "text": [
      "Done\n",
      "Error\n",
      "ara-aragorn Error 0\n",
      "Error\n",
      "ara-arax Error 0\n",
      "Done\n",
      "ara-bte Done 0\n",
      "Unknown\n",
      "ara-unsecret Unknown 0\n",
      "Error\n",
      "kp-genetics Error 0\n",
      "Error\n",
      "kp-molecular Error 0\n",
      "Error\n",
      "ara-explanatory Error 0\n",
      "Error\n",
      "ara-improving Error 0\n",
      "Done\n",
      "kp-cam Done 0\n",
      "Done\n",
      "kp-textmining Done 0\n",
      "Error\n",
      "ara-aragorn-exp Error 0\n",
      "Error\n",
      "kp-openpredict Error 0\n",
      "Error\n",
      "kp-icees Error 0\n",
      "Error\n",
      "ara-robokop Error 0\n",
      "Done\n",
      "kp-chp Done 0\n",
      "Error\n",
      "kp-cohd Error 0\n",
      "Error\n",
      "kp-icees-dili Error 0\n"
     ]
    }
   ],
   "source": [
    "result_status = retrieve_ars_results(kcresult)"
   ]
  },
  {
   "cell_type": "code",
   "execution_count": null,
   "id": "following-chase",
   "metadata": {},
   "outputs": [],
   "source": []
  }
 ],
 "metadata": {
  "kernelspec": {
   "display_name": "Python 3",
   "language": "python",
   "name": "python3"
  },
  "language_info": {
   "codemirror_mode": {
    "name": "ipython",
    "version": 3
   },
   "file_extension": ".py",
   "mimetype": "text/x-python",
   "name": "python",
   "nbconvert_exporter": "python",
   "pygments_lexer": "ipython3",
   "version": "3.9.5"
  }
 },
 "nbformat": 4,
 "nbformat_minor": 5
}
