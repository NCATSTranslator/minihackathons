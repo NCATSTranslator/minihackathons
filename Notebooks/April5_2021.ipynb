{
 "cells": [
  {
   "cell_type": "code",
   "execution_count": 1,
   "id": "latter-glenn",
   "metadata": {},
   "outputs": [],
   "source": [
    "import json\n",
    "import requests"
   ]
  },
  {
   "cell_type": "code",
   "execution_count": 2,
   "id": "fourth-tomorrow",
   "metadata": {},
   "outputs": [],
   "source": [
    "#https://pypi.org/project/gamma-viewer/\n",
    "from gamma_viewer import GammaViewer\n",
    "from IPython.display import display"
   ]
  },
  {
   "cell_type": "code",
   "execution_count": 3,
   "id": "loose-timber",
   "metadata": {},
   "outputs": [],
   "source": [
    "def submit_to_ars(m):\n",
    "    submit_url = 'https://ars.transltr.io/ars/api/submit'\n",
    "    response = requests.post(submit_url,json=m)\n",
    "    try:\n",
    "        message_id = response.json()['pk']\n",
    "    except:\n",
    "        print('fail')\n",
    "        message_id = None\n",
    "    print(f'https://arax.ncats.io/?source=ARS&id={message_id}')\n",
    "    return message_id"
   ]
  },
  {
   "cell_type": "code",
   "execution_count": 4,
   "id": "honest-conducting",
   "metadata": {},
   "outputs": [],
   "source": [
    "def retrieve_ars_results(mid):\n",
    "    message_url = f'https://ars.transltr.io/ars/api/messages/{mid}?trace=y'\n",
    "    response = requests.get(message_url)\n",
    "    j = response.json()\n",
    "    print( j['status'] )\n",
    "    results = {}\n",
    "    for child in j['children']:\n",
    "        if child['status'] == 'Done':\n",
    "            childmessage_id = child['message']\n",
    "            child_url = f'https://ars.transltr.io/ars/api/messages/{childmessage_id}'\n",
    "            child_response = requests.get(child_url).json()\n",
    "            try:\n",
    "                nresults = len(child_response['fields']['data']['message']['results'])\n",
    "                if nresults > 0:\n",
    "                    results[child['actor']['agent']] = {'message':child_response['fields']['data']['message']}\n",
    "            except:\n",
    "                nresults=0\n",
    "        else:\n",
    "            nresults = 0\n",
    "        print( child['status'], child['actor']['agent'],nresults )\n",
    "    return results"
   ]
  },
  {
   "cell_type": "code",
   "execution_count": 5,
   "id": "future-technique",
   "metadata": {},
   "outputs": [],
   "source": [
    "def printjson(j):\n",
    "    print(json.dumps(j,indent=4))\n",
    "\n",
    "def print_json(j):\n",
    "    printjson(j)"
   ]
  },
  {
   "cell_type": "code",
   "execution_count": 6,
   "id": "minimal-device",
   "metadata": {},
   "outputs": [],
   "source": [
    "def name_lookup(text):\n",
    "    url= f'https://name-resolution-sri.renci.org/lookup?string={text}&offset=0&limit=10'\n",
    "    response = requests.post(url)\n",
    "    printjson(response.json())"
   ]
  },
  {
   "cell_type": "code",
   "execution_count": 7,
   "id": "least-investment",
   "metadata": {},
   "outputs": [],
   "source": [
    "def one_hop_message(subject_category,object_category,predicate=None,subject_id = None, object_id = None):\n",
    "    query_graph = {\n",
    "    \"nodes\": {\n",
    "        'a':{\n",
    "            \"category\": subject_category\n",
    "        },\n",
    "        'b':{\n",
    "            \"category\": object_category\n",
    "        }\n",
    "    },\n",
    "    \"edges\": {\n",
    "        'ab':{\n",
    "            \"subject\": \"a\",\n",
    "            \"object\": \"b\",\n",
    "            #\"predicate\": predicate\n",
    "        }\n",
    "    }\n",
    "    }\n",
    "    if predicate is not None:\n",
    "        query_graph['edges']['ab']['predicate'] = predicate\n",
    "    if subject_id is not None:\n",
    "        query_graph['nodes']['a']['id'] = subject_id\n",
    "    if object_id is not None:\n",
    "        query_graph['nodes']['b']['id'] = object_id\n",
    "    message = {\"message\": {\"query_graph\": query_graph},'knowledge_graph':{\"nodes\": [], \"edges\": [],}, 'results':[]}\n",
    "    return message"
   ]
  },
  {
   "cell_type": "code",
   "execution_count": 8,
   "id": "suited-revolution",
   "metadata": {},
   "outputs": [
    {
     "name": "stdout",
     "output_type": "stream",
     "text": [
      "{\n",
      "    \"message\": {\n",
      "        \"query_graph\": {\n",
      "            \"nodes\": {\n",
      "                \"a\": {\n",
      "                    \"category\": \"biolink:ChemicalSubstance\",\n",
      "                    \"id\": \"CHEBI:17754\"\n",
      "                },\n",
      "                \"b\": {\n",
      "                    \"category\": \"biolink:Disease\"\n",
      "                }\n",
      "            },\n",
      "            \"edges\": {\n",
      "                \"ab\": {\n",
      "                    \"subject\": \"a\",\n",
      "                    \"object\": \"b\"\n",
      "                }\n",
      "            }\n",
      "        }\n",
      "    },\n",
      "    \"knowledge_graph\": {\n",
      "        \"nodes\": [],\n",
      "        \"edges\": []\n",
      "    },\n",
      "    \"results\": []\n",
      "}\n",
      "https://arax.ncats.io/?source=ARS&id=397b36b3-e179-44da-aff5-50ca2608dbf2\n"
     ]
    }
   ],
   "source": [
    "glyc_disease_message = one_hop_message('biolink:ChemicalSubstance','biolink:Disease',subject_id = \"CHEBI:17754\")\n",
    "printjson(glyc_disease_message)\n",
    "glyc_disease_id = submit_to_ars(glyc_disease_message)"
   ]
  },
  {
   "cell_type": "code",
   "execution_count": 9,
   "id": "nominated-third",
   "metadata": {},
   "outputs": [
    {
     "name": "stdout",
     "output_type": "stream",
     "text": [
      "{\n",
      "    \"message\": {\n",
      "        \"query_graph\": {\n",
      "            \"nodes\": {\n",
      "                \"a\": {\n",
      "                    \"category\": \"biolink:ChemicalSubstance\",\n",
      "                    \"id\": \"CHEBI:17754\"\n",
      "                },\n",
      "                \"b\": {\n",
      "                    \"category\": \"biolink:PhenotypicFeature\"\n",
      "                }\n",
      "            },\n",
      "            \"edges\": {\n",
      "                \"ab\": {\n",
      "                    \"subject\": \"a\",\n",
      "                    \"object\": \"b\"\n",
      "                }\n",
      "            }\n",
      "        }\n",
      "    },\n",
      "    \"knowledge_graph\": {\n",
      "        \"nodes\": [],\n",
      "        \"edges\": []\n",
      "    },\n",
      "    \"results\": []\n",
      "}\n",
      "https://arax.ncats.io/?source=ARS&id=67685b9e-89a4-4ccf-8904-b95cc49c49ad\n"
     ]
    }
   ],
   "source": [
    "glyc_phen_message = one_hop_message('biolink:ChemicalSubstance','biolink:PhenotypicFeature',subject_id = \"CHEBI:17754\")\n",
    "printjson(glyc_phen_message)\n",
    "glyc_phen_id = submit_to_ars(glyc_phen_message)"
   ]
  },
  {
   "cell_type": "code",
   "execution_count": 17,
   "id": "patient-diagnosis",
   "metadata": {},
   "outputs": [],
   "source": [
    "m = {\"message\": {\n",
    "        \"query_graph\": {\n",
    "  \"nodes\": {\n",
    "    \"n0\": {\n",
    "      \"name\": \"Glycerol\",\n",
    "      \"id\": \"PUBCHEM.COMPOUND:753\"\n",
    "    },\n",
    "    \"n1\": {\n",
    "      \"category\": \"biolink:PhenotypicFeature\"\n",
    "    },\n",
    "      \n",
    "  },\n",
    "  \"edges\": {\n",
    "    \"e0\": {\n",
    "      \"subject\": \"n0\",\n",
    "      \"object\": \"n1\"\n",
    "    }\n",
    "  }\n",
    "}}}"
   ]
  },
  {
   "cell_type": "code",
   "execution_count": 18,
   "id": "maritime-technology",
   "metadata": {},
   "outputs": [
    {
     "name": "stdout",
     "output_type": "stream",
     "text": [
      "https://arax.ncats.io/?source=ARS&id=582d1596-5653-4d52-85d8-732269a07eb3\n"
     ]
    }
   ],
   "source": [
    "glyc_phen_gkd_id = submit_to_ars(m)"
   ]
  },
  {
   "cell_type": "code",
   "execution_count": 16,
   "id": "documented-stephen",
   "metadata": {},
   "outputs": [
    {
     "name": "stdout",
     "output_type": "stream",
     "text": [
      "Error\n",
      "Error ara-aragorn 0\n",
      "Error ara-arax 0\n",
      "Error ara-bte 0\n",
      "Error ara-unsecret 0\n",
      "Running kp-genetics 0\n",
      "Running kp-molecular 0\n"
     ]
    }
   ],
   "source": [
    "result = retrieve_ars_results(glyc_phen_gkd_id)"
   ]
  },
  {
   "cell_type": "markdown",
   "id": "turkish-semester",
   "metadata": {},
   "source": [
    "# What can we do about reducing glycerol?"
   ]
  },
  {
   "cell_type": "markdown",
   "id": "protected-confirmation",
   "metadata": {},
   "source": [
    "**Gene biolink:negatively_regulates_entity_to_entity Glycerol**"
   ]
  },
  {
   "cell_type": "code",
   "execution_count": 10,
   "id": "proud-slave",
   "metadata": {},
   "outputs": [
    {
     "name": "stdout",
     "output_type": "stream",
     "text": [
      "{\n",
      "    \"message\": {\n",
      "        \"query_graph\": {\n",
      "            \"nodes\": {\n",
      "                \"a\": {\n",
      "                    \"category\": \"biolink:Gene\"\n",
      "                },\n",
      "                \"b\": {\n",
      "                    \"category\": \"biolink:ChemicalSubstance\",\n",
      "                    \"id\": \"CHEBI:17754\"\n",
      "                }\n",
      "            },\n",
      "            \"edges\": {\n",
      "                \"ab\": {\n",
      "                    \"subject\": \"a\",\n",
      "                    \"object\": \"b\",\n",
      "                    \"predicate\": \"biolink:negatively_regulates_entity_to_entity\"\n",
      "                }\n",
      "            }\n",
      "        }\n",
      "    },\n",
      "    \"knowledge_graph\": {\n",
      "        \"nodes\": [],\n",
      "        \"edges\": []\n",
      "    },\n",
      "    \"results\": []\n",
      "}\n",
      "https://arax.ncats.io/?source=ARS&id=13fee52b-8b7b-4775-ad17-79a165cf56fb\n"
     ]
    }
   ],
   "source": [
    "gene_nree_glyc_message = one_hop_message('biolink:Gene','biolink:ChemicalSubstance',predicate='biolink:negatively_regulates_entity_to_entity',object_id = \"CHEBI:17754\")\n",
    "printjson(gene_nree_glyc_message)\n",
    "gene_nree_glyc_id = submit_to_ars(gene_nree_glyc_message)"
   ]
  },
  {
   "cell_type": "markdown",
   "id": "atlantic-acrylic",
   "metadata": {},
   "source": [
    "**Gene biolink:negatively_regulates Glycerol**"
   ]
  },
  {
   "cell_type": "code",
   "execution_count": 11,
   "id": "healthy-valentine",
   "metadata": {},
   "outputs": [
    {
     "name": "stdout",
     "output_type": "stream",
     "text": [
      "{\n",
      "    \"message\": {\n",
      "        \"query_graph\": {\n",
      "            \"nodes\": {\n",
      "                \"a\": {\n",
      "                    \"category\": \"biolink:Gene\"\n",
      "                },\n",
      "                \"b\": {\n",
      "                    \"category\": \"biolink:ChemicalSubstance\",\n",
      "                    \"id\": \"CHEBI:17754\"\n",
      "                }\n",
      "            },\n",
      "            \"edges\": {\n",
      "                \"ab\": {\n",
      "                    \"subject\": \"a\",\n",
      "                    \"object\": \"b\",\n",
      "                    \"predicate\": \"biolink:negatively_regulates\"\n",
      "                }\n",
      "            }\n",
      "        }\n",
      "    },\n",
      "    \"knowledge_graph\": {\n",
      "        \"nodes\": [],\n",
      "        \"edges\": []\n",
      "    },\n",
      "    \"results\": []\n",
      "}\n",
      "https://arax.ncats.io/?source=ARS&id=c418c8d0-26ff-4826-a223-441892e3ff49\n"
     ]
    }
   ],
   "source": [
    "gene_nr_glyc_message = one_hop_message('biolink:Gene','biolink:ChemicalSubstance',predicate='biolink:negatively_regulates',object_id = \"CHEBI:17754\")\n",
    "printjson(gene_nr_glyc_message)\n",
    "gene_nr_glyc_id = submit_to_ars(gene_nr_glyc_message)"
   ]
  },
  {
   "cell_type": "markdown",
   "id": "unauthorized-vegetation",
   "metadata": {},
   "source": [
    "**Glycerol biolink:negatively_regulated_by Gene**"
   ]
  },
  {
   "cell_type": "code",
   "execution_count": 15,
   "id": "fifteen-literature",
   "metadata": {},
   "outputs": [
    {
     "name": "stdout",
     "output_type": "stream",
     "text": [
      "{\n",
      "    \"message\": {\n",
      "        \"query_graph\": {\n",
      "            \"nodes\": {\n",
      "                \"a\": {\n",
      "                    \"category\": \"biolink:ChemicalSubstance\",\n",
      "                    \"id\": \"CHEBI:17754\"\n",
      "                },\n",
      "                \"b\": {\n",
      "                    \"category\": \"biolink:Gene\"\n",
      "                }\n",
      "            },\n",
      "            \"edges\": {\n",
      "                \"ab\": {\n",
      "                    \"subject\": \"a\",\n",
      "                    \"object\": \"b\",\n",
      "                    \"predicate\": \"biolink:entity_negatively_regulated_by_entity\"\n",
      "                }\n",
      "            }\n",
      "        }\n",
      "    },\n",
      "    \"knowledge_graph\": {\n",
      "        \"nodes\": [],\n",
      "        \"edges\": []\n",
      "    },\n",
      "    \"results\": []\n",
      "}\n",
      "https://arax.ncats.io/?source=ARS&id=07298522-6516-4cc8-82c7-f6c241b63be6\n"
     ]
    }
   ],
   "source": [
    "glyc_nrb_gene_message = one_hop_message('biolink:ChemicalSubstance','biolink:Gene',predicate='biolink:entity_negatively_regulated_by_entity',subject_id = \"CHEBI:17754\")\n",
    "printjson(glyc_nrb_gene_message)\n",
    "glyc_nrb_gene_id = submit_to_ars(glyc_nrb_gene_message)"
   ]
  },
  {
   "cell_type": "markdown",
   "id": "italian-storage",
   "metadata": {},
   "source": [
    "**Chemical biolink:negatively_regulates_entity_to_entity Glycerin**"
   ]
  },
  {
   "cell_type": "code",
   "execution_count": 13,
   "id": "warming-pantyhose",
   "metadata": {},
   "outputs": [
    {
     "name": "stdout",
     "output_type": "stream",
     "text": [
      "{\n",
      "    \"message\": {\n",
      "        \"query_graph\": {\n",
      "            \"nodes\": {\n",
      "                \"a\": {\n",
      "                    \"category\": \"biolink:ChemicalSubstance\"\n",
      "                },\n",
      "                \"b\": {\n",
      "                    \"category\": \"biolink:ChemicalSubstance\",\n",
      "                    \"id\": \"CHEBI:17754\"\n",
      "                }\n",
      "            },\n",
      "            \"edges\": {\n",
      "                \"ab\": {\n",
      "                    \"subject\": \"a\",\n",
      "                    \"object\": \"b\",\n",
      "                    \"predicate\": \"biolink:negatively_regulates_entity_to_entity\"\n",
      "                }\n",
      "            }\n",
      "        }\n",
      "    },\n",
      "    \"knowledge_graph\": {\n",
      "        \"nodes\": [],\n",
      "        \"edges\": []\n",
      "    },\n",
      "    \"results\": []\n",
      "}\n",
      "https://arax.ncats.io/?source=ARS&id=ff998f10-d3e5-49be-ae5c-aab894ada4b6\n"
     ]
    }
   ],
   "source": [
    "chem_nree_glyc_message = one_hop_message('biolink:ChemicalSubstance','biolink:ChemicalSubstance',predicate='biolink:negatively_regulates_entity_to_entity',object_id = \"CHEBI:17754\")\n",
    "printjson(chem_nree_glyc_message)\n",
    "chem_nree_glyc_id = submit_to_ars(chem_nree_glyc_message)"
   ]
  },
  {
   "cell_type": "markdown",
   "id": "colonial-celebration",
   "metadata": {},
   "source": [
    "**Glycerin biolink:negatively_regulated_by Chemical**"
   ]
  },
  {
   "cell_type": "code",
   "execution_count": 14,
   "id": "missing-latvia",
   "metadata": {},
   "outputs": [
    {
     "name": "stdout",
     "output_type": "stream",
     "text": [
      "{\n",
      "    \"message\": {\n",
      "        \"query_graph\": {\n",
      "            \"nodes\": {\n",
      "                \"a\": {\n",
      "                    \"category\": \"biolink:ChemicalSubstance\",\n",
      "                    \"id\": \"CHEBI:17754\"\n",
      "                },\n",
      "                \"b\": {\n",
      "                    \"category\": \"biolink:ChemicalSubstance\"\n",
      "                }\n",
      "            },\n",
      "            \"edges\": {\n",
      "                \"ab\": {\n",
      "                    \"subject\": \"a\",\n",
      "                    \"object\": \"b\",\n",
      "                    \"predicate\": \"biolink:negatively_regulated_by\"\n",
      "                }\n",
      "            }\n",
      "        }\n",
      "    },\n",
      "    \"knowledge_graph\": {\n",
      "        \"nodes\": [],\n",
      "        \"edges\": []\n",
      "    },\n",
      "    \"results\": []\n",
      "}\n",
      "https://arax.ncats.io/?source=ARS&id=172c78d4-2936-4568-bdad-bb3148d75f92\n"
     ]
    }
   ],
   "source": [
    "glyc_nrb_chem_message = one_hop_message('biolink:ChemicalSubstance','biolink:ChemicalSubstance',predicate='biolink:negatively_regulated_by',subject_id = \"CHEBI:17754\")\n",
    "printjson(glyc_nrb_chem_message)\n",
    "glyc_nrb_chem_id = submit_to_ars(glyc_nrb_chem_message)"
   ]
  },
  {
   "cell_type": "code",
   "execution_count": 18,
   "id": "median-makeup",
   "metadata": {},
   "outputs": [],
   "source": [
    "brett_q = {\n",
    "  \"message\": {\n",
    "    \"query_graph\": {\n",
    "      \"edges\": {\n",
    "        \"e00\": {\n",
    "          \"subject\": \"n00\",\n",
    "          \"object\": \"n01\"\n",
    "        },\n",
    "        \"e01\": {\n",
    "          \"subject\": \"n01\",\n",
    "          \"object\": \"n02\"\n",
    "        },\n",
    "        \"e02\": {\n",
    "          \"subject\": \"n02\",\n",
    "          \"object\": \"n03\"\n",
    "        },\n",
    "        \"e03\": {\n",
    "          \"subject\": \"n03\",\n",
    "          \"object\": \"n04\"\n",
    "        },\n",
    "        \"e04\": {\n",
    "          \"subject\": \"n04\",\n",
    "          \"object\": \"n05\"\n",
    "        }\n",
    "      },\n",
    "      \"nodes\": {\n",
    "        \"n00\": {\n",
    "          \"id\": \"DOID:0060363\",\n",
    "          \"category\": \"biolink:Disease\"\n",
    "        },\n",
    "        \"n01\": {\n",
    "          \"category\": \"biolink:Gene\"\n",
    "        },\n",
    "        \"n02\": {\n",
    "          \"category\": \"biolink:Protein\"\n",
    "        },\n",
    "        \"n03\": {\n",
    "          \"category\": \"biolink:MolecularActivity\"\n",
    "        },\n",
    "        \"n04\": {\n",
    "          \"category\": \"biolink:MolecularActivity\"\n",
    "        },\n",
    "        \"n05\": {\n",
    "          \"category\": \"biolink:ChemicalSubstance\"\n",
    "        }\n",
    "      }\n",
    "    }\n",
    "  }\n",
    "}"
   ]
  },
  {
   "cell_type": "code",
   "execution_count": 19,
   "id": "excess-crowd",
   "metadata": {},
   "outputs": [
    {
     "name": "stdout",
     "output_type": "stream",
     "text": [
      "https://arax.ncats.io/?source=ARS&id=93bb2f5d-1599-4a1e-b580-415921bd6b75\n"
     ]
    }
   ],
   "source": [
    "brett_id = submit_to_ars(brett_q)"
   ]
  },
  {
   "cell_type": "code",
   "execution_count": null,
   "id": "preceding-pearl",
   "metadata": {},
   "outputs": [],
   "source": []
  }
 ],
 "metadata": {
  "kernelspec": {
   "display_name": "Python 3",
   "language": "python",
   "name": "python3"
  },
  "language_info": {
   "codemirror_mode": {
    "name": "ipython",
    "version": 3
   },
   "file_extension": ".py",
   "mimetype": "text/x-python",
   "name": "python",
   "nbconvert_exporter": "python",
   "pygments_lexer": "ipython3",
   "version": "3.9.1"
  }
 },
 "nbformat": 4,
 "nbformat_minor": 5
}
