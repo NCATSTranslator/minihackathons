{
 "cells": [
  {
   "cell_type": "code",
   "execution_count": 1,
   "id": "latter-glenn",
   "metadata": {},
   "outputs": [],
   "source": [
    "import json\n",
    "import requests"
   ]
  },
  {
   "cell_type": "code",
   "execution_count": 2,
   "id": "fourth-tomorrow",
   "metadata": {},
   "outputs": [],
   "source": [
    "#https://pypi.org/project/gamma-viewer/\n",
    "from gamma_viewer import GammaViewer\n",
    "from IPython.display import display"
   ]
  },
  {
   "cell_type": "code",
   "execution_count": 3,
   "id": "loose-timber",
   "metadata": {},
   "outputs": [],
   "source": [
    "def submit_to_ars(m):\n",
    "    submit_url = 'https://ars.transltr.io/ars/api/submit'\n",
    "    response = requests.post(submit_url,json=m)\n",
    "    try:\n",
    "        message_id = response.json()['pk']\n",
    "    except:\n",
    "        print('fail')\n",
    "        message_id = None\n",
    "    print(f'https://arax.ncats.io/?source=ARS&id={message_id}')\n",
    "    return message_id"
   ]
  },
  {
   "cell_type": "code",
   "execution_count": 4,
   "id": "honest-conducting",
   "metadata": {},
   "outputs": [],
   "source": [
    "def retrieve_ars_results(mid):\n",
    "    message_url = f'https://ars.transltr.io/ars/api/messages/{mid}?trace=y'\n",
    "    response = requests.get(message_url)\n",
    "    j = response.json()\n",
    "    print( j['status'] )\n",
    "    results = {}\n",
    "    for child in j['children']:\n",
    "        if child['status'] == 'Done':\n",
    "            childmessage_id = child['message']\n",
    "            child_url = f'https://ars.transltr.io/ars/api/messages/{childmessage_id}'\n",
    "            child_response = requests.get(child_url).json()\n",
    "            nresults = len(child_response['fields']['data']['message']['results'])\n",
    "            if nresults > 0:\n",
    "                results[child['actor']['agent']] = {'message':child_response['fields']['data']['message']}\n",
    "        else:\n",
    "            nresults = 0\n",
    "        print( child['status'], child['actor']['agent'],nresults )\n",
    "    return results"
   ]
  },
  {
   "cell_type": "code",
   "execution_count": 5,
   "id": "future-technique",
   "metadata": {},
   "outputs": [],
   "source": [
    "def printjson(j):\n",
    "    print(json.dumps(j,indent=4))"
   ]
  },
  {
   "cell_type": "code",
   "execution_count": 6,
   "id": "minimal-device",
   "metadata": {},
   "outputs": [],
   "source": [
    "def name_lookup(text):\n",
    "    url= f'https://name-resolution-sri.renci.org/lookup?string={text}&offset=0&limit=10'\n",
    "    response = requests.post(url)\n",
    "    printjson(response.json())"
   ]
  },
  {
   "cell_type": "code",
   "execution_count": 30,
   "id": "least-investment",
   "metadata": {},
   "outputs": [],
   "source": [
    "def one_hop_message(subject_category,object_category,predicate=None,subject_id = None, object_id = None):\n",
    "    query_graph = {\n",
    "    \"nodes\": {\n",
    "        'a':{\n",
    "            \"category\": subject_category\n",
    "        },\n",
    "        'b':{\n",
    "            \"category\": object_category\n",
    "        }\n",
    "    },\n",
    "    \"edges\": {\n",
    "        'ab':{\n",
    "            \"subject\": \"a\",\n",
    "            \"object\": \"b\",\n",
    "            #\"predicate\": predicate\n",
    "        }\n",
    "    }\n",
    "    }\n",
    "    if predicate is not None:\n",
    "        query_graph['edges']['ab']['predicate'] = predicate\n",
    "    if subject_id is not None:\n",
    "        query_graph['nodes']['a']['id'] = subject_id\n",
    "    if object_id is not None:\n",
    "        query_graph['nodes']['b']['id'] = object_id\n",
    "    message = {\"message\": {\"query_graph\": query_graph},'knowledge_graph':{\"nodes\": [], \"edges\": [],}, 'results':[]}\n",
    "    return message"
   ]
  },
  {
   "cell_type": "code",
   "execution_count": 9,
   "id": "periodic-thursday",
   "metadata": {},
   "outputs": [
    {
     "name": "stdout",
     "output_type": "stream",
     "text": [
      "{\n",
      "    \"www:bget?hsa:2710\": [\n",
      "        \"GKD; glycerol kinase\",\n",
      "        \"K00864 glycerol kinase [EC:2.7.1.30] | (RefSeq) GK\",\n",
      "        \"GK1\"\n",
      "    ],\n",
      "    \"www:bget?hsa:2712\": [\n",
      "        \"GKTA; glycerol kinase 2\",\n",
      "        \"K00864 glycerol kinase [EC:2.7.1.30] | (RefSeq) GK2\",\n",
      "        \"GKP2\"\n",
      "    ],\n",
      "    \"www:bget?hsa:55750\": [\n",
      "        \"MULK; acylglycerol kinase\",\n",
      "        \"K09881 acylglycerol kinase [EC:2.7.1.94] | (RefSeq) AGK\",\n",
      "        \"CATC5\",\n",
      "        \"CTRCT38\",\n",
      "        \"MTDPS10\"\n",
      "    ],\n",
      "    \"MONDO:0010613\": [\n",
      "        \"glycerol kinase deficiency\",\n",
      "        \"glycerol kinase deficiency; GKD\",\n",
      "        \"inborn error of glycerol kinase activity\",\n",
      "        \"inborn glycerol kinase activity disorder\",\n",
      "        \"rare inborn error of glycerol kinase activity\",\n",
      "        \"rare inborn error of glycerol kinase activity\",\n",
      "        \"GKD\",\n",
      "        \"GK deficiency\",\n",
      "        \"GK1 deficiency\",\n",
      "        \"hyperglycerolemia\"\n",
      "    ],\n",
      "    \"www:bget?ko:K00864\": [\n",
      "        \"glycerol kinase [EC:2.7.1.30]\",\n",
      "        \"GK\",\n",
      "        \"glpK\"\n",
      "    ],\n",
      "    \"www:bget?hsa:160851\": [\n",
      "        \"DGKeta; diacylglycerol kinase eta\",\n",
      "        \"K00901 diacylglycerol kinase (ATP) [EC:2.7.1.107] | (RefSeq) DGKH\"\n",
      "    ],\n",
      "    \"www:bget?ko:K09881\": [\n",
      "        \"acylglycerol kinase [EC:2.7.1.94]\",\n",
      "        \"AGK\"\n",
      "    ],\n",
      "    \"www:bget?hsa:1609\": [\n",
      "        \"DAGK7; diacylglycerol kinase theta\",\n",
      "        \"K00901 diacylglycerol kinase (ATP) [EC:2.7.1.107] | (RefSeq) DGKQ\",\n",
      "        \"DAGK\",\n",
      "        \"DAGK4\"\n",
      "    ],\n",
      "    \"MONDO:0010399\": [\n",
      "        \"complex glycerol kinase deficiency\",\n",
      "        \"Complex Glycerol kinase deficiency\",\n",
      "        \"Glycerol kinase deficiency-contiguous gene syndrome\",\n",
      "        \"Del(X)(p21)\",\n",
      "        \"monosomy Xp21\",\n",
      "        \"Xp21 microdeletion syndrome\",\n",
      "        \"chromosome Xp21 deletion syndrome\",\n",
      "        \"Xp21 contiguous gene deletion syndrome\"\n",
      "    ],\n",
      "    \"www:bget?hsa:8527\": [\n",
      "        \"dgkd-2; diacylglycerol kinase delta\",\n",
      "        \"K00901 diacylglycerol kinase (ATP) [EC:2.7.1.107] | (RefSeq) DGKD\",\n",
      "        \"DGKdelta\",\n",
      "        \"DGK-delta\"\n",
      "    ]\n",
      "}\n"
     ]
    }
   ],
   "source": [
    "name_lookup('glycerol kinase')"
   ]
  },
  {
   "cell_type": "code",
   "execution_count": 13,
   "id": "quality-terminology",
   "metadata": {},
   "outputs": [],
   "source": [
    "m = one_hop_message('biolink:Disease','biolink:PhenotypicFeature','biolink:has_phenotype',subject_id='MONDO:0010613')"
   ]
  },
  {
   "cell_type": "code",
   "execution_count": 14,
   "id": "printable-digit",
   "metadata": {},
   "outputs": [
    {
     "name": "stdout",
     "output_type": "stream",
     "text": [
      "{\n",
      "    \"message\": {\n",
      "        \"query_graph\": {\n",
      "            \"nodes\": {\n",
      "                \"a\": {\n",
      "                    \"category\": \"biolink:Disease\",\n",
      "                    \"id\": \"MONDO:0010613\"\n",
      "                },\n",
      "                \"b\": {\n",
      "                    \"category\": \"biolink:PhenotypicFeature\"\n",
      "                }\n",
      "            },\n",
      "            \"edges\": {\n",
      "                \"ab\": {\n",
      "                    \"subject\": \"a\",\n",
      "                    \"object\": \"b\",\n",
      "                    \"predicate\": \"biolink:has_phenotype\"\n",
      "                }\n",
      "            }\n",
      "        }\n",
      "    },\n",
      "    \"knowledge_graph\": {\n",
      "        \"nodes\": [],\n",
      "        \"edges\": []\n",
      "    },\n",
      "    \"results\": []\n",
      "}\n"
     ]
    }
   ],
   "source": [
    "printjson(m)"
   ]
  },
  {
   "cell_type": "code",
   "execution_count": 15,
   "id": "parliamentary-census",
   "metadata": {},
   "outputs": [
    {
     "name": "stdout",
     "output_type": "stream",
     "text": [
      "https://arax.ncats.io/?source=ARS&id=3632b833-af19-452e-ad0c-35108fe6ef58\n"
     ]
    }
   ],
   "source": [
    "mid = submit_to_ars(m)"
   ]
  },
  {
   "cell_type": "code",
   "execution_count": 16,
   "id": "forbidden-alexander",
   "metadata": {},
   "outputs": [
    {
     "name": "stdout",
     "output_type": "stream",
     "text": [
      "Done\n",
      "Done ara-aragorn 79\n"
     ]
    },
    {
     "ename": "KeyError",
     "evalue": "'results'",
     "output_type": "error",
     "traceback": [
      "\u001b[0;31m---------------------------------------------------------------------------\u001b[0m",
      "\u001b[0;31mKeyError\u001b[0m                                  Traceback (most recent call last)",
      "\u001b[0;32m<ipython-input-16-8a77992f96c4>\u001b[0m in \u001b[0;36m<module>\u001b[0;34m\u001b[0m\n\u001b[0;32m----> 1\u001b[0;31m \u001b[0mj\u001b[0m \u001b[0;34m=\u001b[0m \u001b[0mretrieve_ars_results\u001b[0m\u001b[0;34m(\u001b[0m\u001b[0mmid\u001b[0m\u001b[0;34m)\u001b[0m\u001b[0;34m\u001b[0m\u001b[0;34m\u001b[0m\u001b[0m\n\u001b[0m",
      "\u001b[0;32m<ipython-input-4-a659114ce4f3>\u001b[0m in \u001b[0;36mretrieve_ars_results\u001b[0;34m(mid)\u001b[0m\n\u001b[1;32m     10\u001b[0m             \u001b[0mchild_url\u001b[0m \u001b[0;34m=\u001b[0m \u001b[0;34mf'https://ars.transltr.io/ars/api/messages/{childmessage_id}'\u001b[0m\u001b[0;34m\u001b[0m\u001b[0;34m\u001b[0m\u001b[0m\n\u001b[1;32m     11\u001b[0m             \u001b[0mchild_response\u001b[0m \u001b[0;34m=\u001b[0m \u001b[0mrequests\u001b[0m\u001b[0;34m.\u001b[0m\u001b[0mget\u001b[0m\u001b[0;34m(\u001b[0m\u001b[0mchild_url\u001b[0m\u001b[0;34m)\u001b[0m\u001b[0;34m.\u001b[0m\u001b[0mjson\u001b[0m\u001b[0;34m(\u001b[0m\u001b[0;34m)\u001b[0m\u001b[0;34m\u001b[0m\u001b[0;34m\u001b[0m\u001b[0m\n\u001b[0;32m---> 12\u001b[0;31m             \u001b[0mnresults\u001b[0m \u001b[0;34m=\u001b[0m \u001b[0mlen\u001b[0m\u001b[0;34m(\u001b[0m\u001b[0mchild_response\u001b[0m\u001b[0;34m[\u001b[0m\u001b[0;34m'fields'\u001b[0m\u001b[0;34m]\u001b[0m\u001b[0;34m[\u001b[0m\u001b[0;34m'data'\u001b[0m\u001b[0;34m]\u001b[0m\u001b[0;34m[\u001b[0m\u001b[0;34m'message'\u001b[0m\u001b[0;34m]\u001b[0m\u001b[0;34m[\u001b[0m\u001b[0;34m'results'\u001b[0m\u001b[0;34m]\u001b[0m\u001b[0;34m)\u001b[0m\u001b[0;34m\u001b[0m\u001b[0;34m\u001b[0m\u001b[0m\n\u001b[0m\u001b[1;32m     13\u001b[0m             \u001b[0;32mif\u001b[0m \u001b[0mnresults\u001b[0m \u001b[0;34m>\u001b[0m \u001b[0;36m0\u001b[0m\u001b[0;34m:\u001b[0m\u001b[0;34m\u001b[0m\u001b[0;34m\u001b[0m\u001b[0m\n\u001b[1;32m     14\u001b[0m                 \u001b[0mresults\u001b[0m\u001b[0;34m[\u001b[0m\u001b[0mchild\u001b[0m\u001b[0;34m[\u001b[0m\u001b[0;34m'actor'\u001b[0m\u001b[0;34m]\u001b[0m\u001b[0;34m[\u001b[0m\u001b[0;34m'agent'\u001b[0m\u001b[0;34m]\u001b[0m\u001b[0;34m]\u001b[0m \u001b[0;34m=\u001b[0m \u001b[0;34m{\u001b[0m\u001b[0;34m'message'\u001b[0m\u001b[0;34m:\u001b[0m\u001b[0mchild_response\u001b[0m\u001b[0;34m[\u001b[0m\u001b[0;34m'fields'\u001b[0m\u001b[0;34m]\u001b[0m\u001b[0;34m[\u001b[0m\u001b[0;34m'data'\u001b[0m\u001b[0;34m]\u001b[0m\u001b[0;34m[\u001b[0m\u001b[0;34m'message'\u001b[0m\u001b[0;34m]\u001b[0m\u001b[0;34m}\u001b[0m\u001b[0;34m\u001b[0m\u001b[0;34m\u001b[0m\u001b[0m\n",
      "\u001b[0;31mKeyError\u001b[0m: 'results'"
     ]
    }
   ],
   "source": [
    "j = retrieve_ars_results(mid)"
   ]
  },
  {
   "cell_type": "code",
   "execution_count": 25,
   "id": "operating-berkeley",
   "metadata": {},
   "outputs": [],
   "source": [
    "view = GammaViewer(props={\"data\":j['ara-arax']})"
   ]
  },
  {
   "cell_type": "code",
   "execution_count": 28,
   "id": "obvious-bundle",
   "metadata": {},
   "outputs": [
    {
     "data": {
      "text/plain": [
       "{'confidence': 0.8571428571428571,\n",
       " 'description': 'No description available',\n",
       " 'edge_bindings': {'N1': [{'id': 'N1_0'}], 'ab': [{'id': 'KG2c:31961106'}]},\n",
       " 'essence': 'BCKDHB',\n",
       " 'essence_category': 'biolink:Gene',\n",
       " 'node_bindings': {'a': [{'id': 'UniProtKB:P21953'}],\n",
       "  'b': [{'id': 'MONDO:0009563'}]},\n",
       " 'reasoner_id': 'ARAX',\n",
       " 'row_data': [0.857, 'BCKDHB', 'biolink:Gene']}"
      ]
     },
     "execution_count": 28,
     "metadata": {},
     "output_type": "execute_result"
    }
   ],
   "source": [
    "j['ara-arax']['message']['results'][1]"
   ]
  },
  {
   "cell_type": "code",
   "execution_count": 29,
   "id": "potential-journey",
   "metadata": {},
   "outputs": [],
   "source": [
    "bteview = GammaViewer(props={\"data\":j['ara-bte']})"
   ]
  },
  {
   "cell_type": "code",
   "execution_count": 30,
   "id": "billion-hamilton",
   "metadata": {},
   "outputs": [],
   "source": [
    "display(bteview)"
   ]
  },
  {
   "cell_type": "code",
   "execution_count": 17,
   "id": "micro-netscape",
   "metadata": {},
   "outputs": [],
   "source": [
    "m = one_hop_message('biolink:Disease','biolink:PhenotypicFeature','biolink:has_phenotype',subject_id='OMIM:307030')"
   ]
  },
  {
   "cell_type": "code",
   "execution_count": 18,
   "id": "continent-phenomenon",
   "metadata": {},
   "outputs": [
    {
     "name": "stdout",
     "output_type": "stream",
     "text": [
      "{\n",
      "    \"message\": {\n",
      "        \"query_graph\": {\n",
      "            \"nodes\": {\n",
      "                \"a\": {\n",
      "                    \"category\": \"biolink:Disease\",\n",
      "                    \"id\": \"OMIM:307030\"\n",
      "                },\n",
      "                \"b\": {\n",
      "                    \"category\": \"biolink:PhenotypicFeature\"\n",
      "                }\n",
      "            },\n",
      "            \"edges\": {\n",
      "                \"ab\": {\n",
      "                    \"subject\": \"a\",\n",
      "                    \"object\": \"b\",\n",
      "                    \"predicate\": \"biolink:has_phenotype\"\n",
      "                }\n",
      "            }\n",
      "        }\n",
      "    },\n",
      "    \"knowledge_graph\": {\n",
      "        \"nodes\": [],\n",
      "        \"edges\": []\n",
      "    },\n",
      "    \"results\": []\n",
      "}\n"
     ]
    }
   ],
   "source": [
    "printjson(m)"
   ]
  },
  {
   "cell_type": "code",
   "execution_count": 19,
   "id": "large-replica",
   "metadata": {},
   "outputs": [
    {
     "name": "stdout",
     "output_type": "stream",
     "text": [
      "https://arax.ncats.io/?source=ARS&id=0d2105d9-d23f-4814-9492-8294c9487a3d\n"
     ]
    }
   ],
   "source": [
    "mid = submit_to_ars(m)"
   ]
  },
  {
   "cell_type": "code",
   "execution_count": 20,
   "id": "conscious-length",
   "metadata": {},
   "outputs": [],
   "source": [
    "m = one_hop_message('biolink:Disease','biolink:Gene','biolink:caused_by',subject_id='OMIM:307030')"
   ]
  },
  {
   "cell_type": "code",
   "execution_count": 21,
   "id": "neural-rogers",
   "metadata": {},
   "outputs": [
    {
     "name": "stdout",
     "output_type": "stream",
     "text": [
      "https://arax.ncats.io/?source=ARS&id=d40cae6e-bece-4baa-afa7-b39c198bf8f5\n"
     ]
    }
   ],
   "source": [
    "mid = submit_to_ars(m)"
   ]
  },
  {
   "cell_type": "code",
   "execution_count": 23,
   "id": "official-chicken",
   "metadata": {},
   "outputs": [
    {
     "name": "stdout",
     "output_type": "stream",
     "text": [
      "{\n",
      "    \"message\": {\n",
      "        \"query_graph\": {\n",
      "            \"nodes\": {\n",
      "                \"a\": {\n",
      "                    \"category\": \"biolink:Disease\",\n",
      "                    \"id\": \"OMIM:307030\"\n",
      "                },\n",
      "                \"b\": {\n",
      "                    \"category\": \"biolink:Gene\"\n",
      "                }\n",
      "            },\n",
      "            \"edges\": {\n",
      "                \"ab\": {\n",
      "                    \"subject\": \"a\",\n",
      "                    \"object\": \"b\",\n",
      "                    \"predicate\": \"biolink:caused_by\"\n",
      "                }\n",
      "            }\n",
      "        }\n",
      "    },\n",
      "    \"knowledge_graph\": {\n",
      "        \"nodes\": [],\n",
      "        \"edges\": []\n",
      "    },\n",
      "    \"results\": []\n",
      "}\n"
     ]
    }
   ],
   "source": [
    "printjson(m)"
   ]
  },
  {
   "cell_type": "code",
   "execution_count": 24,
   "id": "korean-cream",
   "metadata": {},
   "outputs": [],
   "source": [
    "m = one_hop_message('biolink:Gene','biolink:Disease','biolink:causes',object_id='OMIM:307030')"
   ]
  },
  {
   "cell_type": "code",
   "execution_count": 26,
   "id": "optical-ultimate",
   "metadata": {},
   "outputs": [
    {
     "name": "stdout",
     "output_type": "stream",
     "text": [
      "{\n",
      "    \"message\": {\n",
      "        \"query_graph\": {\n",
      "            \"nodes\": {\n",
      "                \"a\": {\n",
      "                    \"category\": \"biolink:Gene\"\n",
      "                },\n",
      "                \"b\": {\n",
      "                    \"category\": \"biolink:Disease\",\n",
      "                    \"id\": \"OMIM:307030\"\n",
      "                }\n",
      "            },\n",
      "            \"edges\": {\n",
      "                \"ab\": {\n",
      "                    \"subject\": \"a\",\n",
      "                    \"object\": \"b\",\n",
      "                    \"predicate\": \"biolink:causes\"\n",
      "                }\n",
      "            }\n",
      "        }\n",
      "    },\n",
      "    \"knowledge_graph\": {\n",
      "        \"nodes\": [],\n",
      "        \"edges\": []\n",
      "    },\n",
      "    \"results\": []\n",
      "}\n"
     ]
    }
   ],
   "source": [
    "printjson(m)"
   ]
  },
  {
   "cell_type": "code",
   "execution_count": 27,
   "id": "inner-polymer",
   "metadata": {},
   "outputs": [
    {
     "name": "stdout",
     "output_type": "stream",
     "text": [
      "https://arax.ncats.io/?source=ARS&id=4f782ac6-6f82-478a-bfad-2c88adea0b95\n"
     ]
    }
   ],
   "source": [
    "mid = submit_to_ars(m)"
   ]
  },
  {
   "cell_type": "code",
   "execution_count": 31,
   "id": "selective-creek",
   "metadata": {},
   "outputs": [],
   "source": [
    "m = one_hop_message('biolink:Disease','biolink:Pathway',subject_id='OMIM:307030')"
   ]
  },
  {
   "cell_type": "code",
   "execution_count": 32,
   "id": "reserved-profit",
   "metadata": {},
   "outputs": [
    {
     "name": "stdout",
     "output_type": "stream",
     "text": [
      "{\n",
      "    \"message\": {\n",
      "        \"query_graph\": {\n",
      "            \"nodes\": {\n",
      "                \"a\": {\n",
      "                    \"category\": \"biolink:Disease\",\n",
      "                    \"id\": \"OMIM:307030\"\n",
      "                },\n",
      "                \"b\": {\n",
      "                    \"category\": \"biolink:Pathway\"\n",
      "                }\n",
      "            },\n",
      "            \"edges\": {\n",
      "                \"ab\": {\n",
      "                    \"subject\": \"a\",\n",
      "                    \"object\": \"b\"\n",
      "                }\n",
      "            }\n",
      "        }\n",
      "    },\n",
      "    \"knowledge_graph\": {\n",
      "        \"nodes\": [],\n",
      "        \"edges\": []\n",
      "    },\n",
      "    \"results\": []\n",
      "}\n"
     ]
    }
   ],
   "source": [
    "printjson(m)"
   ]
  },
  {
   "cell_type": "code",
   "execution_count": 33,
   "id": "irish-bermuda",
   "metadata": {},
   "outputs": [
    {
     "name": "stdout",
     "output_type": "stream",
     "text": [
      "https://arax.ncats.io/?source=ARS&id=5b326466-90fe-4811-8127-808dd01872ce\n"
     ]
    }
   ],
   "source": [
    "mid = submit_to_ars(m)"
   ]
  },
  {
   "cell_type": "code",
   "execution_count": 35,
   "id": "global-replica",
   "metadata": {},
   "outputs": [],
   "source": [
    "m = one_hop_message('biolink:NamedThing','biolink:Pathway',predicate='biolink:participates_in',object_id='PathWhiz:PW000204')"
   ]
  },
  {
   "cell_type": "code",
   "execution_count": 36,
   "id": "immediate-spanish",
   "metadata": {},
   "outputs": [
    {
     "name": "stdout",
     "output_type": "stream",
     "text": [
      "{\n",
      "    \"message\": {\n",
      "        \"query_graph\": {\n",
      "            \"nodes\": {\n",
      "                \"a\": {\n",
      "                    \"category\": \"biolink:ChemicalSubstance\"\n",
      "                },\n",
      "                \"b\": {\n",
      "                    \"category\": \"biolink:Pathway\",\n",
      "                    \"id\": \"PathWhiz:PW000204\"\n",
      "                }\n",
      "            },\n",
      "            \"edges\": {\n",
      "                \"ab\": {\n",
      "                    \"subject\": \"a\",\n",
      "                    \"object\": \"b\",\n",
      "                    \"predicate\": \"biolink:participates_in\"\n",
      "                }\n",
      "            }\n",
      "        }\n",
      "    },\n",
      "    \"knowledge_graph\": {\n",
      "        \"nodes\": [],\n",
      "        \"edges\": []\n",
      "    },\n",
      "    \"results\": []\n",
      "}\n"
     ]
    }
   ],
   "source": [
    "printjson(m)"
   ]
  },
  {
   "cell_type": "code",
   "execution_count": 38,
   "id": "touched-audit",
   "metadata": {},
   "outputs": [
    {
     "name": "stdout",
     "output_type": "stream",
     "text": [
      "https://arax.ncats.io/?source=ARS&id=a400f348-7126-42e8-a840-18bb8ac83f7d\n"
     ]
    }
   ],
   "source": [
    "mid = submit_to_ars(m)"
   ]
  },
  {
   "cell_type": "code",
   "execution_count": 39,
   "id": "adjacent-terminology",
   "metadata": {},
   "outputs": [],
   "source": [
    "m = one_hop_message('biolink:ChemicalSubstance','biolink:Pathway',predicate='biolink:participates_in',object_id='SMPDB:SMP0000187')"
   ]
  },
  {
   "cell_type": "code",
   "execution_count": 40,
   "id": "spanish-attraction",
   "metadata": {},
   "outputs": [
    {
     "name": "stdout",
     "output_type": "stream",
     "text": [
      "https://arax.ncats.io/?source=ARS&id=927866d4-73c5-468c-9823-4d9bd03010c9\n"
     ]
    }
   ],
   "source": [
    "mid = submit_to_ars(m)"
   ]
  },
  {
   "cell_type": "code",
   "execution_count": null,
   "id": "exterior-surveillance",
   "metadata": {},
   "outputs": [],
   "source": [
    "mm={\n",
    "    \"message\": {\n",
    "        \"query_graph\": {\n",
    "            \"nodes\": {\n",
    "                \"a\": {\n",
    "                },\n",
    "                \"b\": {\n",
    "                    \"category\": \"biolink:Pathway\",\n",
    "                    \"id\": \"PathWhiz:PW000204\"\n",
    "                }\n",
    "            },\n",
    "            \"edges\": {\n",
    "                \"ab\": {\n",
    "                    \"subject\": \"a\",\n",
    "                    \"object\": \"b\",\n",
    "                    \"predicate\": \"biolink:participates_in\"\n",
    "                }\n",
    "            }\n",
    "        }\n",
    "    },\n",
    "    \"knowledge_graph\": {\n",
    "        \"nodes\": [],\n",
    "        \"edges\": []\n",
    "    },\n",
    "    \"results\": []\n",
    "}"
   ]
  },
  {
   "cell_type": "code",
   "execution_count": 41,
   "id": "rental-background",
   "metadata": {},
   "outputs": [],
   "source": [
    "m = one_hop_message('biolink:ChemicalSubstance','biolink:Gene',object_id='UniPRotKB:P32189')"
   ]
  },
  {
   "cell_type": "code",
   "execution_count": 42,
   "id": "rising-tobacco",
   "metadata": {},
   "outputs": [
    {
     "name": "stdout",
     "output_type": "stream",
     "text": [
      "https://arax.ncats.io/?source=ARS&id=ba96a323-ecdb-4213-bb0c-4c1c910981d8\n"
     ]
    }
   ],
   "source": [
    "mid = submit_to_ars(m)"
   ]
  },
  {
   "cell_type": "code",
   "execution_count": 43,
   "id": "general-newport",
   "metadata": {},
   "outputs": [
    {
     "name": "stdout",
     "output_type": "stream",
     "text": [
      "{\n",
      "    \"message\": {\n",
      "        \"query_graph\": {\n",
      "            \"nodes\": {\n",
      "                \"a\": {\n",
      "                    \"category\": \"biolink:ChemicalSubstance\"\n",
      "                },\n",
      "                \"b\": {\n",
      "                    \"category\": \"biolink:Gene\",\n",
      "                    \"id\": \"UniPRotKB:P32189\"\n",
      "                }\n",
      "            },\n",
      "            \"edges\": {\n",
      "                \"ab\": {\n",
      "                    \"subject\": \"a\",\n",
      "                    \"object\": \"b\"\n",
      "                }\n",
      "            }\n",
      "        }\n",
      "    },\n",
      "    \"knowledge_graph\": {\n",
      "        \"nodes\": [],\n",
      "        \"edges\": []\n",
      "    },\n",
      "    \"results\": []\n",
      "}\n"
     ]
    }
   ],
   "source": [
    "printjson(m)"
   ]
  },
  {
   "cell_type": "code",
   "execution_count": null,
   "id": "systematic-opening",
   "metadata": {},
   "outputs": [],
   "source": []
  }
 ],
 "metadata": {
  "kernelspec": {
   "display_name": "Python 3",
   "language": "python",
   "name": "python3"
  },
  "language_info": {
   "codemirror_mode": {
    "name": "ipython",
    "version": 3
   },
   "file_extension": ".py",
   "mimetype": "text/x-python",
   "name": "python",
   "nbconvert_exporter": "python",
   "pygments_lexer": "ipython3",
   "version": "3.9.1"
  }
 },
 "nbformat": 4,
 "nbformat_minor": 5
}
