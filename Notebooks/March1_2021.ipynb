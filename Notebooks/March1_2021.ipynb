{
 "cells": [
  {
   "cell_type": "code",
   "execution_count": 1,
   "id": "latter-glenn",
   "metadata": {},
   "outputs": [],
   "source": [
    "import json\n",
    "import requests"
   ]
  },
  {
   "cell_type": "code",
   "execution_count": 2,
   "id": "fourth-tomorrow",
   "metadata": {},
   "outputs": [],
   "source": [
    "#https://pypi.org/project/gamma-viewer/\n",
    "from gamma_viewer import GammaViewer\n",
    "from IPython.display import display"
   ]
  },
  {
   "cell_type": "code",
   "execution_count": 3,
   "id": "loose-timber",
   "metadata": {},
   "outputs": [],
   "source": [
    "def submit_to_ars(m):\n",
    "    submit_url = 'https://ars.transltr.io/ars/api/submit'\n",
    "    response = requests.post(submit_url,json=m)\n",
    "    try:\n",
    "        message_id = response.json()['pk']\n",
    "    except:\n",
    "        print('fail')\n",
    "        message_id = None\n",
    "    print(f'https://arax.ncats.io/?source=ARS&id={message_id}')\n",
    "    return message_id"
   ]
  },
  {
   "cell_type": "code",
   "execution_count": 23,
   "id": "honest-conducting",
   "metadata": {},
   "outputs": [],
   "source": [
    "def retrieve_ars_results(mid):\n",
    "    message_url = f'https://ars.transltr.io/ars/api/messages/{mid}?trace=y'\n",
    "    response = requests.get(message_url)\n",
    "    j = response.json()\n",
    "    print( j['status'] )\n",
    "    results = {}\n",
    "    for child in j['children']:\n",
    "        if child['status'] == 'Done':\n",
    "            childmessage_id = child['message']\n",
    "            child_url = f'https://ars.transltr.io/ars/api/messages/{childmessage_id}'\n",
    "            child_response = requests.get(child_url).json()\n",
    "            nresults = len(child_response['fields']['data']['message']['results'])\n",
    "            if nresults > 0:\n",
    "                results[child['actor']['agent']] = {'message':child_response['fields']['data']['message']}\n",
    "        else:\n",
    "            nresults = 0\n",
    "        print( child['status'], child['actor']['agent'],nresults )\n",
    "    return results"
   ]
  },
  {
   "cell_type": "code",
   "execution_count": 5,
   "id": "future-technique",
   "metadata": {},
   "outputs": [],
   "source": [
    "def printjson(j):\n",
    "    print(json.dumps(j,indent=4))"
   ]
  },
  {
   "cell_type": "code",
   "execution_count": 6,
   "id": "minimal-device",
   "metadata": {},
   "outputs": [],
   "source": [
    "def name_lookup(text):\n",
    "    url= f'https://name-resolution-sri.renci.org/lookup?string={text}&offset=0&limit=10'\n",
    "    response = requests.post(url)\n",
    "    printjson(response.json())"
   ]
  },
  {
   "cell_type": "code",
   "execution_count": 7,
   "id": "least-investment",
   "metadata": {},
   "outputs": [],
   "source": [
    "def one_hop_message(subject_category,object_category,predicate,subject_id = None, object_id = None):\n",
    "    query_graph = {\n",
    "    \"nodes\": {\n",
    "        'a':{\n",
    "            \"category\": subject_category\n",
    "        },\n",
    "        'b':{\n",
    "            \"category\": object_category\n",
    "        }\n",
    "    },\n",
    "    \"edges\": {\n",
    "        'ab':{\n",
    "            \"subject\": \"a\",\n",
    "            \"object\": \"b\",\n",
    "            \"predicate\": predicate\n",
    "        }\n",
    "    }\n",
    "    }\n",
    "    if subject_id is not None:\n",
    "        query_graph['nodes']['a']['id'] = subject_id\n",
    "    if object_id is not None:\n",
    "        query_graph['nodes']['b']['id'] = object_id\n",
    "    message = {\"message\": {\"query_graph\": query_graph},'knowledge_graph':{\"nodes\": [], \"edges\": [],}, 'results':[]}\n",
    "    return message"
   ]
  },
  {
   "cell_type": "code",
   "execution_count": 8,
   "id": "periodic-thursday",
   "metadata": {},
   "outputs": [
    {
     "name": "stdout",
     "output_type": "stream",
     "text": [
      "{\n",
      "    \"CHEBI:67940\": [\n",
      "        \"maple furanone\"\n",
      "    ],\n",
      "    \"MONDO:0004584\": [\n",
      "        \"maple bark disease\",\n",
      "        \"maple bark stripper's lung\",\n",
      "        \"maple bark-strippers' lung\",\n",
      "        \"maple-bark strippers' lung\",\n",
      "        \"maple bark stripper's disease\",\n",
      "        \"alveolitis due to cryptostroma corticale\"\n",
      "    ],\n",
      "    \"MONDO:0009563\": [\n",
      "        \"maple syrup urine disease\",\n",
      "        \"maple syrup urine disease; MSUD\",\n",
      "        \"maple syrup urine disease, type 2\",\n",
      "        \"maple syrup urine disease, type 1A\",\n",
      "        \"maple syrup urine disease, type 1B\",\n",
      "        \"maple syrup urine disease, classic\",\n",
      "        \"maple syrup urine disease, Intermediate\",\n",
      "        \"maple syrup urine disease, intermittent\",\n",
      "        \"maple syrup urine disease, thiamine-responsive\",\n",
      "        \"MSUD\",\n",
      "        \"Ketoacidaemia\",\n",
      "        \"BCKD deficiency\",\n",
      "        \"BCKDH deficiency\",\n",
      "        \"branched chain ketoaciduria\",\n",
      "        \"branched-chain ketoaciduria\",\n",
      "        \"High blood leucine concentration\",\n",
      "        \"Keto acid decarboxylase deficiency\",\n",
      "        \"dihydrolipoamide dehydrogenase deficiency\",\n",
      "        \"branched-chain 2-ketoacid dehydrogenase deficiency\",\n",
      "        \"branched-chain Alpha-Keto acid dehydrogenase deficiency\"\n",
      "    ],\n",
      "    \"MONDO:0009529\": [\n",
      "        \"maple syrup urine disease, type 3\",\n",
      "        \"maple syrup urine disease, type III\",\n",
      "        \"E3-deficient maple syrup urine disease\",\n",
      "        \"DLDD\",\n",
      "        \"E3 deficiency\",\n",
      "        \"DLD deficiency\",\n",
      "        \"Dld deficiency\",\n",
      "        \"dihydrolipoamide dehydrogenase deficiency\",\n",
      "        \"dihydrolipoamide dehydrogenase deficiency\",\n",
      "        \"dihydrolipoamide dehydrogenase deficiency; DLDD\",\n",
      "        \"lipoamide dehydrogenase deficiency, lactic acidosis due to\"\n",
      "    ],\n",
      "    \"MONDO:0014057\": [\n",
      "        \"maple syrup urine disease, mild variant\",\n",
      "        \"maple syrup urine disease, mild variant; MSUDMV\",\n",
      "        \"MSUDMV\"\n",
      "    ]\n",
      "}\n"
     ]
    }
   ],
   "source": [
    "name_lookup('maple')"
   ]
  },
  {
   "cell_type": "code",
   "execution_count": 9,
   "id": "quality-terminology",
   "metadata": {},
   "outputs": [],
   "source": [
    "m = one_hop_message('biolink:Gene','biolink:Disease','biolink:gene_associated_with_condition',object_id='MONDO:0009563')"
   ]
  },
  {
   "cell_type": "code",
   "execution_count": 10,
   "id": "printable-digit",
   "metadata": {},
   "outputs": [
    {
     "name": "stdout",
     "output_type": "stream",
     "text": [
      "{\n",
      "    \"message\": {\n",
      "        \"query_graph\": {\n",
      "            \"nodes\": {\n",
      "                \"a\": {\n",
      "                    \"category\": \"biolink:Gene\"\n",
      "                },\n",
      "                \"b\": {\n",
      "                    \"category\": \"biolink:Disease\",\n",
      "                    \"id\": \"MONDO:0009563\"\n",
      "                }\n",
      "            },\n",
      "            \"edges\": {\n",
      "                \"ab\": {\n",
      "                    \"subject\": \"a\",\n",
      "                    \"object\": \"b\",\n",
      "                    \"predicate\": \"biolink:gene_associated_with_condition\"\n",
      "                }\n",
      "            }\n",
      "        }\n",
      "    },\n",
      "    \"knowledge_graph\": {\n",
      "        \"nodes\": [],\n",
      "        \"edges\": []\n",
      "    },\n",
      "    \"results\": []\n",
      "}\n"
     ]
    }
   ],
   "source": [
    "printjson(m)"
   ]
  },
  {
   "cell_type": "code",
   "execution_count": 11,
   "id": "parliamentary-census",
   "metadata": {},
   "outputs": [
    {
     "name": "stdout",
     "output_type": "stream",
     "text": [
      "https://arax.ncats.io/?source=ARS&id=602a6547-85a1-4e6c-a3f6-fdbea4976918\n"
     ]
    }
   ],
   "source": [
    "mid = submit_to_ars(m)"
   ]
  },
  {
   "cell_type": "code",
   "execution_count": 24,
   "id": "forbidden-alexander",
   "metadata": {},
   "outputs": [
    {
     "name": "stdout",
     "output_type": "stream",
     "text": [
      "Done\n",
      "Done ara-aragorn 19\n",
      "Done ara-arax 7\n",
      "Done ara-bte 85\n",
      "Error ara-ncats 0\n",
      "Unknown ara-robokop 0\n",
      "Done ara-explanatory 0\n",
      "Done kp-cam 0\n",
      "Error kp-molecular 0\n",
      "Done ara-unsecret 0\n",
      "Done kp-genetics 0\n",
      "Done kp-textmining 0\n",
      "Unknown ara-improving 0\n"
     ]
    }
   ],
   "source": [
    "j = retrieve_ars_results(mid)"
   ]
  },
  {
   "cell_type": "code",
   "execution_count": 25,
   "id": "operating-berkeley",
   "metadata": {},
   "outputs": [],
   "source": [
    "view = GammaViewer(props={\"data\":j['ara-arax']})"
   ]
  },
  {
   "cell_type": "code",
   "execution_count": 28,
   "id": "obvious-bundle",
   "metadata": {},
   "outputs": [
    {
     "data": {
      "text/plain": [
       "{'confidence': 0.8571428571428571,\n",
       " 'description': 'No description available',\n",
       " 'edge_bindings': {'N1': [{'id': 'N1_0'}], 'ab': [{'id': 'KG2c:31961106'}]},\n",
       " 'essence': 'BCKDHB',\n",
       " 'essence_category': 'biolink:Gene',\n",
       " 'node_bindings': {'a': [{'id': 'UniProtKB:P21953'}],\n",
       "  'b': [{'id': 'MONDO:0009563'}]},\n",
       " 'reasoner_id': 'ARAX',\n",
       " 'row_data': [0.857, 'BCKDHB', 'biolink:Gene']}"
      ]
     },
     "execution_count": 28,
     "metadata": {},
     "output_type": "execute_result"
    }
   ],
   "source": [
    "j['ara-arax']['message']['results'][1]"
   ]
  },
  {
   "cell_type": "code",
   "execution_count": 29,
   "id": "potential-journey",
   "metadata": {},
   "outputs": [],
   "source": [
    "bteview = GammaViewer(props={\"data\":j['ara-bte']})"
   ]
  },
  {
   "cell_type": "code",
   "execution_count": 30,
   "id": "billion-hamilton",
   "metadata": {},
   "outputs": [],
   "source": [
    "display(bteview)"
   ]
  },
  {
   "cell_type": "code",
   "execution_count": null,
   "id": "micro-netscape",
   "metadata": {},
   "outputs": [],
   "source": []
  }
 ],
 "metadata": {
  "kernelspec": {
   "display_name": "Python 3",
   "language": "python",
   "name": "python3"
  },
  "language_info": {
   "codemirror_mode": {
    "name": "ipython",
    "version": 3
   },
   "file_extension": ".py",
   "mimetype": "text/x-python",
   "name": "python",
   "nbconvert_exporter": "python",
   "pygments_lexer": "ipython3",
   "version": "3.9.1"
  }
 },
 "nbformat": 4,
 "nbformat_minor": 5
}
