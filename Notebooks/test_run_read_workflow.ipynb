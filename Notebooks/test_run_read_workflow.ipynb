{
 "cells": [
  {
   "cell_type": "markdown",
   "metadata": {},
   "source": [
    "## This notebook was only created to test the ReadAndRunAllWorkFlows.py\n",
    "\n",
    "\n",
    "<br>\n",
    "<br>"
   ]
  },
  {
   "cell_type": "code",
   "execution_count": 151,
   "metadata": {
    "scrolled": true
   },
   "outputs": [],
   "source": [
    "#pull the ara results and look through KF+G edge graphs and pull the povenance attribute and make a table that will look like\n",
    "#rows will be kp\n",
    "#col be workflows\n",
    "#entry would be the ara's that had edges in kp in the workflow. "
   ]
  },
  {
   "cell_type": "code",
   "execution_count": 152,
   "metadata": {
    "scrolled": true
   },
   "outputs": [],
   "source": [
    "import requests\n",
    "import json\n",
    "from collections import defaultdict\n",
    "import os\n",
    "import pandas as pd\n",
    "\n",
    "\n",
    "#https://ars.ci.transltr.io/ars/api --- \n",
    "#https://arax.ci.transltr.io -- backup url"
   ]
  },
  {
   "cell_type": "code",
   "execution_count": 154,
   "metadata": {
    "scrolled": true
   },
   "outputs": [],
   "source": [
    "def submit_to_ars(m,ars_url='https://ars.transltr.io/ars/api',arax_url='https://arax.ncats.io'):\n",
    "    submit_url=f'{ars_url}/submit'\n",
    "    response = requests.post(submit_url,json=m)\n",
    "    try:\n",
    "        message_id = response.json()['pk']\n",
    "    except:\n",
    "        print('fail')\n",
    "        message_id = None\n",
    "    print(f'{arax_url}/?source=ARS&id={message_id}')\n",
    "    return message_id"
   ]
  },
  {
   "cell_type": "code",
   "execution_count": 155,
   "metadata": {
    "scrolled": true
   },
   "outputs": [],
   "source": [
    "def retrieve_ars_results(mid,ars_url='https://ars.transltr.io/ars/api'):\n",
    "    pk = 'https://arax.ncats.io/?source=ARS&id=' + mid\n",
    "    message_url = f'{ars_url}/messages/{mid}?trace=y'\n",
    "    response = requests.get(message_url)\n",
    "    j = response.json()\n",
    "    print( j['status'] )\n",
    "    results = {}\n",
    "    dictionary = {}\n",
    "    dictionary_2 = {}\n",
    "    for child in j['children']:\n",
    "        print(child['status'])\n",
    "        if child['status']  == 'Done':\n",
    "            childmessage_id = child['message']\n",
    "            child_url = f'{ars_url}/messages/{childmessage_id}'\n",
    "            try:\n",
    "                child_response = requests.get(child_url).json()\n",
    "                nresults = len(child_response['fields']['data']['message']['results'])\n",
    "                if nresults > 0:\n",
    "                    results[child['actor']['agent']] = {'message':child_response['fields']['data']['message']}\n",
    "            except Exception as e:\n",
    "                nresults=0\n",
    "                child['status'] = 'ARS Error'\n",
    "        elif child['status'] == 'Error':\n",
    "            nresults=0\n",
    "            childmessage_id = child['message']\n",
    "            child_url = f'{ars_url}/messages/{childmessage_id}'\n",
    "            try:\n",
    "                child_response = requests.get(child_url).json()\n",
    "                results[child['actor']['agent']] = {'message':child_response['fields']['data']['message']}\n",
    "            except Exception as e:\n",
    "                #print(e)\n",
    "                child['status'] = 'ARS Error'\n",
    "        else:\n",
    "            nresults = 0\n",
    "            \n",
    "        dictionary['pk_id'] =  pk  \n",
    "            \n",
    "        if ((child['status'] == 'Done') & (nresults == 0)):\n",
    "            dictionary[child['actor']['agent']] = 'No Results'\n",
    "            #test =  [child['actor']['agent'], 'No Results']\n",
    "        elif ((child['status'] == 'ARS Error') & (nresults == 0)):\n",
    "            dictionary[child['actor']['agent']] = 'ARS Error'\n",
    "        elif ((child['status'] == 'Error') & (nresults == 0)):\n",
    "            dictionary[child['actor']['agent']] = 'Error'\n",
    "            #test =  [child['actor']['agent'], 'ARS Error']\n",
    "        elif ((child['status'] == 'Done') & (nresults != 0)):\n",
    "            #test =  [child['actor']['agent'], 'Results']\n",
    "            dictionary[child['actor']['agent']] = 'Results' \n",
    "        \n",
    "        \n",
    "        print(child['actor']['agent'], child['status'], nresults)\n",
    "        #test =  [child['actor']['agent'], child['status'], nresults]\n",
    "        #test2.append(test)\n",
    "    return dictionary\n",
    "\n",
    "\n",
    "#def submit_to_devars(m):\n",
    "#    return submit_to_ars(m,ars_url='https://ars-dev.transltr.io/ars/api',arax_url='https://arax.ncats.io')\n",
    "\n",
    "#def retrieve_devars_results(m):\n",
    "#     return retrieve_ars_results(m,ars_url='https://ars-dev.transltr.io/ars/api')\n",
    "\n",
    "def printjson(j):\n",
    "    print(json.dumps(j,indent=4))"
   ]
  },
  {
   "cell_type": "markdown",
   "metadata": {},
   "source": [
    "<br>\n",
    "\n",
    "### Submiting more than one jobs (test)\n",
    "\n",
    "<br>"
   ]
  },
  {
   "cell_type": "code",
   "execution_count": null,
   "metadata": {
    "scrolled": true
   },
   "outputs": [],
   "source": [
    "urls = ['/Users/priyash/Documents/GitHub/minihackathons/2021-12_demo/workflowA/A.9_EGFR_advanced.json', '/Users/priyash/Documents/GitHub/minihackathons/2021-12_demo/workflowA/A.1_RHOBTB2.json']"
   ]
  },
  {
   "cell_type": "code",
   "execution_count": null,
   "metadata": {
    "scrolled": true
   },
   "outputs": [],
   "source": [
    "dict_workflows = {}\n",
    "for i in urls:\n",
    "    feature = (os.path.splitext(os.path.basename(i))[0])\n",
    "    print(i, feature)\n",
    "    with open(i,'r') as inf:\n",
    "        query = json.load(inf)\n",
    "        kcresult = submit_to_ars(query)\n",
    "        #xx = retrieve_devars_results(kcresult)\n",
    "        \n",
    "        dict_workflows[feature] = kcresult"
   ]
  },
  {
   "cell_type": "code",
   "execution_count": null,
   "metadata": {
    "scrolled": true
   },
   "outputs": [],
   "source": [
    "dict_workflows"
   ]
  },
  {
   "cell_type": "code",
   "execution_count": null,
   "metadata": {
    "scrolled": true
   },
   "outputs": [],
   "source": [
    "workflow_result_messages = {}\n",
    "for keys, val in dict_workflows.items():\n",
    "    print(keys, val)\n",
    "    \n",
    "    result_status = retrieve_ars_results(val)\n",
    "    \n",
    "    workflow_result_messages[keys] = result_status"
   ]
  },
  {
   "cell_type": "code",
   "execution_count": null,
   "metadata": {
    "scrolled": true
   },
   "outputs": [],
   "source": [
    "workflow_result_messages"
   ]
  },
  {
   "cell_type": "code",
   "execution_count": null,
   "metadata": {
    "scrolled": true
   },
   "outputs": [],
   "source": [
    "col = []\n",
    "final_dict = defaultdict(list)\n",
    "for k in sorted(workflow_result_messages):\n",
    "    print(k)\n",
    "    col.append(k)\n",
    "    \n",
    "    for key, value in workflow_result_messages[k].items():\n",
    "        if key.startswith('kp-'):\n",
    "            key_mod = key.replace('kp-','')\n",
    "        else:\n",
    "            key_mod = key\n",
    "        \n",
    "        final_dict[key_mod].append(value)\n",
    "\n",
    "    final_dict = dict(final_dict)\n",
    "    \n",
    "df = pd.DataFrame(final_dict).T\n",
    "df.rename(columns=dict(zip(df.columns, col)), inplace=True)"
   ]
  },
  {
   "cell_type": "code",
   "execution_count": null,
   "metadata": {
    "scrolled": true
   },
   "outputs": [],
   "source": [
    "df"
   ]
  },
  {
   "cell_type": "code",
   "execution_count": null,
   "metadata": {
    "scrolled": true
   },
   "outputs": [],
   "source": [
    "df.loc['pk_id']"
   ]
  },
  {
   "cell_type": "code",
   "execution_count": null,
   "metadata": {
    "scrolled": true
   },
   "outputs": [],
   "source": [
    "df.to_excel('test_ara_worklow.xlsx')"
   ]
  },
  {
   "cell_type": "code",
   "execution_count": null,
   "metadata": {
    "scrolled": true
   },
   "outputs": [],
   "source": [
    "pwd"
   ]
  },
  {
   "cell_type": "markdown",
   "metadata": {},
   "source": [
    "<br>\n",
    "\n",
    "## Test for individual run\n",
    "\n",
    "<br>"
   ]
  },
  {
   "cell_type": "code",
   "execution_count": 156,
   "metadata": {
    "scrolled": true
   },
   "outputs": [],
   "source": [
    "with open('/Users/priyash/Documents/GitHub/minihackathons/2021-12_demo/workflowA/A.1_RHOBTB2.json') as inf:\n",
    "    query1 = json.load(inf)"
   ]
  },
  {
   "cell_type": "code",
   "execution_count": 157,
   "metadata": {
    "scrolled": true
   },
   "outputs": [
    {
     "name": "stdout",
     "output_type": "stream",
     "text": [
      "{\n",
      "    \"message\": {\n",
      "        \"query_graph\": {\n",
      "            \"edges\": {\n",
      "                \"e01\": {\n",
      "                    \"object\": \"n0\",\n",
      "                    \"subject\": \"n1\",\n",
      "                    \"predicates\": [\n",
      "                        \"biolink:entity_negatively_regulates_entity\"\n",
      "                    ]\n",
      "                }\n",
      "            },\n",
      "            \"nodes\": {\n",
      "                \"n0\": {\n",
      "                    \"ids\": [\n",
      "                        \"NCBIGene:23221\"\n",
      "                    ],\n",
      "                    \"categories\": [\n",
      "                        \"biolink:Gene\"\n",
      "                    ]\n",
      "                },\n",
      "                \"n1\": {\n",
      "                    \"categories\": [\n",
      "                        \"biolink:Gene\"\n",
      "                    ]\n",
      "                }\n",
      "            }\n",
      "        }\n",
      "    }\n",
      "}\n"
     ]
    }
   ],
   "source": [
    "printjson(query1)"
   ]
  },
  {
   "cell_type": "code",
   "execution_count": 158,
   "metadata": {
    "scrolled": true
   },
   "outputs": [
    {
     "name": "stdout",
     "output_type": "stream",
     "text": [
      "https://arax.ncats.io/?source=ARS&id=0798f6c5-c2ac-4dc8-ae1f-febd208dc1a4\n"
     ]
    }
   ],
   "source": [
    "kcresult = submit_to_ars(query1)"
   ]
  },
  {
   "cell_type": "code",
   "execution_count": 159,
   "metadata": {
    "scrolled": true
   },
   "outputs": [
    {
     "name": "stdout",
     "output_type": "stream",
     "text": [
      "Done\n",
      "Done\n",
      "kp-icees Done 0\n",
      "Done\n",
      "kp-textmining Done 0\n",
      "Done\n",
      "kp-genetics Done 0\n",
      "Done\n",
      "kp-molecular Done 0\n",
      "Done\n",
      "ara-improving Done 4\n",
      "Done\n",
      "kp-chp Done 0\n",
      "Error\n",
      "kp-cam Error 0\n",
      "Done\n",
      "ara-aragorn Done 31\n",
      "Done\n",
      "ara-unsecret Done 0\n",
      "Done\n",
      "ara-bte Done 8\n",
      "Unknown\n",
      "ara-ncats Unknown 0\n",
      "Done\n",
      "ara-arax Done 3\n",
      "Error\n",
      "ara-aragorn-exp Error 0\n",
      "Error\n",
      "kp-cohd Error 0\n",
      "Error\n",
      "ara-explanatory Error 0\n",
      "Done\n",
      "kp-icees-dili Done 0\n",
      "Done\n",
      "kp-openpredict Done 0\n",
      "Error\n",
      "ara-robokop Error 0\n"
     ]
    },
    {
     "data": {
      "text/plain": [
       "{'pk_id': 'https://arax.ncats.io/?source=ARS&id=0798f6c5-c2ac-4dc8-ae1f-febd208dc1a4',\n",
       " 'kp-icees': 'No Results',\n",
       " 'kp-textmining': 'No Results',\n",
       " 'kp-genetics': 'No Results',\n",
       " 'kp-molecular': 'No Results',\n",
       " 'ara-improving': 'Results',\n",
       " 'kp-chp': 'No Results',\n",
       " 'kp-cam': 'Error',\n",
       " 'ara-aragorn': 'Results',\n",
       " 'ara-unsecret': 'No Results',\n",
       " 'ara-bte': 'Results',\n",
       " 'ara-arax': 'Results',\n",
       " 'ara-aragorn-exp': 'Error',\n",
       " 'kp-cohd': 'Error',\n",
       " 'ara-explanatory': 'Error',\n",
       " 'kp-icees-dili': 'No Results',\n",
       " 'kp-openpredict': 'No Results',\n",
       " 'ara-robokop': 'Error'}"
      ]
     },
     "execution_count": 159,
     "metadata": {},
     "output_type": "execute_result"
    }
   ],
   "source": [
    "retrieve_ars_results(kcresult)"
   ]
  },
  {
   "cell_type": "code",
   "execution_count": 243,
   "metadata": {
    "scrolled": true
   },
   "outputs": [
    {
     "data": {
      "text/plain": [
       "'0798f6c5-c2ac-4dc8-ae1f-febd208dc1a4'"
      ]
     },
     "execution_count": 243,
     "metadata": {},
     "output_type": "execute_result"
    }
   ],
   "source": [
    "kcresult"
   ]
  },
  {
   "cell_type": "code",
   "execution_count": 160,
   "metadata": {
    "scrolled": true
   },
   "outputs": [],
   "source": [
    "kcresult = '0798f6c5-c2ac-4dc8-ae1f-febd208dc1a4'\n",
    "ars_url='https://ars.transltr.io/ars/api'\n",
    "pk = 'https://arax.ncats.io/?source=ARS&id=' + kcresult\n",
    "message_url = f'{ars_url}/messages/{kcresult}?trace=y'\n",
    "response = requests.get(message_url)\n",
    "j = response.json()"
   ]
  },
  {
   "cell_type": "code",
   "execution_count": 161,
   "metadata": {
    "scrolled": true
   },
   "outputs": [
    {
     "data": {
      "text/plain": [
       "dict_keys(['message', 'status', 'actor', 'children'])"
      ]
     },
     "execution_count": 161,
     "metadata": {},
     "output_type": "execute_result"
    }
   ],
   "source": [
    "j.keys()"
   ]
  },
  {
   "cell_type": "code",
   "execution_count": 162,
   "metadata": {
    "scrolled": false
   },
   "outputs": [
    {
     "data": {
      "text/plain": [
       "{'message': '0798f6c5-c2ac-4dc8-ae1f-febd208dc1a4',\n",
       " 'status': 'Done',\n",
       " 'actor': {'pk': 9,\n",
       "  'channel': 'general',\n",
       "  'agent': 'ars-default-agent',\n",
       "  'path': ''},\n",
       " 'children': [{'message': '04260b76-5aaf-4331-a0c2-82483bc3068e',\n",
       "   'status': 'Done',\n",
       "   'code': '200',\n",
       "   'actor': {'pk': 18,\n",
       "    'channel': 'general',\n",
       "    'agent': 'kp-icees',\n",
       "    'path': 'runquery'},\n",
       "   'children': []},\n",
       "  {'message': '05f4a9f5-117b-4f08-85e2-b52c2ab09983',\n",
       "   'status': 'Done',\n",
       "   'code': '200',\n",
       "   'actor': {'pk': 13,\n",
       "    'channel': 'general',\n",
       "    'agent': 'kp-textmining',\n",
       "    'path': 'runquery'},\n",
       "   'children': []},\n",
       "  {'message': '1a6ad828-c2e0-45c6-95b2-b7ab7f9e7c5d',\n",
       "   'status': 'Done',\n",
       "   'code': '200',\n",
       "   'actor': {'pk': 7,\n",
       "    'channel': 'general',\n",
       "    'agent': 'kp-genetics',\n",
       "    'path': 'runquery'},\n",
       "   'children': []},\n",
       "  {'message': '24a2483c-c21a-4ed3-9d69-6649c078b465',\n",
       "   'status': 'Done',\n",
       "   'code': '200',\n",
       "   'actor': {'pk': 8,\n",
       "    'channel': 'general',\n",
       "    'agent': 'kp-molecular',\n",
       "    'path': 'runquery'},\n",
       "   'children': []},\n",
       "  {'message': '26d0f2cb-3123-4dfc-8dd1-923a99acf917',\n",
       "   'status': 'Done',\n",
       "   'code': '200',\n",
       "   'actor': {'pk': 11,\n",
       "    'channel': 'general',\n",
       "    'agent': 'ara-improving',\n",
       "    'path': 'runquery'},\n",
       "   'children': []},\n",
       "  {'message': '30e5ef12-281c-40d2-b308-a9739b36b06f',\n",
       "   'status': 'Done',\n",
       "   'code': '200',\n",
       "   'actor': {'pk': 23,\n",
       "    'channel': 'general',\n",
       "    'agent': 'kp-chp',\n",
       "    'path': 'runquery'},\n",
       "   'children': []},\n",
       "  {'message': '51885fb9-cca3-4421-b7e5-7640960936d4',\n",
       "   'status': 'Error',\n",
       "   'code': '502',\n",
       "   'actor': {'pk': 12,\n",
       "    'channel': 'general',\n",
       "    'agent': 'kp-cam',\n",
       "    'path': 'runquery'},\n",
       "   'children': []},\n",
       "  {'message': '5e8e3c8c-8d59-4541-be24-90f57b15549a',\n",
       "   'status': 'Done',\n",
       "   'code': '200',\n",
       "   'actor': {'pk': 1,\n",
       "    'channel': 'general',\n",
       "    'agent': 'ara-aragorn',\n",
       "    'path': 'runquery'},\n",
       "   'children': []},\n",
       "  {'message': '68579de5-e6ec-48bf-8f3a-7252b2824e1f',\n",
       "   'status': 'Done',\n",
       "   'code': '200',\n",
       "   'actor': {'pk': 6,\n",
       "    'channel': 'general',\n",
       "    'agent': 'ara-unsecret',\n",
       "    'path': 'runquery'},\n",
       "   'children': []},\n",
       "  {'message': '6fa3897b-fdc1-4f27-92a6-5db395cf226e',\n",
       "   'status': 'Done',\n",
       "   'code': '200',\n",
       "   'actor': {'pk': 3,\n",
       "    'channel': 'general',\n",
       "    'agent': 'ara-bte',\n",
       "    'path': 'runquery'},\n",
       "   'children': []},\n",
       "  {'message': '8236a355-ab89-4ca6-9ff2-e6efae4f654b',\n",
       "   'status': 'Unknown',\n",
       "   'code': '503',\n",
       "   'actor': {'pk': 21,\n",
       "    'channel': 'general',\n",
       "    'agent': 'ara-ncats',\n",
       "    'path': 'runquery'},\n",
       "   'children': []},\n",
       "  {'message': 'b1f06c85-fec6-4e8a-8bf2-34c6fdd81820',\n",
       "   'status': 'Done',\n",
       "   'code': '200',\n",
       "   'actor': {'pk': 2,\n",
       "    'channel': 'general',\n",
       "    'agent': 'ara-arax',\n",
       "    'path': 'runquery'},\n",
       "   'children': []},\n",
       "  {'message': 'be74900b-9309-478a-829c-c68821e2afc1',\n",
       "   'status': 'Error',\n",
       "   'code': '404',\n",
       "   'actor': {'pk': 16,\n",
       "    'channel': 'general',\n",
       "    'agent': 'ara-aragorn-exp',\n",
       "    'path': 'runquery'},\n",
       "   'children': []},\n",
       "  {'message': 'c3ab8d5a-1836-47bb-82f4-8905ba033b0e',\n",
       "   'status': 'Error',\n",
       "   'code': '400',\n",
       "   'actor': {'pk': 24,\n",
       "    'channel': 'general',\n",
       "    'agent': 'kp-cohd',\n",
       "    'path': 'runquery'},\n",
       "   'children': []},\n",
       "  {'message': 'ca71e89c-97b8-4cc1-b76b-1146ecbb112e',\n",
       "   'status': 'Error',\n",
       "   'code': '500',\n",
       "   'actor': {'pk': 10,\n",
       "    'channel': 'general',\n",
       "    'agent': 'ara-explanatory',\n",
       "    'path': 'runquery'},\n",
       "   'children': []},\n",
       "  {'message': 'd0c006ed-809c-4dc8-b6cc-d10d407f068c',\n",
       "   'status': 'Done',\n",
       "   'code': '200',\n",
       "   'actor': {'pk': 25,\n",
       "    'channel': 'general',\n",
       "    'agent': 'kp-icees-dili',\n",
       "    'path': 'runquery'},\n",
       "   'children': []},\n",
       "  {'message': 'd6817675-a09d-4fc9-b435-0ccfeffc1772',\n",
       "   'status': 'Done',\n",
       "   'code': '200',\n",
       "   'actor': {'pk': 17,\n",
       "    'channel': 'general',\n",
       "    'agent': 'kp-openpredict',\n",
       "    'path': 'runquery'},\n",
       "   'children': []},\n",
       "  {'message': 'e21fe418-05c5-40d6-9c0e-dd27fb16bf6c',\n",
       "   'status': 'Error',\n",
       "   'code': '500',\n",
       "   'actor': {'pk': 22,\n",
       "    'channel': 'general',\n",
       "    'agent': 'ara-robokop',\n",
       "    'path': 'runquery'},\n",
       "   'children': []}]}"
      ]
     },
     "execution_count": 162,
     "metadata": {},
     "output_type": "execute_result"
    }
   ],
   "source": [
    "j"
   ]
  },
  {
   "cell_type": "code",
   "execution_count": 145,
   "metadata": {},
   "outputs": [],
   "source": [
    "def flatten_list(_2d_list):\n",
    "    flat_list = []\n",
    "    # Iterate through the outer list\n",
    "    for element in _2d_list:\n",
    "        if type(element) is list:\n",
    "            # If the element is of type list, iterate through the sublist\n",
    "            for item in element:\n",
    "                flat_list.append(item)\n",
    "        else:\n",
    "            flat_list.append(element)\n",
    "    return flat_list"
   ]
  },
  {
   "cell_type": "code",
   "execution_count": 175,
   "metadata": {},
   "outputs": [],
   "source": [
    "check_sheet = pd.read_csv(\"/Users/priyash/Documents/GitHub/minihackathons/Notebooks/Query results to include or exclude - Sheet1.csv\", header=0)"
   ]
  },
  {
   "cell_type": "code",
   "execution_count": 176,
   "metadata": {},
   "outputs": [
    {
     "data": {
      "text/html": [
       "<div>\n",
       "<style scoped>\n",
       "    .dataframe tbody tr th:only-of-type {\n",
       "        vertical-align: middle;\n",
       "    }\n",
       "\n",
       "    .dataframe tbody tr th {\n",
       "        vertical-align: top;\n",
       "    }\n",
       "\n",
       "    .dataframe thead th {\n",
       "        text-align: right;\n",
       "    }\n",
       "</style>\n",
       "<table border=\"1\" class=\"dataframe\">\n",
       "  <thead>\n",
       "    <tr style=\"text-align: right;\">\n",
       "      <th></th>\n",
       "      <th>Workflow</th>\n",
       "      <th>Curie</th>\n",
       "      <th>N (size of list of results)</th>\n",
       "      <th>Query node ID</th>\n",
       "      <th>Include/Exclude</th>\n",
       "      <th>Unnamed: 5</th>\n",
       "      <th>Unnamed: 6</th>\n",
       "    </tr>\n",
       "  </thead>\n",
       "  <tbody>\n",
       "    <tr>\n",
       "      <th>0</th>\n",
       "      <td>A.0_RHOBTB2_direct.json</td>\n",
       "      <td>PUBCHEM.COMPOUND:2950270</td>\n",
       "      <td>10.0</td>\n",
       "      <td>n1</td>\n",
       "      <td>Include</td>\n",
       "      <td>NaN</td>\n",
       "      <td>Note: this example row means that for workflow...</td>\n",
       "    </tr>\n",
       "    <tr>\n",
       "      <th>1</th>\n",
       "      <td>B.1a_DILI-three-hop-from-MONDO:0005359_DILI.json</td>\n",
       "      <td>RXNORM:155067</td>\n",
       "      <td>500.0</td>\n",
       "      <td>n3</td>\n",
       "      <td>Include</td>\n",
       "      <td>NaN</td>\n",
       "      <td>Equivalent identifiers are equally acceptable</td>\n",
       "    </tr>\n",
       "    <tr>\n",
       "      <th>2</th>\n",
       "      <td>B.1b_DILI_three-hop-from-SNOMEDCT:197358007_To...</td>\n",
       "      <td>RXNORM:155067</td>\n",
       "      <td>500.0</td>\n",
       "      <td>n3</td>\n",
       "      <td>Include</td>\n",
       "      <td>NaN</td>\n",
       "      <td>Equivalent identifiers are equally acceptable</td>\n",
       "    </tr>\n",
       "    <tr>\n",
       "      <th>3</th>\n",
       "      <td>B.1b_DILI_three-hop-from-SNOMEDCT:197358007_To...</td>\n",
       "      <td>CHEMBL.COMPOUND:CHEMBL1698267</td>\n",
       "      <td>500.0</td>\n",
       "      <td>n3</td>\n",
       "      <td>Include</td>\n",
       "      <td>NaN</td>\n",
       "      <td>Equivalent identifiers are equally acceptable;...</td>\n",
       "    </tr>\n",
       "    <tr>\n",
       "      <th>4</th>\n",
       "      <td>B.1b_DILI_three-hop-from-SNOMEDCT:197358007_To...</td>\n",
       "      <td>RXNORM:40068</td>\n",
       "      <td>500.0</td>\n",
       "      <td>n3</td>\n",
       "      <td>Include</td>\n",
       "      <td>NaN</td>\n",
       "      <td>Equivalent identifiers are equally acceptable</td>\n",
       "    </tr>\n",
       "    <tr>\n",
       "      <th>5</th>\n",
       "      <td>B.1c_DILI_three-hop-from-MESH:D056487_ChronicD...</td>\n",
       "      <td>RXNORM:155067</td>\n",
       "      <td>500.0</td>\n",
       "      <td>n3</td>\n",
       "      <td>Include</td>\n",
       "      <td>NaN</td>\n",
       "      <td>Equivalent identifiers are equally acceptable</td>\n",
       "    </tr>\n",
       "    <tr>\n",
       "      <th>6</th>\n",
       "      <td>B.1c_DILI_three-hop-from-MESH:D056487_ChronicD...</td>\n",
       "      <td>CHEMBL.COMPOUND:CHEMBL165</td>\n",
       "      <td>500.0</td>\n",
       "      <td>n3</td>\n",
       "      <td>Include</td>\n",
       "      <td>NaN</td>\n",
       "      <td>Equivalent identifiers are equally acceptable</td>\n",
       "    </tr>\n",
       "    <tr>\n",
       "      <th>7</th>\n",
       "      <td>B.1c_DILI_three-hop-from-MESH:D056487_ChronicD...</td>\n",
       "      <td>CHEMBL.COMPOUND:CHEMBL116438</td>\n",
       "      <td>500.0</td>\n",
       "      <td>n3</td>\n",
       "      <td>Include</td>\n",
       "      <td>NaN</td>\n",
       "      <td>Equivalent identifiers are equally acceptable</td>\n",
       "    </tr>\n",
       "    <tr>\n",
       "      <th>8</th>\n",
       "      <td>B.1d_DILI_three-hop-from-SNOMEDCT:197354009_To...</td>\n",
       "      <td>CHEMBL.COMPOUND:CHEMBL1698267</td>\n",
       "      <td>500.0</td>\n",
       "      <td>n3</td>\n",
       "      <td>Include</td>\n",
       "      <td>NaN</td>\n",
       "      <td>Equivalent identifiers are equally acceptable;...</td>\n",
       "    </tr>\n",
       "    <tr>\n",
       "      <th>9</th>\n",
       "      <td>B.3a_DILI-fourth-one-hop-from-CHEBI:41879_Dexa...</td>\n",
       "      <td>NaN</td>\n",
       "      <td>NaN</td>\n",
       "      <td>NaN</td>\n",
       "      <td>NaN</td>\n",
       "      <td>NaN</td>\n",
       "      <td>Note that this query should return numerous re...</td>\n",
       "    </tr>\n",
       "    <tr>\n",
       "      <th>10</th>\n",
       "      <td>B.3b_DILI-fourth-one-hop-from-MESH:D000077185_...</td>\n",
       "      <td>NaN</td>\n",
       "      <td>NaN</td>\n",
       "      <td>NaN</td>\n",
       "      <td>NaN</td>\n",
       "      <td>NaN</td>\n",
       "      <td>Note that this query should return results fro...</td>\n",
       "    </tr>\n",
       "    <tr>\n",
       "      <th>11</th>\n",
       "      <td>B.3e_DILI-fourth-one-hop-from-\\nPUBCHEM.COMPOU...</td>\n",
       "      <td>NaN</td>\n",
       "      <td>NaN</td>\n",
       "      <td>NaN</td>\n",
       "      <td>NaN</td>\n",
       "      <td>NaN</td>\n",
       "      <td>Note that this query should return an unmanage...</td>\n",
       "    </tr>\n",
       "    <tr>\n",
       "      <th>12</th>\n",
       "      <td>B.3f_DILI-fourth-one-hop-from-PUBCHEM.COMPOUND...</td>\n",
       "      <td>NaN</td>\n",
       "      <td>NaN</td>\n",
       "      <td>NaN</td>\n",
       "      <td>NaN</td>\n",
       "      <td>NaN</td>\n",
       "      <td>Note that this query should return an unmanage...</td>\n",
       "    </tr>\n",
       "    <tr>\n",
       "      <th>13</th>\n",
       "      <td>B.4a_DILI-fourth-one-hop-from-CHEBI:41879_Dexa...</td>\n",
       "      <td>NaN</td>\n",
       "      <td>NaN</td>\n",
       "      <td>NaN</td>\n",
       "      <td>NaN</td>\n",
       "      <td>NaN</td>\n",
       "      <td>Note that this query should return an unmanage...</td>\n",
       "    </tr>\n",
       "    <tr>\n",
       "      <th>14</th>\n",
       "      <td>B.4b_DILI-fourth-one-hop-from-MESH:D000077185_...</td>\n",
       "      <td>NaN</td>\n",
       "      <td>NaN</td>\n",
       "      <td>NaN</td>\n",
       "      <td>NaN</td>\n",
       "      <td>NaN</td>\n",
       "      <td>Note that this query should return an unmanage...</td>\n",
       "    </tr>\n",
       "    <tr>\n",
       "      <th>15</th>\n",
       "      <td>B.4c_DILI-fourth-one-hop-from-MESH:D000077385_...</td>\n",
       "      <td>NaN</td>\n",
       "      <td>NaN</td>\n",
       "      <td>NaN</td>\n",
       "      <td>NaN</td>\n",
       "      <td>NaN</td>\n",
       "      <td>Note that this query should return an unmanage...</td>\n",
       "    </tr>\n",
       "    <tr>\n",
       "      <th>16</th>\n",
       "      <td>B.4d_DILI-fourth-one-hop-from-MESH:D003474_Cur...</td>\n",
       "      <td>NaN</td>\n",
       "      <td>NaN</td>\n",
       "      <td>NaN</td>\n",
       "      <td>NaN</td>\n",
       "      <td>NaN</td>\n",
       "      <td>Note that this query should return an unmanage...</td>\n",
       "    </tr>\n",
       "    <tr>\n",
       "      <th>17</th>\n",
       "      <td>B.4e_DILI-fourth-one-hop-from-\\nPUBCHEM.COMPOU...</td>\n",
       "      <td>NaN</td>\n",
       "      <td>NaN</td>\n",
       "      <td>NaN</td>\n",
       "      <td>NaN</td>\n",
       "      <td>NaN</td>\n",
       "      <td>Note that this query should return an unmanage...</td>\n",
       "    </tr>\n",
       "    <tr>\n",
       "      <th>18</th>\n",
       "      <td>B.4f_DILI-fourth-one-hop-from-PUBCHEM.COMPOUND...</td>\n",
       "      <td>NaN</td>\n",
       "      <td>NaN</td>\n",
       "      <td>NaN</td>\n",
       "      <td>NaN</td>\n",
       "      <td>NaN</td>\n",
       "      <td>Note that this query should return an unmanage...</td>\n",
       "    </tr>\n",
       "    <tr>\n",
       "      <th>19</th>\n",
       "      <td>D.1_parkinsons-crohns.json</td>\n",
       "      <td>NCBIGene:120892</td>\n",
       "      <td>NaN</td>\n",
       "      <td>n01</td>\n",
       "      <td>include</td>\n",
       "      <td>NaN</td>\n",
       "      <td>LRRK2</td>\n",
       "    </tr>\n",
       "    <tr>\n",
       "      <th>20</th>\n",
       "      <td>D.1_parkinsons-crohns.json</td>\n",
       "      <td>NCBIGene:11315</td>\n",
       "      <td>NaN</td>\n",
       "      <td>n01</td>\n",
       "      <td>include</td>\n",
       "      <td>NaN</td>\n",
       "      <td>PARK7</td>\n",
       "    </tr>\n",
       "    <tr>\n",
       "      <th>21</th>\n",
       "      <td>D.1_parkinsons-crohns.json</td>\n",
       "      <td>NCBIGene:110357</td>\n",
       "      <td>NaN</td>\n",
       "      <td>n01</td>\n",
       "      <td>include</td>\n",
       "      <td>NaN</td>\n",
       "      <td>MOD2</td>\n",
       "    </tr>\n",
       "    <tr>\n",
       "      <th>22</th>\n",
       "      <td>D.2_ssri-heart-disease.json</td>\n",
       "      <td>NCBIGene:3988</td>\n",
       "      <td>NaN</td>\n",
       "      <td>n01</td>\n",
       "      <td>include</td>\n",
       "      <td>NaN</td>\n",
       "      <td>LIPA</td>\n",
       "    </tr>\n",
       "    <tr>\n",
       "      <th>23</th>\n",
       "      <td>D.2_ssri-heart-disease.json</td>\n",
       "      <td>NCBIGene:5627</td>\n",
       "      <td>NaN</td>\n",
       "      <td>n01</td>\n",
       "      <td>include</td>\n",
       "      <td>NaN</td>\n",
       "      <td>PROS1</td>\n",
       "    </tr>\n",
       "    <tr>\n",
       "      <th>24</th>\n",
       "      <td>D.2_ssri-heart-disease.json</td>\n",
       "      <td>NCBIGene:7043</td>\n",
       "      <td>NaN</td>\n",
       "      <td>n01</td>\n",
       "      <td>include</td>\n",
       "      <td>NaN</td>\n",
       "      <td>TGFB3</td>\n",
       "    </tr>\n",
       "    <tr>\n",
       "      <th>25</th>\n",
       "      <td>D.3_ssri-heart-disease-one-hop.json</td>\n",
       "      <td>NaN</td>\n",
       "      <td>NaN</td>\n",
       "      <td>e00</td>\n",
       "      <td>include</td>\n",
       "      <td>NaN</td>\n",
       "      <td>any clinical edge</td>\n",
       "    </tr>\n",
       "    <tr>\n",
       "      <th>26</th>\n",
       "      <td>D.4_tryptophan-kyurenine.json</td>\n",
       "      <td>REACT:R-HSA-888614</td>\n",
       "      <td>NaN</td>\n",
       "      <td>n02</td>\n",
       "      <td>include</td>\n",
       "      <td>NaN</td>\n",
       "      <td>IDO</td>\n",
       "    </tr>\n",
       "    <tr>\n",
       "      <th>27</th>\n",
       "      <td>D.4_tryptophan-kyurenine.json</td>\n",
       "      <td>KEGG:1.13.11.52</td>\n",
       "      <td>NaN</td>\n",
       "      <td>n02</td>\n",
       "      <td>include</td>\n",
       "      <td>NaN</td>\n",
       "      <td>IDO</td>\n",
       "    </tr>\n",
       "    <tr>\n",
       "      <th>28</th>\n",
       "      <td>D.4_tryptophan-kyurenine.json</td>\n",
       "      <td>REACT:R-HSA-888614</td>\n",
       "      <td>NaN</td>\n",
       "      <td>n03</td>\n",
       "      <td>include</td>\n",
       "      <td>NaN</td>\n",
       "      <td>IDO</td>\n",
       "    </tr>\n",
       "    <tr>\n",
       "      <th>29</th>\n",
       "      <td>D.4_tryptophan-kyurenine.json</td>\n",
       "      <td>KEGG:1.13.11.52</td>\n",
       "      <td>NaN</td>\n",
       "      <td>n03</td>\n",
       "      <td>include</td>\n",
       "      <td>NaN</td>\n",
       "      <td>IDO</td>\n",
       "    </tr>\n",
       "    <tr>\n",
       "      <th>30</th>\n",
       "      <td>D.6_metformin-ferritin.json</td>\n",
       "      <td>UniProtKB:P54646</td>\n",
       "      <td>NaN</td>\n",
       "      <td>n01</td>\n",
       "      <td>include</td>\n",
       "      <td>NaN</td>\n",
       "      <td>AAPK protein</td>\n",
       "    </tr>\n",
       "    <tr>\n",
       "      <th>31</th>\n",
       "      <td>D.6_metformin-ferritin.json</td>\n",
       "      <td>NCBIGene:5563</td>\n",
       "      <td>NaN</td>\n",
       "      <td>n01</td>\n",
       "      <td>include</td>\n",
       "      <td>NaN</td>\n",
       "      <td>AMPK gene</td>\n",
       "    </tr>\n",
       "    <tr>\n",
       "      <th>32</th>\n",
       "      <td>D.6_metformin-ferritin.json</td>\n",
       "      <td>UniProtKB:P42345</td>\n",
       "      <td>NaN</td>\n",
       "      <td>n02</td>\n",
       "      <td>include</td>\n",
       "      <td>NaN</td>\n",
       "      <td>MTOR protein</td>\n",
       "    </tr>\n",
       "  </tbody>\n",
       "</table>\n",
       "</div>"
      ],
      "text/plain": [
       "                                             Workflow  \\\n",
       "0                             A.0_RHOBTB2_direct.json   \n",
       "1    B.1a_DILI-three-hop-from-MONDO:0005359_DILI.json   \n",
       "2   B.1b_DILI_three-hop-from-SNOMEDCT:197358007_To...   \n",
       "3   B.1b_DILI_three-hop-from-SNOMEDCT:197358007_To...   \n",
       "4   B.1b_DILI_three-hop-from-SNOMEDCT:197358007_To...   \n",
       "5   B.1c_DILI_three-hop-from-MESH:D056487_ChronicD...   \n",
       "6   B.1c_DILI_three-hop-from-MESH:D056487_ChronicD...   \n",
       "7   B.1c_DILI_three-hop-from-MESH:D056487_ChronicD...   \n",
       "8   B.1d_DILI_three-hop-from-SNOMEDCT:197354009_To...   \n",
       "9   B.3a_DILI-fourth-one-hop-from-CHEBI:41879_Dexa...   \n",
       "10  B.3b_DILI-fourth-one-hop-from-MESH:D000077185_...   \n",
       "11  B.3e_DILI-fourth-one-hop-from-\\nPUBCHEM.COMPOU...   \n",
       "12  B.3f_DILI-fourth-one-hop-from-PUBCHEM.COMPOUND...   \n",
       "13  B.4a_DILI-fourth-one-hop-from-CHEBI:41879_Dexa...   \n",
       "14  B.4b_DILI-fourth-one-hop-from-MESH:D000077185_...   \n",
       "15  B.4c_DILI-fourth-one-hop-from-MESH:D000077385_...   \n",
       "16  B.4d_DILI-fourth-one-hop-from-MESH:D003474_Cur...   \n",
       "17  B.4e_DILI-fourth-one-hop-from-\\nPUBCHEM.COMPOU...   \n",
       "18  B.4f_DILI-fourth-one-hop-from-PUBCHEM.COMPOUND...   \n",
       "19                         D.1_parkinsons-crohns.json   \n",
       "20                         D.1_parkinsons-crohns.json   \n",
       "21                         D.1_parkinsons-crohns.json   \n",
       "22                        D.2_ssri-heart-disease.json   \n",
       "23                        D.2_ssri-heart-disease.json   \n",
       "24                        D.2_ssri-heart-disease.json   \n",
       "25                D.3_ssri-heart-disease-one-hop.json   \n",
       "26                      D.4_tryptophan-kyurenine.json   \n",
       "27                      D.4_tryptophan-kyurenine.json   \n",
       "28                      D.4_tryptophan-kyurenine.json   \n",
       "29                      D.4_tryptophan-kyurenine.json   \n",
       "30                        D.6_metformin-ferritin.json   \n",
       "31                        D.6_metformin-ferritin.json   \n",
       "32                        D.6_metformin-ferritin.json   \n",
       "\n",
       "                           Curie   N (size of list of results) Query node ID  \\\n",
       "0        PUBCHEM.COMPOUND:2950270                         10.0            n1   \n",
       "1                   RXNORM:155067                        500.0            n3   \n",
       "2                   RXNORM:155067                        500.0            n3   \n",
       "3   CHEMBL.COMPOUND:CHEMBL1698267                        500.0            n3   \n",
       "4                    RXNORM:40068                        500.0            n3   \n",
       "5                   RXNORM:155067                        500.0            n3   \n",
       "6       CHEMBL.COMPOUND:CHEMBL165                        500.0            n3   \n",
       "7    CHEMBL.COMPOUND:CHEMBL116438                        500.0            n3   \n",
       "8   CHEMBL.COMPOUND:CHEMBL1698267                        500.0            n3   \n",
       "9                             NaN                          NaN           NaN   \n",
       "10                            NaN                          NaN           NaN   \n",
       "11                            NaN                          NaN           NaN   \n",
       "12                            NaN                          NaN           NaN   \n",
       "13                            NaN                          NaN           NaN   \n",
       "14                            NaN                          NaN           NaN   \n",
       "15                            NaN                          NaN           NaN   \n",
       "16                            NaN                          NaN           NaN   \n",
       "17                            NaN                          NaN           NaN   \n",
       "18                            NaN                          NaN           NaN   \n",
       "19                NCBIGene:120892                          NaN           n01   \n",
       "20                 NCBIGene:11315                          NaN           n01   \n",
       "21                NCBIGene:110357                          NaN           n01   \n",
       "22                  NCBIGene:3988                          NaN           n01   \n",
       "23                  NCBIGene:5627                          NaN           n01   \n",
       "24                  NCBIGene:7043                          NaN           n01   \n",
       "25                            NaN                          NaN           e00   \n",
       "26             REACT:R-HSA-888614                          NaN           n02   \n",
       "27                KEGG:1.13.11.52                          NaN           n02   \n",
       "28             REACT:R-HSA-888614                          NaN           n03   \n",
       "29                KEGG:1.13.11.52                          NaN           n03   \n",
       "30               UniProtKB:P54646                          NaN           n01   \n",
       "31                  NCBIGene:5563                          NaN           n01   \n",
       "32               UniProtKB:P42345                          NaN           n02   \n",
       "\n",
       "   Include/Exclude  Unnamed: 5  \\\n",
       "0          Include         NaN   \n",
       "1          Include         NaN   \n",
       "2          Include         NaN   \n",
       "3          Include         NaN   \n",
       "4          Include         NaN   \n",
       "5          Include         NaN   \n",
       "6          Include         NaN   \n",
       "7          Include         NaN   \n",
       "8          Include         NaN   \n",
       "9              NaN         NaN   \n",
       "10             NaN         NaN   \n",
       "11             NaN         NaN   \n",
       "12             NaN         NaN   \n",
       "13             NaN         NaN   \n",
       "14             NaN         NaN   \n",
       "15             NaN         NaN   \n",
       "16             NaN         NaN   \n",
       "17             NaN         NaN   \n",
       "18             NaN         NaN   \n",
       "19         include         NaN   \n",
       "20         include         NaN   \n",
       "21         include         NaN   \n",
       "22         include         NaN   \n",
       "23         include         NaN   \n",
       "24         include         NaN   \n",
       "25         include         NaN   \n",
       "26         include         NaN   \n",
       "27         include         NaN   \n",
       "28         include         NaN   \n",
       "29         include         NaN   \n",
       "30         include         NaN   \n",
       "31         include         NaN   \n",
       "32         include         NaN   \n",
       "\n",
       "                                           Unnamed: 6  \n",
       "0   Note: this example row means that for workflow...  \n",
       "1       Equivalent identifiers are equally acceptable  \n",
       "2       Equivalent identifiers are equally acceptable  \n",
       "3   Equivalent identifiers are equally acceptable;...  \n",
       "4       Equivalent identifiers are equally acceptable  \n",
       "5       Equivalent identifiers are equally acceptable  \n",
       "6       Equivalent identifiers are equally acceptable  \n",
       "7       Equivalent identifiers are equally acceptable  \n",
       "8   Equivalent identifiers are equally acceptable;...  \n",
       "9   Note that this query should return numerous re...  \n",
       "10  Note that this query should return results fro...  \n",
       "11  Note that this query should return an unmanage...  \n",
       "12  Note that this query should return an unmanage...  \n",
       "13  Note that this query should return an unmanage...  \n",
       "14  Note that this query should return an unmanage...  \n",
       "15  Note that this query should return an unmanage...  \n",
       "16  Note that this query should return an unmanage...  \n",
       "17  Note that this query should return an unmanage...  \n",
       "18  Note that this query should return an unmanage...  \n",
       "19                                              LRRK2  \n",
       "20                                              PARK7  \n",
       "21                                               MOD2  \n",
       "22                                               LIPA  \n",
       "23                                              PROS1  \n",
       "24                                              TGFB3  \n",
       "25                                  any clinical edge  \n",
       "26                                                IDO  \n",
       "27                                                IDO  \n",
       "28                                                IDO  \n",
       "29                                                IDO  \n",
       "30                                       AAPK protein  \n",
       "31                                          AMPK gene  \n",
       "32                                       MTOR protein  "
      ]
     },
     "execution_count": 176,
     "metadata": {},
     "output_type": "execute_result"
    }
   ],
   "source": [
    "check_sheet"
   ]
  },
  {
   "cell_type": "code",
   "execution_count": 183,
   "metadata": {},
   "outputs": [
    {
     "data": {
      "text/plain": [
       "'n1'"
      ]
     },
     "execution_count": 183,
     "metadata": {},
     "output_type": "execute_result"
    }
   ],
   "source": [
    "check_sheet.iloc[0][3]"
   ]
  },
  {
   "cell_type": "code",
   "execution_count": 242,
   "metadata": {
    "scrolled": true
   },
   "outputs": [
    {
     "name": "stdout",
     "output_type": "stream",
     "text": [
      "kp-icees\n",
      "kp-textmining\n",
      "kp-genetics\n",
      "kp-molecular\n",
      "ara-improving\n",
      "id not find\n",
      "id not find\n",
      "id not find\n",
      "id not find\n",
      "kp-chp\n",
      "kp-cam\n",
      "ara-aragorn\n",
      "id not find\n",
      "id not find\n",
      "id not find\n",
      "id not find\n",
      "id not find\n",
      "id not find\n",
      "id not find\n",
      "id not find\n",
      "id not find\n",
      "id not find\n",
      "id not find\n",
      "id not find\n",
      "id not find\n",
      "id not find\n",
      "id not find\n",
      "id not find\n",
      "id not find\n",
      "id not find\n",
      "id not find\n",
      "id not find\n",
      "id not find\n",
      "id not find\n",
      "id not find\n",
      "id not find\n",
      "id not find\n",
      "id not find\n",
      "id not find\n",
      "id not find\n",
      "id not find\n",
      "id not find\n",
      "id not find\n",
      "ara-unsecret\n",
      "ara-bte\n",
      "id not find\n",
      "id not find\n",
      "id not find\n",
      "id not find\n",
      "id not find\n",
      "id not find\n",
      "id not find\n",
      "id not find\n",
      "ara-ncats\n",
      "ara-arax\n",
      "id not find\n",
      "id not find\n",
      "id not find\n",
      "ara-aragorn-exp\n",
      "kp-cohd\n",
      "ara-explanatory\n",
      "kp-icees-dili\n",
      "kp-openpredict\n",
      "ara-robokop\n"
     ]
    }
   ],
   "source": [
    "dictionary_test = {}\n",
    "for child in j['children']:\n",
    "    print(child['actor']['agent'])\n",
    "    dictionary_test\n",
    "    if child['status']  == 'Done':\n",
    "        #print(child['actor']['agent'])\n",
    "        childmessage_id = child['message']\n",
    "        child_url = f'{ars_url}/messages/{childmessage_id}'\n",
    "        child_response = requests.get(child_url).json()\n",
    "        #print(child_response['fields']['data']['message']['knowledge_graph']['edges'])\n",
    "        if child_response['fields']['data']['message']['knowledge_graph']['edges'].keys():\n",
    "            edge_ex = child_response['fields']['data']['message']['knowledge_graph']['edges']\n",
    "            test_att_values =[]\n",
    "            \n",
    "            node_num = check_sheet.iloc[0][3]\n",
    "            query_id = check_sheet.iloc[0][1]\n",
    "             \n",
    "            nodes = child_response['fields']['data']['message']['query_graph']['nodes']\n",
    "            for val in child_response['fields']['data']['message']['results']:\n",
    "                \n",
    "                \n",
    "                if query_id in val['node_bindings'][node_num][0]['id']:\n",
    "                    print('id',': PASS')\n",
    "                else:\n",
    "                    print('id not find')\n",
    "                \n",
    "#                 att = list(edge_ex[val]['attributes'])\n",
    "#                 #print(att)\n",
    "#                 for tx in att:\n",
    "#                     #print(tx)\n",
    "#                     if (tx['attribute_type_id'] == 'biolink:primary_knowledge_source') or (tx['attribute_type_id'] == 'biolink:original_knowledge_source') or (tx['attribute_type_id'] == 'biolink:aggregator_knowledge_source'):\n",
    "#                         #print(tx['value'])\n",
    "#                         x = tx['value']\n",
    "                        \n",
    "#                         test_att_values.append(x)\n",
    "#                         test_att = set(flatten_list(test_att_values))\n",
    "                        \n",
    "#                         print(test_att_values)\n",
    "#                         dictionary_test[child['actor']['agent']] = test_att\n",
    "#         else:\n",
    "#             pass\n",
    "    "
   ]
  },
  {
   "cell_type": "code",
   "execution_count": 234,
   "metadata": {},
   "outputs": [
    {
     "data": {
      "text/plain": [
       "'n1'"
      ]
     },
     "execution_count": 234,
     "metadata": {},
     "output_type": "execute_result"
    }
   ],
   "source": [
    "node_num"
   ]
  },
  {
   "cell_type": "code",
   "execution_count": 149,
   "metadata": {
    "scrolled": true
   },
   "outputs": [
    {
     "data": {
      "text/plain": [
       "{'ara-aragorn': {'CTD',\n",
       "  'DisGeNET',\n",
       "  'JensenLab Knowledge GHR',\n",
       "  'JensenLab Knowledge UniProtKB-KW',\n",
       "  'JensenLab Text Mining',\n",
       "  'Monarch',\n",
       "  'eRAM',\n",
       "  'infores:aragorn',\n",
       "  'infores:aragorn-ranker-ara',\n",
       "  'infores:automat-robokop',\n",
       "  'infores:automat.cord19',\n",
       "  'infores:automat.covidkop',\n",
       "  'infores:automat.hetio',\n",
       "  'infores:automat.mychem-info',\n",
       "  'infores:automat.ontology-hierarchy',\n",
       "  'infores:automat.pharos',\n",
       "  'infores:automat.robokop',\n",
       "  'infores:automat.uberongraph',\n",
       "  'infores:automat:biolink',\n",
       "  'infores:chembl',\n",
       "  'infores:clinvar',\n",
       "  'infores:cord19-scibite',\n",
       "  'infores:diseases',\n",
       "  'infores:disgenet',\n",
       "  'infores:gencc',\n",
       "  'infores:genetics-data-provider',\n",
       "  'infores:gwas-catalog',\n",
       "  'infores:hetio',\n",
       "  'infores:mesh',\n",
       "  'infores:mondo',\n",
       "  'infores:ontological-hierarchy',\n",
       "  'infores:pharos',\n",
       "  'infores:rtx-kg2',\n",
       "  'infores:semmeddb',\n",
       "  'infores:spoke',\n",
       "  'infores:sri-reference-kg',\n",
       "  'infores:ubergraph'},\n",
       " 'ara-arax': {'infores:arax',\n",
       "  'infores:chembl',\n",
       "  'infores:disgenet',\n",
       "  'infores:mondo',\n",
       "  'infores:rtx-kg2',\n",
       "  'infores:semmeddb'},\n",
       " 'ara-improving': {'infores:chembl',\n",
       "  'infores:diseases',\n",
       "  'infores:gwas-catalog',\n",
       "  'infores:improving-agent',\n",
       "  'infores:mesh',\n",
       "  'infores:spoke'}}"
      ]
     },
     "execution_count": 149,
     "metadata": {},
     "output_type": "execute_result"
    }
   ],
   "source": [
    "dictionary_test"
   ]
  },
  {
   "cell_type": "code",
   "execution_count": null,
   "metadata": {
    "scrolled": true
   },
   "outputs": [],
   "source": [
    "dictionary={}\n",
    "results = {}\n",
    "dictionary_2 = {}\n",
    "for child in j['children']:\n",
    "        print(child['status'])\n",
    "        if child['status']  == 'Done':\n",
    "            childmessage_id = child['message']\n",
    "            child_url = f'{ars_url}/messages/{childmessage_id}'\n",
    "            try:\n",
    "                child_response = requests.get(child_url).json()\n",
    "                nresults = len(child_response['fields']['data']['message']['results'])\n",
    "                if nresults > 0:\n",
    "                    results[child['actor']['agent']] = {'message':child_response['fields']['data']['message']}\n",
    "                    \n",
    "                if child_response['fields']['data']['message']['knowledge_graph']['edges']:\n",
    "                    if child_response['fields']['data']['message']['knowledge_graph']['edges'].keys():\n",
    "                            edge_ex = child_response['fields']['data']['message']['knowledge_graph']['edges']\n",
    "                            for val in child_response['fields']['data']['message']['knowledge_graph']['edges'].keys():\n",
    "                                print(val)\n",
    "                                test_att_values =[]\n",
    "                                for tx in edge_ex[val]['attributes']:\n",
    "                                    if (tx['attribute_type_id'] == 'biolink:primary_knowledge_source') or (tx['attribute_type_id'] == 'biolink:original_knowledge_source') or (tx['attribute_type_id'] == 'biolink:aggregator_knowledge_source'):\n",
    "                                        test_att_values.append(tx['value'])\n",
    "                                        dictionary_2[child['actor']['agent']] = test_att_values\n",
    "                    else:\n",
    "                        pass \n",
    "                else:\n",
    "                    dictionary_2[child['actor']['agent']] = []\n",
    "            \n",
    "            except Exception as e:\n",
    "                nresults=0\n",
    "                child['status'] = 'ARS Error'\n",
    "                dictionary_2[child['actor']['agent']] = []\n",
    "                \n",
    "            \n",
    "        \n",
    "        elif child['status'] == 'Error':\n",
    "            nresults=0\n",
    "            childmessage_id = child['message']\n",
    "            child_url = f'{ars_url}/messages/{childmessage_id}'\n",
    "            try:\n",
    "                child_response = requests.get(child_url).json()\n",
    "                results[child['actor']['agent']] = {'message':child_response['fields']['data']['message']}\n",
    "                dictionary_2[child['actor']['agent']] = []\n",
    "            except Exception as e:\n",
    "                #print(e)\n",
    "                child['status'] = 'ARS Error'\n",
    "                dictionary_2[child['actor']['agent']] = []\n",
    "        \n",
    "        \n",
    "        else:\n",
    "            nresults = 0\n",
    "            dictionary_2[child['actor']['agent']] = []\n",
    "            \n",
    "        dictionary['pk_id'] =  pk  \n",
    "            \n",
    "        if ((child['status'] == 'Done') & (nresults == 0)):\n",
    "            dictionary[child['actor']['agent']] = 'No Results'\n",
    "            #test =  [child['actor']['agent'], 'No Results']\n",
    "        elif ((child['status'] == 'ARS Error') & (nresults == 0)):\n",
    "            dictionary[child['actor']['agent']] = 'ARS Error'\n",
    "        elif ((child['status'] == 'Error') & (nresults == 0)):\n",
    "            dictionary[child['actor']['agent']] = 'Error'\n",
    "            #test =  [child['actor']['agent'], 'ARS Error']\n",
    "        elif ((child['status'] == 'Done') & (nresults != 0)):\n",
    "            #test =  [child['actor']['agent'], 'Results']\n",
    "            dictionary[child['actor']['agent']] = 'Results' \n",
    "        \n",
    "        \n",
    "        print(child['actor']['agent'], child['status'], nresults)\n",
    "        #test =  [child['actor']['agent'], child['status'], nresults]\n",
    "        #test2.append(test)"
   ]
  },
  {
   "cell_type": "code",
   "execution_count": null,
   "metadata": {
    "scrolled": true
   },
   "outputs": [],
   "source": [
    "dictionary_2"
   ]
  },
  {
   "cell_type": "code",
   "execution_count": null,
   "metadata": {
    "scrolled": true
   },
   "outputs": [],
   "source": [
    "for child in j['children']:\n",
    "    #print(child['status'])\n",
    "    if child['status']  == 'Done':\n",
    "        childmessage_id = child['message']\n",
    "        child_url = f'{ars_url}/messages/{childmessage_id}'\n",
    "        child_response = requests.get(child_url).json()\n",
    "        if child_response['fields']['data']['message']['knowledge_graph']['edges']:\n",
    "            print('correct')\n",
    "        else:\n",
    "            print('incorrect')"
   ]
  },
  {
   "cell_type": "code",
   "execution_count": null,
   "metadata": {
    "scrolled": true
   },
   "outputs": [],
   "source": [
    "child_response['fields']['data']['message']['knowledge_graph']"
   ]
  },
  {
   "cell_type": "code",
   "execution_count": null,
   "metadata": {
    "scrolled": true
   },
   "outputs": [],
   "source": [
    "mm = child_response['pk']\n",
    "mm"
   ]
  },
  {
   "cell_type": "code",
   "execution_count": null,
   "metadata": {
    "scrolled": true
   },
   "outputs": [],
   "source": [
    "xt = f'{ars_url}/messages/{childmessage_id}/{mm}'\n",
    "xt"
   ]
  },
  {
   "cell_type": "code",
   "execution_count": null,
   "metadata": {
    "scrolled": true
   },
   "outputs": [],
   "source": [
    "f'{ars_url}/model/{mm}'"
   ]
  },
  {
   "cell_type": "code",
   "execution_count": null,
   "metadata": {
    "scrolled": true
   },
   "outputs": [],
   "source": [
    "requests.get(xt).json"
   ]
  },
  {
   "cell_type": "code",
   "execution_count": null,
   "metadata": {
    "scrolled": true
   },
   "outputs": [],
   "source": [
    "childmessage_id = child['message']\n",
    "child_url = f'{ars_url}/messages/{childmessage_id}'\n",
    "\n",
    " child_response = requests.get(child_url).json()"
   ]
  },
  {
   "cell_type": "code",
   "execution_count": null,
   "metadata": {
    "scrolled": true
   },
   "outputs": [],
   "source": [
    "result_status = retrieve_ars_results(kcresult)"
   ]
  },
  {
   "cell_type": "code",
   "execution_count": null,
   "metadata": {
    "scrolled": true
   },
   "outputs": [],
   "source": [
    "kcresult"
   ]
  },
  {
   "cell_type": "code",
   "execution_count": null,
   "metadata": {
    "scrolled": true
   },
   "outputs": [],
   "source": [
    "result_status "
   ]
  },
  {
   "cell_type": "code",
   "execution_count": null,
   "metadata": {
    "scrolled": true
   },
   "outputs": [],
   "source": [
    "pwd"
   ]
  },
  {
   "cell_type": "code",
   "execution_count": null,
   "metadata": {
    "scrolled": true
   },
   "outputs": [],
   "source": [
    "df"
   ]
  },
  {
   "cell_type": "code",
   "execution_count": null,
   "metadata": {
    "scrolled": true
   },
   "outputs": [],
   "source": [
    "def make_hyperlink(value):\n",
    "    #url = \"https://custom.url/{}\"\n",
    "    return '=HYPERLINK(\"%s\", \"%s\")' % (value.format(value), value)"
   ]
  },
  {
   "cell_type": "code",
   "execution_count": null,
   "metadata": {
    "scrolled": true
   },
   "outputs": [],
   "source": [
    "make_hyperlink('https://arax.ncats.io/?source=ARS&id=325cfd91-ee6c-48eb-8a09-7226bbafb482')"
   ]
  },
  {
   "cell_type": "code",
   "execution_count": null,
   "metadata": {
    "scrolled": true
   },
   "outputs": [],
   "source": [
    "df.loc['pk_id'] = df.loc['pk_id'].apply(lambda x: make_hyperlink(x))"
   ]
  },
  {
   "cell_type": "code",
   "execution_count": null,
   "metadata": {
    "scrolled": true
   },
   "outputs": [],
   "source": [
    "df"
   ]
  },
  {
   "cell_type": "code",
   "execution_count": null,
   "metadata": {
    "scrolled": true
   },
   "outputs": [],
   "source": [
    "df.to_excel('test_ara_worklow.xlsx')"
   ]
  },
  {
   "cell_type": "code",
   "execution_count": null,
   "metadata": {
    "scrolled": true
   },
   "outputs": [],
   "source": [
    "df"
   ]
  },
  {
   "cell_type": "code",
   "execution_count": null,
   "metadata": {
    "scrolled": true
   },
   "outputs": [],
   "source": []
  }
 ],
 "metadata": {
  "kernelspec": {
   "display_name": "Python 3",
   "language": "python",
   "name": "python3"
  },
  "language_info": {
   "codemirror_mode": {
    "name": "ipython",
    "version": 3
   },
   "file_extension": ".py",
   "mimetype": "text/x-python",
   "name": "python",
   "nbconvert_exporter": "python",
   "pygments_lexer": "ipython3",
   "version": "3.9.5"
  }
 },
 "nbformat": 4,
 "nbformat_minor": 2
}
