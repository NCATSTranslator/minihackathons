{
 "cells": [
  {
   "cell_type": "markdown",
   "metadata": {},
   "source": [
    "## This notebook was only created to test the ReadAndRunAllWorkFlows.py\n",
    "\n",
    "\n",
    "<br>\n",
    "<br>"
   ]
  },
  {
   "cell_type": "code",
   "execution_count": 1,
   "metadata": {},
   "outputs": [],
   "source": [
    "#pull the ara results and look through KF+G edge graphs and pull the povenance attribute and make a table that will look like\n",
    "#rows will be kp\n",
    "#col be workflows\n",
    "#entry would be the ara's that had edges in kp in the workflow. "
   ]
  },
  {
   "cell_type": "code",
   "execution_count": 2,
   "metadata": {},
   "outputs": [],
   "source": [
    "import requests\n",
    "import json\n",
    "from collections import defaultdict\n",
    "import os\n",
    "import pandas as pd\n",
    "\n",
    "\n",
    "#https://ars.ci.transltr.io/ars/api --- \n",
    "#https://arax.ci.transltr.io -- backup url"
   ]
  },
  {
   "cell_type": "code",
   "execution_count": 264,
   "metadata": {},
   "outputs": [],
   "source": [
    "def submit_to_ars(m,ars_url='https://ars.transltr.io/ars/api',arax_url='https://arax.ncats.io'):\n",
    "    submit_url=f'{ars_url}/submit'\n",
    "    response = requests.post(submit_url,json=m)\n",
    "    try:\n",
    "        message_id = response.json()['pk']\n",
    "    except:\n",
    "        print('fail')\n",
    "        message_id = None\n",
    "    print(f'{arax_url}/?source=ARS&id={message_id}')\n",
    "    return message_id"
   ]
  },
  {
   "cell_type": "code",
   "execution_count": 317,
   "metadata": {},
   "outputs": [],
   "source": [
    "def retrieve_ars_results(mid,ars_url='https://ars.transltr.io/ars/api'):\n",
    "    pk = 'https://arax.ncats.io/?source=ARS&id=' + mid\n",
    "    message_url = f'{ars_url}/messages/{mid}?trace=y'\n",
    "    response = requests.get(message_url)\n",
    "    j = response.json()\n",
    "    print( j['status'] )\n",
    "    results = {}\n",
    "    dictionary = {}\n",
    "    dictionary_2 = {}\n",
    "    for child in j['children']:\n",
    "        print(child['status'])\n",
    "        if child['status']  == 'Done':\n",
    "            childmessage_id = child['message']\n",
    "            child_url = f'{ars_url}/messages/{childmessage_id}'\n",
    "            try:\n",
    "                child_response = requests.get(child_url).json()\n",
    "                nresults = len(child_response['fields']['data']['message']['results'])\n",
    "                if nresults > 0:\n",
    "                    results[child['actor']['agent']] = {'message':child_response['fields']['data']['message']}\n",
    "            except Exception as e:\n",
    "                nresults=0\n",
    "                child['status'] = 'ARS Error'\n",
    "        elif child['status'] == 'Error':\n",
    "            nresults=0\n",
    "            childmessage_id = child['message']\n",
    "            child_url = f'{ars_url}/messages/{childmessage_id}'\n",
    "            try:\n",
    "                child_response = requests.get(child_url).json()\n",
    "                results[child['actor']['agent']] = {'message':child_response['fields']['data']['message']}\n",
    "            except Exception as e:\n",
    "                #print(e)\n",
    "                child['status'] = 'ARS Error'\n",
    "        else:\n",
    "            nresults = 0\n",
    "            \n",
    "        dictionary['pk_id'] =  pk  \n",
    "            \n",
    "        if ((child['status'] == 'Done') & (nresults == 0)):\n",
    "            dictionary[child['actor']['agent']] = 'No Results'\n",
    "            #test =  [child['actor']['agent'], 'No Results']\n",
    "        elif ((child['status'] == 'ARS Error') & (nresults == 0)):\n",
    "            dictionary[child['actor']['agent']] = 'ARS Error'\n",
    "        elif ((child['status'] == 'Error') & (nresults == 0)):\n",
    "            dictionary[child['actor']['agent']] = 'Error'\n",
    "            #test =  [child['actor']['agent'], 'ARS Error']\n",
    "        elif ((child['status'] == 'Done') & (nresults != 0)):\n",
    "            #test =  [child['actor']['agent'], 'Results']\n",
    "            dictionary[child['actor']['agent']] = 'Results' \n",
    "        \n",
    "        \n",
    "        print(child['actor']['agent'], child['status'], nresults)\n",
    "        #test =  [child['actor']['agent'], child['status'], nresults]\n",
    "        #test2.append(test)\n",
    "    return dictionary\n",
    "\n",
    "\n",
    "#def submit_to_devars(m):\n",
    "#    return submit_to_ars(m,ars_url='https://ars-dev.transltr.io/ars/api',arax_url='https://arax.ncats.io')\n",
    "\n",
    "#def retrieve_devars_results(m):\n",
    "#     return retrieve_ars_results(m,ars_url='https://ars-dev.transltr.io/ars/api')\n",
    "\n",
    "def printjson(j):\n",
    "    print(json.dumps(j,indent=4))"
   ]
  },
  {
   "cell_type": "markdown",
   "metadata": {},
   "source": [
    "<br>\n",
    "\n",
    "### Submiting more than one jobs (test)\n",
    "\n",
    "<br>"
   ]
  },
  {
   "cell_type": "code",
   "execution_count": null,
   "metadata": {},
   "outputs": [],
   "source": [
    "urls = ['/Users/priyash/Documents/GitHub/minihackathons/2021-12_demo/workflowA/A.9_EGFR_advanced.json', '/Users/priyash/Documents/GitHub/minihackathons/2021-12_demo/workflowA/A.1_RHOBTB2.json']"
   ]
  },
  {
   "cell_type": "code",
   "execution_count": null,
   "metadata": {},
   "outputs": [],
   "source": [
    "dict_workflows = {}\n",
    "for i in urls:\n",
    "    feature = (os.path.splitext(os.path.basename(i))[0])\n",
    "    print(i, feature)\n",
    "    with open(i,'r') as inf:\n",
    "        query = json.load(inf)\n",
    "        kcresult = submit_to_ars(query)\n",
    "        #xx = retrieve_devars_results(kcresult)\n",
    "        \n",
    "        dict_workflows[feature] = kcresult"
   ]
  },
  {
   "cell_type": "code",
   "execution_count": null,
   "metadata": {},
   "outputs": [],
   "source": [
    "dict_workflows"
   ]
  },
  {
   "cell_type": "code",
   "execution_count": null,
   "metadata": {},
   "outputs": [],
   "source": [
    "workflow_result_messages = {}\n",
    "for keys, val in dict_workflows.items():\n",
    "    print(keys, val)\n",
    "    \n",
    "    result_status = retrieve_ars_results(val)\n",
    "    \n",
    "    workflow_result_messages[keys] = result_status"
   ]
  },
  {
   "cell_type": "code",
   "execution_count": null,
   "metadata": {},
   "outputs": [],
   "source": [
    "workflow_result_messages"
   ]
  },
  {
   "cell_type": "code",
   "execution_count": null,
   "metadata": {},
   "outputs": [],
   "source": [
    "col = []\n",
    "final_dict = defaultdict(list)\n",
    "for k in sorted(workflow_result_messages):\n",
    "    print(k)\n",
    "    col.append(k)\n",
    "    \n",
    "    for key, value in workflow_result_messages[k].items():\n",
    "        if key.startswith('kp-'):\n",
    "            key_mod = key.replace('kp-','')\n",
    "        else:\n",
    "            key_mod = key\n",
    "        \n",
    "        final_dict[key_mod].append(value)\n",
    "\n",
    "    final_dict = dict(final_dict)\n",
    "    \n",
    "df = pd.DataFrame(final_dict).T\n",
    "df.rename(columns=dict(zip(df.columns, col)), inplace=True)"
   ]
  },
  {
   "cell_type": "code",
   "execution_count": null,
   "metadata": {},
   "outputs": [],
   "source": [
    "df"
   ]
  },
  {
   "cell_type": "code",
   "execution_count": null,
   "metadata": {},
   "outputs": [],
   "source": [
    "df.loc['pk_id']"
   ]
  },
  {
   "cell_type": "code",
   "execution_count": null,
   "metadata": {},
   "outputs": [],
   "source": [
    "df.to_excel('test_ara_worklow.xlsx')"
   ]
  },
  {
   "cell_type": "code",
   "execution_count": null,
   "metadata": {},
   "outputs": [],
   "source": [
    "pwd"
   ]
  },
  {
   "cell_type": "markdown",
   "metadata": {},
   "source": [
    "<br>\n",
    "\n",
    "## Test for individual run\n",
    "\n",
    "<br>"
   ]
  },
  {
   "cell_type": "code",
   "execution_count": 265,
   "metadata": {},
   "outputs": [],
   "source": [
    "with open('/Users/priyash/Documents/GitHub/minihackathons/2021-12_demo/workflowD/D.6_metformin-ferritin.json') as inf:\n",
    "    query1 = json.load(inf)"
   ]
  },
  {
   "cell_type": "code",
   "execution_count": 266,
   "metadata": {},
   "outputs": [
    {
     "name": "stdout",
     "output_type": "stream",
     "text": [
      "{\n",
      "    \"message\": {\n",
      "        \"query_graph\": {\n",
      "            \"nodes\": {\n",
      "                \"n0\": {\n",
      "                    \"ids\": [\n",
      "                        \"CHEMBL.COMPOUND:CHEMBL1431\"\n",
      "                    ],\n",
      "                    \"categories\": [\n",
      "                        \"biolink:SmallMolecule\"\n",
      "                    ]\n",
      "                },\n",
      "                \"n1\": {\n",
      "                    \"categories\": [\n",
      "                        \"biolink:Protein\"\n",
      "                    ]\n",
      "                },\n",
      "                \"n2\": {\n",
      "                    \"categories\": [\n",
      "                        \"biolink:Protein\"\n",
      "                    ]\n",
      "                },\n",
      "                \"n3\": {\n",
      "                    \"ids\": [\n",
      "                        \"UniProtKB:P02794\",\n",
      "                        \"UniProtKB:P02792\"\n",
      "                    ],\n",
      "                    \"categories\": [\n",
      "                        \"biolink:Protein\"\n",
      "                    ]\n",
      "                }\n",
      "            },\n",
      "            \"edges\": {\n",
      "                \"e0\": {\n",
      "                    \"subject\": \"n0\",\n",
      "                    \"object\": \"n1\"\n",
      "                },\n",
      "                \"e1\": {\n",
      "                    \"subject\": \"n1\",\n",
      "                    \"object\": \"n2\"\n",
      "                },\n",
      "                \"e2\": {\n",
      "                    \"subject\": \"n2\",\n",
      "                    \"object\": \"n3\"\n",
      "                }\n",
      "            }\n",
      "        }\n",
      "    }\n",
      "}\n"
     ]
    }
   ],
   "source": [
    "printjson(query1)"
   ]
  },
  {
   "cell_type": "code",
   "execution_count": 267,
   "metadata": {},
   "outputs": [
    {
     "name": "stdout",
     "output_type": "stream",
     "text": [
      "https://arax.ncats.io/?source=ARS&id=ca41b368-c9e3-433d-94e2-14f12d3e0a4a\n"
     ]
    }
   ],
   "source": [
    "kcresult = submit_to_ars(query1)"
   ]
  },
  {
   "cell_type": "code",
   "execution_count": 318,
   "metadata": {},
   "outputs": [
    {
     "ename": "JSONDecodeError",
     "evalue": "Expecting value: line 1 column 1 (char 0)",
     "output_type": "error",
     "traceback": [
      "\u001b[0;31m---------------------------------------------------------------------------\u001b[0m",
      "\u001b[0;31mJSONDecodeError\u001b[0m                           Traceback (most recent call last)",
      "\u001b[0;32m<ipython-input-318-cbc62bfd068b>\u001b[0m in \u001b[0;36m<module>\u001b[0;34m\u001b[0m\n\u001b[0;32m----> 1\u001b[0;31m \u001b[0mretrieve_ars_results\u001b[0m\u001b[0;34m(\u001b[0m\u001b[0mkcresult\u001b[0m\u001b[0;34m)\u001b[0m\u001b[0;34m\u001b[0m\u001b[0;34m\u001b[0m\u001b[0m\n\u001b[0m",
      "\u001b[0;32m<ipython-input-317-aa0b6fb95723>\u001b[0m in \u001b[0;36mretrieve_ars_results\u001b[0;34m(mid, ars_url)\u001b[0m\n\u001b[1;32m      3\u001b[0m     \u001b[0mmessage_url\u001b[0m \u001b[0;34m=\u001b[0m \u001b[0;34mf'{ars_url}/messages/{mid}?trace=y'\u001b[0m\u001b[0;34m\u001b[0m\u001b[0;34m\u001b[0m\u001b[0m\n\u001b[1;32m      4\u001b[0m     \u001b[0mresponse\u001b[0m \u001b[0;34m=\u001b[0m \u001b[0mrequests\u001b[0m\u001b[0;34m.\u001b[0m\u001b[0mget\u001b[0m\u001b[0;34m(\u001b[0m\u001b[0mmessage_url\u001b[0m\u001b[0;34m)\u001b[0m\u001b[0;34m\u001b[0m\u001b[0;34m\u001b[0m\u001b[0m\n\u001b[0;32m----> 5\u001b[0;31m     \u001b[0mj\u001b[0m \u001b[0;34m=\u001b[0m \u001b[0mresponse\u001b[0m\u001b[0;34m.\u001b[0m\u001b[0mjson\u001b[0m\u001b[0;34m(\u001b[0m\u001b[0;34m)\u001b[0m\u001b[0;34m\u001b[0m\u001b[0;34m\u001b[0m\u001b[0m\n\u001b[0m\u001b[1;32m      6\u001b[0m     \u001b[0mprint\u001b[0m\u001b[0;34m(\u001b[0m \u001b[0mj\u001b[0m\u001b[0;34m[\u001b[0m\u001b[0;34m'status'\u001b[0m\u001b[0;34m]\u001b[0m \u001b[0;34m)\u001b[0m\u001b[0;34m\u001b[0m\u001b[0;34m\u001b[0m\u001b[0m\n\u001b[1;32m      7\u001b[0m     \u001b[0mresults\u001b[0m \u001b[0;34m=\u001b[0m \u001b[0;34m{\u001b[0m\u001b[0;34m}\u001b[0m\u001b[0;34m\u001b[0m\u001b[0;34m\u001b[0m\u001b[0m\n",
      "\u001b[0;32m/usr/local/lib/python3.9/site-packages/requests/models.py\u001b[0m in \u001b[0;36mjson\u001b[0;34m(self, **kwargs)\u001b[0m\n\u001b[1;32m    898\u001b[0m                     \u001b[0;31m# used.\u001b[0m\u001b[0;34m\u001b[0m\u001b[0;34m\u001b[0m\u001b[0;34m\u001b[0m\u001b[0m\n\u001b[1;32m    899\u001b[0m                     \u001b[0;32mpass\u001b[0m\u001b[0;34m\u001b[0m\u001b[0;34m\u001b[0m\u001b[0m\n\u001b[0;32m--> 900\u001b[0;31m         \u001b[0;32mreturn\u001b[0m \u001b[0mcomplexjson\u001b[0m\u001b[0;34m.\u001b[0m\u001b[0mloads\u001b[0m\u001b[0;34m(\u001b[0m\u001b[0mself\u001b[0m\u001b[0;34m.\u001b[0m\u001b[0mtext\u001b[0m\u001b[0;34m,\u001b[0m \u001b[0;34m**\u001b[0m\u001b[0mkwargs\u001b[0m\u001b[0;34m)\u001b[0m\u001b[0;34m\u001b[0m\u001b[0;34m\u001b[0m\u001b[0m\n\u001b[0m\u001b[1;32m    901\u001b[0m \u001b[0;34m\u001b[0m\u001b[0m\n\u001b[1;32m    902\u001b[0m     \u001b[0;34m@\u001b[0m\u001b[0mproperty\u001b[0m\u001b[0;34m\u001b[0m\u001b[0;34m\u001b[0m\u001b[0m\n",
      "\u001b[0;32m/usr/local/Cellar/python@3.9/3.9.5/Frameworks/Python.framework/Versions/3.9/lib/python3.9/json/__init__.py\u001b[0m in \u001b[0;36mloads\u001b[0;34m(s, cls, object_hook, parse_float, parse_int, parse_constant, object_pairs_hook, **kw)\u001b[0m\n\u001b[1;32m    344\u001b[0m             \u001b[0mparse_int\u001b[0m \u001b[0;32mis\u001b[0m \u001b[0;32mNone\u001b[0m \u001b[0;32mand\u001b[0m \u001b[0mparse_float\u001b[0m \u001b[0;32mis\u001b[0m \u001b[0;32mNone\u001b[0m \u001b[0;32mand\u001b[0m\u001b[0;34m\u001b[0m\u001b[0;34m\u001b[0m\u001b[0m\n\u001b[1;32m    345\u001b[0m             parse_constant is None and object_pairs_hook is None and not kw):\n\u001b[0;32m--> 346\u001b[0;31m         \u001b[0;32mreturn\u001b[0m \u001b[0m_default_decoder\u001b[0m\u001b[0;34m.\u001b[0m\u001b[0mdecode\u001b[0m\u001b[0;34m(\u001b[0m\u001b[0ms\u001b[0m\u001b[0;34m)\u001b[0m\u001b[0;34m\u001b[0m\u001b[0;34m\u001b[0m\u001b[0m\n\u001b[0m\u001b[1;32m    347\u001b[0m     \u001b[0;32mif\u001b[0m \u001b[0mcls\u001b[0m \u001b[0;32mis\u001b[0m \u001b[0;32mNone\u001b[0m\u001b[0;34m:\u001b[0m\u001b[0;34m\u001b[0m\u001b[0;34m\u001b[0m\u001b[0m\n\u001b[1;32m    348\u001b[0m         \u001b[0mcls\u001b[0m \u001b[0;34m=\u001b[0m \u001b[0mJSONDecoder\u001b[0m\u001b[0;34m\u001b[0m\u001b[0;34m\u001b[0m\u001b[0m\n",
      "\u001b[0;32m/usr/local/Cellar/python@3.9/3.9.5/Frameworks/Python.framework/Versions/3.9/lib/python3.9/json/decoder.py\u001b[0m in \u001b[0;36mdecode\u001b[0;34m(self, s, _w)\u001b[0m\n\u001b[1;32m    335\u001b[0m \u001b[0;34m\u001b[0m\u001b[0m\n\u001b[1;32m    336\u001b[0m         \"\"\"\n\u001b[0;32m--> 337\u001b[0;31m         \u001b[0mobj\u001b[0m\u001b[0;34m,\u001b[0m \u001b[0mend\u001b[0m \u001b[0;34m=\u001b[0m \u001b[0mself\u001b[0m\u001b[0;34m.\u001b[0m\u001b[0mraw_decode\u001b[0m\u001b[0;34m(\u001b[0m\u001b[0ms\u001b[0m\u001b[0;34m,\u001b[0m \u001b[0midx\u001b[0m\u001b[0;34m=\u001b[0m\u001b[0m_w\u001b[0m\u001b[0;34m(\u001b[0m\u001b[0ms\u001b[0m\u001b[0;34m,\u001b[0m \u001b[0;36m0\u001b[0m\u001b[0;34m)\u001b[0m\u001b[0;34m.\u001b[0m\u001b[0mend\u001b[0m\u001b[0;34m(\u001b[0m\u001b[0;34m)\u001b[0m\u001b[0;34m)\u001b[0m\u001b[0;34m\u001b[0m\u001b[0;34m\u001b[0m\u001b[0m\n\u001b[0m\u001b[1;32m    338\u001b[0m         \u001b[0mend\u001b[0m \u001b[0;34m=\u001b[0m \u001b[0m_w\u001b[0m\u001b[0;34m(\u001b[0m\u001b[0ms\u001b[0m\u001b[0;34m,\u001b[0m \u001b[0mend\u001b[0m\u001b[0;34m)\u001b[0m\u001b[0;34m.\u001b[0m\u001b[0mend\u001b[0m\u001b[0;34m(\u001b[0m\u001b[0;34m)\u001b[0m\u001b[0;34m\u001b[0m\u001b[0;34m\u001b[0m\u001b[0m\n\u001b[1;32m    339\u001b[0m         \u001b[0;32mif\u001b[0m \u001b[0mend\u001b[0m \u001b[0;34m!=\u001b[0m \u001b[0mlen\u001b[0m\u001b[0;34m(\u001b[0m\u001b[0ms\u001b[0m\u001b[0;34m)\u001b[0m\u001b[0;34m:\u001b[0m\u001b[0;34m\u001b[0m\u001b[0;34m\u001b[0m\u001b[0m\n",
      "\u001b[0;32m/usr/local/Cellar/python@3.9/3.9.5/Frameworks/Python.framework/Versions/3.9/lib/python3.9/json/decoder.py\u001b[0m in \u001b[0;36mraw_decode\u001b[0;34m(self, s, idx)\u001b[0m\n\u001b[1;32m    353\u001b[0m             \u001b[0mobj\u001b[0m\u001b[0;34m,\u001b[0m \u001b[0mend\u001b[0m \u001b[0;34m=\u001b[0m \u001b[0mself\u001b[0m\u001b[0;34m.\u001b[0m\u001b[0mscan_once\u001b[0m\u001b[0;34m(\u001b[0m\u001b[0ms\u001b[0m\u001b[0;34m,\u001b[0m \u001b[0midx\u001b[0m\u001b[0;34m)\u001b[0m\u001b[0;34m\u001b[0m\u001b[0;34m\u001b[0m\u001b[0m\n\u001b[1;32m    354\u001b[0m         \u001b[0;32mexcept\u001b[0m \u001b[0mStopIteration\u001b[0m \u001b[0;32mas\u001b[0m \u001b[0merr\u001b[0m\u001b[0;34m:\u001b[0m\u001b[0;34m\u001b[0m\u001b[0;34m\u001b[0m\u001b[0m\n\u001b[0;32m--> 355\u001b[0;31m             \u001b[0;32mraise\u001b[0m \u001b[0mJSONDecodeError\u001b[0m\u001b[0;34m(\u001b[0m\u001b[0;34m\"Expecting value\"\u001b[0m\u001b[0;34m,\u001b[0m \u001b[0ms\u001b[0m\u001b[0;34m,\u001b[0m \u001b[0merr\u001b[0m\u001b[0;34m.\u001b[0m\u001b[0mvalue\u001b[0m\u001b[0;34m)\u001b[0m \u001b[0;32mfrom\u001b[0m \u001b[0;32mNone\u001b[0m\u001b[0;34m\u001b[0m\u001b[0;34m\u001b[0m\u001b[0m\n\u001b[0m\u001b[1;32m    356\u001b[0m         \u001b[0;32mreturn\u001b[0m \u001b[0mobj\u001b[0m\u001b[0;34m,\u001b[0m \u001b[0mend\u001b[0m\u001b[0;34m\u001b[0m\u001b[0;34m\u001b[0m\u001b[0m\n",
      "\u001b[0;31mJSONDecodeError\u001b[0m: Expecting value: line 1 column 1 (char 0)"
     ]
    }
   ],
   "source": [
    "retrieve_ars_results(kcresult)"
   ]
  },
  {
   "cell_type": "code",
   "execution_count": 316,
   "metadata": {},
   "outputs": [
    {
     "ename": "JSONDecodeError",
     "evalue": "Expecting value: line 1 column 1 (char 0)",
     "output_type": "error",
     "traceback": [
      "\u001b[0;31m---------------------------------------------------------------------------\u001b[0m",
      "\u001b[0;31mJSONDecodeError\u001b[0m                           Traceback (most recent call last)",
      "\u001b[0;32m<ipython-input-316-e0d8a59f8ab6>\u001b[0m in \u001b[0;36m<module>\u001b[0;34m\u001b[0m\n\u001b[1;32m      4\u001b[0m \u001b[0mmessage_url\u001b[0m \u001b[0;34m=\u001b[0m \u001b[0;34mf'{ars_url}/messages/{kcresult}?trace=y'\u001b[0m\u001b[0;34m\u001b[0m\u001b[0;34m\u001b[0m\u001b[0m\n\u001b[1;32m      5\u001b[0m \u001b[0mresponse\u001b[0m \u001b[0;34m=\u001b[0m \u001b[0mrequests\u001b[0m\u001b[0;34m.\u001b[0m\u001b[0mget\u001b[0m\u001b[0;34m(\u001b[0m\u001b[0mmessage_url\u001b[0m\u001b[0;34m)\u001b[0m\u001b[0;34m\u001b[0m\u001b[0;34m\u001b[0m\u001b[0m\n\u001b[0;32m----> 6\u001b[0;31m \u001b[0mj\u001b[0m \u001b[0;34m=\u001b[0m \u001b[0mresponse\u001b[0m\u001b[0;34m.\u001b[0m\u001b[0mjson\u001b[0m\u001b[0;34m(\u001b[0m\u001b[0;34m)\u001b[0m\u001b[0;34m\u001b[0m\u001b[0;34m\u001b[0m\u001b[0m\n\u001b[0m",
      "\u001b[0;32m/usr/local/lib/python3.9/site-packages/requests/models.py\u001b[0m in \u001b[0;36mjson\u001b[0;34m(self, **kwargs)\u001b[0m\n\u001b[1;32m    898\u001b[0m                     \u001b[0;31m# used.\u001b[0m\u001b[0;34m\u001b[0m\u001b[0;34m\u001b[0m\u001b[0;34m\u001b[0m\u001b[0m\n\u001b[1;32m    899\u001b[0m                     \u001b[0;32mpass\u001b[0m\u001b[0;34m\u001b[0m\u001b[0;34m\u001b[0m\u001b[0m\n\u001b[0;32m--> 900\u001b[0;31m         \u001b[0;32mreturn\u001b[0m \u001b[0mcomplexjson\u001b[0m\u001b[0;34m.\u001b[0m\u001b[0mloads\u001b[0m\u001b[0;34m(\u001b[0m\u001b[0mself\u001b[0m\u001b[0;34m.\u001b[0m\u001b[0mtext\u001b[0m\u001b[0;34m,\u001b[0m \u001b[0;34m**\u001b[0m\u001b[0mkwargs\u001b[0m\u001b[0;34m)\u001b[0m\u001b[0;34m\u001b[0m\u001b[0;34m\u001b[0m\u001b[0m\n\u001b[0m\u001b[1;32m    901\u001b[0m \u001b[0;34m\u001b[0m\u001b[0m\n\u001b[1;32m    902\u001b[0m     \u001b[0;34m@\u001b[0m\u001b[0mproperty\u001b[0m\u001b[0;34m\u001b[0m\u001b[0;34m\u001b[0m\u001b[0m\n",
      "\u001b[0;32m/usr/local/Cellar/python@3.9/3.9.5/Frameworks/Python.framework/Versions/3.9/lib/python3.9/json/__init__.py\u001b[0m in \u001b[0;36mloads\u001b[0;34m(s, cls, object_hook, parse_float, parse_int, parse_constant, object_pairs_hook, **kw)\u001b[0m\n\u001b[1;32m    344\u001b[0m             \u001b[0mparse_int\u001b[0m \u001b[0;32mis\u001b[0m \u001b[0;32mNone\u001b[0m \u001b[0;32mand\u001b[0m \u001b[0mparse_float\u001b[0m \u001b[0;32mis\u001b[0m \u001b[0;32mNone\u001b[0m \u001b[0;32mand\u001b[0m\u001b[0;34m\u001b[0m\u001b[0;34m\u001b[0m\u001b[0m\n\u001b[1;32m    345\u001b[0m             parse_constant is None and object_pairs_hook is None and not kw):\n\u001b[0;32m--> 346\u001b[0;31m         \u001b[0;32mreturn\u001b[0m \u001b[0m_default_decoder\u001b[0m\u001b[0;34m.\u001b[0m\u001b[0mdecode\u001b[0m\u001b[0;34m(\u001b[0m\u001b[0ms\u001b[0m\u001b[0;34m)\u001b[0m\u001b[0;34m\u001b[0m\u001b[0;34m\u001b[0m\u001b[0m\n\u001b[0m\u001b[1;32m    347\u001b[0m     \u001b[0;32mif\u001b[0m \u001b[0mcls\u001b[0m \u001b[0;32mis\u001b[0m \u001b[0;32mNone\u001b[0m\u001b[0;34m:\u001b[0m\u001b[0;34m\u001b[0m\u001b[0;34m\u001b[0m\u001b[0m\n\u001b[1;32m    348\u001b[0m         \u001b[0mcls\u001b[0m \u001b[0;34m=\u001b[0m \u001b[0mJSONDecoder\u001b[0m\u001b[0;34m\u001b[0m\u001b[0;34m\u001b[0m\u001b[0m\n",
      "\u001b[0;32m/usr/local/Cellar/python@3.9/3.9.5/Frameworks/Python.framework/Versions/3.9/lib/python3.9/json/decoder.py\u001b[0m in \u001b[0;36mdecode\u001b[0;34m(self, s, _w)\u001b[0m\n\u001b[1;32m    335\u001b[0m \u001b[0;34m\u001b[0m\u001b[0m\n\u001b[1;32m    336\u001b[0m         \"\"\"\n\u001b[0;32m--> 337\u001b[0;31m         \u001b[0mobj\u001b[0m\u001b[0;34m,\u001b[0m \u001b[0mend\u001b[0m \u001b[0;34m=\u001b[0m \u001b[0mself\u001b[0m\u001b[0;34m.\u001b[0m\u001b[0mraw_decode\u001b[0m\u001b[0;34m(\u001b[0m\u001b[0ms\u001b[0m\u001b[0;34m,\u001b[0m \u001b[0midx\u001b[0m\u001b[0;34m=\u001b[0m\u001b[0m_w\u001b[0m\u001b[0;34m(\u001b[0m\u001b[0ms\u001b[0m\u001b[0;34m,\u001b[0m \u001b[0;36m0\u001b[0m\u001b[0;34m)\u001b[0m\u001b[0;34m.\u001b[0m\u001b[0mend\u001b[0m\u001b[0;34m(\u001b[0m\u001b[0;34m)\u001b[0m\u001b[0;34m)\u001b[0m\u001b[0;34m\u001b[0m\u001b[0;34m\u001b[0m\u001b[0m\n\u001b[0m\u001b[1;32m    338\u001b[0m         \u001b[0mend\u001b[0m \u001b[0;34m=\u001b[0m \u001b[0m_w\u001b[0m\u001b[0;34m(\u001b[0m\u001b[0ms\u001b[0m\u001b[0;34m,\u001b[0m \u001b[0mend\u001b[0m\u001b[0;34m)\u001b[0m\u001b[0;34m.\u001b[0m\u001b[0mend\u001b[0m\u001b[0;34m(\u001b[0m\u001b[0;34m)\u001b[0m\u001b[0;34m\u001b[0m\u001b[0;34m\u001b[0m\u001b[0m\n\u001b[1;32m    339\u001b[0m         \u001b[0;32mif\u001b[0m \u001b[0mend\u001b[0m \u001b[0;34m!=\u001b[0m \u001b[0mlen\u001b[0m\u001b[0;34m(\u001b[0m\u001b[0ms\u001b[0m\u001b[0;34m)\u001b[0m\u001b[0;34m:\u001b[0m\u001b[0;34m\u001b[0m\u001b[0;34m\u001b[0m\u001b[0m\n",
      "\u001b[0;32m/usr/local/Cellar/python@3.9/3.9.5/Frameworks/Python.framework/Versions/3.9/lib/python3.9/json/decoder.py\u001b[0m in \u001b[0;36mraw_decode\u001b[0;34m(self, s, idx)\u001b[0m\n\u001b[1;32m    353\u001b[0m             \u001b[0mobj\u001b[0m\u001b[0;34m,\u001b[0m \u001b[0mend\u001b[0m \u001b[0;34m=\u001b[0m \u001b[0mself\u001b[0m\u001b[0;34m.\u001b[0m\u001b[0mscan_once\u001b[0m\u001b[0;34m(\u001b[0m\u001b[0ms\u001b[0m\u001b[0;34m,\u001b[0m \u001b[0midx\u001b[0m\u001b[0;34m)\u001b[0m\u001b[0;34m\u001b[0m\u001b[0;34m\u001b[0m\u001b[0m\n\u001b[1;32m    354\u001b[0m         \u001b[0;32mexcept\u001b[0m \u001b[0mStopIteration\u001b[0m \u001b[0;32mas\u001b[0m \u001b[0merr\u001b[0m\u001b[0;34m:\u001b[0m\u001b[0;34m\u001b[0m\u001b[0;34m\u001b[0m\u001b[0m\n\u001b[0;32m--> 355\u001b[0;31m             \u001b[0;32mraise\u001b[0m \u001b[0mJSONDecodeError\u001b[0m\u001b[0;34m(\u001b[0m\u001b[0;34m\"Expecting value\"\u001b[0m\u001b[0;34m,\u001b[0m \u001b[0ms\u001b[0m\u001b[0;34m,\u001b[0m \u001b[0merr\u001b[0m\u001b[0;34m.\u001b[0m\u001b[0mvalue\u001b[0m\u001b[0;34m)\u001b[0m \u001b[0;32mfrom\u001b[0m \u001b[0;32mNone\u001b[0m\u001b[0;34m\u001b[0m\u001b[0;34m\u001b[0m\u001b[0m\n\u001b[0m\u001b[1;32m    356\u001b[0m         \u001b[0;32mreturn\u001b[0m \u001b[0mobj\u001b[0m\u001b[0;34m,\u001b[0m \u001b[0mend\u001b[0m\u001b[0;34m\u001b[0m\u001b[0;34m\u001b[0m\u001b[0m\n",
      "\u001b[0;31mJSONDecodeError\u001b[0m: Expecting value: line 1 column 1 (char 0)"
     ]
    }
   ],
   "source": [
    "kcresult = 'https://arax.ncats.io/?source=ARS&id=ca41b368-c9e3-433d-94e2-14f12d3e0a4a'\n",
    "ars_url='https://ars.transltr.io/ars/api'\n",
    "pk = 'https://arax.ci.transltr.io/?source=ARS&id=' + kcresult\n",
    "message_url = f'{ars_url}/messages/{kcresult}?trace=y'\n",
    "response = requests.get(message_url)\n",
    "j = response.json()"
   ]
  },
  {
   "cell_type": "code",
   "execution_count": 304,
   "metadata": {},
   "outputs": [],
   "source": [
    "#message_url = f'{ars_url}/messages/{kcresult}?trace=y'"
   ]
  },
  {
   "cell_type": "code",
   "execution_count": 305,
   "metadata": {},
   "outputs": [
    {
     "data": {
      "text/plain": [
       "'https://ars.transltr.io/ars/api/messages/https://arax.ci.transltr.io/?source=ARS&id=3968469b-80f0-4da9-b37a-12713fa1a5c3?trace=y'"
      ]
     },
     "execution_count": 305,
     "metadata": {},
     "output_type": "execute_result"
    }
   ],
   "source": [
    "message_url"
   ]
  },
  {
   "cell_type": "code",
   "execution_count": 306,
   "metadata": {},
   "outputs": [
    {
     "ename": "JSONDecodeError",
     "evalue": "Expecting value: line 1 column 1 (char 0)",
     "output_type": "error",
     "traceback": [
      "\u001b[0;31m---------------------------------------------------------------------------\u001b[0m",
      "\u001b[0;31mJSONDecodeError\u001b[0m                           Traceback (most recent call last)",
      "\u001b[0;32m<ipython-input-306-01b214192c0d>\u001b[0m in \u001b[0;36m<module>\u001b[0;34m\u001b[0m\n\u001b[1;32m      1\u001b[0m \u001b[0mresponse\u001b[0m \u001b[0;34m=\u001b[0m \u001b[0mrequests\u001b[0m\u001b[0;34m.\u001b[0m\u001b[0mget\u001b[0m\u001b[0;34m(\u001b[0m\u001b[0mmessage_url\u001b[0m\u001b[0;34m)\u001b[0m\u001b[0;34m\u001b[0m\u001b[0;34m\u001b[0m\u001b[0m\n\u001b[0;32m----> 2\u001b[0;31m \u001b[0mj\u001b[0m \u001b[0;34m=\u001b[0m \u001b[0mresponse\u001b[0m\u001b[0;34m.\u001b[0m\u001b[0mjson\u001b[0m\u001b[0;34m(\u001b[0m\u001b[0;34m)\u001b[0m\u001b[0;34m\u001b[0m\u001b[0;34m\u001b[0m\u001b[0m\n\u001b[0m",
      "\u001b[0;32m/usr/local/lib/python3.9/site-packages/requests/models.py\u001b[0m in \u001b[0;36mjson\u001b[0;34m(self, **kwargs)\u001b[0m\n\u001b[1;32m    898\u001b[0m                     \u001b[0;31m# used.\u001b[0m\u001b[0;34m\u001b[0m\u001b[0;34m\u001b[0m\u001b[0;34m\u001b[0m\u001b[0m\n\u001b[1;32m    899\u001b[0m                     \u001b[0;32mpass\u001b[0m\u001b[0;34m\u001b[0m\u001b[0;34m\u001b[0m\u001b[0m\n\u001b[0;32m--> 900\u001b[0;31m         \u001b[0;32mreturn\u001b[0m \u001b[0mcomplexjson\u001b[0m\u001b[0;34m.\u001b[0m\u001b[0mloads\u001b[0m\u001b[0;34m(\u001b[0m\u001b[0mself\u001b[0m\u001b[0;34m.\u001b[0m\u001b[0mtext\u001b[0m\u001b[0;34m,\u001b[0m \u001b[0;34m**\u001b[0m\u001b[0mkwargs\u001b[0m\u001b[0;34m)\u001b[0m\u001b[0;34m\u001b[0m\u001b[0;34m\u001b[0m\u001b[0m\n\u001b[0m\u001b[1;32m    901\u001b[0m \u001b[0;34m\u001b[0m\u001b[0m\n\u001b[1;32m    902\u001b[0m     \u001b[0;34m@\u001b[0m\u001b[0mproperty\u001b[0m\u001b[0;34m\u001b[0m\u001b[0;34m\u001b[0m\u001b[0m\n",
      "\u001b[0;32m/usr/local/Cellar/python@3.9/3.9.5/Frameworks/Python.framework/Versions/3.9/lib/python3.9/json/__init__.py\u001b[0m in \u001b[0;36mloads\u001b[0;34m(s, cls, object_hook, parse_float, parse_int, parse_constant, object_pairs_hook, **kw)\u001b[0m\n\u001b[1;32m    344\u001b[0m             \u001b[0mparse_int\u001b[0m \u001b[0;32mis\u001b[0m \u001b[0;32mNone\u001b[0m \u001b[0;32mand\u001b[0m \u001b[0mparse_float\u001b[0m \u001b[0;32mis\u001b[0m \u001b[0;32mNone\u001b[0m \u001b[0;32mand\u001b[0m\u001b[0;34m\u001b[0m\u001b[0;34m\u001b[0m\u001b[0m\n\u001b[1;32m    345\u001b[0m             parse_constant is None and object_pairs_hook is None and not kw):\n\u001b[0;32m--> 346\u001b[0;31m         \u001b[0;32mreturn\u001b[0m \u001b[0m_default_decoder\u001b[0m\u001b[0;34m.\u001b[0m\u001b[0mdecode\u001b[0m\u001b[0;34m(\u001b[0m\u001b[0ms\u001b[0m\u001b[0;34m)\u001b[0m\u001b[0;34m\u001b[0m\u001b[0;34m\u001b[0m\u001b[0m\n\u001b[0m\u001b[1;32m    347\u001b[0m     \u001b[0;32mif\u001b[0m \u001b[0mcls\u001b[0m \u001b[0;32mis\u001b[0m \u001b[0;32mNone\u001b[0m\u001b[0;34m:\u001b[0m\u001b[0;34m\u001b[0m\u001b[0;34m\u001b[0m\u001b[0m\n\u001b[1;32m    348\u001b[0m         \u001b[0mcls\u001b[0m \u001b[0;34m=\u001b[0m \u001b[0mJSONDecoder\u001b[0m\u001b[0;34m\u001b[0m\u001b[0;34m\u001b[0m\u001b[0m\n",
      "\u001b[0;32m/usr/local/Cellar/python@3.9/3.9.5/Frameworks/Python.framework/Versions/3.9/lib/python3.9/json/decoder.py\u001b[0m in \u001b[0;36mdecode\u001b[0;34m(self, s, _w)\u001b[0m\n\u001b[1;32m    335\u001b[0m \u001b[0;34m\u001b[0m\u001b[0m\n\u001b[1;32m    336\u001b[0m         \"\"\"\n\u001b[0;32m--> 337\u001b[0;31m         \u001b[0mobj\u001b[0m\u001b[0;34m,\u001b[0m \u001b[0mend\u001b[0m \u001b[0;34m=\u001b[0m \u001b[0mself\u001b[0m\u001b[0;34m.\u001b[0m\u001b[0mraw_decode\u001b[0m\u001b[0;34m(\u001b[0m\u001b[0ms\u001b[0m\u001b[0;34m,\u001b[0m \u001b[0midx\u001b[0m\u001b[0;34m=\u001b[0m\u001b[0m_w\u001b[0m\u001b[0;34m(\u001b[0m\u001b[0ms\u001b[0m\u001b[0;34m,\u001b[0m \u001b[0;36m0\u001b[0m\u001b[0;34m)\u001b[0m\u001b[0;34m.\u001b[0m\u001b[0mend\u001b[0m\u001b[0;34m(\u001b[0m\u001b[0;34m)\u001b[0m\u001b[0;34m)\u001b[0m\u001b[0;34m\u001b[0m\u001b[0;34m\u001b[0m\u001b[0m\n\u001b[0m\u001b[1;32m    338\u001b[0m         \u001b[0mend\u001b[0m \u001b[0;34m=\u001b[0m \u001b[0m_w\u001b[0m\u001b[0;34m(\u001b[0m\u001b[0ms\u001b[0m\u001b[0;34m,\u001b[0m \u001b[0mend\u001b[0m\u001b[0;34m)\u001b[0m\u001b[0;34m.\u001b[0m\u001b[0mend\u001b[0m\u001b[0;34m(\u001b[0m\u001b[0;34m)\u001b[0m\u001b[0;34m\u001b[0m\u001b[0;34m\u001b[0m\u001b[0m\n\u001b[1;32m    339\u001b[0m         \u001b[0;32mif\u001b[0m \u001b[0mend\u001b[0m \u001b[0;34m!=\u001b[0m \u001b[0mlen\u001b[0m\u001b[0;34m(\u001b[0m\u001b[0ms\u001b[0m\u001b[0;34m)\u001b[0m\u001b[0;34m:\u001b[0m\u001b[0;34m\u001b[0m\u001b[0;34m\u001b[0m\u001b[0m\n",
      "\u001b[0;32m/usr/local/Cellar/python@3.9/3.9.5/Frameworks/Python.framework/Versions/3.9/lib/python3.9/json/decoder.py\u001b[0m in \u001b[0;36mraw_decode\u001b[0;34m(self, s, idx)\u001b[0m\n\u001b[1;32m    353\u001b[0m             \u001b[0mobj\u001b[0m\u001b[0;34m,\u001b[0m \u001b[0mend\u001b[0m \u001b[0;34m=\u001b[0m \u001b[0mself\u001b[0m\u001b[0;34m.\u001b[0m\u001b[0mscan_once\u001b[0m\u001b[0;34m(\u001b[0m\u001b[0ms\u001b[0m\u001b[0;34m,\u001b[0m \u001b[0midx\u001b[0m\u001b[0;34m)\u001b[0m\u001b[0;34m\u001b[0m\u001b[0;34m\u001b[0m\u001b[0m\n\u001b[1;32m    354\u001b[0m         \u001b[0;32mexcept\u001b[0m \u001b[0mStopIteration\u001b[0m \u001b[0;32mas\u001b[0m \u001b[0merr\u001b[0m\u001b[0;34m:\u001b[0m\u001b[0;34m\u001b[0m\u001b[0;34m\u001b[0m\u001b[0m\n\u001b[0;32m--> 355\u001b[0;31m             \u001b[0;32mraise\u001b[0m \u001b[0mJSONDecodeError\u001b[0m\u001b[0;34m(\u001b[0m\u001b[0;34m\"Expecting value\"\u001b[0m\u001b[0;34m,\u001b[0m \u001b[0ms\u001b[0m\u001b[0;34m,\u001b[0m \u001b[0merr\u001b[0m\u001b[0;34m.\u001b[0m\u001b[0mvalue\u001b[0m\u001b[0;34m)\u001b[0m \u001b[0;32mfrom\u001b[0m \u001b[0;32mNone\u001b[0m\u001b[0;34m\u001b[0m\u001b[0;34m\u001b[0m\u001b[0m\n\u001b[0m\u001b[1;32m    356\u001b[0m         \u001b[0;32mreturn\u001b[0m \u001b[0mobj\u001b[0m\u001b[0;34m,\u001b[0m \u001b[0mend\u001b[0m\u001b[0;34m\u001b[0m\u001b[0;34m\u001b[0m\u001b[0m\n",
      "\u001b[0;31mJSONDecodeError\u001b[0m: Expecting value: line 1 column 1 (char 0)"
     ]
    }
   ],
   "source": [
    "response = requests.get(message_url)\n",
    "j = response.json()"
   ]
  },
  {
   "cell_type": "code",
   "execution_count": 108,
   "metadata": {},
   "outputs": [
    {
     "data": {
      "text/plain": [
       "dict_keys(['message', 'status', 'actor', 'children'])"
      ]
     },
     "execution_count": 108,
     "metadata": {},
     "output_type": "execute_result"
    }
   ],
   "source": [
    "j.keys()"
   ]
  },
  {
   "cell_type": "code",
   "execution_count": 192,
   "metadata": {},
   "outputs": [
    {
     "data": {
      "text/plain": [
       "{'message': '092daa37-6612-418d-830a-b3cd8c727c5f',\n",
       " 'status': 'Done',\n",
       " 'actor': {'pk': 9,\n",
       "  'channel': 'general',\n",
       "  'agent': 'ars-default-agent',\n",
       "  'path': ''},\n",
       " 'children': [{'message': '4547bbf0-a425-4495-b587-1aa0cec4640e',\n",
       "   'status': 'Done',\n",
       "   'code': 200,\n",
       "   'actor': {'pk': 1,\n",
       "    'channel': 'general',\n",
       "    'agent': 'ara-aragorn',\n",
       "    'path': 'runquery'},\n",
       "   'children': []},\n",
       "  {'message': '8e65b2b3-2713-46d6-8b71-9e44f322e260',\n",
       "   'status': 'Done',\n",
       "   'code': 200,\n",
       "   'actor': {'pk': 2,\n",
       "    'channel': 'general',\n",
       "    'agent': 'ara-arax',\n",
       "    'path': 'runquery'},\n",
       "   'children': []},\n",
       "  {'message': '54b52c25-6089-4f89-b836-6ce9e67f5b30',\n",
       "   'status': 'Done',\n",
       "   'code': 200,\n",
       "   'actor': {'pk': 3,\n",
       "    'channel': 'general',\n",
       "    'agent': 'ara-bte',\n",
       "    'path': 'runquery'},\n",
       "   'children': []},\n",
       "  {'message': '8e7c070a-87d9-4d0e-adb2-eb0f8a4f76f5',\n",
       "   'status': 'Done',\n",
       "   'code': 200,\n",
       "   'actor': {'pk': 6,\n",
       "    'channel': 'general',\n",
       "    'agent': 'ara-unsecret',\n",
       "    'path': 'runquery'},\n",
       "   'children': []},\n",
       "  {'message': '1b62afe4-c8f4-4026-84b2-e8e57783a274',\n",
       "   'status': 'Done',\n",
       "   'code': 200,\n",
       "   'actor': {'pk': 7,\n",
       "    'channel': 'general',\n",
       "    'agent': 'kp-genetics',\n",
       "    'path': 'runquery'},\n",
       "   'children': []},\n",
       "  {'message': '8d43f9a6-66a7-4b68-b49f-2bdbea315eb8',\n",
       "   'status': 'Done',\n",
       "   'code': 200,\n",
       "   'actor': {'pk': 8,\n",
       "    'channel': 'general',\n",
       "    'agent': 'kp-molecular',\n",
       "    'path': 'runquery'},\n",
       "   'children': []},\n",
       "  {'message': 'c7b08614-88e3-447f-b097-ba088df23bc8',\n",
       "   'status': 'Done',\n",
       "   'code': 200,\n",
       "   'actor': {'pk': 10,\n",
       "    'channel': 'general',\n",
       "    'agent': 'ara-explanatory',\n",
       "    'path': 'runquery'},\n",
       "   'children': []},\n",
       "  {'message': '49aa6052-4e1b-402f-8888-9a55e6d47bda',\n",
       "   'status': 'Done',\n",
       "   'code': 200,\n",
       "   'actor': {'pk': 11,\n",
       "    'channel': 'general',\n",
       "    'agent': 'ara-improving',\n",
       "    'path': 'runquery'},\n",
       "   'children': []},\n",
       "  {'message': 'ee228b03-b7aa-43cd-b631-13c4c9285c8b',\n",
       "   'status': 'Done',\n",
       "   'code': 200,\n",
       "   'actor': {'pk': 12,\n",
       "    'channel': 'general',\n",
       "    'agent': 'kp-cam',\n",
       "    'path': 'runquery'},\n",
       "   'children': []},\n",
       "  {'message': 'b311cea5-be3a-4a60-bd37-981a8992516a',\n",
       "   'status': 'Done',\n",
       "   'code': 200,\n",
       "   'actor': {'pk': 13,\n",
       "    'channel': 'general',\n",
       "    'agent': 'kp-textmining',\n",
       "    'path': 'runquery'},\n",
       "   'children': []},\n",
       "  {'message': '6c6aed61-5108-48e2-b9ce-2a3d2a526f35',\n",
       "   'status': 'Error',\n",
       "   'code': 404,\n",
       "   'actor': {'pk': 16,\n",
       "    'channel': 'general',\n",
       "    'agent': 'ara-aragorn-exp',\n",
       "    'path': 'runquery'},\n",
       "   'children': []},\n",
       "  {'message': 'fa1ff458-2d6b-4f9c-9d49-198f8f51da1f',\n",
       "   'status': 'Done',\n",
       "   'code': 200,\n",
       "   'actor': {'pk': 17,\n",
       "    'channel': 'general',\n",
       "    'agent': 'kp-openpredict',\n",
       "    'path': 'runquery'},\n",
       "   'children': []},\n",
       "  {'message': '336bad6a-b4c9-42f2-a30c-b333c8d293b8',\n",
       "   'status': 'Done',\n",
       "   'code': 200,\n",
       "   'actor': {'pk': 18,\n",
       "    'channel': 'general',\n",
       "    'agent': 'kp-icees',\n",
       "    'path': 'runquery'},\n",
       "   'children': []},\n",
       "  {'message': '4191093b-9f00-4580-ab82-46e1d7442700',\n",
       "   'status': 'Done',\n",
       "   'code': 200,\n",
       "   'actor': {'pk': 22,\n",
       "    'channel': 'general',\n",
       "    'agent': 'ara-robokop',\n",
       "    'path': 'runquery'},\n",
       "   'children': []},\n",
       "  {'message': 'e6a10a02-51eb-4f27-b50d-d1b7243c03b0',\n",
       "   'status': 'Done',\n",
       "   'code': 200,\n",
       "   'actor': {'pk': 23,\n",
       "    'channel': 'general',\n",
       "    'agent': 'kp-chp',\n",
       "    'path': 'runquery'},\n",
       "   'children': []},\n",
       "  {'message': 'af0a32ad-ba99-40f8-85e9-f82fb275e5b1',\n",
       "   'status': 'Error',\n",
       "   'code': 400,\n",
       "   'actor': {'pk': 24,\n",
       "    'channel': 'general',\n",
       "    'agent': 'kp-cohd',\n",
       "    'path': 'runquery'},\n",
       "   'children': []},\n",
       "  {'message': '12550217-8f85-479c-b75c-742a821e99dc',\n",
       "   'status': 'Done',\n",
       "   'code': 200,\n",
       "   'actor': {'pk': 25,\n",
       "    'channel': 'general',\n",
       "    'agent': 'kp-icees-dili',\n",
       "    'path': 'runquery'},\n",
       "   'children': []}]}"
      ]
     },
     "execution_count": 192,
     "metadata": {},
     "output_type": "execute_result"
    }
   ],
   "source": [
    "j"
   ]
  },
  {
   "cell_type": "code",
   "execution_count": 106,
   "metadata": {},
   "outputs": [
    {
     "name": "stdout",
     "output_type": "stream",
     "text": [
      "{'message': 'abf7c1e8-29bd-451b-a681-4f3fb42d1ee3', 'status': 'Error', 'code': 422, 'actor': {'pk': 1, 'channel': 'general', 'agent': 'ara-aragorn', 'path': 'runquery'}, 'children': []}\n",
      "{'message': 'e78e1d63-0f77-47f4-9f7a-171e4fe874dd', 'status': 'Error', 'code': 400, 'actor': {'pk': 2, 'channel': 'general', 'agent': 'ara-arax', 'path': 'runquery'}, 'children': []}\n",
      "{'message': '1c3f0b00-a5b4-4189-a41a-56d82fc53dd9', 'status': 'Done', 'code': 200, 'actor': {'pk': 3, 'channel': 'general', 'agent': 'ara-bte', 'path': 'runquery'}, 'children': []}\n",
      "{'message': '158bcb1a-22bc-4c88-b893-a79d3ee7ba88', 'status': 'Done', 'code': 200, 'actor': {'pk': 6, 'channel': 'general', 'agent': 'ara-unsecret', 'path': 'runquery'}, 'children': []}\n",
      "{'message': '0194c27e-afe8-4506-955e-b38cae28cc37', 'status': 'Error', 'code': 400, 'actor': {'pk': 7, 'channel': 'general', 'agent': 'kp-genetics', 'path': 'runquery'}, 'children': []}\n",
      "{'message': 'df65c159-bf39-4867-9a2e-a530936f4e2b', 'status': 'Error', 'code': 400, 'actor': {'pk': 8, 'channel': 'general', 'agent': 'kp-molecular', 'path': 'runquery'}, 'children': []}\n",
      "{'message': 'e0097dd6-2b0e-4c20-8a64-0439c9fcd2b9', 'status': 'Error', 'code': 400, 'actor': {'pk': 10, 'channel': 'general', 'agent': 'ara-explanatory', 'path': 'runquery'}, 'children': []}\n",
      "{'message': '69f90d33-743e-4e59-be46-57e982122782', 'status': 'Error', 'code': 400, 'actor': {'pk': 11, 'channel': 'general', 'agent': 'ara-improving', 'path': 'runquery'}, 'children': []}\n",
      "{'message': '31df5d7f-4b13-4408-adc2-9a1ca6faea11', 'status': 'Done', 'code': 200, 'actor': {'pk': 12, 'channel': 'general', 'agent': 'kp-cam', 'path': 'runquery'}, 'children': []}\n",
      "{'message': '21779e60-fc7d-42c1-8319-6404a5393b08', 'status': 'Done', 'code': 200, 'actor': {'pk': 13, 'channel': 'general', 'agent': 'kp-textmining', 'path': 'runquery'}, 'children': []}\n",
      "{'message': 'c2f6cefc-5973-4b20-9d5f-2229c52fbfe0', 'status': 'Error', 'code': 404, 'actor': {'pk': 16, 'channel': 'general', 'agent': 'ara-aragorn-exp', 'path': 'runquery'}, 'children': []}\n",
      "{'message': 'b6985474-b9c8-409d-92fe-540d266a7b2c', 'status': 'Error', 'code': 400, 'actor': {'pk': 17, 'channel': 'general', 'agent': 'kp-openpredict', 'path': 'runquery'}, 'children': []}\n",
      "{'message': '73e020df-6300-4d7c-b4bc-847470018c67', 'status': 'Error', 'code': 422, 'actor': {'pk': 18, 'channel': 'general', 'agent': 'kp-icees', 'path': 'runquery'}, 'children': []}\n",
      "{'message': '055a56ce-5329-400d-8a1f-62fdcf207d3c', 'status': 'Error', 'code': 422, 'actor': {'pk': 22, 'channel': 'general', 'agent': 'ara-robokop', 'path': 'runquery'}, 'children': []}\n",
      "{'message': '615f54a8-cb94-497f-9152-ec883597c17b', 'status': 'Done', 'code': 200, 'actor': {'pk': 23, 'channel': 'general', 'agent': 'kp-chp', 'path': 'runquery'}, 'children': []}\n",
      "{'message': 'c0a379ed-8612-47cc-8ad6-7e5b15f025f3', 'status': 'Error', 'code': 400, 'actor': {'pk': 24, 'channel': 'general', 'agent': 'kp-cohd', 'path': 'runquery'}, 'children': []}\n",
      "{'message': '71bb5093-d419-4d6a-b287-68c6552c937b', 'status': 'Error', 'code': 422, 'actor': {'pk': 25, 'channel': 'general', 'agent': 'kp-icees-dili', 'path': 'runquery'}, 'children': []}\n"
     ]
    }
   ],
   "source": []
  },
  {
   "cell_type": "code",
   "execution_count": 255,
   "metadata": {
    "scrolled": true
   },
   "outputs": [
    {
     "name": "stdout",
     "output_type": "stream",
     "text": [
      "{'attribute_type_id': 'biolink:primary_knowledge_source', 'value': ['infores:semmeddb'], 'value_type_id': 'biolink:InformationResource'}\n",
      "{'attribute_type_id': 'biolink:aggregator_knowledge_source', 'value': ['SEMMED Gene API'], 'value_type_id': 'biolink:InformationResource'}\n",
      "{'attribute_type_id': 'publications', 'value': ['PMID:24356943'], 'value_type_id': 'biolink:publication'}\n",
      "{'attribute_source': 'infores:arax', 'attribute_type_id': 'biolink:knowledge_source', 'description': 'ARAX inserted this attribute because the KP (BTE) did not seem to provide such an attribute (indicating that this edge came from them).', 'value': 'infores:biothings-explorer', 'value_type_id': 'biolink:InformationResource'}\n",
      "{'attribute_source': 'infores:arax', 'attribute_type_id': 'biolink:aggregator_knowledge_source', 'value': 'infores:arax', 'value_type_id': 'biolink:InformationResource'}\n",
      "{'attribute_type_id': 'biolink:primary_knowledge_source', 'value': ['infores:semmeddb'], 'value_type_id': 'biolink:InformationResource'}\n",
      "{'attribute_type_id': 'biolink:aggregator_knowledge_source', 'value': ['SEMMED Gene API'], 'value_type_id': 'biolink:InformationResource'}\n",
      "{'attribute_type_id': 'publications', 'value': ['PMID:18039672'], 'value_type_id': 'biolink:publication'}\n",
      "{'attribute_source': 'infores:arax', 'attribute_type_id': 'biolink:knowledge_source', 'description': 'ARAX inserted this attribute because the KP (BTE) did not seem to provide such an attribute (indicating that this edge came from them).', 'value': 'infores:biothings-explorer', 'value_type_id': 'biolink:InformationResource'}\n",
      "{'attribute_source': 'infores:arax', 'attribute_type_id': 'biolink:aggregator_knowledge_source', 'value': 'infores:arax', 'value_type_id': 'biolink:InformationResource'}\n",
      "{'attribute_type_id': 'biolink:primary_knowledge_source', 'value': ['infores:semmeddb'], 'value_type_id': 'biolink:InformationResource'}\n",
      "{'attribute_type_id': 'biolink:aggregator_knowledge_source', 'value': ['SEMMED Gene API'], 'value_type_id': 'biolink:InformationResource'}\n",
      "{'attribute_type_id': 'publications', 'value': ['PMID:24356943'], 'value_type_id': 'biolink:publication'}\n",
      "{'attribute_source': 'infores:arax', 'attribute_type_id': 'biolink:knowledge_source', 'description': 'ARAX inserted this attribute because the KP (BTE) did not seem to provide such an attribute (indicating that this edge came from them).', 'value': 'infores:biothings-explorer', 'value_type_id': 'biolink:InformationResource'}\n",
      "{'attribute_source': 'infores:arax', 'attribute_type_id': 'biolink:aggregator_knowledge_source', 'value': 'infores:arax', 'value_type_id': 'biolink:InformationResource'}\n",
      "{'attribute_type_id': 'biolink:primary_knowledge_source', 'value': ['infores:semmeddb'], 'value_type_id': 'biolink:InformationResource'}\n",
      "{'attribute_type_id': 'biolink:aggregator_knowledge_source', 'value': ['SEMMED Gene API'], 'value_type_id': 'biolink:InformationResource'}\n",
      "{'attribute_type_id': 'publications', 'value': ['PMID:24356943'], 'value_type_id': 'biolink:publication'}\n",
      "{'attribute_source': 'infores:arax', 'attribute_type_id': 'biolink:knowledge_source', 'description': 'ARAX inserted this attribute because the KP (BTE) did not seem to provide such an attribute (indicating that this edge came from them).', 'value': 'infores:biothings-explorer', 'value_type_id': 'biolink:InformationResource'}\n",
      "{'attribute_source': 'infores:arax', 'attribute_type_id': 'biolink:aggregator_knowledge_source', 'value': 'infores:arax', 'value_type_id': 'biolink:InformationResource'}\n",
      "{'attribute_type_id': 'biolink:primary_knowledge_source', 'value': ['infores:semmeddb'], 'value_type_id': 'biolink:InformationResource'}\n",
      "{'attribute_type_id': 'biolink:aggregator_knowledge_source', 'value': ['SEMMED Gene API'], 'value_type_id': 'biolink:InformationResource'}\n",
      "{'attribute_type_id': 'publications', 'value': ['PMID:18039672'], 'value_type_id': 'biolink:publication'}\n",
      "{'attribute_source': 'infores:arax', 'attribute_type_id': 'biolink:knowledge_source', 'description': 'ARAX inserted this attribute because the KP (BTE) did not seem to provide such an attribute (indicating that this edge came from them).', 'value': 'infores:biothings-explorer', 'value_type_id': 'biolink:InformationResource'}\n",
      "{'attribute_source': 'infores:arax', 'attribute_type_id': 'biolink:aggregator_knowledge_source', 'value': 'infores:arax', 'value_type_id': 'biolink:InformationResource'}\n",
      "{'attribute_type_id': 'biolink:primary_knowledge_source', 'value': ['infores:semmeddb'], 'value_type_id': 'biolink:InformationResource'}\n",
      "{'attribute_type_id': 'biolink:aggregator_knowledge_source', 'value': ['SEMMED Gene API'], 'value_type_id': 'biolink:InformationResource'}\n",
      "{'attribute_type_id': 'publications', 'value': ['PMID:24356943'], 'value_type_id': 'biolink:publication'}\n",
      "{'attribute_source': 'infores:arax', 'attribute_type_id': 'biolink:knowledge_source', 'description': 'ARAX inserted this attribute because the KP (BTE) did not seem to provide such an attribute (indicating that this edge came from them).', 'value': 'infores:biothings-explorer', 'value_type_id': 'biolink:InformationResource'}\n",
      "{'attribute_source': 'infores:arax', 'attribute_type_id': 'biolink:aggregator_knowledge_source', 'value': 'infores:arax', 'value_type_id': 'biolink:InformationResource'}\n",
      "{'attribute_type_id': 'biolink:primary_knowledge_source', 'value': ['infores:semmeddb'], 'value_type_id': 'biolink:InformationResource'}\n",
      "{'attribute_type_id': 'biolink:aggregator_knowledge_source', 'value': ['SEMMED Gene API'], 'value_type_id': 'biolink:InformationResource'}\n",
      "{'attribute_type_id': 'publications', 'value': ['PMID:24356943'], 'value_type_id': 'biolink:publication'}\n",
      "{'attribute_source': 'infores:arax', 'attribute_type_id': 'biolink:knowledge_source', 'description': 'ARAX inserted this attribute because the KP (BTE) did not seem to provide such an attribute (indicating that this edge came from them).', 'value': 'infores:biothings-explorer', 'value_type_id': 'biolink:InformationResource'}\n",
      "{'attribute_source': 'infores:arax', 'attribute_type_id': 'biolink:aggregator_knowledge_source', 'value': 'infores:arax', 'value_type_id': 'biolink:InformationResource'}\n",
      "{'attribute_type_id': 'biolink:primary_knowledge_source', 'value': ['infores:semmeddb'], 'value_type_id': 'biolink:InformationResource'}\n",
      "{'attribute_type_id': 'biolink:aggregator_knowledge_source', 'value': ['SEMMED Gene API'], 'value_type_id': 'biolink:InformationResource'}\n",
      "{'attribute_type_id': 'publications', 'value': ['PMID:24356943'], 'value_type_id': 'biolink:publication'}\n",
      "{'attribute_source': 'infores:arax', 'attribute_type_id': 'biolink:knowledge_source', 'description': 'ARAX inserted this attribute because the KP (BTE) did not seem to provide such an attribute (indicating that this edge came from them).', 'value': 'infores:biothings-explorer', 'value_type_id': 'biolink:InformationResource'}\n",
      "{'attribute_source': 'infores:arax', 'attribute_type_id': 'biolink:aggregator_knowledge_source', 'value': 'infores:arax', 'value_type_id': 'biolink:InformationResource'}\n",
      "{'attribute_type_id': 'EDAM:data_2526', 'original_attribute_name': 'normalized_google_distance', 'value': '0.28281274927236444', 'value_url': 'https://arax.ncats.io/api/rtx/v1/ui/#/PubmedMeshNgd'}\n",
      "{'attribute_type_id': 'biolink:publications', 'original_attribute_name': 'publications', 'value': ['PMID:22349824', 'PMID:31174284', 'PMID:18298893', 'PMID:18374159', 'PMID:23437331', 'PMID:24608665', 'PMID:15489334', 'PMID:18835386', 'PMID:15107402', 'PMID:29128526', 'PMID:24630736', 'PMID:25877329', 'PMID:27314390', 'PMID:14702039', 'PMID:25882842', 'PMID:21873635', 'PMID:29276004', 'PMID:28219369', 'PMID:21145461', 'PMID:29768694']}\n",
      "{'attribute_type_id': 'metatype:Datetime', 'original_attribute_name': 'defined_datetime', 'value': '2021-09-07 02:07:07'}\n",
      "{'attribute_source': 'infores:arax', 'attribute_type_id': 'biolink:aggregator_knowledge_source', 'original_attribute_name': 'provided_by', 'value': 'infores:arax', 'value_type_id': 'biolink:InformationResource'}\n",
      "{'attribute_source': 'infores:arax-reasoner-ara', 'attribute_type_id': 'biolink:computed_value', 'description': 'This edge is a container for a computed value between two nodes that is not directly attachable to other edges.', 'value': True, 'value_type_id': 'metatype:Boolean'}\n",
      "{'attribute_type_id': 'EDAM:data_2526', 'original_attribute_name': 'normalized_google_distance', 'value': '0.589552391387818', 'value_url': 'https://arax.ncats.io/api/rtx/v1/ui/#/PubmedMeshNgd'}\n",
      "{'attribute_type_id': 'biolink:publications', 'original_attribute_name': 'publications', 'value': ['PMID:23707799', 'PMID:21873635', 'PMID:25785189', 'PMID:24356943']}\n",
      "{'attribute_type_id': 'metatype:Datetime', 'original_attribute_name': 'defined_datetime', 'value': '2021-09-07 02:07:07'}\n",
      "{'attribute_source': 'infores:arax', 'attribute_type_id': 'biolink:aggregator_knowledge_source', 'original_attribute_name': 'provided_by', 'value': 'infores:arax', 'value_type_id': 'biolink:InformationResource'}\n",
      "{'attribute_source': 'infores:arax-reasoner-ara', 'attribute_type_id': 'biolink:computed_value', 'description': 'This edge is a container for a computed value between two nodes that is not directly attachable to other edges.', 'value': True, 'value_type_id': 'metatype:Boolean'}\n",
      "{'attribute_type_id': 'EDAM:data_2526', 'original_attribute_name': 'normalized_google_distance', 'value': 'inf', 'value_url': 'https://arax.ncats.io/api/rtx/v1/ui/#/PubmedMeshNgd'}\n",
      "{'attribute_type_id': 'biolink:publications', 'original_attribute_name': 'publications', 'value': []}\n",
      "{'attribute_type_id': 'metatype:Datetime', 'original_attribute_name': 'defined_datetime', 'value': '2021-09-07 02:07:07'}\n",
      "{'attribute_source': 'infores:arax', 'attribute_type_id': 'biolink:aggregator_knowledge_source', 'original_attribute_name': 'provided_by', 'value': 'infores:arax', 'value_type_id': 'biolink:InformationResource'}\n",
      "{'attribute_source': 'infores:arax-reasoner-ara', 'attribute_type_id': 'biolink:computed_value', 'description': 'This edge is a container for a computed value between two nodes that is not directly attachable to other edges.', 'value': True, 'value_type_id': 'metatype:Boolean'}\n",
      "{'attribute_type_id': 'EDAM:data_2526', 'original_attribute_name': 'normalized_google_distance', 'value': '0.46764042123781163', 'value_url': 'https://arax.ncats.io/api/rtx/v1/ui/#/PubmedMeshNgd'}\n",
      "{'attribute_type_id': 'biolink:publications', 'original_attribute_name': 'publications', 'value': ['PMID:18039672', 'PMID:21873635', 'PMID:15489334', 'PMID:14702039']}\n",
      "{'attribute_type_id': 'metatype:Datetime', 'original_attribute_name': 'defined_datetime', 'value': '2021-09-07 02:07:07'}\n",
      "{'attribute_source': 'infores:arax', 'attribute_type_id': 'biolink:aggregator_knowledge_source', 'original_attribute_name': 'provided_by', 'value': 'infores:arax', 'value_type_id': 'biolink:InformationResource'}\n",
      "{'attribute_source': 'infores:arax-reasoner-ara', 'attribute_type_id': 'biolink:computed_value', 'description': 'This edge is a container for a computed value between two nodes that is not directly attachable to other edges.', 'value': True, 'value_type_id': 'metatype:Boolean'}\n",
      "{'attribute_type_id': 'EDAM:data_2526', 'original_attribute_name': 'normalized_google_distance', 'value': '0.5437534969682698', 'value_url': 'https://arax.ncats.io/api/rtx/v1/ui/#/PubmedMeshNgd'}\n",
      "{'attribute_type_id': 'biolink:publications', 'original_attribute_name': 'publications', 'value': ['PMID:21873635', 'PMID:25785189', 'PMID:24356943', 'PMID:26063730', 'PMID:14702039']}\n",
      "{'attribute_type_id': 'metatype:Datetime', 'original_attribute_name': 'defined_datetime', 'value': '2021-09-07 02:07:07'}\n",
      "{'attribute_source': 'infores:arax', 'attribute_type_id': 'biolink:aggregator_knowledge_source', 'original_attribute_name': 'provided_by', 'value': 'infores:arax', 'value_type_id': 'biolink:InformationResource'}\n",
      "{'attribute_source': 'infores:arax-reasoner-ara', 'attribute_type_id': 'biolink:computed_value', 'description': 'This edge is a container for a computed value between two nodes that is not directly attachable to other edges.', 'value': True, 'value_type_id': 'metatype:Boolean'}\n",
      "{'attribute_type_id': 'EDAM:data_2526', 'original_attribute_name': 'normalized_google_distance', 'value': '0.4580578432947715', 'value_url': 'https://arax.ncats.io/api/rtx/v1/ui/#/PubmedMeshNgd'}\n",
      "{'attribute_type_id': 'biolink:publications', 'original_attribute_name': 'publications', 'value': ['PMID:25785189', 'PMID:24356943']}\n",
      "{'attribute_type_id': 'metatype:Datetime', 'original_attribute_name': 'defined_datetime', 'value': '2021-09-07 02:07:07'}\n",
      "{'attribute_source': 'infores:arax', 'attribute_type_id': 'biolink:aggregator_knowledge_source', 'original_attribute_name': 'provided_by', 'value': 'infores:arax', 'value_type_id': 'biolink:InformationResource'}\n",
      "{'attribute_source': 'infores:arax-reasoner-ara', 'attribute_type_id': 'biolink:computed_value', 'description': 'This edge is a container for a computed value between two nodes that is not directly attachable to other edges.', 'value': True, 'value_type_id': 'metatype:Boolean'}\n",
      "{'attribute_type_id': 'EDAM:data_2526', 'original_attribute_name': 'normalized_google_distance', 'value': '0.562401999179266', 'value_url': 'https://arax.ncats.io/api/rtx/v1/ui/#/PubmedMeshNgd'}\n",
      "{'attribute_type_id': 'biolink:publications', 'original_attribute_name': 'publications', 'value': ['PMID:17617377', 'PMID:21801820', 'PMID:15107402', 'PMID:22901165', 'PMID:29128526', 'PMID:24356943', 'PMID:18374159', 'PMID:12370419', 'PMID:27314390', 'PMID:17517369', 'PMID:19937980']}\n",
      "{'attribute_type_id': 'metatype:Datetime', 'original_attribute_name': 'defined_datetime', 'value': '2021-09-07 02:07:07'}\n",
      "{'attribute_source': 'infores:arax', 'attribute_type_id': 'biolink:aggregator_knowledge_source', 'original_attribute_name': 'provided_by', 'value': 'infores:arax', 'value_type_id': 'biolink:InformationResource'}\n",
      "{'attribute_source': 'infores:arax-reasoner-ara', 'attribute_type_id': 'biolink:computed_value', 'description': 'This edge is a container for a computed value between two nodes that is not directly attachable to other edges.', 'value': True, 'value_type_id': 'metatype:Boolean'}\n",
      "{'attribute_type_id': 'EDAM:data_2526', 'original_attribute_name': 'normalized_google_distance', 'value': 'inf', 'value_url': 'https://arax.ncats.io/api/rtx/v1/ui/#/PubmedMeshNgd'}\n",
      "{'attribute_type_id': 'biolink:publications', 'original_attribute_name': 'publications', 'value': []}\n",
      "{'attribute_type_id': 'metatype:Datetime', 'original_attribute_name': 'defined_datetime', 'value': '2021-09-07 02:07:07'}\n",
      "{'attribute_source': 'infores:arax', 'attribute_type_id': 'biolink:aggregator_knowledge_source', 'original_attribute_name': 'provided_by', 'value': 'infores:arax', 'value_type_id': 'biolink:InformationResource'}\n",
      "{'attribute_source': 'infores:arax-reasoner-ara', 'attribute_type_id': 'biolink:computed_value', 'description': 'This edge is a container for a computed value between two nodes that is not directly attachable to other edges.', 'value': True, 'value_type_id': 'metatype:Boolean'}\n",
      "{'attribute_type_id': 'EDAM:data_2526', 'original_attribute_name': 'normalized_google_distance', 'value': '0.4822224309694227', 'value_url': 'https://arax.ncats.io/api/rtx/v1/ui/#/PubmedMeshNgd'}\n",
      "{'attribute_type_id': 'biolink:publications', 'original_attribute_name': 'publications', 'value': ['PMID:18039672', 'PMID:28514442', 'PMID:21873635', 'PMID:15489334']}\n",
      "{'attribute_type_id': 'metatype:Datetime', 'original_attribute_name': 'defined_datetime', 'value': '2021-09-07 02:07:07'}\n",
      "{'attribute_source': 'infores:arax', 'attribute_type_id': 'biolink:aggregator_knowledge_source', 'original_attribute_name': 'provided_by', 'value': 'infores:arax', 'value_type_id': 'biolink:InformationResource'}\n",
      "{'attribute_source': 'infores:arax-reasoner-ara', 'attribute_type_id': 'biolink:computed_value', 'description': 'This edge is a container for a computed value between two nodes that is not directly attachable to other edges.', 'value': True, 'value_type_id': 'metatype:Boolean'}\n",
      "{'attribute_source': 'infores:rtx-kg2', 'attribute_type_id': 'biolink:aggregator_knowledge_source', 'value': 'infores:rtx-kg2', 'value_type_id': 'biolink:InformationResource'}\n",
      "{'attribute_source': 'infores:rtx-kg2', 'attribute_type_id': 'biolink:aggregator_knowledge_source', 'value': 'infores:semmeddb', 'value_type_id': 'biolink:InformationResource'}\n",
      "{'attribute_source': 'infores:semmeddb', 'attribute_type_id': 'biolink:publications', 'value': ['PMID:18039672'], 'value_type_id': 'biolink:Uriorcurie'}\n",
      "{'attribute_source': 'infores:arax', 'attribute_type_id': 'biolink:aggregator_knowledge_source', 'value': 'infores:arax', 'value_type_id': 'biolink:InformationResource'}\n",
      "{'attribute_source': 'infores:rtx-kg2', 'attribute_type_id': 'biolink:aggregator_knowledge_source', 'value': 'infores:rtx-kg2', 'value_type_id': 'biolink:InformationResource'}\n",
      "{'attribute_source': 'infores:rtx-kg2', 'attribute_type_id': 'biolink:aggregator_knowledge_source', 'value': 'infores:semmeddb', 'value_type_id': 'biolink:InformationResource'}\n",
      "{'attribute_source': 'infores:semmeddb', 'attribute_type_id': 'biolink:publications', 'value': ['PMID:29768694'], 'value_type_id': 'biolink:Uriorcurie'}\n",
      "{'attribute_source': 'infores:arax', 'attribute_type_id': 'biolink:aggregator_knowledge_source', 'value': 'infores:arax', 'value_type_id': 'biolink:InformationResource'}\n",
      "{'attribute_type_id': 'biolink:primary_knowledge_source', 'value': ['infores:semmeddb'], 'value_type_id': 'biolink:InformationResource'}\n",
      "{'attribute_type_id': 'biolink:aggregator_knowledge_source', 'value': ['SEMMED Gene API'], 'value_type_id': 'biolink:InformationResource'}\n",
      "{'attribute_type_id': 'publications', 'value': ['PMID:24356943'], 'value_type_id': 'biolink:publication'}\n",
      "{'attribute_type_id': 'biolink:primary_knowledge_source', 'value': ['infores:semmeddb'], 'value_type_id': 'biolink:InformationResource'}\n",
      "{'attribute_type_id': 'biolink:aggregator_knowledge_source', 'value': ['SEMMED Gene API'], 'value_type_id': 'biolink:InformationResource'}\n",
      "{'attribute_type_id': 'publications', 'value': ['PMID:24356943'], 'value_type_id': 'biolink:publication'}\n",
      "{'attribute_type_id': 'biolink:primary_knowledge_source', 'value': ['infores:semmeddb'], 'value_type_id': 'biolink:InformationResource'}\n",
      "{'attribute_type_id': 'biolink:aggregator_knowledge_source', 'value': ['SEMMED Gene API'], 'value_type_id': 'biolink:InformationResource'}\n",
      "{'attribute_type_id': 'publications', 'value': ['PMID:18039672'], 'value_type_id': 'biolink:publication'}\n",
      "{'attribute_type_id': 'biolink:primary_knowledge_source', 'value': ['infores:semmeddb'], 'value_type_id': 'biolink:InformationResource'}\n",
      "{'attribute_type_id': 'biolink:aggregator_knowledge_source', 'value': ['SEMMED Gene API'], 'value_type_id': 'biolink:InformationResource'}\n",
      "{'attribute_type_id': 'publications', 'value': ['PMID:24356943'], 'value_type_id': 'biolink:publication'}\n",
      "{'attribute_type_id': 'biolink:primary_knowledge_source', 'value': ['infores:semmeddb'], 'value_type_id': 'biolink:InformationResource'}\n",
      "{'attribute_type_id': 'biolink:aggregator_knowledge_source', 'value': ['SEMMED Gene API'], 'value_type_id': 'biolink:InformationResource'}\n",
      "{'attribute_type_id': 'publications', 'value': ['PMID:24356943'], 'value_type_id': 'biolink:publication'}\n",
      "{'attribute_type_id': 'biolink:primary_knowledge_source', 'value': ['infores:semmeddb'], 'value_type_id': 'biolink:InformationResource'}\n",
      "{'attribute_type_id': 'biolink:aggregator_knowledge_source', 'value': ['SEMMED Gene API'], 'value_type_id': 'biolink:InformationResource'}\n",
      "{'attribute_type_id': 'publications', 'value': ['PMID:24356943'], 'value_type_id': 'biolink:publication'}\n",
      "{'attribute_type_id': 'biolink:primary_knowledge_source', 'value': ['infores:semmeddb'], 'value_type_id': 'biolink:InformationResource'}\n",
      "{'attribute_type_id': 'biolink:aggregator_knowledge_source', 'value': ['SEMMED Gene API'], 'value_type_id': 'biolink:InformationResource'}\n",
      "{'attribute_type_id': 'publications', 'value': ['PMID:18039672'], 'value_type_id': 'biolink:publication'}\n",
      "{'attribute_type_id': 'biolink:primary_knowledge_source', 'value': ['infores:semmeddb'], 'value_type_id': 'biolink:InformationResource'}\n",
      "{'attribute_type_id': 'biolink:aggregator_knowledge_source', 'value': ['SEMMED Gene API'], 'value_type_id': 'biolink:InformationResource'}\n",
      "{'attribute_type_id': 'publications', 'value': ['PMID:24356943'], 'value_type_id': 'biolink:publication'}\n"
     ]
    },
    {
     "name": "stdout",
     "output_type": "stream",
     "text": [
      "{'attribute_source': 'infores:spoke', 'attribute_type_id': 'biolink:original_knowledge_source', 'original_attribute_name': 'source', 'value': 'infores:lincs', 'value_type_id': 'biolink:InformationResource'}\n",
      "{'attribute_source': 'infores:spoke', 'attribute_type_id': 'biolink:aggregator_knowledge_source', 'value': 'infores:spoke', 'value_type_id': 'biolink:InformationResource'}\n",
      "{'attribute_source': 'infores:improving-agent', 'attribute_type_id': 'biolink:aggregator_knowledge_source', 'value': 'infores:improving-agent', 'value_type_id': 'biolink:InformationResource'}\n",
      "{'attribute_source': 'infores:lincs', 'attribute_type_id': 'biolink:has_evidence', 'original_attribute_name': 'zscore', 'value': -6.798004208569094}\n",
      "{'attribute_source': 'infores:lincs', 'attribute_type_id': 'biolink:p_value', 'original_attribute_name': 'pvalue', 'value': 9.754965766450568e-08}\n",
      "{'attribute_source': 'infores:spoke', 'attribute_type_id': 'biolink:original_knowledge_source', 'original_attribute_name': 'source', 'value': 'infores:lincs', 'value_type_id': 'biolink:InformationResource'}\n",
      "{'attribute_source': 'infores:spoke', 'attribute_type_id': 'biolink:aggregator_knowledge_source', 'value': 'infores:spoke', 'value_type_id': 'biolink:InformationResource'}\n",
      "{'attribute_source': 'infores:improving-agent', 'attribute_type_id': 'biolink:aggregator_knowledge_source', 'value': 'infores:improving-agent', 'value_type_id': 'biolink:InformationResource'}\n",
      "{'attribute_source': 'infores:lincs', 'attribute_type_id': 'biolink:has_evidence', 'original_attribute_name': 'zscore', 'value': -4.1128275060220725}\n",
      "{'attribute_source': 'infores:lincs', 'attribute_type_id': 'biolink:p_value', 'original_attribute_name': 'pvalue', 'value': 0.03822438898097359}\n",
      "{'attribute_source': 'infores:spoke', 'attribute_type_id': 'biolink:original_knowledge_source', 'original_attribute_name': 'source', 'value': 'infores:lincs', 'value_type_id': 'biolink:InformationResource'}\n",
      "{'attribute_source': 'infores:spoke', 'attribute_type_id': 'biolink:aggregator_knowledge_source', 'value': 'infores:spoke', 'value_type_id': 'biolink:InformationResource'}\n",
      "{'attribute_source': 'infores:improving-agent', 'attribute_type_id': 'biolink:aggregator_knowledge_source', 'value': 'infores:improving-agent', 'value_type_id': 'biolink:InformationResource'}\n",
      "{'attribute_source': 'infores:lincs', 'attribute_type_id': 'biolink:has_evidence', 'original_attribute_name': 'zscore', 'value': -6.963625168134417}\n",
      "{'attribute_source': 'infores:lincs', 'attribute_type_id': 'biolink:p_value', 'original_attribute_name': 'pvalue', 'value': 3.2433046551976167e-09}\n",
      "{'attribute_source': 'infores:spoke', 'attribute_type_id': 'biolink:original_knowledge_source', 'original_attribute_name': 'source', 'value': 'infores:lincs', 'value_type_id': 'biolink:InformationResource'}\n",
      "{'attribute_source': 'infores:spoke', 'attribute_type_id': 'biolink:aggregator_knowledge_source', 'value': 'infores:spoke', 'value_type_id': 'biolink:InformationResource'}\n",
      "{'attribute_source': 'infores:improving-agent', 'attribute_type_id': 'biolink:aggregator_knowledge_source', 'value': 'infores:improving-agent', 'value_type_id': 'biolink:InformationResource'}\n",
      "{'attribute_source': 'infores:lincs', 'attribute_type_id': 'biolink:has_evidence', 'original_attribute_name': 'zscore', 'value': -5.149585481334694}\n",
      "{'attribute_source': 'infores:lincs', 'attribute_type_id': 'biolink:p_value', 'original_attribute_name': 'pvalue', 'value': 0.00025531939324568813}\n"
     ]
    }
   ],
   "source": [
    "dictionary_test = {}\n",
    "for child in j['children']:\n",
    "    #print(child['status'])\n",
    "    dictionary_test\n",
    "    if child['status']  == 'Done':\n",
    "        childmessage_id = child['message']\n",
    "        child_url = f'{ars_url}/messages/{childmessage_id}'\n",
    "        child_response = requests.get(child_url).json()\n",
    "        if child_response['fields']['data']['message']['knowledge_graph']['edges'].keys():\n",
    "            edge_ex = child_response['fields']['data']['message']['knowledge_graph']['edges']\n",
    "            for val in child_response['fields']['data']['message']['knowledge_graph']['edges'].keys():\n",
    "                #print(val)\n",
    "                test_att_values =[]\n",
    "                for tx in edge_ex[val]['attributes']:\n",
    "                    print(tx)\n",
    "                    if (tx['attribute_type_id'] == 'biolink:primary_knowledge_source') or (tx['attribute_type_id'] == 'biolink:original_knowledge_source') or (tx['attribute_type_id'] == 'biolink:aggregator_knowledge_source'):\n",
    "                        #print(tx['value'])\n",
    "                        test_att_values.append(tx['value'])\n",
    "                        dictionary_test[child['actor']['agent']] = test_att_values\n",
    "        else:\n",
    "            pass\n",
    "    "
   ]
  },
  {
   "cell_type": "code",
   "execution_count": 254,
   "metadata": {},
   "outputs": [
    {
     "name": "stdout",
     "output_type": "stream",
     "text": [
      "Nothing\n"
     ]
    }
   ],
   "source": [
    "if tx['attribute_type_id'] == 'biolink:primary_knowledge_source':\n",
    "    print(tx['value'])\n",
    "else:\n",
    "    print('Nothing')"
   ]
  },
  {
   "cell_type": "code",
   "execution_count": 256,
   "metadata": {},
   "outputs": [
    {
     "data": {
      "text/plain": [
       "{'ara-arax': ['infores:rtx-kg2', 'infores:semmeddb', 'infores:arax'],\n",
       " 'ara-bte': [['infores:semmeddb'], ['SEMMED Gene API']],\n",
       " 'ara-improving': ['infores:lincs',\n",
       "  'infores:spoke',\n",
       "  'infores:improving-agent']}"
      ]
     },
     "execution_count": 256,
     "metadata": {},
     "output_type": "execute_result"
    }
   ],
   "source": [
    "dictionary_test"
   ]
  },
  {
   "cell_type": "code",
   "execution_count": 257,
   "metadata": {},
   "outputs": [
    {
     "name": "stdout",
     "output_type": "stream",
     "text": [
      "ARS Error\n",
      "ara-aragorn ARS Error 0\n",
      "Done\n",
      "BTE:NCBIGene:100616101-biolink:entity_negatively_regulates_entity-NCBIGene:23221\n",
      "BTE:NCBIGene:1869-biolink:entity_negatively_regulates_entity-NCBIGene:23221\n",
      "BTE:NCBIGene:5241-biolink:entity_negatively_regulates_entity-NCBIGene:23221\n",
      "BTE:NCBIGene:5555-biolink:entity_negatively_regulates_entity-NCBIGene:23221\n",
      "BTE:NCBIGene:7332-biolink:entity_negatively_regulates_entity-NCBIGene:23221\n",
      "BTE:UMLS:C0079427-biolink:entity_negatively_regulates_entity-NCBIGene:23221\n",
      "BTE:UMLS:C1418864-biolink:entity_negatively_regulates_entity-NCBIGene:23221\n",
      "BTE:UMLS:C4085573-biolink:entity_negatively_regulates_entity-NCBIGene:23221\n",
      "N1_0\n",
      "N1_1\n",
      "N1_2\n",
      "N1_3\n",
      "N1_4\n",
      "N1_5\n",
      "N1_6\n",
      "N1_7\n",
      "N1_8\n",
      "RTX-KG2:UniProtKB:Q01094-biolink:entity_negatively_regulates_entity-UniProtKB:Q9BYZ6\n",
      "RTX-KG2:UniProtKB:Q13618-biolink:entity_negatively_regulates_entity-UniProtKB:Q9BYZ6\n",
      "ara-arax Done 9\n",
      "Done\n",
      "NCBIGene:100616101-biolink:entity_negatively_regulates_entity-NCBIGene:23221\n",
      "UMLS:C4085573-biolink:entity_negatively_regulates_entity-NCBIGene:23221\n",
      "NCBIGene:1869-biolink:entity_negatively_regulates_entity-NCBIGene:23221\n",
      "NCBIGene:5241-biolink:entity_negatively_regulates_entity-NCBIGene:23221\n",
      "UMLS:C1418864-biolink:entity_negatively_regulates_entity-NCBIGene:23221\n",
      "NCBIGene:5555-biolink:entity_negatively_regulates_entity-NCBIGene:23221\n",
      "NCBIGene:7332-biolink:entity_negatively_regulates_entity-NCBIGene:23221\n",
      "UMLS:C0079427-biolink:entity_negatively_regulates_entity-NCBIGene:23221\n",
      "ara-bte Done 8\n",
      "Done\n",
      "ara-unsecret Done 0\n",
      "Done\n",
      "kp-genetics Done 0\n",
      "Done\n",
      "kp-molecular Done 0\n",
      "Done\n",
      "ara-explanatory Done 0\n",
      "Done\n",
      "24500032\n",
      "25458350\n",
      "25620472\n",
      "25647144\n",
      "ara-improving Done 4\n",
      "Done\n",
      "kp-cam Done 0\n",
      "Done\n",
      "kp-textmining Done 0\n",
      "Error\n",
      "ara-aragorn-exp Error 0\n",
      "Done\n",
      "kp-openpredict Done 0\n",
      "Done\n",
      "kp-icees Done 0\n",
      "Done\n",
      "ara-robokop Done 0\n",
      "Done\n",
      "kp-chp Done 0\n",
      "Error\n",
      "kp-cohd Error 0\n",
      "Done\n",
      "kp-icees-dili Done 0\n"
     ]
    }
   ],
   "source": [
    "dictionary={}\n",
    "results = {}\n",
    "dictionary_2 = {}\n",
    "for child in j['children']:\n",
    "        print(child['status'])\n",
    "        if child['status']  == 'Done':\n",
    "            childmessage_id = child['message']\n",
    "            child_url = f'{ars_url}/messages/{childmessage_id}'\n",
    "            try:\n",
    "                child_response = requests.get(child_url).json()\n",
    "                nresults = len(child_response['fields']['data']['message']['results'])\n",
    "                if nresults > 0:\n",
    "                    results[child['actor']['agent']] = {'message':child_response['fields']['data']['message']}\n",
    "                    \n",
    "                if child_response['fields']['data']['message']['knowledge_graph']['edges']:\n",
    "                    if child_response['fields']['data']['message']['knowledge_graph']['edges'].keys():\n",
    "                            edge_ex = child_response['fields']['data']['message']['knowledge_graph']['edges']\n",
    "                            for val in child_response['fields']['data']['message']['knowledge_graph']['edges'].keys():\n",
    "                                print(val)\n",
    "                                test_att_values =[]\n",
    "                                for tx in edge_ex[val]['attributes']:\n",
    "                                    if (tx['attribute_type_id'] == 'biolink:primary_knowledge_source') or (tx['attribute_type_id'] == 'biolink:original_knowledge_source') or (tx['attribute_type_id'] == 'biolink:aggregator_knowledge_source'):\n",
    "                                        test_att_values.append(tx['value'])\n",
    "                                        dictionary_2[child['actor']['agent']] = test_att_values\n",
    "                    else:\n",
    "                        pass \n",
    "                else:\n",
    "                    dictionary_2[child['actor']['agent']] = []\n",
    "            \n",
    "            except Exception as e:\n",
    "                nresults=0\n",
    "                child['status'] = 'ARS Error'\n",
    "                dictionary_2[child['actor']['agent']] = []\n",
    "                \n",
    "            \n",
    "        \n",
    "        elif child['status'] == 'Error':\n",
    "            nresults=0\n",
    "            childmessage_id = child['message']\n",
    "            child_url = f'{ars_url}/messages/{childmessage_id}'\n",
    "            try:\n",
    "                child_response = requests.get(child_url).json()\n",
    "                results[child['actor']['agent']] = {'message':child_response['fields']['data']['message']}\n",
    "                dictionary_2[child['actor']['agent']] = []\n",
    "            except Exception as e:\n",
    "                #print(e)\n",
    "                child['status'] = 'ARS Error'\n",
    "                dictionary_2[child['actor']['agent']] = []\n",
    "        \n",
    "        \n",
    "        else:\n",
    "            nresults = 0\n",
    "            dictionary_2[child['actor']['agent']] = []\n",
    "            \n",
    "        dictionary['pk_id'] =  pk  \n",
    "            \n",
    "        if ((child['status'] == 'Done') & (nresults == 0)):\n",
    "            dictionary[child['actor']['agent']] = 'No Results'\n",
    "            #test =  [child['actor']['agent'], 'No Results']\n",
    "        elif ((child['status'] == 'ARS Error') & (nresults == 0)):\n",
    "            dictionary[child['actor']['agent']] = 'ARS Error'\n",
    "        elif ((child['status'] == 'Error') & (nresults == 0)):\n",
    "            dictionary[child['actor']['agent']] = 'Error'\n",
    "            #test =  [child['actor']['agent'], 'ARS Error']\n",
    "        elif ((child['status'] == 'Done') & (nresults != 0)):\n",
    "            #test =  [child['actor']['agent'], 'Results']\n",
    "            dictionary[child['actor']['agent']] = 'Results' \n",
    "        \n",
    "        \n",
    "        print(child['actor']['agent'], child['status'], nresults)\n",
    "        #test =  [child['actor']['agent'], child['status'], nresults]\n",
    "        #test2.append(test)"
   ]
  },
  {
   "cell_type": "code",
   "execution_count": 258,
   "metadata": {},
   "outputs": [
    {
     "data": {
      "text/plain": [
       "{'ara-aragorn': [],\n",
       " 'ara-arax': ['infores:rtx-kg2', 'infores:semmeddb', 'infores:arax'],\n",
       " 'ara-bte': [['infores:semmeddb'], ['SEMMED Gene API']],\n",
       " 'ara-unsecret': [],\n",
       " 'kp-genetics': [],\n",
       " 'kp-molecular': [],\n",
       " 'ara-explanatory': [],\n",
       " 'ara-improving': ['infores:lincs',\n",
       "  'infores:spoke',\n",
       "  'infores:improving-agent'],\n",
       " 'kp-cam': [],\n",
       " 'kp-textmining': [],\n",
       " 'ara-aragorn-exp': [],\n",
       " 'kp-openpredict': [],\n",
       " 'kp-icees': [],\n",
       " 'ara-robokop': [],\n",
       " 'kp-chp': [],\n",
       " 'kp-cohd': [],\n",
       " 'kp-icees-dili': []}"
      ]
     },
     "execution_count": 258,
     "metadata": {},
     "output_type": "execute_result"
    }
   ],
   "source": [
    "dictionary_2"
   ]
  },
  {
   "cell_type": "code",
   "execution_count": 231,
   "metadata": {},
   "outputs": [
    {
     "name": "stdout",
     "output_type": "stream",
     "text": [
      "correct\n",
      "correct\n",
      "incorrect\n",
      "incorrect\n",
      "incorrect\n",
      "incorrect\n",
      "correct\n",
      "incorrect\n",
      "incorrect\n",
      "incorrect\n",
      "incorrect\n",
      "incorrect\n",
      "incorrect\n",
      "incorrect\n"
     ]
    }
   ],
   "source": [
    "for child in j['children']:\n",
    "    #print(child['status'])\n",
    "    if child['status']  == 'Done':\n",
    "        childmessage_id = child['message']\n",
    "        child_url = f'{ars_url}/messages/{childmessage_id}'\n",
    "        child_response = requests.get(child_url).json()\n",
    "        if child_response['fields']['data']['message']['knowledge_graph']['edges']:\n",
    "            print('correct')\n",
    "        else:\n",
    "            print('incorrect')"
   ]
  },
  {
   "cell_type": "code",
   "execution_count": 167,
   "metadata": {},
   "outputs": [
    {
     "data": {
      "text/plain": [
       "{'nodes': {}, 'edges': {}}"
      ]
     },
     "execution_count": 167,
     "metadata": {},
     "output_type": "execute_result"
    }
   ],
   "source": [
    "child_response['fields']['data']['message']['knowledge_graph']"
   ]
  },
  {
   "cell_type": "code",
   "execution_count": 126,
   "metadata": {},
   "outputs": [
    {
     "data": {
      "text/plain": [
       "'615f54a8-cb94-497f-9152-ec883597c17b'"
      ]
     },
     "execution_count": 126,
     "metadata": {},
     "output_type": "execute_result"
    }
   ],
   "source": [
    "mm = child_response['pk']\n",
    "mm"
   ]
  },
  {
   "cell_type": "code",
   "execution_count": 128,
   "metadata": {},
   "outputs": [
    {
     "data": {
      "text/plain": [
       "'https://ars.transltr.io/ars/api/messages/615f54a8-cb94-497f-9152-ec883597c17b/615f54a8-cb94-497f-9152-ec883597c17b'"
      ]
     },
     "execution_count": 128,
     "metadata": {},
     "output_type": "execute_result"
    }
   ],
   "source": [
    "xt = f'{ars_url}/messages/{childmessage_id}/{mm}'\n",
    "xt"
   ]
  },
  {
   "cell_type": "code",
   "execution_count": 94,
   "metadata": {},
   "outputs": [
    {
     "data": {
      "text/plain": [
       "'https://ars.transltr.io/ars/api/model/615f54a8-cb94-497f-9152-ec883597c17b'"
      ]
     },
     "execution_count": 94,
     "metadata": {},
     "output_type": "execute_result"
    }
   ],
   "source": [
    "f'{ars_url}/model/{mm}'"
   ]
  },
  {
   "cell_type": "code",
   "execution_count": 98,
   "metadata": {},
   "outputs": [
    {
     "data": {
      "text/plain": [
       "<bound method Response.json of <Response [200]>>"
      ]
     },
     "execution_count": 98,
     "metadata": {},
     "output_type": "execute_result"
    }
   ],
   "source": [
    "requests.get(xt).json"
   ]
  },
  {
   "cell_type": "code",
   "execution_count": null,
   "metadata": {},
   "outputs": [],
   "source": [
    "childmessage_id = child['message']\n",
    "child_url = f'{ars_url}/messages/{childmessage_id}'\n",
    "\n",
    " child_response = requests.get(child_url).json()"
   ]
  },
  {
   "cell_type": "code",
   "execution_count": null,
   "metadata": {},
   "outputs": [],
   "source": [
    "result_status = retrieve_ars_results(kcresult)"
   ]
  },
  {
   "cell_type": "code",
   "execution_count": null,
   "metadata": {},
   "outputs": [],
   "source": [
    "kcresult"
   ]
  },
  {
   "cell_type": "code",
   "execution_count": null,
   "metadata": {},
   "outputs": [],
   "source": [
    "result_status "
   ]
  },
  {
   "cell_type": "code",
   "execution_count": null,
   "metadata": {},
   "outputs": [],
   "source": [
    "pwd"
   ]
  },
  {
   "cell_type": "code",
   "execution_count": null,
   "metadata": {},
   "outputs": [],
   "source": [
    "df"
   ]
  },
  {
   "cell_type": "code",
   "execution_count": null,
   "metadata": {},
   "outputs": [],
   "source": [
    "def make_hyperlink(value):\n",
    "    #url = \"https://custom.url/{}\"\n",
    "    return '=HYPERLINK(\"%s\", \"%s\")' % (value.format(value), value)"
   ]
  },
  {
   "cell_type": "code",
   "execution_count": null,
   "metadata": {},
   "outputs": [],
   "source": [
    "make_hyperlink('https://arax.ncats.io/?source=ARS&id=325cfd91-ee6c-48eb-8a09-7226bbafb482')"
   ]
  },
  {
   "cell_type": "code",
   "execution_count": null,
   "metadata": {},
   "outputs": [],
   "source": [
    "df.loc['pk_id'] = df.loc['pk_id'].apply(lambda x: make_hyperlink(x))"
   ]
  },
  {
   "cell_type": "code",
   "execution_count": null,
   "metadata": {},
   "outputs": [],
   "source": [
    "df"
   ]
  },
  {
   "cell_type": "code",
   "execution_count": null,
   "metadata": {},
   "outputs": [],
   "source": [
    "df.to_excel('test_ara_worklow.xlsx')"
   ]
  },
  {
   "cell_type": "code",
   "execution_count": null,
   "metadata": {},
   "outputs": [],
   "source": [
    "df"
   ]
  },
  {
   "cell_type": "code",
   "execution_count": 244,
   "metadata": {},
   "outputs": [],
   "source": [
    "def test_return(a,b):\n",
    "    y = a+b\n",
    "    x = a-b\n",
    "    \n",
    "    return [y,x]"
   ]
  },
  {
   "cell_type": "code",
   "execution_count": 245,
   "metadata": {},
   "outputs": [
    {
     "data": {
      "text/plain": [
       "[15, -5]"
      ]
     },
     "execution_count": 245,
     "metadata": {},
     "output_type": "execute_result"
    }
   ],
   "source": [
    "test_return(5,10)"
   ]
  },
  {
   "cell_type": "code",
   "execution_count": null,
   "metadata": {},
   "outputs": [],
   "source": []
  }
 ],
 "metadata": {
  "kernelspec": {
   "display_name": "Python 3",
   "language": "python",
   "name": "python3"
  },
  "language_info": {
   "codemirror_mode": {
    "name": "ipython",
    "version": 3
   },
   "file_extension": ".py",
   "mimetype": "text/x-python",
   "name": "python",
   "nbconvert_exporter": "python",
   "pygments_lexer": "ipython3",
   "version": "3.9.5"
  }
 },
 "nbformat": 4,
 "nbformat_minor": 2
}
