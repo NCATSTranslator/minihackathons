{
 "cells": [
  {
   "cell_type": "markdown",
   "metadata": {},
   "source": [
    "## This notebook was only created to test the ReadAndRunAllWorkFlows.py\n",
    "\n",
    "\n",
    "<br>\n",
    "<br>"
   ]
  },
  {
   "cell_type": "code",
   "execution_count": 1,
   "metadata": {},
   "outputs": [],
   "source": [
    "import requests\n",
    "import json\n",
    "from collections import defaultdict\n",
    "import os\n",
    "import pandas as pd"
   ]
  },
  {
   "cell_type": "code",
   "execution_count": 2,
   "metadata": {},
   "outputs": [],
   "source": [
    "def submit_to_ars(m,ars_url='https://ars.ci.transltr.io/ars/api',arax_url='https://arax.ncats.io'):\n",
    "    submit_url=f'{ars_url}/submit'\n",
    "    response = requests.post(submit_url,json=m)\n",
    "    try:\n",
    "        message_id = response.json()['pk']\n",
    "    except:\n",
    "        print('fail')\n",
    "        message_id = None\n",
    "    print(f'{arax_url}/?source=ARS&id={message_id}')\n",
    "    return message_id"
   ]
  },
  {
   "cell_type": "code",
   "execution_count": 3,
   "metadata": {},
   "outputs": [],
   "source": [
    "def retrieve_ars_results(mid,ars_url='https://ars.ci.transltr.io/ars/api'):\n",
    "    pk = 'https://arax.ncats.io/?source=ARS&id=' + mid\n",
    "    message_url = f'{ars_url}/messages/{mid}?trace=y'\n",
    "    response = requests.get(message_url)\n",
    "    j = response.json()\n",
    "    print( j['status'] )\n",
    "    results = {}\n",
    "    dictionary = {}\n",
    "    for child in j['children']:\n",
    "        print(child['status'])\n",
    "        if child['status']  == 'Done':\n",
    "            childmessage_id = child['message']\n",
    "            child_url = f'{ars_url}/messages/{childmessage_id}'\n",
    "            try:\n",
    "                child_response = requests.get(child_url).json()\n",
    "                nresults = len(child_response['fields']['data']['message']['results'])\n",
    "                if nresults > 0:\n",
    "                    results[child['actor']['agent']] = {'message':child_response['fields']['data']['message']}\n",
    "            except Exception as e:\n",
    "                nresults=0\n",
    "                child['status'] = 'ARS Error'\n",
    "        elif child['status'] == 'Error':\n",
    "            nresults=0\n",
    "            childmessage_id = child['message']\n",
    "            child_url = f'{ars_url}/messages/{childmessage_id}'\n",
    "            try:\n",
    "                child_response = requests.get(child_url).json()\n",
    "                results[child['actor']['agent']] = {'message':child_response['fields']['data']['message']}\n",
    "            except Exception as e:\n",
    "                #print(e)\n",
    "                child['status'] = 'ARS Error'\n",
    "        else:\n",
    "            nresults = 0\n",
    "            \n",
    "        dictionary['pk_id'] =  pk  \n",
    "            \n",
    "        if ((child['status'] == 'Done') & (nresults == 0)):\n",
    "            dictionary[child['actor']['agent']] = 'No Results'\n",
    "            #test =  [child['actor']['agent'], 'No Results']\n",
    "        elif ((child['status'] == 'ARS Error') & (nresults == 0)):\n",
    "            dictionary[child['actor']['agent']] = 'ARS Error'\n",
    "        elif ((child['status'] == 'Error') & (nresults == 0)):\n",
    "            dictionary[child['actor']['agent']] = 'Error'\n",
    "            #test =  [child['actor']['agent'], 'ARS Error']\n",
    "        elif ((child['status'] == 'Done') & (nresults != 0)):\n",
    "            #test =  [child['actor']['agent'], 'Results']\n",
    "            dictionary[child['actor']['agent']] = 'Results'\n",
    "        \n",
    "        \n",
    "        print(child['actor']['agent'], child['status'], nresults)\n",
    "        #test =  [child['actor']['agent'], child['status'], nresults]\n",
    "        #test2.append(test)\n",
    "    return dictionary\n",
    "\n",
    "\n",
    "#def submit_to_devars(m):\n",
    "#    return submit_to_ars(m,ars_url='https://ars-dev.transltr.io/ars/api',arax_url='https://arax.ncats.io')\n",
    "\n",
    "#def retrieve_devars_results(m):\n",
    "#     return retrieve_ars_results(m,ars_url='https://ars-dev.transltr.io/ars/api')\n",
    "\n",
    "def printjson(j):\n",
    "    print(json.dumps(j,indent=4))"
   ]
  },
  {
   "cell_type": "code",
   "execution_count": 4,
   "metadata": {},
   "outputs": [],
   "source": [
    "urls = ['/Users/priyash/Documents/GitHub/minihackathons/2021-12_demo/workflowA/EGFR_advanced.json', '/Users/priyash/Documents/GitHub/minihackathons/2021-12_demo/workflowA/A.1_RHOBTB2.json']"
   ]
  },
  {
   "cell_type": "code",
   "execution_count": 5,
   "metadata": {},
   "outputs": [
    {
     "name": "stdout",
     "output_type": "stream",
     "text": [
      "/Users/priyash/Documents/GitHub/minihackathons/2021-12_demo/workflowA/EGFR_advanced.json EGFR_advanced\n"
     ]
    },
    {
     "ename": "ConnectionError",
     "evalue": "HTTPSConnectionPool(host='ars.ci.transltr.io', port=443): Max retries exceeded with url: /ars/api/submit (Caused by NewConnectionError('<urllib3.connection.HTTPSConnection object at 0x11d632d90>: Failed to establish a new connection: [Errno 8] nodename nor servname provided, or not known'))",
     "output_type": "error",
     "traceback": [
      "\u001b[0;31m---------------------------------------------------------------------------\u001b[0m",
      "\u001b[0;31mgaierror\u001b[0m                                  Traceback (most recent call last)",
      "\u001b[0;32m/usr/local/lib/python3.9/site-packages/urllib3/connection.py\u001b[0m in \u001b[0;36m_new_conn\u001b[0;34m(self)\u001b[0m\n\u001b[1;32m    168\u001b[0m         \u001b[0;32mtry\u001b[0m\u001b[0;34m:\u001b[0m\u001b[0;34m\u001b[0m\u001b[0;34m\u001b[0m\u001b[0m\n\u001b[0;32m--> 169\u001b[0;31m             conn = connection.create_connection(\n\u001b[0m\u001b[1;32m    170\u001b[0m                 \u001b[0;34m(\u001b[0m\u001b[0mself\u001b[0m\u001b[0;34m.\u001b[0m\u001b[0m_dns_host\u001b[0m\u001b[0;34m,\u001b[0m \u001b[0mself\u001b[0m\u001b[0;34m.\u001b[0m\u001b[0mport\u001b[0m\u001b[0;34m)\u001b[0m\u001b[0;34m,\u001b[0m \u001b[0mself\u001b[0m\u001b[0;34m.\u001b[0m\u001b[0mtimeout\u001b[0m\u001b[0;34m,\u001b[0m \u001b[0;34m**\u001b[0m\u001b[0mextra_kw\u001b[0m\u001b[0;34m\u001b[0m\u001b[0;34m\u001b[0m\u001b[0m\n",
      "\u001b[0;32m/usr/local/lib/python3.9/site-packages/urllib3/util/connection.py\u001b[0m in \u001b[0;36mcreate_connection\u001b[0;34m(address, timeout, source_address, socket_options)\u001b[0m\n\u001b[1;32m     72\u001b[0m \u001b[0;34m\u001b[0m\u001b[0m\n\u001b[0;32m---> 73\u001b[0;31m     \u001b[0;32mfor\u001b[0m \u001b[0mres\u001b[0m \u001b[0;32min\u001b[0m \u001b[0msocket\u001b[0m\u001b[0;34m.\u001b[0m\u001b[0mgetaddrinfo\u001b[0m\u001b[0;34m(\u001b[0m\u001b[0mhost\u001b[0m\u001b[0;34m,\u001b[0m \u001b[0mport\u001b[0m\u001b[0;34m,\u001b[0m \u001b[0mfamily\u001b[0m\u001b[0;34m,\u001b[0m \u001b[0msocket\u001b[0m\u001b[0;34m.\u001b[0m\u001b[0mSOCK_STREAM\u001b[0m\u001b[0;34m)\u001b[0m\u001b[0;34m:\u001b[0m\u001b[0;34m\u001b[0m\u001b[0;34m\u001b[0m\u001b[0m\n\u001b[0m\u001b[1;32m     74\u001b[0m         \u001b[0maf\u001b[0m\u001b[0;34m,\u001b[0m \u001b[0msocktype\u001b[0m\u001b[0;34m,\u001b[0m \u001b[0mproto\u001b[0m\u001b[0;34m,\u001b[0m \u001b[0mcanonname\u001b[0m\u001b[0;34m,\u001b[0m \u001b[0msa\u001b[0m \u001b[0;34m=\u001b[0m \u001b[0mres\u001b[0m\u001b[0;34m\u001b[0m\u001b[0;34m\u001b[0m\u001b[0m\n",
      "\u001b[0;32m/usr/local/Cellar/python@3.9/3.9.5/Frameworks/Python.framework/Versions/3.9/lib/python3.9/socket.py\u001b[0m in \u001b[0;36mgetaddrinfo\u001b[0;34m(host, port, family, type, proto, flags)\u001b[0m\n\u001b[1;32m    952\u001b[0m     \u001b[0maddrlist\u001b[0m \u001b[0;34m=\u001b[0m \u001b[0;34m[\u001b[0m\u001b[0;34m]\u001b[0m\u001b[0;34m\u001b[0m\u001b[0;34m\u001b[0m\u001b[0m\n\u001b[0;32m--> 953\u001b[0;31m     \u001b[0;32mfor\u001b[0m \u001b[0mres\u001b[0m \u001b[0;32min\u001b[0m \u001b[0m_socket\u001b[0m\u001b[0;34m.\u001b[0m\u001b[0mgetaddrinfo\u001b[0m\u001b[0;34m(\u001b[0m\u001b[0mhost\u001b[0m\u001b[0;34m,\u001b[0m \u001b[0mport\u001b[0m\u001b[0;34m,\u001b[0m \u001b[0mfamily\u001b[0m\u001b[0;34m,\u001b[0m \u001b[0mtype\u001b[0m\u001b[0;34m,\u001b[0m \u001b[0mproto\u001b[0m\u001b[0;34m,\u001b[0m \u001b[0mflags\u001b[0m\u001b[0;34m)\u001b[0m\u001b[0;34m:\u001b[0m\u001b[0;34m\u001b[0m\u001b[0;34m\u001b[0m\u001b[0m\n\u001b[0m\u001b[1;32m    954\u001b[0m         \u001b[0maf\u001b[0m\u001b[0;34m,\u001b[0m \u001b[0msocktype\u001b[0m\u001b[0;34m,\u001b[0m \u001b[0mproto\u001b[0m\u001b[0;34m,\u001b[0m \u001b[0mcanonname\u001b[0m\u001b[0;34m,\u001b[0m \u001b[0msa\u001b[0m \u001b[0;34m=\u001b[0m \u001b[0mres\u001b[0m\u001b[0;34m\u001b[0m\u001b[0;34m\u001b[0m\u001b[0m\n",
      "\u001b[0;31mgaierror\u001b[0m: [Errno 8] nodename nor servname provided, or not known",
      "\nDuring handling of the above exception, another exception occurred:\n",
      "\u001b[0;31mNewConnectionError\u001b[0m                        Traceback (most recent call last)",
      "\u001b[0;32m/usr/local/lib/python3.9/site-packages/urllib3/connectionpool.py\u001b[0m in \u001b[0;36murlopen\u001b[0;34m(self, method, url, body, headers, retries, redirect, assert_same_host, timeout, pool_timeout, release_conn, chunked, body_pos, **response_kw)\u001b[0m\n\u001b[1;32m    698\u001b[0m             \u001b[0;31m# Make the request on the httplib connection object.\u001b[0m\u001b[0;34m\u001b[0m\u001b[0;34m\u001b[0m\u001b[0;34m\u001b[0m\u001b[0m\n\u001b[0;32m--> 699\u001b[0;31m             httplib_response = self._make_request(\n\u001b[0m\u001b[1;32m    700\u001b[0m                 \u001b[0mconn\u001b[0m\u001b[0;34m,\u001b[0m\u001b[0;34m\u001b[0m\u001b[0;34m\u001b[0m\u001b[0m\n",
      "\u001b[0;32m/usr/local/lib/python3.9/site-packages/urllib3/connectionpool.py\u001b[0m in \u001b[0;36m_make_request\u001b[0;34m(self, conn, method, url, timeout, chunked, **httplib_request_kw)\u001b[0m\n\u001b[1;32m    381\u001b[0m         \u001b[0;32mtry\u001b[0m\u001b[0;34m:\u001b[0m\u001b[0;34m\u001b[0m\u001b[0;34m\u001b[0m\u001b[0m\n\u001b[0;32m--> 382\u001b[0;31m             \u001b[0mself\u001b[0m\u001b[0;34m.\u001b[0m\u001b[0m_validate_conn\u001b[0m\u001b[0;34m(\u001b[0m\u001b[0mconn\u001b[0m\u001b[0;34m)\u001b[0m\u001b[0;34m\u001b[0m\u001b[0;34m\u001b[0m\u001b[0m\n\u001b[0m\u001b[1;32m    383\u001b[0m         \u001b[0;32mexcept\u001b[0m \u001b[0;34m(\u001b[0m\u001b[0mSocketTimeout\u001b[0m\u001b[0;34m,\u001b[0m \u001b[0mBaseSSLError\u001b[0m\u001b[0;34m)\u001b[0m \u001b[0;32mas\u001b[0m \u001b[0me\u001b[0m\u001b[0;34m:\u001b[0m\u001b[0;34m\u001b[0m\u001b[0;34m\u001b[0m\u001b[0m\n",
      "\u001b[0;32m/usr/local/lib/python3.9/site-packages/urllib3/connectionpool.py\u001b[0m in \u001b[0;36m_validate_conn\u001b[0;34m(self, conn)\u001b[0m\n\u001b[1;32m   1009\u001b[0m         \u001b[0;32mif\u001b[0m \u001b[0;32mnot\u001b[0m \u001b[0mgetattr\u001b[0m\u001b[0;34m(\u001b[0m\u001b[0mconn\u001b[0m\u001b[0;34m,\u001b[0m \u001b[0;34m\"sock\"\u001b[0m\u001b[0;34m,\u001b[0m \u001b[0;32mNone\u001b[0m\u001b[0;34m)\u001b[0m\u001b[0;34m:\u001b[0m  \u001b[0;31m# AppEngine might not have  `.sock`\u001b[0m\u001b[0;34m\u001b[0m\u001b[0;34m\u001b[0m\u001b[0m\n\u001b[0;32m-> 1010\u001b[0;31m             \u001b[0mconn\u001b[0m\u001b[0;34m.\u001b[0m\u001b[0mconnect\u001b[0m\u001b[0;34m(\u001b[0m\u001b[0;34m)\u001b[0m\u001b[0;34m\u001b[0m\u001b[0;34m\u001b[0m\u001b[0m\n\u001b[0m\u001b[1;32m   1011\u001b[0m \u001b[0;34m\u001b[0m\u001b[0m\n",
      "\u001b[0;32m/usr/local/lib/python3.9/site-packages/urllib3/connection.py\u001b[0m in \u001b[0;36mconnect\u001b[0;34m(self)\u001b[0m\n\u001b[1;32m    352\u001b[0m         \u001b[0;31m# Add certificate verification\u001b[0m\u001b[0;34m\u001b[0m\u001b[0;34m\u001b[0m\u001b[0;34m\u001b[0m\u001b[0m\n\u001b[0;32m--> 353\u001b[0;31m         \u001b[0mconn\u001b[0m \u001b[0;34m=\u001b[0m \u001b[0mself\u001b[0m\u001b[0;34m.\u001b[0m\u001b[0m_new_conn\u001b[0m\u001b[0;34m(\u001b[0m\u001b[0;34m)\u001b[0m\u001b[0;34m\u001b[0m\u001b[0;34m\u001b[0m\u001b[0m\n\u001b[0m\u001b[1;32m    354\u001b[0m         \u001b[0mhostname\u001b[0m \u001b[0;34m=\u001b[0m \u001b[0mself\u001b[0m\u001b[0;34m.\u001b[0m\u001b[0mhost\u001b[0m\u001b[0;34m\u001b[0m\u001b[0;34m\u001b[0m\u001b[0m\n",
      "\u001b[0;32m/usr/local/lib/python3.9/site-packages/urllib3/connection.py\u001b[0m in \u001b[0;36m_new_conn\u001b[0;34m(self)\u001b[0m\n\u001b[1;32m    180\u001b[0m         \u001b[0;32mexcept\u001b[0m \u001b[0mSocketError\u001b[0m \u001b[0;32mas\u001b[0m \u001b[0me\u001b[0m\u001b[0;34m:\u001b[0m\u001b[0;34m\u001b[0m\u001b[0;34m\u001b[0m\u001b[0m\n\u001b[0;32m--> 181\u001b[0;31m             raise NewConnectionError(\n\u001b[0m\u001b[1;32m    182\u001b[0m                 \u001b[0mself\u001b[0m\u001b[0;34m,\u001b[0m \u001b[0;34m\"Failed to establish a new connection: %s\"\u001b[0m \u001b[0;34m%\u001b[0m \u001b[0me\u001b[0m\u001b[0;34m\u001b[0m\u001b[0;34m\u001b[0m\u001b[0m\n",
      "\u001b[0;31mNewConnectionError\u001b[0m: <urllib3.connection.HTTPSConnection object at 0x11d632d90>: Failed to establish a new connection: [Errno 8] nodename nor servname provided, or not known",
      "\nDuring handling of the above exception, another exception occurred:\n",
      "\u001b[0;31mMaxRetryError\u001b[0m                             Traceback (most recent call last)",
      "\u001b[0;32m/usr/local/lib/python3.9/site-packages/requests/adapters.py\u001b[0m in \u001b[0;36msend\u001b[0;34m(self, request, stream, timeout, verify, cert, proxies)\u001b[0m\n\u001b[1;32m    438\u001b[0m             \u001b[0;32mif\u001b[0m \u001b[0;32mnot\u001b[0m \u001b[0mchunked\u001b[0m\u001b[0;34m:\u001b[0m\u001b[0;34m\u001b[0m\u001b[0;34m\u001b[0m\u001b[0m\n\u001b[0;32m--> 439\u001b[0;31m                 resp = conn.urlopen(\n\u001b[0m\u001b[1;32m    440\u001b[0m                     \u001b[0mmethod\u001b[0m\u001b[0;34m=\u001b[0m\u001b[0mrequest\u001b[0m\u001b[0;34m.\u001b[0m\u001b[0mmethod\u001b[0m\u001b[0;34m,\u001b[0m\u001b[0;34m\u001b[0m\u001b[0;34m\u001b[0m\u001b[0m\n",
      "\u001b[0;32m/usr/local/lib/python3.9/site-packages/urllib3/connectionpool.py\u001b[0m in \u001b[0;36murlopen\u001b[0;34m(self, method, url, body, headers, retries, redirect, assert_same_host, timeout, pool_timeout, release_conn, chunked, body_pos, **response_kw)\u001b[0m\n\u001b[1;32m    754\u001b[0m \u001b[0;34m\u001b[0m\u001b[0m\n\u001b[0;32m--> 755\u001b[0;31m             retries = retries.increment(\n\u001b[0m\u001b[1;32m    756\u001b[0m                 \u001b[0mmethod\u001b[0m\u001b[0;34m,\u001b[0m \u001b[0murl\u001b[0m\u001b[0;34m,\u001b[0m \u001b[0merror\u001b[0m\u001b[0;34m=\u001b[0m\u001b[0me\u001b[0m\u001b[0;34m,\u001b[0m \u001b[0m_pool\u001b[0m\u001b[0;34m=\u001b[0m\u001b[0mself\u001b[0m\u001b[0;34m,\u001b[0m \u001b[0m_stacktrace\u001b[0m\u001b[0;34m=\u001b[0m\u001b[0msys\u001b[0m\u001b[0;34m.\u001b[0m\u001b[0mexc_info\u001b[0m\u001b[0;34m(\u001b[0m\u001b[0;34m)\u001b[0m\u001b[0;34m[\u001b[0m\u001b[0;36m2\u001b[0m\u001b[0;34m]\u001b[0m\u001b[0;34m\u001b[0m\u001b[0;34m\u001b[0m\u001b[0m\n",
      "\u001b[0;32m/usr/local/lib/python3.9/site-packages/urllib3/util/retry.py\u001b[0m in \u001b[0;36mincrement\u001b[0;34m(self, method, url, response, error, _pool, _stacktrace)\u001b[0m\n\u001b[1;32m    573\u001b[0m         \u001b[0;32mif\u001b[0m \u001b[0mnew_retry\u001b[0m\u001b[0;34m.\u001b[0m\u001b[0mis_exhausted\u001b[0m\u001b[0;34m(\u001b[0m\u001b[0;34m)\u001b[0m\u001b[0;34m:\u001b[0m\u001b[0;34m\u001b[0m\u001b[0;34m\u001b[0m\u001b[0m\n\u001b[0;32m--> 574\u001b[0;31m             \u001b[0;32mraise\u001b[0m \u001b[0mMaxRetryError\u001b[0m\u001b[0;34m(\u001b[0m\u001b[0m_pool\u001b[0m\u001b[0;34m,\u001b[0m \u001b[0murl\u001b[0m\u001b[0;34m,\u001b[0m \u001b[0merror\u001b[0m \u001b[0;32mor\u001b[0m \u001b[0mResponseError\u001b[0m\u001b[0;34m(\u001b[0m\u001b[0mcause\u001b[0m\u001b[0;34m)\u001b[0m\u001b[0;34m)\u001b[0m\u001b[0;34m\u001b[0m\u001b[0;34m\u001b[0m\u001b[0m\n\u001b[0m\u001b[1;32m    575\u001b[0m \u001b[0;34m\u001b[0m\u001b[0m\n",
      "\u001b[0;31mMaxRetryError\u001b[0m: HTTPSConnectionPool(host='ars.ci.transltr.io', port=443): Max retries exceeded with url: /ars/api/submit (Caused by NewConnectionError('<urllib3.connection.HTTPSConnection object at 0x11d632d90>: Failed to establish a new connection: [Errno 8] nodename nor servname provided, or not known'))",
      "\nDuring handling of the above exception, another exception occurred:\n",
      "\u001b[0;31mConnectionError\u001b[0m                           Traceback (most recent call last)",
      "\u001b[0;32m<ipython-input-5-d41a5de63fe5>\u001b[0m in \u001b[0;36m<module>\u001b[0;34m\u001b[0m\n\u001b[1;32m      5\u001b[0m     \u001b[0;32mwith\u001b[0m \u001b[0mopen\u001b[0m\u001b[0;34m(\u001b[0m\u001b[0mi\u001b[0m\u001b[0;34m,\u001b[0m\u001b[0;34m'r'\u001b[0m\u001b[0;34m)\u001b[0m \u001b[0;32mas\u001b[0m \u001b[0minf\u001b[0m\u001b[0;34m:\u001b[0m\u001b[0;34m\u001b[0m\u001b[0;34m\u001b[0m\u001b[0m\n\u001b[1;32m      6\u001b[0m         \u001b[0mquery\u001b[0m \u001b[0;34m=\u001b[0m \u001b[0mjson\u001b[0m\u001b[0;34m.\u001b[0m\u001b[0mload\u001b[0m\u001b[0;34m(\u001b[0m\u001b[0minf\u001b[0m\u001b[0;34m)\u001b[0m\u001b[0;34m\u001b[0m\u001b[0;34m\u001b[0m\u001b[0m\n\u001b[0;32m----> 7\u001b[0;31m         \u001b[0mkcresult\u001b[0m \u001b[0;34m=\u001b[0m \u001b[0msubmit_to_ars\u001b[0m\u001b[0;34m(\u001b[0m\u001b[0mquery\u001b[0m\u001b[0;34m)\u001b[0m\u001b[0;34m\u001b[0m\u001b[0;34m\u001b[0m\u001b[0m\n\u001b[0m\u001b[1;32m      8\u001b[0m         \u001b[0;31m#xx = retrieve_devars_results(kcresult)\u001b[0m\u001b[0;34m\u001b[0m\u001b[0;34m\u001b[0m\u001b[0;34m\u001b[0m\u001b[0m\n\u001b[1;32m      9\u001b[0m \u001b[0;34m\u001b[0m\u001b[0m\n",
      "\u001b[0;32m<ipython-input-2-32537118e026>\u001b[0m in \u001b[0;36msubmit_to_ars\u001b[0;34m(m, ars_url, arax_url)\u001b[0m\n\u001b[1;32m      1\u001b[0m \u001b[0;32mdef\u001b[0m \u001b[0msubmit_to_ars\u001b[0m\u001b[0;34m(\u001b[0m\u001b[0mm\u001b[0m\u001b[0;34m,\u001b[0m\u001b[0mars_url\u001b[0m\u001b[0;34m=\u001b[0m\u001b[0;34m'https://ars.ci.transltr.io/ars/api'\u001b[0m\u001b[0;34m,\u001b[0m\u001b[0marax_url\u001b[0m\u001b[0;34m=\u001b[0m\u001b[0;34m'https://arax.ncats.io'\u001b[0m\u001b[0;34m)\u001b[0m\u001b[0;34m:\u001b[0m\u001b[0;34m\u001b[0m\u001b[0;34m\u001b[0m\u001b[0m\n\u001b[1;32m      2\u001b[0m     \u001b[0msubmit_url\u001b[0m\u001b[0;34m=\u001b[0m\u001b[0;34mf'{ars_url}/submit'\u001b[0m\u001b[0;34m\u001b[0m\u001b[0;34m\u001b[0m\u001b[0m\n\u001b[0;32m----> 3\u001b[0;31m     \u001b[0mresponse\u001b[0m \u001b[0;34m=\u001b[0m \u001b[0mrequests\u001b[0m\u001b[0;34m.\u001b[0m\u001b[0mpost\u001b[0m\u001b[0;34m(\u001b[0m\u001b[0msubmit_url\u001b[0m\u001b[0;34m,\u001b[0m\u001b[0mjson\u001b[0m\u001b[0;34m=\u001b[0m\u001b[0mm\u001b[0m\u001b[0;34m)\u001b[0m\u001b[0;34m\u001b[0m\u001b[0;34m\u001b[0m\u001b[0m\n\u001b[0m\u001b[1;32m      4\u001b[0m     \u001b[0;32mtry\u001b[0m\u001b[0;34m:\u001b[0m\u001b[0;34m\u001b[0m\u001b[0;34m\u001b[0m\u001b[0m\n\u001b[1;32m      5\u001b[0m         \u001b[0mmessage_id\u001b[0m \u001b[0;34m=\u001b[0m \u001b[0mresponse\u001b[0m\u001b[0;34m.\u001b[0m\u001b[0mjson\u001b[0m\u001b[0;34m(\u001b[0m\u001b[0;34m)\u001b[0m\u001b[0;34m[\u001b[0m\u001b[0;34m'pk'\u001b[0m\u001b[0;34m]\u001b[0m\u001b[0;34m\u001b[0m\u001b[0;34m\u001b[0m\u001b[0m\n",
      "\u001b[0;32m/usr/local/lib/python3.9/site-packages/requests/api.py\u001b[0m in \u001b[0;36mpost\u001b[0;34m(url, data, json, **kwargs)\u001b[0m\n\u001b[1;32m    117\u001b[0m     \"\"\"\n\u001b[1;32m    118\u001b[0m \u001b[0;34m\u001b[0m\u001b[0m\n\u001b[0;32m--> 119\u001b[0;31m     \u001b[0;32mreturn\u001b[0m \u001b[0mrequest\u001b[0m\u001b[0;34m(\u001b[0m\u001b[0;34m'post'\u001b[0m\u001b[0;34m,\u001b[0m \u001b[0murl\u001b[0m\u001b[0;34m,\u001b[0m \u001b[0mdata\u001b[0m\u001b[0;34m=\u001b[0m\u001b[0mdata\u001b[0m\u001b[0;34m,\u001b[0m \u001b[0mjson\u001b[0m\u001b[0;34m=\u001b[0m\u001b[0mjson\u001b[0m\u001b[0;34m,\u001b[0m \u001b[0;34m**\u001b[0m\u001b[0mkwargs\u001b[0m\u001b[0;34m)\u001b[0m\u001b[0;34m\u001b[0m\u001b[0;34m\u001b[0m\u001b[0m\n\u001b[0m\u001b[1;32m    120\u001b[0m \u001b[0;34m\u001b[0m\u001b[0m\n\u001b[1;32m    121\u001b[0m \u001b[0;34m\u001b[0m\u001b[0m\n",
      "\u001b[0;32m/usr/local/lib/python3.9/site-packages/requests/api.py\u001b[0m in \u001b[0;36mrequest\u001b[0;34m(method, url, **kwargs)\u001b[0m\n\u001b[1;32m     59\u001b[0m     \u001b[0;31m# cases, and look like a memory leak in others.\u001b[0m\u001b[0;34m\u001b[0m\u001b[0;34m\u001b[0m\u001b[0;34m\u001b[0m\u001b[0m\n\u001b[1;32m     60\u001b[0m     \u001b[0;32mwith\u001b[0m \u001b[0msessions\u001b[0m\u001b[0;34m.\u001b[0m\u001b[0mSession\u001b[0m\u001b[0;34m(\u001b[0m\u001b[0;34m)\u001b[0m \u001b[0;32mas\u001b[0m \u001b[0msession\u001b[0m\u001b[0;34m:\u001b[0m\u001b[0;34m\u001b[0m\u001b[0;34m\u001b[0m\u001b[0m\n\u001b[0;32m---> 61\u001b[0;31m         \u001b[0;32mreturn\u001b[0m \u001b[0msession\u001b[0m\u001b[0;34m.\u001b[0m\u001b[0mrequest\u001b[0m\u001b[0;34m(\u001b[0m\u001b[0mmethod\u001b[0m\u001b[0;34m=\u001b[0m\u001b[0mmethod\u001b[0m\u001b[0;34m,\u001b[0m \u001b[0murl\u001b[0m\u001b[0;34m=\u001b[0m\u001b[0murl\u001b[0m\u001b[0;34m,\u001b[0m \u001b[0;34m**\u001b[0m\u001b[0mkwargs\u001b[0m\u001b[0;34m)\u001b[0m\u001b[0;34m\u001b[0m\u001b[0;34m\u001b[0m\u001b[0m\n\u001b[0m\u001b[1;32m     62\u001b[0m \u001b[0;34m\u001b[0m\u001b[0m\n\u001b[1;32m     63\u001b[0m \u001b[0;34m\u001b[0m\u001b[0m\n",
      "\u001b[0;32m/usr/local/lib/python3.9/site-packages/requests/sessions.py\u001b[0m in \u001b[0;36mrequest\u001b[0;34m(self, method, url, params, data, headers, cookies, files, auth, timeout, allow_redirects, proxies, hooks, stream, verify, cert, json)\u001b[0m\n\u001b[1;32m    540\u001b[0m         }\n\u001b[1;32m    541\u001b[0m         \u001b[0msend_kwargs\u001b[0m\u001b[0;34m.\u001b[0m\u001b[0mupdate\u001b[0m\u001b[0;34m(\u001b[0m\u001b[0msettings\u001b[0m\u001b[0;34m)\u001b[0m\u001b[0;34m\u001b[0m\u001b[0;34m\u001b[0m\u001b[0m\n\u001b[0;32m--> 542\u001b[0;31m         \u001b[0mresp\u001b[0m \u001b[0;34m=\u001b[0m \u001b[0mself\u001b[0m\u001b[0;34m.\u001b[0m\u001b[0msend\u001b[0m\u001b[0;34m(\u001b[0m\u001b[0mprep\u001b[0m\u001b[0;34m,\u001b[0m \u001b[0;34m**\u001b[0m\u001b[0msend_kwargs\u001b[0m\u001b[0;34m)\u001b[0m\u001b[0;34m\u001b[0m\u001b[0;34m\u001b[0m\u001b[0m\n\u001b[0m\u001b[1;32m    543\u001b[0m \u001b[0;34m\u001b[0m\u001b[0m\n\u001b[1;32m    544\u001b[0m         \u001b[0;32mreturn\u001b[0m \u001b[0mresp\u001b[0m\u001b[0;34m\u001b[0m\u001b[0;34m\u001b[0m\u001b[0m\n",
      "\u001b[0;32m/usr/local/lib/python3.9/site-packages/requests/sessions.py\u001b[0m in \u001b[0;36msend\u001b[0;34m(self, request, **kwargs)\u001b[0m\n\u001b[1;32m    653\u001b[0m \u001b[0;34m\u001b[0m\u001b[0m\n\u001b[1;32m    654\u001b[0m         \u001b[0;31m# Send the request\u001b[0m\u001b[0;34m\u001b[0m\u001b[0;34m\u001b[0m\u001b[0;34m\u001b[0m\u001b[0m\n\u001b[0;32m--> 655\u001b[0;31m         \u001b[0mr\u001b[0m \u001b[0;34m=\u001b[0m \u001b[0madapter\u001b[0m\u001b[0;34m.\u001b[0m\u001b[0msend\u001b[0m\u001b[0;34m(\u001b[0m\u001b[0mrequest\u001b[0m\u001b[0;34m,\u001b[0m \u001b[0;34m**\u001b[0m\u001b[0mkwargs\u001b[0m\u001b[0;34m)\u001b[0m\u001b[0;34m\u001b[0m\u001b[0;34m\u001b[0m\u001b[0m\n\u001b[0m\u001b[1;32m    656\u001b[0m \u001b[0;34m\u001b[0m\u001b[0m\n\u001b[1;32m    657\u001b[0m         \u001b[0;31m# Total elapsed time of the request (approximately)\u001b[0m\u001b[0;34m\u001b[0m\u001b[0;34m\u001b[0m\u001b[0;34m\u001b[0m\u001b[0m\n",
      "\u001b[0;32m/usr/local/lib/python3.9/site-packages/requests/adapters.py\u001b[0m in \u001b[0;36msend\u001b[0;34m(self, request, stream, timeout, verify, cert, proxies)\u001b[0m\n\u001b[1;32m    514\u001b[0m                 \u001b[0;32mraise\u001b[0m \u001b[0mSSLError\u001b[0m\u001b[0;34m(\u001b[0m\u001b[0me\u001b[0m\u001b[0;34m,\u001b[0m \u001b[0mrequest\u001b[0m\u001b[0;34m=\u001b[0m\u001b[0mrequest\u001b[0m\u001b[0;34m)\u001b[0m\u001b[0;34m\u001b[0m\u001b[0;34m\u001b[0m\u001b[0m\n\u001b[1;32m    515\u001b[0m \u001b[0;34m\u001b[0m\u001b[0m\n\u001b[0;32m--> 516\u001b[0;31m             \u001b[0;32mraise\u001b[0m \u001b[0mConnectionError\u001b[0m\u001b[0;34m(\u001b[0m\u001b[0me\u001b[0m\u001b[0;34m,\u001b[0m \u001b[0mrequest\u001b[0m\u001b[0;34m=\u001b[0m\u001b[0mrequest\u001b[0m\u001b[0;34m)\u001b[0m\u001b[0;34m\u001b[0m\u001b[0;34m\u001b[0m\u001b[0m\n\u001b[0m\u001b[1;32m    517\u001b[0m \u001b[0;34m\u001b[0m\u001b[0m\n\u001b[1;32m    518\u001b[0m         \u001b[0;32mexcept\u001b[0m \u001b[0mClosedPoolError\u001b[0m \u001b[0;32mas\u001b[0m \u001b[0me\u001b[0m\u001b[0;34m:\u001b[0m\u001b[0;34m\u001b[0m\u001b[0;34m\u001b[0m\u001b[0m\n",
      "\u001b[0;31mConnectionError\u001b[0m: HTTPSConnectionPool(host='ars.ci.transltr.io', port=443): Max retries exceeded with url: /ars/api/submit (Caused by NewConnectionError('<urllib3.connection.HTTPSConnection object at 0x11d632d90>: Failed to establish a new connection: [Errno 8] nodename nor servname provided, or not known'))"
     ]
    }
   ],
   "source": [
    "dict_workflows = {}\n",
    "for i in urls:\n",
    "    feature = (os.path.splitext(os.path.basename(i))[0])\n",
    "    print(i, feature)\n",
    "    with open(i,'r') as inf:\n",
    "        query = json.load(inf)\n",
    "        kcresult = submit_to_ars(query)\n",
    "        #xx = retrieve_devars_results(kcresult)\n",
    "        \n",
    "        dict_workflows[feature] = kcresult"
   ]
  },
  {
   "cell_type": "code",
   "execution_count": 25,
   "metadata": {},
   "outputs": [
    {
     "data": {
      "text/plain": [
       "{'EGFR_advanced': '3c2c11f1-3db7-4050-996d-b6dd19768296',\n",
       " 'A.1_RHOBTB2': '325cfd91-ee6c-48eb-8a09-7226bbafb482'}"
      ]
     },
     "execution_count": 25,
     "metadata": {},
     "output_type": "execute_result"
    }
   ],
   "source": [
    "dict_workflows"
   ]
  },
  {
   "cell_type": "code",
   "execution_count": 102,
   "metadata": {},
   "outputs": [
    {
     "name": "stdout",
     "output_type": "stream",
     "text": [
      "EGFR_advanced 3c2c11f1-3db7-4050-996d-b6dd19768296\n",
      "Done\n",
      "Done\n",
      "kp-icees Done 0\n",
      "Done\n",
      "ara-explanatory Done 0\n",
      "Error\n",
      "kp-cohd Error 0\n",
      "Done\n",
      "kp-cam Done 0\n",
      "Done\n",
      "ara-improving ARS Error 0\n",
      "Error\n",
      "ara-aragorn Error 0\n",
      "Done\n",
      "kp-textmining Done 0\n",
      "Done\n",
      "ara-bte Done 0\n",
      "Done\n",
      "ara-unsecret Done 0\n",
      "Done\n",
      "kp-chp Done 0\n",
      "Error\n",
      "ara-arax Error 0\n",
      "Done\n",
      "kp-genetics Done 0\n",
      "Done\n",
      "kp-openpredict Done 0\n",
      "Done\n",
      "kp-molecular Done 0\n",
      "A.1_RHOBTB2 325cfd91-ee6c-48eb-8a09-7226bbafb482\n",
      "Done\n",
      "Done\n",
      "kp-cam Done 0\n",
      "Done\n",
      "ara-bte Done 8\n",
      "Done\n",
      "ara-aragorn Done 4\n",
      "Done\n",
      "kp-textmining Done 0\n",
      "Done\n",
      "kp-chp Done 0\n",
      "Done\n",
      "kp-icees Done 0\n",
      "Done\n",
      "ara-arax Done 9\n",
      "Done\n",
      "kp-openpredict Done 0\n",
      "Done\n",
      "ara-improving Done 4\n",
      "Error\n",
      "kp-cohd Error 0\n",
      "Done\n",
      "ara-unsecret Done 0\n",
      "Done\n",
      "kp-molecular Done 0\n",
      "Done\n",
      "kp-genetics Done 0\n",
      "Done\n",
      "ara-explanatory Done 0\n"
     ]
    }
   ],
   "source": [
    "workflow_result_messages = {}\n",
    "for keys, val in dict_workflows.items():\n",
    "    print(keys, val)\n",
    "    \n",
    "    result_status = retrieve_ars_results(val)\n",
    "    \n",
    "    workflow_result_messages[keys] = result_status"
   ]
  },
  {
   "cell_type": "code",
   "execution_count": 103,
   "metadata": {},
   "outputs": [
    {
     "data": {
      "text/plain": [
       "{'EGFR_advanced': {'pk_id': 'https://arax.ncats.io/?source=ARS&id=3c2c11f1-3db7-4050-996d-b6dd19768296',\n",
       "  'kp-icees': 'No Results',\n",
       "  'ara-explanatory': 'No Results',\n",
       "  'kp-cohd': 'Error',\n",
       "  'kp-cam': 'No Results',\n",
       "  'ara-improving': 'ARS Error',\n",
       "  'ara-aragorn': 'Error',\n",
       "  'kp-textmining': 'No Results',\n",
       "  'ara-bte': 'No Results',\n",
       "  'ara-unsecret': 'No Results',\n",
       "  'kp-chp': 'No Results',\n",
       "  'ara-arax': 'Error',\n",
       "  'kp-genetics': 'No Results',\n",
       "  'kp-openpredict': 'No Results',\n",
       "  'kp-molecular': 'No Results'},\n",
       " 'A.1_RHOBTB2': {'pk_id': 'https://arax.ncats.io/?source=ARS&id=325cfd91-ee6c-48eb-8a09-7226bbafb482',\n",
       "  'kp-cam': 'No Results',\n",
       "  'ara-bte': 'Results',\n",
       "  'ara-aragorn': 'Results',\n",
       "  'kp-textmining': 'No Results',\n",
       "  'kp-chp': 'No Results',\n",
       "  'kp-icees': 'No Results',\n",
       "  'ara-arax': 'Results',\n",
       "  'kp-openpredict': 'No Results',\n",
       "  'ara-improving': 'Results',\n",
       "  'kp-cohd': 'Error',\n",
       "  'ara-unsecret': 'No Results',\n",
       "  'kp-molecular': 'No Results',\n",
       "  'kp-genetics': 'No Results',\n",
       "  'ara-explanatory': 'No Results'}}"
      ]
     },
     "execution_count": 103,
     "metadata": {},
     "output_type": "execute_result"
    }
   ],
   "source": [
    "workflow_result_messages"
   ]
  },
  {
   "cell_type": "code",
   "execution_count": 159,
   "metadata": {},
   "outputs": [
    {
     "name": "stdout",
     "output_type": "stream",
     "text": [
      "A.1_RHOBTB2\n",
      "EGFR_advanced\n"
     ]
    }
   ],
   "source": [
    "col = []\n",
    "final_dict = defaultdict(list)\n",
    "for k in sorted(workflow_result_messages):\n",
    "    print(k)\n",
    "    col.append(k)\n",
    "    \n",
    "    for key, value in workflow_result_messages[k].items():\n",
    "        if key.startswith('kp-'):\n",
    "            key_mod = key.replace('kp-','')\n",
    "        else:\n",
    "            key_mod = key\n",
    "        \n",
    "        final_dict[key_mod].append(value)\n",
    "\n",
    "    final_dict = dict(final_dict)\n",
    "    \n",
    "df = pd.DataFrame(final_dict).T\n",
    "df.rename(columns=dict(zip(df.columns, col)), inplace=True)"
   ]
  },
  {
   "cell_type": "code",
   "execution_count": 160,
   "metadata": {},
   "outputs": [
    {
     "data": {
      "text/html": [
       "<div>\n",
       "<style scoped>\n",
       "    .dataframe tbody tr th:only-of-type {\n",
       "        vertical-align: middle;\n",
       "    }\n",
       "\n",
       "    .dataframe tbody tr th {\n",
       "        vertical-align: top;\n",
       "    }\n",
       "\n",
       "    .dataframe thead th {\n",
       "        text-align: right;\n",
       "    }\n",
       "</style>\n",
       "<table border=\"1\" class=\"dataframe\">\n",
       "  <thead>\n",
       "    <tr style=\"text-align: right;\">\n",
       "      <th></th>\n",
       "      <th>A.1_RHOBTB2</th>\n",
       "      <th>EGFR_advanced</th>\n",
       "    </tr>\n",
       "  </thead>\n",
       "  <tbody>\n",
       "    <tr>\n",
       "      <th>pk_id</th>\n",
       "      <td>https://arax.ncats.io/?source=ARS&amp;id=325cfd91-...</td>\n",
       "      <td>https://arax.ncats.io/?source=ARS&amp;id=3c2c11f1-...</td>\n",
       "    </tr>\n",
       "    <tr>\n",
       "      <th>cam</th>\n",
       "      <td>No Results</td>\n",
       "      <td>No Results</td>\n",
       "    </tr>\n",
       "    <tr>\n",
       "      <th>ara-bte</th>\n",
       "      <td>Results</td>\n",
       "      <td>No Results</td>\n",
       "    </tr>\n",
       "    <tr>\n",
       "      <th>ara-aragorn</th>\n",
       "      <td>Results</td>\n",
       "      <td>Error</td>\n",
       "    </tr>\n",
       "    <tr>\n",
       "      <th>textmining</th>\n",
       "      <td>No Results</td>\n",
       "      <td>No Results</td>\n",
       "    </tr>\n",
       "    <tr>\n",
       "      <th>chp</th>\n",
       "      <td>No Results</td>\n",
       "      <td>No Results</td>\n",
       "    </tr>\n",
       "    <tr>\n",
       "      <th>icees</th>\n",
       "      <td>No Results</td>\n",
       "      <td>No Results</td>\n",
       "    </tr>\n",
       "    <tr>\n",
       "      <th>ara-arax</th>\n",
       "      <td>Results</td>\n",
       "      <td>Error</td>\n",
       "    </tr>\n",
       "    <tr>\n",
       "      <th>openpredict</th>\n",
       "      <td>No Results</td>\n",
       "      <td>No Results</td>\n",
       "    </tr>\n",
       "    <tr>\n",
       "      <th>ara-improving</th>\n",
       "      <td>Results</td>\n",
       "      <td>ARS Error</td>\n",
       "    </tr>\n",
       "    <tr>\n",
       "      <th>cohd</th>\n",
       "      <td>Error</td>\n",
       "      <td>Error</td>\n",
       "    </tr>\n",
       "    <tr>\n",
       "      <th>ara-unsecret</th>\n",
       "      <td>No Results</td>\n",
       "      <td>No Results</td>\n",
       "    </tr>\n",
       "    <tr>\n",
       "      <th>molecular</th>\n",
       "      <td>No Results</td>\n",
       "      <td>No Results</td>\n",
       "    </tr>\n",
       "    <tr>\n",
       "      <th>genetics</th>\n",
       "      <td>No Results</td>\n",
       "      <td>No Results</td>\n",
       "    </tr>\n",
       "    <tr>\n",
       "      <th>ara-explanatory</th>\n",
       "      <td>No Results</td>\n",
       "      <td>No Results</td>\n",
       "    </tr>\n",
       "  </tbody>\n",
       "</table>\n",
       "</div>"
      ],
      "text/plain": [
       "                                                       A.1_RHOBTB2  \\\n",
       "pk_id            https://arax.ncats.io/?source=ARS&id=325cfd91-...   \n",
       "cam                                                     No Results   \n",
       "ara-bte                                                    Results   \n",
       "ara-aragorn                                                Results   \n",
       "textmining                                              No Results   \n",
       "chp                                                     No Results   \n",
       "icees                                                   No Results   \n",
       "ara-arax                                                   Results   \n",
       "openpredict                                             No Results   \n",
       "ara-improving                                              Results   \n",
       "cohd                                                         Error   \n",
       "ara-unsecret                                            No Results   \n",
       "molecular                                               No Results   \n",
       "genetics                                                No Results   \n",
       "ara-explanatory                                         No Results   \n",
       "\n",
       "                                                     EGFR_advanced  \n",
       "pk_id            https://arax.ncats.io/?source=ARS&id=3c2c11f1-...  \n",
       "cam                                                     No Results  \n",
       "ara-bte                                                 No Results  \n",
       "ara-aragorn                                                  Error  \n",
       "textmining                                              No Results  \n",
       "chp                                                     No Results  \n",
       "icees                                                   No Results  \n",
       "ara-arax                                                     Error  \n",
       "openpredict                                             No Results  \n",
       "ara-improving                                            ARS Error  \n",
       "cohd                                                         Error  \n",
       "ara-unsecret                                            No Results  \n",
       "molecular                                               No Results  \n",
       "genetics                                                No Results  \n",
       "ara-explanatory                                         No Results  "
      ]
     },
     "execution_count": 160,
     "metadata": {},
     "output_type": "execute_result"
    }
   ],
   "source": [
    "df"
   ]
  },
  {
   "cell_type": "code",
   "execution_count": 54,
   "metadata": {},
   "outputs": [
    {
     "data": {
      "text/plain": [
       "A.1_RHOBTB2      https://arax.ncats.io/?source=ARS&id=325cfd91-...\n",
       "EGFR_advanced    https://arax.ncats.io/?source=ARS&id=3c2c11f1-...\n",
       "Name: pk_id, dtype: object"
      ]
     },
     "execution_count": 54,
     "metadata": {},
     "output_type": "execute_result"
    }
   ],
   "source": [
    "df.loc['pk_id']"
   ]
  },
  {
   "cell_type": "code",
   "execution_count": 58,
   "metadata": {},
   "outputs": [],
   "source": [
    "df.to_excel('test_ara_worklow.xlsx')"
   ]
  },
  {
   "cell_type": "code",
   "execution_count": null,
   "metadata": {},
   "outputs": [],
   "source": [
    "pwd"
   ]
  },
  {
   "cell_type": "code",
   "execution_count": null,
   "metadata": {},
   "outputs": [],
   "source": [
    "## test for individual run"
   ]
  },
  {
   "cell_type": "code",
   "execution_count": 11,
   "metadata": {},
   "outputs": [],
   "source": [
    "with open('/Users/priyash/Documents/GitHub/minihackathons/2021-12_demo/workflowC/C.1_ChemSubstances_related_to_Disease.json','r') as inf:\n",
    "    query1 = json.load(inf)"
   ]
  },
  {
   "cell_type": "code",
   "execution_count": 12,
   "metadata": {},
   "outputs": [
    {
     "name": "stdout",
     "output_type": "stream",
     "text": [
      "{\n",
      "    \"message\": {\n",
      "        \"query_graph\": {\n",
      "            \"edges\": {\n",
      "                \"e00\": {\n",
      "                    \"subject\": \"n00\",\n",
      "                    \"object\": \"n01\",\n",
      "                    \"predicates\": [\n",
      "                        \"biolink:related_to\"\n",
      "                    ]\n",
      "                }\n",
      "            },\n",
      "            \"nodes\": {\n",
      "                \"n00\": {\n",
      "                    \"categories\": [\n",
      "                        \"biolink:ChemicalSubstance\"\n",
      "                    ]\n",
      "                },\n",
      "                \"n01\": {\n",
      "                    \"categories\": [\n",
      "                        \"biolink:Disease\"\n",
      "                    ],\n",
      "                    \"ids\": [\n",
      "                        \"MONDO:0005301\"\n",
      "                    ]\n",
      "                }\n",
      "            }\n",
      "        }\n",
      "    }\n",
      "}\n"
     ]
    }
   ],
   "source": [
    "printjson(query1)"
   ]
  },
  {
   "cell_type": "code",
   "execution_count": 13,
   "metadata": {},
   "outputs": [
    {
     "name": "stdout",
     "output_type": "stream",
     "text": [
      "https://arax.ncats.io/?source=ARS&id=e9ff8f3d-9a4e-4bc1-9dd6-53f4f4c9485f\n"
     ]
    }
   ],
   "source": [
    "kcresult = submit_to_ars(query1)"
   ]
  },
  {
   "cell_type": "code",
   "execution_count": 14,
   "metadata": {},
   "outputs": [
    {
     "name": "stdout",
     "output_type": "stream",
     "text": [
      "Running\n",
      "Running\n",
      "ara-arax Running 0\n",
      "Done\n",
      "ara-improving Done 176\n",
      "Running\n",
      "kp-textmining Running 0\n",
      "Done\n",
      "kp-icees Done 0\n",
      "Running\n",
      "ara-unsecret Running 0\n",
      "Done\n",
      "kp-cohd Done 500\n",
      "Running\n",
      "ara-aragorn Running 0\n",
      "Running\n",
      "kp-openpredict Running 0\n",
      "Done\n",
      "kp-genetics Done 0\n",
      "Running\n",
      "ara-bte Running 0\n",
      "Running\n",
      "kp-cam Running 0\n",
      "Done\n",
      "ara-explanatory Done 15\n",
      "Done\n",
      "kp-molecular Done 15\n",
      "Done\n",
      "kp-chp Done 0\n"
     ]
    }
   ],
   "source": [
    "result_status = retrieve_ars_results(kcresult)"
   ]
  },
  {
   "cell_type": "code",
   "execution_count": 21,
   "metadata": {},
   "outputs": [
    {
     "data": {
      "text/plain": [
       "{'pk_id': 'https://arax.ncats.io/?source=ARS&id=737fe659-c952-422a-91ef-4f088ca7f41d',\n",
       " 'kp-openpredict': 'No Results',\n",
       " 'ara-bte': 'Results',\n",
       " 'ara-arax': 'Results',\n",
       " 'kp-cam': 'No Results',\n",
       " 'ara-improving': 'Results',\n",
       " 'ara-aragorn': 'Results',\n",
       " 'ara-explanatory': 'No Results',\n",
       " 'kp-textmining': 'No Results',\n",
       " 'kp-icees': 'No Results',\n",
       " 'kp-genetics': 'No Results',\n",
       " 'kp-chp': 'No Results',\n",
       " 'ara-unsecret': 'No Results',\n",
       " 'kp-cohd': 'Error',\n",
       " 'kp-molecular': 'No Results'}"
      ]
     },
     "execution_count": 21,
     "metadata": {},
     "output_type": "execute_result"
    }
   ],
   "source": [
    "result_status "
   ]
  },
  {
   "cell_type": "code",
   "execution_count": 9,
   "metadata": {},
   "outputs": [
    {
     "data": {
      "text/plain": [
       "'/Users/priyash/Documents/GitHub/minihackathons/Notebooks'"
      ]
     },
     "execution_count": 9,
     "metadata": {},
     "output_type": "execute_result"
    }
   ],
   "source": [
    "pwd"
   ]
  },
  {
   "cell_type": "code",
   "execution_count": 112,
   "metadata": {},
   "outputs": [
    {
     "data": {
      "text/html": [
       "<div>\n",
       "<style scoped>\n",
       "    .dataframe tbody tr th:only-of-type {\n",
       "        vertical-align: middle;\n",
       "    }\n",
       "\n",
       "    .dataframe tbody tr th {\n",
       "        vertical-align: top;\n",
       "    }\n",
       "\n",
       "    .dataframe thead th {\n",
       "        text-align: right;\n",
       "    }\n",
       "</style>\n",
       "<table border=\"1\" class=\"dataframe\">\n",
       "  <thead>\n",
       "    <tr style=\"text-align: right;\">\n",
       "      <th></th>\n",
       "      <th>A.1_RHOBTB2</th>\n",
       "      <th>EGFR_advanced</th>\n",
       "    </tr>\n",
       "  </thead>\n",
       "  <tbody>\n",
       "    <tr>\n",
       "      <th>pk_id</th>\n",
       "      <td>https://arax.ncats.io/?source=ARS&amp;id=325cfd91-...</td>\n",
       "      <td>https://arax.ncats.io/?source=ARS&amp;id=3c2c11f1-...</td>\n",
       "    </tr>\n",
       "    <tr>\n",
       "      <th>kp-cam</th>\n",
       "      <td>No Results</td>\n",
       "      <td>No Results</td>\n",
       "    </tr>\n",
       "    <tr>\n",
       "      <th>ara-bte</th>\n",
       "      <td>Results</td>\n",
       "      <td>No Results</td>\n",
       "    </tr>\n",
       "    <tr>\n",
       "      <th>ara-aragorn</th>\n",
       "      <td>Results</td>\n",
       "      <td>Error</td>\n",
       "    </tr>\n",
       "    <tr>\n",
       "      <th>kp-textmining</th>\n",
       "      <td>No Results</td>\n",
       "      <td>No Results</td>\n",
       "    </tr>\n",
       "    <tr>\n",
       "      <th>kp-chp</th>\n",
       "      <td>No Results</td>\n",
       "      <td>No Results</td>\n",
       "    </tr>\n",
       "    <tr>\n",
       "      <th>kp-icees</th>\n",
       "      <td>No Results</td>\n",
       "      <td>No Results</td>\n",
       "    </tr>\n",
       "    <tr>\n",
       "      <th>ara-arax</th>\n",
       "      <td>Results</td>\n",
       "      <td>Error</td>\n",
       "    </tr>\n",
       "    <tr>\n",
       "      <th>kp-openpredict</th>\n",
       "      <td>No Results</td>\n",
       "      <td>No Results</td>\n",
       "    </tr>\n",
       "    <tr>\n",
       "      <th>ara-improving</th>\n",
       "      <td>Results</td>\n",
       "      <td>ARS Error</td>\n",
       "    </tr>\n",
       "    <tr>\n",
       "      <th>kp-cohd</th>\n",
       "      <td>Error</td>\n",
       "      <td>Error</td>\n",
       "    </tr>\n",
       "    <tr>\n",
       "      <th>ara-unsecret</th>\n",
       "      <td>No Results</td>\n",
       "      <td>No Results</td>\n",
       "    </tr>\n",
       "    <tr>\n",
       "      <th>kp-molecular</th>\n",
       "      <td>No Results</td>\n",
       "      <td>No Results</td>\n",
       "    </tr>\n",
       "    <tr>\n",
       "      <th>kp-genetics</th>\n",
       "      <td>No Results</td>\n",
       "      <td>No Results</td>\n",
       "    </tr>\n",
       "    <tr>\n",
       "      <th>ara-explanatory</th>\n",
       "      <td>No Results</td>\n",
       "      <td>No Results</td>\n",
       "    </tr>\n",
       "  </tbody>\n",
       "</table>\n",
       "</div>"
      ],
      "text/plain": [
       "                                                       A.1_RHOBTB2  \\\n",
       "pk_id            https://arax.ncats.io/?source=ARS&id=325cfd91-...   \n",
       "kp-cam                                                  No Results   \n",
       "ara-bte                                                    Results   \n",
       "ara-aragorn                                                Results   \n",
       "kp-textmining                                           No Results   \n",
       "kp-chp                                                  No Results   \n",
       "kp-icees                                                No Results   \n",
       "ara-arax                                                   Results   \n",
       "kp-openpredict                                          No Results   \n",
       "ara-improving                                              Results   \n",
       "kp-cohd                                                      Error   \n",
       "ara-unsecret                                            No Results   \n",
       "kp-molecular                                            No Results   \n",
       "kp-genetics                                             No Results   \n",
       "ara-explanatory                                         No Results   \n",
       "\n",
       "                                                     EGFR_advanced  \n",
       "pk_id            https://arax.ncats.io/?source=ARS&id=3c2c11f1-...  \n",
       "kp-cam                                                  No Results  \n",
       "ara-bte                                                 No Results  \n",
       "ara-aragorn                                                  Error  \n",
       "kp-textmining                                           No Results  \n",
       "kp-chp                                                  No Results  \n",
       "kp-icees                                                No Results  \n",
       "ara-arax                                                     Error  \n",
       "kp-openpredict                                          No Results  \n",
       "ara-improving                                            ARS Error  \n",
       "kp-cohd                                                      Error  \n",
       "ara-unsecret                                            No Results  \n",
       "kp-molecular                                            No Results  \n",
       "kp-genetics                                             No Results  \n",
       "ara-explanatory                                         No Results  "
      ]
     },
     "execution_count": 112,
     "metadata": {},
     "output_type": "execute_result"
    }
   ],
   "source": [
    "df"
   ]
  },
  {
   "cell_type": "code",
   "execution_count": 143,
   "metadata": {},
   "outputs": [],
   "source": [
    "def make_hyperlink(value):\n",
    "    #url = \"https://custom.url/{}\"\n",
    "    return '=HYPERLINK(\"%s\", \"%s\")' % (value.format(value), value)"
   ]
  },
  {
   "cell_type": "code",
   "execution_count": 144,
   "metadata": {},
   "outputs": [
    {
     "data": {
      "text/plain": [
       "'=HYPERLINK(\"https://arax.ncats.io/?source=ARS&id=325cfd91-ee6c-48eb-8a09-7226bbafb482\", \"https://arax.ncats.io/?source=ARS&id=325cfd91-ee6c-48eb-8a09-7226bbafb482\")'"
      ]
     },
     "execution_count": 144,
     "metadata": {},
     "output_type": "execute_result"
    }
   ],
   "source": [
    "make_hyperlink('https://arax.ncats.io/?source=ARS&id=325cfd91-ee6c-48eb-8a09-7226bbafb482')"
   ]
  },
  {
   "cell_type": "code",
   "execution_count": 148,
   "metadata": {},
   "outputs": [],
   "source": [
    "df.loc['pk_id'] = df.loc['pk_id'].apply(lambda x: make_hyperlink(x))"
   ]
  },
  {
   "cell_type": "code",
   "execution_count": 149,
   "metadata": {},
   "outputs": [
    {
     "data": {
      "text/html": [
       "<div>\n",
       "<style scoped>\n",
       "    .dataframe tbody tr th:only-of-type {\n",
       "        vertical-align: middle;\n",
       "    }\n",
       "\n",
       "    .dataframe tbody tr th {\n",
       "        vertical-align: top;\n",
       "    }\n",
       "\n",
       "    .dataframe thead th {\n",
       "        text-align: right;\n",
       "    }\n",
       "</style>\n",
       "<table border=\"1\" class=\"dataframe\">\n",
       "  <thead>\n",
       "    <tr style=\"text-align: right;\">\n",
       "      <th></th>\n",
       "      <th>A.1_RHOBTB2</th>\n",
       "      <th>EGFR_advanced</th>\n",
       "    </tr>\n",
       "  </thead>\n",
       "  <tbody>\n",
       "    <tr>\n",
       "      <th>pk_id</th>\n",
       "      <td>=HYPERLINK(\"https://arax.ncats.io/?source=ARS&amp;...</td>\n",
       "      <td>=HYPERLINK(\"https://arax.ncats.io/?source=ARS&amp;...</td>\n",
       "    </tr>\n",
       "    <tr>\n",
       "      <th>kp-cam</th>\n",
       "      <td>No Results</td>\n",
       "      <td>No Results</td>\n",
       "    </tr>\n",
       "    <tr>\n",
       "      <th>ara-bte</th>\n",
       "      <td>Results</td>\n",
       "      <td>No Results</td>\n",
       "    </tr>\n",
       "    <tr>\n",
       "      <th>ara-aragorn</th>\n",
       "      <td>Results</td>\n",
       "      <td>Error</td>\n",
       "    </tr>\n",
       "    <tr>\n",
       "      <th>kp-textmining</th>\n",
       "      <td>No Results</td>\n",
       "      <td>No Results</td>\n",
       "    </tr>\n",
       "    <tr>\n",
       "      <th>kp-chp</th>\n",
       "      <td>No Results</td>\n",
       "      <td>No Results</td>\n",
       "    </tr>\n",
       "    <tr>\n",
       "      <th>kp-icees</th>\n",
       "      <td>No Results</td>\n",
       "      <td>No Results</td>\n",
       "    </tr>\n",
       "    <tr>\n",
       "      <th>ara-arax</th>\n",
       "      <td>Results</td>\n",
       "      <td>Error</td>\n",
       "    </tr>\n",
       "    <tr>\n",
       "      <th>kp-openpredict</th>\n",
       "      <td>No Results</td>\n",
       "      <td>No Results</td>\n",
       "    </tr>\n",
       "    <tr>\n",
       "      <th>ara-improving</th>\n",
       "      <td>Results</td>\n",
       "      <td>ARS Error</td>\n",
       "    </tr>\n",
       "    <tr>\n",
       "      <th>kp-cohd</th>\n",
       "      <td>Error</td>\n",
       "      <td>Error</td>\n",
       "    </tr>\n",
       "    <tr>\n",
       "      <th>ara-unsecret</th>\n",
       "      <td>No Results</td>\n",
       "      <td>No Results</td>\n",
       "    </tr>\n",
       "    <tr>\n",
       "      <th>kp-molecular</th>\n",
       "      <td>No Results</td>\n",
       "      <td>No Results</td>\n",
       "    </tr>\n",
       "    <tr>\n",
       "      <th>kp-genetics</th>\n",
       "      <td>No Results</td>\n",
       "      <td>No Results</td>\n",
       "    </tr>\n",
       "    <tr>\n",
       "      <th>ara-explanatory</th>\n",
       "      <td>No Results</td>\n",
       "      <td>No Results</td>\n",
       "    </tr>\n",
       "  </tbody>\n",
       "</table>\n",
       "</div>"
      ],
      "text/plain": [
       "                                                       A.1_RHOBTB2  \\\n",
       "pk_id            =HYPERLINK(\"https://arax.ncats.io/?source=ARS&...   \n",
       "kp-cam                                                  No Results   \n",
       "ara-bte                                                    Results   \n",
       "ara-aragorn                                                Results   \n",
       "kp-textmining                                           No Results   \n",
       "kp-chp                                                  No Results   \n",
       "kp-icees                                                No Results   \n",
       "ara-arax                                                   Results   \n",
       "kp-openpredict                                          No Results   \n",
       "ara-improving                                              Results   \n",
       "kp-cohd                                                      Error   \n",
       "ara-unsecret                                            No Results   \n",
       "kp-molecular                                            No Results   \n",
       "kp-genetics                                             No Results   \n",
       "ara-explanatory                                         No Results   \n",
       "\n",
       "                                                     EGFR_advanced  \n",
       "pk_id            =HYPERLINK(\"https://arax.ncats.io/?source=ARS&...  \n",
       "kp-cam                                                  No Results  \n",
       "ara-bte                                                 No Results  \n",
       "ara-aragorn                                                  Error  \n",
       "kp-textmining                                           No Results  \n",
       "kp-chp                                                  No Results  \n",
       "kp-icees                                                No Results  \n",
       "ara-arax                                                     Error  \n",
       "kp-openpredict                                          No Results  \n",
       "ara-improving                                            ARS Error  \n",
       "kp-cohd                                                      Error  \n",
       "ara-unsecret                                            No Results  \n",
       "kp-molecular                                            No Results  \n",
       "kp-genetics                                             No Results  \n",
       "ara-explanatory                                         No Results  "
      ]
     },
     "execution_count": 149,
     "metadata": {},
     "output_type": "execute_result"
    }
   ],
   "source": [
    "df"
   ]
  },
  {
   "cell_type": "code",
   "execution_count": 150,
   "metadata": {},
   "outputs": [],
   "source": [
    "df.to_excel('test_ara_worklow.xlsx')"
   ]
  },
  {
   "cell_type": "code",
   "execution_count": 151,
   "metadata": {},
   "outputs": [
    {
     "data": {
      "text/html": [
       "<div>\n",
       "<style scoped>\n",
       "    .dataframe tbody tr th:only-of-type {\n",
       "        vertical-align: middle;\n",
       "    }\n",
       "\n",
       "    .dataframe tbody tr th {\n",
       "        vertical-align: top;\n",
       "    }\n",
       "\n",
       "    .dataframe thead th {\n",
       "        text-align: right;\n",
       "    }\n",
       "</style>\n",
       "<table border=\"1\" class=\"dataframe\">\n",
       "  <thead>\n",
       "    <tr style=\"text-align: right;\">\n",
       "      <th></th>\n",
       "      <th>A.1_RHOBTB2</th>\n",
       "      <th>EGFR_advanced</th>\n",
       "    </tr>\n",
       "  </thead>\n",
       "  <tbody>\n",
       "    <tr>\n",
       "      <th>pk_id</th>\n",
       "      <td>=HYPERLINK(\"https://arax.ncats.io/?source=ARS&amp;...</td>\n",
       "      <td>=HYPERLINK(\"https://arax.ncats.io/?source=ARS&amp;...</td>\n",
       "    </tr>\n",
       "    <tr>\n",
       "      <th>kp-cam</th>\n",
       "      <td>No Results</td>\n",
       "      <td>No Results</td>\n",
       "    </tr>\n",
       "    <tr>\n",
       "      <th>ara-bte</th>\n",
       "      <td>Results</td>\n",
       "      <td>No Results</td>\n",
       "    </tr>\n",
       "    <tr>\n",
       "      <th>ara-aragorn</th>\n",
       "      <td>Results</td>\n",
       "      <td>Error</td>\n",
       "    </tr>\n",
       "    <tr>\n",
       "      <th>kp-textmining</th>\n",
       "      <td>No Results</td>\n",
       "      <td>No Results</td>\n",
       "    </tr>\n",
       "    <tr>\n",
       "      <th>kp-chp</th>\n",
       "      <td>No Results</td>\n",
       "      <td>No Results</td>\n",
       "    </tr>\n",
       "    <tr>\n",
       "      <th>kp-icees</th>\n",
       "      <td>No Results</td>\n",
       "      <td>No Results</td>\n",
       "    </tr>\n",
       "    <tr>\n",
       "      <th>ara-arax</th>\n",
       "      <td>Results</td>\n",
       "      <td>Error</td>\n",
       "    </tr>\n",
       "    <tr>\n",
       "      <th>kp-openpredict</th>\n",
       "      <td>No Results</td>\n",
       "      <td>No Results</td>\n",
       "    </tr>\n",
       "    <tr>\n",
       "      <th>ara-improving</th>\n",
       "      <td>Results</td>\n",
       "      <td>ARS Error</td>\n",
       "    </tr>\n",
       "    <tr>\n",
       "      <th>kp-cohd</th>\n",
       "      <td>Error</td>\n",
       "      <td>Error</td>\n",
       "    </tr>\n",
       "    <tr>\n",
       "      <th>ara-unsecret</th>\n",
       "      <td>No Results</td>\n",
       "      <td>No Results</td>\n",
       "    </tr>\n",
       "    <tr>\n",
       "      <th>kp-molecular</th>\n",
       "      <td>No Results</td>\n",
       "      <td>No Results</td>\n",
       "    </tr>\n",
       "    <tr>\n",
       "      <th>kp-genetics</th>\n",
       "      <td>No Results</td>\n",
       "      <td>No Results</td>\n",
       "    </tr>\n",
       "    <tr>\n",
       "      <th>ara-explanatory</th>\n",
       "      <td>No Results</td>\n",
       "      <td>No Results</td>\n",
       "    </tr>\n",
       "  </tbody>\n",
       "</table>\n",
       "</div>"
      ],
      "text/plain": [
       "                                                       A.1_RHOBTB2  \\\n",
       "pk_id            =HYPERLINK(\"https://arax.ncats.io/?source=ARS&...   \n",
       "kp-cam                                                  No Results   \n",
       "ara-bte                                                    Results   \n",
       "ara-aragorn                                                Results   \n",
       "kp-textmining                                           No Results   \n",
       "kp-chp                                                  No Results   \n",
       "kp-icees                                                No Results   \n",
       "ara-arax                                                   Results   \n",
       "kp-openpredict                                          No Results   \n",
       "ara-improving                                              Results   \n",
       "kp-cohd                                                      Error   \n",
       "ara-unsecret                                            No Results   \n",
       "kp-molecular                                            No Results   \n",
       "kp-genetics                                             No Results   \n",
       "ara-explanatory                                         No Results   \n",
       "\n",
       "                                                     EGFR_advanced  \n",
       "pk_id            =HYPERLINK(\"https://arax.ncats.io/?source=ARS&...  \n",
       "kp-cam                                                  No Results  \n",
       "ara-bte                                                 No Results  \n",
       "ara-aragorn                                                  Error  \n",
       "kp-textmining                                           No Results  \n",
       "kp-chp                                                  No Results  \n",
       "kp-icees                                                No Results  \n",
       "ara-arax                                                     Error  \n",
       "kp-openpredict                                          No Results  \n",
       "ara-improving                                            ARS Error  \n",
       "kp-cohd                                                      Error  \n",
       "ara-unsecret                                            No Results  \n",
       "kp-molecular                                            No Results  \n",
       "kp-genetics                                             No Results  \n",
       "ara-explanatory                                         No Results  "
      ]
     },
     "execution_count": 151,
     "metadata": {},
     "output_type": "execute_result"
    }
   ],
   "source": [
    "df"
   ]
  },
  {
   "cell_type": "code",
   "execution_count": 154,
   "metadata": {},
   "outputs": [
    {
     "name": "stdout",
     "output_type": "stream",
     "text": [
      "cam\n"
     ]
    }
   ],
   "source": [
    "x = 'kp-cam'\n",
    "if x.startswith('kp-'):\n",
    "    print(x.replace('kp-',''))\n",
    "else:\n",
    "    print('nothing')\n",
    "    "
   ]
  },
  {
   "cell_type": "code",
   "execution_count": null,
   "metadata": {},
   "outputs": [],
   "source": []
  }
 ],
 "metadata": {
  "kernelspec": {
   "display_name": "Python 3",
   "language": "python",
   "name": "python3"
  },
  "language_info": {
   "codemirror_mode": {
    "name": "ipython",
    "version": 3
   },
   "file_extension": ".py",
   "mimetype": "text/x-python",
   "name": "python",
   "nbconvert_exporter": "python",
   "pygments_lexer": "ipython3",
   "version": "3.9.5"
  }
 },
 "nbformat": 4,
 "nbformat_minor": 2
}
