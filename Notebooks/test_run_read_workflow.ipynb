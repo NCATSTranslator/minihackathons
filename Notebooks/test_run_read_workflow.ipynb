{
 "cells": [
  {
   "cell_type": "markdown",
   "metadata": {},
   "source": [
    "## This notebook was only created to test the ReadAndRunAllWorkFlows.py\n",
    "\n",
    "\n",
    "<br>\n",
    "<br>"
   ]
  },
  {
   "cell_type": "code",
   "execution_count": 163,
   "metadata": {},
   "outputs": [],
   "source": [
    "import requests\n",
    "import json\n",
    "from collections import defaultdict\n",
    "import os\n",
    "import pandas as pd"
   ]
  },
  {
   "cell_type": "code",
   "execution_count": 2,
   "metadata": {},
   "outputs": [],
   "source": [
    "def submit_to_ars(m,ars_url='https://ars.transltr.io/ars/api',arax_url='https://arax.ncats.io/legacy'):\n",
    "    submit_url=f'{ars_url}/submit'\n",
    "    response = requests.post(submit_url,json=m)\n",
    "    try:\n",
    "        message_id = response.json()['pk']\n",
    "    except:\n",
    "        print('fail')\n",
    "        message_id = None\n",
    "    print(f'{arax_url}/?source=ARS&id={message_id}')\n",
    "    return message_id"
   ]
  },
  {
   "cell_type": "code",
   "execution_count": 58,
   "metadata": {},
   "outputs": [],
   "source": [
    "def retrieve_ars_results(mid,ars_url='https://ars.transltr.io/ars/api'):\n",
    "    message_url = f'{ars_url}/messages/{mid}?trace=y'\n",
    "    response = requests.get(message_url)\n",
    "    j = response.json()\n",
    "    #print( j['status'] )\n",
    "    results = {}\n",
    "    dictionary = {}\n",
    "    for child in j['children']:\n",
    "        #print(child['status'])\n",
    "        if child['status']  == 'Done':\n",
    "            childmessage_id = child['message']\n",
    "            child_url = f'{ars_url}/messages/{childmessage_id}'\n",
    "            try:\n",
    "                child_response = requests.get(child_url).json()\n",
    "                nresults = len(child_response['fields']['data']['message']['results'])\n",
    "                if nresults > 0:\n",
    "                    results[child['actor']['agent']] = {'message':child_response['fields']['data']['message']}\n",
    "            except Exception as e:\n",
    "                nresults=0\n",
    "                child['status'] = 'ARS Error'\n",
    "        elif child['status'] == 'Error':\n",
    "            nresults=0\n",
    "            childmessage_id = child['message']\n",
    "            child_url = f'{ars_url}/messages/{childmessage_id}'\n",
    "            try:\n",
    "                child_response = requests.get(child_url).json()\n",
    "                results[child['actor']['agent']] = {'message':child_response['fields']['data']['message']}\n",
    "            except Exception as e:\n",
    "                #print(e)\n",
    "                child['status'] = 'ARS Error'\n",
    "        else:\n",
    "            nresults = 0\n",
    "            \n",
    "        if ((child['status'] == 'Done') & (nresults == 0)):\n",
    "            dictionary[child['actor']['agent']] = 'No Results'\n",
    "            #test =  [child['actor']['agent'], 'No Results']\n",
    "        elif ((child['status'] == 'ARS Error') & (nresults == 0)):\n",
    "            dictionary[child['actor']['agent']] = 'ARS Error'\n",
    "        elif ((child['status'] == 'Error') & (nresults == 0)):\n",
    "            dictionary[child['actor']['agent']] = 'Error'\n",
    "            #test =  [child['actor']['agent'], 'ARS Error']\n",
    "        elif ((child['status'] == 'Done') & (nresults != 0)):\n",
    "            #test =  [child['actor']['agent'], 'Results']\n",
    "            dictionary[child['actor']['agent']] = 'Results'\n",
    "        \n",
    "        \n",
    "        print(child['actor']['agent'], child['status'], nresults)\n",
    "        #test =  [child['actor']['agent'], child['status'], nresults]\n",
    "        #test2.append(test)\n",
    "    return dictionary\n",
    "\n",
    "\n",
    "def submit_to_devars(m):\n",
    "    return submit_to_ars(m,ars_url='https://ars-dev.transltr.io/ars/api',arax_url='https://arax.ncats.io')\n",
    "\n",
    "def retrieve_devars_results(m):\n",
    "     return retrieve_ars_results(m,ars_url='https://ars-dev.transltr.io/ars/api')\n",
    "\n",
    "def printjson(j):\n",
    "    print(json.dumps(j,indent=4))"
   ]
  },
  {
   "cell_type": "code",
   "execution_count": 27,
   "metadata": {},
   "outputs": [],
   "source": [
    "urls = ['/Users/priyash/Documents/GitHub/minihackathons/2021-12_demo/workflowA/EGFR_advanced.json', '/Users/priyash/Documents/GitHub/minihackathons/2021-12_demo/workflowA/A.1_RHOBTB2.json']"
   ]
  },
  {
   "cell_type": "code",
   "execution_count": 31,
   "metadata": {},
   "outputs": [
    {
     "name": "stdout",
     "output_type": "stream",
     "text": [
      "/Users/priyash/Documents/GitHub/minihackathons/2021-12_demo/workflowA/EGFR_advanced.json EGFR_advanced\n",
      "https://arax.ncats.io/?source=ARS&id=9da061af-0a64-443e-8f92-324200b87546\n",
      "/Users/priyash/Documents/GitHub/minihackathons/2021-12_demo/workflowA/A.1_RHOBTB2.json A.1_RHOBTB2\n",
      "https://arax.ncats.io/?source=ARS&id=3067c839-3bdc-4923-82d4-9a50c8e3b36e\n"
     ]
    }
   ],
   "source": [
    "dict_workflows = {}\n",
    "for i in urls:\n",
    "    feature = (os.path.splitext(os.path.basename(i))[0])\n",
    "    print(i, feature)\n",
    "    with open(i,'r') as inf:\n",
    "        query = json.load(inf)\n",
    "        kcresult = submit_to_devars(query)\n",
    "        #xx = retrieve_devars_results(kcresult)\n",
    "        \n",
    "        dict_workflows[feature] = kcresult"
   ]
  },
  {
   "cell_type": "code",
   "execution_count": 33,
   "metadata": {},
   "outputs": [
    {
     "data": {
      "text/plain": [
       "{'EGFR_advanced': '9da061af-0a64-443e-8f92-324200b87546',\n",
       " 'A.1_RHOBTB2': '3067c839-3bdc-4923-82d4-9a50c8e3b36e'}"
      ]
     },
     "execution_count": 33,
     "metadata": {},
     "output_type": "execute_result"
    }
   ],
   "source": [
    "dict_workflows"
   ]
  },
  {
   "cell_type": "code",
   "execution_count": 59,
   "metadata": {},
   "outputs": [
    {
     "name": "stdout",
     "output_type": "stream",
     "text": [
      "EGFR_advanced 9da061af-0a64-443e-8f92-324200b87546\n",
      "ara-aragorn Error 0\n",
      "ara-arax Error 0\n",
      "ara-bte Error 0\n",
      "ara-unsecret Error 0\n",
      "kp-genetics Done 0\n",
      "kp-molecular Error 0\n",
      "ara-explanatory Done 0\n",
      "ara-improving ARS Error 0\n",
      "kp-cam Done 0\n",
      "kp-textmining Error 0\n",
      "kp-openpredict Done 0\n",
      "kp-cohd Error 0\n",
      "kp-chp Done 0\n",
      "kp-icees Done 0\n",
      "kp-icees-dili Done 0\n",
      "A.1_RHOBTB2 3067c839-3bdc-4923-82d4-9a50c8e3b36e\n",
      "ara-aragorn Done 6\n",
      "ara-arax Done 2\n",
      "ara-bte Error 0\n",
      "ara-unsecret Error 0\n",
      "kp-genetics Done 0\n",
      "kp-molecular Error 0\n",
      "ara-explanatory Done 0\n",
      "ara-improving Done 4\n",
      "kp-cam Done 0\n",
      "kp-textmining Error 0\n",
      "kp-cohd Error 0\n",
      "kp-openpredict Done 0\n",
      "kp-chp Done 0\n",
      "kp-icees Done 0\n",
      "kp-icees-dili Done 0\n"
     ]
    }
   ],
   "source": [
    "workflow_result_messages = {}\n",
    "for keys, val in dict_workflows.items():\n",
    "    print(keys, val)\n",
    "    \n",
    "    result_status = retrieve_devars_results(val)\n",
    "    \n",
    "    workflow_result_messages[keys] = result_status"
   ]
  },
  {
   "cell_type": "code",
   "execution_count": 60,
   "metadata": {},
   "outputs": [
    {
     "data": {
      "text/plain": [
       "{'EGFR_advanced': {'ara-aragorn': 'Error',\n",
       "  'ara-arax': 'Error',\n",
       "  'ara-bte': 'Error',\n",
       "  'ara-unsecret': 'Error',\n",
       "  'kp-genetics': 'No Results',\n",
       "  'kp-molecular': 'Error',\n",
       "  'ara-explanatory': 'No Results',\n",
       "  'ara-improving': 'ARS Error',\n",
       "  'kp-cam': 'No Results',\n",
       "  'kp-textmining': 'Error',\n",
       "  'kp-openpredict': 'No Results',\n",
       "  'kp-cohd': 'Error',\n",
       "  'kp-chp': 'No Results',\n",
       "  'kp-icees': 'No Results',\n",
       "  'kp-icees-dili': 'No Results'},\n",
       " 'A.1_RHOBTB2': {'ara-aragorn': 'Results',\n",
       "  'ara-arax': 'Results',\n",
       "  'ara-bte': 'Error',\n",
       "  'ara-unsecret': 'Error',\n",
       "  'kp-genetics': 'No Results',\n",
       "  'kp-molecular': 'Error',\n",
       "  'ara-explanatory': 'No Results',\n",
       "  'ara-improving': 'Results',\n",
       "  'kp-cam': 'No Results',\n",
       "  'kp-textmining': 'Error',\n",
       "  'kp-cohd': 'Error',\n",
       "  'kp-openpredict': 'No Results',\n",
       "  'kp-chp': 'No Results',\n",
       "  'kp-icees': 'No Results',\n",
       "  'kp-icees-dili': 'No Results'}}"
      ]
     },
     "execution_count": 60,
     "metadata": {},
     "output_type": "execute_result"
    }
   ],
   "source": [
    "workflow_result_messages"
   ]
  },
  {
   "cell_type": "code",
   "execution_count": 169,
   "metadata": {},
   "outputs": [],
   "source": [
    "col = []\n",
    "final_dict = defaultdict(list)\n",
    "for k in sorted(workflow_result_messages):\n",
    "    col.append(k)\n",
    "    \n",
    "    for key, value in workflow_result_messages[k].items():\n",
    "            final_dict[key].append(value)\n",
    "\n",
    "    final_dict = dict(final_dict)\n",
    "    \n",
    "df = pd.DataFrame(final_dict).T\n",
    "df.rename(columns=dict(zip(df.columns, col)), inplace=True)"
   ]
  },
  {
   "cell_type": "code",
   "execution_count": 171,
   "metadata": {},
   "outputs": [
    {
     "data": {
      "text/html": [
       "<div>\n",
       "<style scoped>\n",
       "    .dataframe tbody tr th:only-of-type {\n",
       "        vertical-align: middle;\n",
       "    }\n",
       "\n",
       "    .dataframe tbody tr th {\n",
       "        vertical-align: top;\n",
       "    }\n",
       "\n",
       "    .dataframe thead th {\n",
       "        text-align: right;\n",
       "    }\n",
       "</style>\n",
       "<table border=\"1\" class=\"dataframe\">\n",
       "  <thead>\n",
       "    <tr style=\"text-align: right;\">\n",
       "      <th></th>\n",
       "      <th>A.1_RHOBTB2</th>\n",
       "      <th>EGFR_advanced</th>\n",
       "    </tr>\n",
       "  </thead>\n",
       "  <tbody>\n",
       "    <tr>\n",
       "      <td>ara-aragorn</td>\n",
       "      <td>Results</td>\n",
       "      <td>Error</td>\n",
       "    </tr>\n",
       "    <tr>\n",
       "      <td>ara-arax</td>\n",
       "      <td>Results</td>\n",
       "      <td>Error</td>\n",
       "    </tr>\n",
       "    <tr>\n",
       "      <td>ara-bte</td>\n",
       "      <td>Error</td>\n",
       "      <td>Error</td>\n",
       "    </tr>\n",
       "    <tr>\n",
       "      <td>ara-unsecret</td>\n",
       "      <td>Error</td>\n",
       "      <td>Error</td>\n",
       "    </tr>\n",
       "    <tr>\n",
       "      <td>kp-genetics</td>\n",
       "      <td>No Results</td>\n",
       "      <td>No Results</td>\n",
       "    </tr>\n",
       "    <tr>\n",
       "      <td>kp-molecular</td>\n",
       "      <td>Error</td>\n",
       "      <td>Error</td>\n",
       "    </tr>\n",
       "    <tr>\n",
       "      <td>ara-explanatory</td>\n",
       "      <td>No Results</td>\n",
       "      <td>No Results</td>\n",
       "    </tr>\n",
       "    <tr>\n",
       "      <td>ara-improving</td>\n",
       "      <td>Results</td>\n",
       "      <td>ARS Error</td>\n",
       "    </tr>\n",
       "    <tr>\n",
       "      <td>kp-cam</td>\n",
       "      <td>No Results</td>\n",
       "      <td>No Results</td>\n",
       "    </tr>\n",
       "    <tr>\n",
       "      <td>kp-textmining</td>\n",
       "      <td>Error</td>\n",
       "      <td>Error</td>\n",
       "    </tr>\n",
       "    <tr>\n",
       "      <td>kp-cohd</td>\n",
       "      <td>Error</td>\n",
       "      <td>Error</td>\n",
       "    </tr>\n",
       "    <tr>\n",
       "      <td>kp-openpredict</td>\n",
       "      <td>No Results</td>\n",
       "      <td>No Results</td>\n",
       "    </tr>\n",
       "    <tr>\n",
       "      <td>kp-chp</td>\n",
       "      <td>No Results</td>\n",
       "      <td>No Results</td>\n",
       "    </tr>\n",
       "    <tr>\n",
       "      <td>kp-icees</td>\n",
       "      <td>No Results</td>\n",
       "      <td>No Results</td>\n",
       "    </tr>\n",
       "    <tr>\n",
       "      <td>kp-icees-dili</td>\n",
       "      <td>No Results</td>\n",
       "      <td>No Results</td>\n",
       "    </tr>\n",
       "  </tbody>\n",
       "</table>\n",
       "</div>"
      ],
      "text/plain": [
       "                A.1_RHOBTB2 EGFR_advanced\n",
       "ara-aragorn         Results         Error\n",
       "ara-arax            Results         Error\n",
       "ara-bte               Error         Error\n",
       "ara-unsecret          Error         Error\n",
       "kp-genetics      No Results    No Results\n",
       "kp-molecular          Error         Error\n",
       "ara-explanatory  No Results    No Results\n",
       "ara-improving       Results     ARS Error\n",
       "kp-cam           No Results    No Results\n",
       "kp-textmining         Error         Error\n",
       "kp-cohd               Error         Error\n",
       "kp-openpredict   No Results    No Results\n",
       "kp-chp           No Results    No Results\n",
       "kp-icees         No Results    No Results\n",
       "kp-icees-dili    No Results    No Results"
      ]
     },
     "execution_count": 171,
     "metadata": {},
     "output_type": "execute_result"
    }
   ],
   "source": [
    "df"
   ]
  },
  {
   "cell_type": "code",
   "execution_count": 167,
   "metadata": {},
   "outputs": [],
   "source": [
    "df.to_excel('test_ara_worklow.xlsx', sheet_name = 'Progress_Tracker')"
   ]
  },
  {
   "cell_type": "code",
   "execution_count": 168,
   "metadata": {},
   "outputs": [
    {
     "data": {
      "text/plain": [
       "'/Users/priyash/Documents/GitHub/minihackathons/Notebooks'"
      ]
     },
     "execution_count": 168,
     "metadata": {},
     "output_type": "execute_result"
    }
   ],
   "source": [
    "pwd"
   ]
  },
  {
   "cell_type": "code",
   "execution_count": 172,
   "metadata": {},
   "outputs": [],
   "source": [
    "## test for individual run"
   ]
  },
  {
   "cell_type": "code",
   "execution_count": 175,
   "metadata": {},
   "outputs": [],
   "source": [
    "with open('/Users/priyash/Documents/GitHub/minihackathons/2021-12_demo/workflowA/A.1_RHOBTB2.json','r') as inf:\n",
    "    query1 = json.load(inf)"
   ]
  },
  {
   "cell_type": "code",
   "execution_count": 177,
   "metadata": {},
   "outputs": [
    {
     "name": "stdout",
     "output_type": "stream",
     "text": [
      "https://arax.ncats.io/?source=ARS&id=b46a4258-c405-46ad-9494-fbbfa90cfdae\n"
     ]
    }
   ],
   "source": [
    "kcresult = submit_to_devars(query1)"
   ]
  },
  {
   "cell_type": "code",
   "execution_count": 179,
   "metadata": {},
   "outputs": [
    {
     "name": "stdout",
     "output_type": "stream",
     "text": [
      "ara-aragorn Running 0\n",
      "ara-arax Done 9\n",
      "ara-bte Done 8\n",
      "ara-unsecret Done 0\n",
      "kp-genetics Error 0\n",
      "kp-molecular Done 0\n",
      "ara-explanatory Done 0\n",
      "ara-improving Done 4\n",
      "kp-cam Done 0\n",
      "kp-textmining Done 0\n",
      "kp-openpredict Running 0\n"
     ]
    }
   ],
   "source": [
    "result_status = retrieve_devars_results(kcresult)"
   ]
  },
  {
   "cell_type": "code",
   "execution_count": null,
   "metadata": {},
   "outputs": [],
   "source": []
  }
 ],
 "metadata": {
  "kernelspec": {
   "display_name": "Python 3",
   "language": "python",
   "name": "python3"
  },
  "language_info": {
   "codemirror_mode": {
    "name": "ipython",
    "version": 3
   },
   "file_extension": ".py",
   "mimetype": "text/x-python",
   "name": "python",
   "nbconvert_exporter": "python",
   "pygments_lexer": "ipython3",
   "version": "3.7.4"
  }
 },
 "nbformat": 4,
 "nbformat_minor": 2
}
