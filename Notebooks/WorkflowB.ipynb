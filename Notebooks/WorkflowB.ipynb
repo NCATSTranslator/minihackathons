{
 "cells": [
  {
   "cell_type": "code",
   "execution_count": 1,
   "id": "latter-glenn",
   "metadata": {},
   "outputs": [
    {
     "name": "stderr",
     "output_type": "stream",
     "text": [
      "WARNING:ToolkitGenerator:Prefix case mismatch - supplied: Xenbase expected: XENBASE\n"
     ]
    }
   ],
   "source": [
    "import json\n",
    "import requests\n",
    "from datetime import datetime\n",
    "from collections import defaultdict\n",
    "from time import sleep\n",
    "\n",
    "#https://pypi.org/project/gamma-viewer/\n",
    "# from gamma_viewer import GammaViewer\n",
    "from IPython.display import display\n",
    "\n",
    "from bmt import Toolkit\n",
    "t = Toolkit()"
   ]
  },
  {
   "cell_type": "code",
   "execution_count": 2,
   "id": "loose-timber",
   "metadata": {},
   "outputs": [],
   "source": [
    "def log_query(query, ars_url, pk, time=datetime.now()):\n",
    "    try:\n",
    "        message = f'''\n",
    "{json.dumps(query, indent=4)}\n",
    "{ars_url}\n",
    "{pk}\n",
    "{time}\n",
    "'''    \n",
    "        with open('workflow_b_ars_log.txt', 'a') as fh:\n",
    "            fh.write(message)\n",
    "    except:\n",
    "        print('Could not write to log file')\n",
    "        \n",
    "def submit_to_ars(m,ars_url='https://ars.transltr.io/ars/api',arax_url='https://arax.ncats.io'):\n",
    "    submit_url=f'{ars_url}/submit'\n",
    "    response = requests.post(submit_url,json=m)\n",
    "    try:\n",
    "        message_id = response.json()['pk']\n",
    "    except:\n",
    "        print('fail')\n",
    "        message_id = None\n",
    "    print(f'{arax_url}/?source=ARS&id={message_id}')\n",
    "    \n",
    "    t = datetime.now()\n",
    "    print(f'Submitted at {t} to {ars_url}')\n",
    "    log_query(m, ars_url, message_id, t)\n",
    "    \n",
    "    return message_id\n",
    "\n",
    "def retrieve_ars_results(mid,ars_url='https://ars.transltr.io/ars/api'):\n",
    "    message_url = f'{ars_url}/messages/{mid}?trace=y'\n",
    "    response = requests.get(message_url)\n",
    "    j = response.json()\n",
    "    print( j['status'] )\n",
    "    results = {}\n",
    "    for child in j['children']:\n",
    "        print(child['status'])\n",
    "        if child['status']  == 'Done':\n",
    "            childmessage_id = child['message']\n",
    "            child_url = f'{ars_url}/messages/{childmessage_id}'\n",
    "            try:\n",
    "                child_response = requests.get(child_url).json()\n",
    "                nresults = len(child_response['fields']['data']['message']['results'])\n",
    "                if nresults > 0:\n",
    "                    results[child['actor']['agent']] = {'message':child_response['fields']['data']['message']}\n",
    "            except Exception as e:\n",
    "                nresults=0\n",
    "                child['status'] = 'ARS Error'\n",
    "        elif child['status'] == 'Error':\n",
    "            nresults=0\n",
    "            childmessage_id = child['message']\n",
    "            child_url = f'{ars_url}/messages/{childmessage_id}'\n",
    "            try:\n",
    "                child_response = requests.get(child_url).json()\n",
    "                results[child['actor']['agent']] = {'message':child_response['fields']['data']['message']}\n",
    "            except Exception as e:\n",
    "                print(e)\n",
    "                child['status'] = 'ARS Error'\n",
    "        else:\n",
    "            nresults = 0\n",
    "        print( child['status'], child['actor']['agent'],nresults )\n",
    "    return results\n",
    "\n",
    "def submit_to_devars(m):\n",
    "    return submit_to_ars(m,ars_url='https://ars-dev.transltr.io/ars/api',arax_url='https://arax.ncats.io')\n",
    "\n",
    "def retrieve_devars_results(m):\n",
    "    return retrieve_ars_results(m,ars_url='https://ars-dev.transltr.io/ars/api')\n",
    "\n",
    "def printjson(j):\n",
    "    print(json.dumps(j,indent=4))\n",
    "\n",
    "def print_json(j):\n",
    "    printjson(j)\n",
    "    \n",
    "def name_lookup(text):\n",
    "    url= f'https://name-resolution-sri.renci.org/lookup?string={text}&offset=0&limit=10'\n",
    "    response = requests.post(url)\n",
    "    printjson(response.json())\n",
    "    \n",
    "def one_hop_message(subject_category,object_category,predicate=None,subject_id = None, object_id = None):\n",
    "    query_graph = {\n",
    "    \"nodes\": {\n",
    "        'a':{\n",
    "            \"category\": subject_category\n",
    "        },\n",
    "        'b':{\n",
    "            \"category\": object_category\n",
    "        }\n",
    "    },\n",
    "    \"edges\": {\n",
    "        'ab':{\n",
    "            \"subject\": \"a\",\n",
    "            \"object\": \"b\",\n",
    "            #\"predicate\": predicate\n",
    "        }\n",
    "    }\n",
    "    }\n",
    "    if predicate is not None:\n",
    "        query_graph['edges']['ab']['predicate'] = predicate\n",
    "    if subject_id is not None:\n",
    "        query_graph['nodes']['a']['id'] = subject_id\n",
    "    if object_id is not None:\n",
    "        query_graph['nodes']['b']['id'] = object_id\n",
    "    message = {\"message\": {\"query_graph\": query_graph},'knowledge_graph':{\"nodes\": [], \"edges\": [],}, 'results':[]}\n",
    "    return message\n",
    "\n",
    "def send_trapi(m, service_name=None, service_url=None):\n",
    "    services = {\n",
    "        'rtx-kg2': 'https://arax.ncats.io/api/rtxkg2/v1.2/query',\n",
    "        'icees-asthma': 'https://icees.renci.org:16339/query?reasoner=true&verbose=false',\n",
    "        'icees-dili': 'https://icees.renci.org:16341/query?reasoner=true&verbose=false',\n",
    "        'arax': 'https://arax.ncats.io/api/arax/v1.2/query'\n",
    "    }\n",
    "    \n",
    "    if service_url is None and service_name is not None:\n",
    "        service_url = services.get(service_name.lower())\n",
    "        \n",
    "    if service_url is None:\n",
    "        print('No service URL')\n",
    "       \n",
    "    t1 = datetime.now()\n",
    "    print(f'Submitting at {t1} to {service_url}')\n",
    "    response = requests.post(service_url,json=m)\n",
    "    try:\n",
    "        j = response.json()\n",
    "    except:\n",
    "        print('fail')\n",
    "        j = None    \n",
    "    \n",
    "    t2 = datetime.now()    \n",
    "    print(f'Query took {(t2-t1).total_seconds()} seconds')\n",
    "    \n",
    "    return j\n",
    "\n",
    "def rtx_result_summary(response):\n",
    "    print(response['description'])\n",
    "    n_results = len(response['message']['results'])\n",
    "    print(f\"Number of results: {n_results}\")\n",
    "    if n_results:\n",
    "        print(f\"Number of nodes bound to n2: {len(response['message']['results'][0]['node_bindings']['n2'])}\")\n",
    "        print(f\"Number of nodes bound to n3: {len(response['message']['results'][0]['node_bindings']['n3'])}\")\n",
    "        \n",
    "def look_for_desired_answers(response):\n",
    "    looking_for=['resveratrol', 'prednisone', 'dexamethasone', 'silybin']\n",
    "    for x in response['message']['results'][0]['node_bindings']['n3']:\n",
    "        name = response['message']['knowledge_graph']['nodes'][x['id']]['name']\n",
    "        for desired in looking_for:\n",
    "            if desired in name:\n",
    "                print(name)"
   ]
  },
  {
   "cell_type": "markdown",
   "id": "duplicate-plenty",
   "metadata": {},
   "source": [
    "# Workflow B: DILI Drug Repurposing\n",
    "\n",
    "DILI (drug-induced liver injury) is the outcome of a drug exposure in rare patients with heightened sensitivity to drug-related hepatic sequela. Drugs account for 20-40% of all instances of fulminant hepatic failure, and drug-induced hepatic injury is the most common cited reason for withdrawal of an approved drug from the market.\n",
    "\n",
    "DILI has only one consensus treatment: discontinuation of the causal agent. While DILI may resolve after the causal agent is discontinued, complete resolution may require months or years and, in many cases, the condition deterioriates before resolving and/or becomes chronic. Moreover, DILI is associated with high healthcare costs and high morbidity and mortality, often leading to hospitalization, liver transplant, and other poor outcomes.\n",
    "\n",
    "The intent of Workflow B is two-fold: \n",
    "\n",
    "1. Suggest drugs for repurposing, along with evidence of biological plausibility to justify the suggestion. The goal here is to suggest candidates for clinical trials. Indeed, this is of great interest to the international DILI Network Steering Committee, which is arguably the leading authority on DILI and the only body with a continuous 20-year registry of patients with DILI.\n",
    "\n",
    "* In natural language, one might ask *are there drugs that can be repurposed to treat DILI-associated phenotypes or outcomes, or allow a patient to continue on a drug that is otherwise effective?*\n",
    "\n",
    "2. Suggest chemicals for *in vitro* screening assays (e.g., liver-on-a-chip), along with evidence of biological plausibility, again, to justify the suggestion. The goals here is to suggest candidates for laboratory testing at NCATS, NIEHS, or elsewhere.\n",
    "\n",
    "* In natural language, one might ask *are there chemical substances that may serve as drug targets for development of new treatments for DILI-associated phenotypes or outcomes, or allow a patient to continue on a drug that is otherwise effective?*\n",
    "\n",
    "The workflow is structured as an initial three-hop TRAPI query that runs from input DiseaseOrPhenotypicFeature CURIE (e.g., DILI and Toxic liver disease [see suggestions below] to DiseaseOrPhenotypicFeature to Gene to Drug (including approved drugs). A fourth hop then seeks clinical real-world evidence on whether any of the suggested approved drugs are used to treat (biolink:treats, biolink:has_real_world_evidence_of_association_with) the diseases or phenotypic features identified from the first hop, or whether they are used to treat (biolink:treats, biolink:has_real_world_evidence_of_association_with) other potentially related traits/diseases, or whether they are associated with adverse events. \n",
    "\n",
    "For the December demo, the current plan is to focus on drug repurposing. For implementation, the first three-hop TRAPI query will be precomputed, results will be reviewed with Paul Watkins (SME and member of the DILI Network Steering Committee), and one or two drugs will be selected to highlight in the demo. The fourth hop will then be run live at the demo. In addition to (hopefully) identifying plausible drugs for repurposing, the workflow and demo are intended to: (1) provide real-world evidence that might assist with ranking/sorting of answers and/or SME evaluation of results from the third hop and (2) highlight or showcase Translator clinical KPs, all of which provide open access to clinical data and/or computational models applied to those data. \n",
    "\n",
    "Suggested input CURIES for three-hop TRAPI queries from DiseaseOrPhenotypicFeature:\n",
    "\n",
    "* DILI - MONDO:0005359\n",
    "* Toxic liver disease - SNOMEDCT:197354009\n",
    "\n",
    "[Node Normalizer equivalent identifiers](https://nodenormalization-sri.renci.org/1.2/get_normalized_nodes?curie=MONDO%3A0005359&curie=SNOMEDCT%3A197354009&conflate=true)\n",
    "\n",
    "**Important:** While this workflow narrative focuses on DILI, the workflow itself is intended to be disease-agnostic. The focus on DILI is only to highlight Translator capabilities in the context of a compelling use case and engaged user community.\n",
    "\n",
    "*For reference, here is the [workflow mural board](https://app.mural.co/t/ncats3030/m/ncats3030/1620608471364/d9d6ca5aefb8c7af4f756312d2500f0a3f465008), [pre-relay meeting materials](https://drive.google.com/drive/folders/1sCA6iouNHOh9I4ivXrR6DCct6fGgXbXp?usp=sharing), and [Spring 2021 relay meeting materials](https://github.com/ranking-agent/robogallery/tree/master/relay_spring_2021/DILI). Also see mini-hackathon issues #43, #44, #45, #46, #48, and #49.*\n"
   ]
  },
  {
   "cell_type": "markdown",
   "id": "smoking-corporation",
   "metadata": {},
   "source": [
    "# B.1\n",
    "\n",
    "The initial three-hop TRAPI query:\n",
    "1. The query starts from DILI and Toxic Liver Disease (henceforth referred to simply as DILI) and finds diseases and phenotypic features that are observed in real world evidence (clinical data KPs) to be associated with DILI. \n",
    "2. From these associated diseases and phenotypic features, we find genes associated with these conditions in the second hop. \n",
    "3. In the third hop, we query Translator for drugs (including approved drugs) that affect these genes."
   ]
  },
  {
   "cell_type": "code",
   "execution_count": 3,
   "id": "optimum-rachel",
   "metadata": {},
   "outputs": [
    {
     "name": "stdout",
     "output_type": "stream",
     "text": [
      "https://arax.ncats.io/?source=ARS&id=3d8fa41c-6653-4f74-b32a-c7de87baf0da\n",
      "Submitted at 2021-10-12 12:25:03.397215 to https://ars-dev.transltr.io/ars/api\n"
     ]
    },
    {
     "data": {
      "text/plain": [
       "'3d8fa41c-6653-4f74-b32a-c7de87baf0da'"
      ]
     },
     "execution_count": 3,
     "metadata": {},
     "output_type": "execute_result"
    }
   ],
   "source": [
    "submit_to_devars(json.loads(\"\"\"\n",
    "{\n",
    "    \"message\": {\n",
    "        \"query_graph\": {\n",
    "            \"nodes\": {\n",
    "                \"n0\": {\n",
    "                     \"ids\": [\"MONDO:0005359\", \"SNOMEDCT:197354009\"],\n",
    "                     \"categories\": [\"biolink:DiseaseOrPhenotypicFeature\"]\n",
    "                },\n",
    "                \"n1\": {\n",
    "                    \"categories\": [\"biolink:DiseaseOrPhenotypicFeature\"]\n",
    "                },\n",
    "                \"n2\": {\n",
    "                    \"categories\": [\"biolink:Gene\"]\n",
    "                },\n",
    "                \"n3\": {\n",
    "                    \"categories\": [\"biolink:Drug\"]\n",
    "                }\n",
    "            },\n",
    "            \"edges\": {\n",
    "                \"e01\": {\n",
    "                    \"subject\": \"n0\",\n",
    "                    \"object\": \"n1\",\n",
    "                    \"predicates\": [\"biolink:has_real_world_evidence_of_association_with\"]\n",
    "                },\n",
    "                \"e02\": {\n",
    "                    \"subject\": \"n2\",\n",
    "                    \"object\": \"n1\",\n",
    "                    \"predicates\": [\"biolink:gene_associated_with_condition\"]\n",
    "                },\n",
    "                \"e03\": {\n",
    "                    \"subject\": \"n3\",\n",
    "                    \"object\": \"n2\",\n",
    "                    \"predicates\": [\"biolink:affects\"]\n",
    "                }\n",
    "            }\n",
    "        }\n",
    "    }\n",
    "}\n",
    "\"\"\"))"
   ]
  },
  {
   "cell_type": "markdown",
   "id": "changed-planning",
   "metadata": {},
   "source": [
    "https://arax.ncats.io/?source=ARS&id=2fcdfad1-5b41-4519-b668-4a54c56d3f53  \n",
    "\n",
    "ARAX results find:\n",
    "* **#30 dexamethasone:** 36/500 ARAX responses identify dexamethasone, a glucocorticoid and regulated drug.\n",
    "* **#52 resveratrol:**  31/500 ARAX responses identify resveratrol, an unregulated antioxidant and component of red grape skin.
    
    Of note, there is anecdotal evidence and a few publications to support the use of glucocorticoids and resveratrol in the treatment of DILI."
   ]
  },
  {
   "cell_type": "markdown",
   "id": "linear-creator",
   "metadata": {},
   "source": [
    "# B.2\n",
    "\n",
    "A fourth hop then seeks Translator evidence (clinical and non-clinical KPs) on whether any of the suggested approved drugs are used to treat (biolink:treats, biolink:has_real_world_evidence_of_association_with) the diseases or phenotypic features identified from the first hop, whether they are used to treat (biolink:treats, biolink:has_real_world_evidence_of_association_with) other potentially related traits/diseases, and whether they are associated with adverse events."
   ]
  },
  {
   "cell_type": "code",
   "execution_count": 4,
   "id": "several-catch",
   "metadata": {},
   "outputs": [
    {
     "name": "stdout",
     "output_type": "stream",
     "text": [
      "https://arax.ncats.io/?source=ARS&id=16f095b7-b7d2-4173-a31b-9480f1a142e9\n",
      "Submitted at 2021-10-12 13:03:45.942579 to https://ars.transltr.io/ars/api\n"
     ]
    },
    {
     "data": {
      "text/plain": [
       "'16f095b7-b7d2-4173-a31b-9480f1a142e9'"
      ]
     },
     "execution_count": 4,
     "metadata": {},
     "output_type": "execute_result"
    }
   ],
   "source": [
    "submit_to_ars(json.loads(\n",
    "\"\"\"\n",
    "{\n",
    "    \"message\": {\n",
    "        \"query_graph\": {\n",
    "            \"nodes\": {\n",
    "                \"n0\": {\n",
    "                    \"ids\": [\"PUBCHEM.COMPOUND:5755\"],\n",
    "                    \"categories\": [\n",
    "                        \"biolink:ChemicalEntity\"\n",
    "                    ],\n",
    "                    \"name\": \"Prednisone\"\n",
    "                },\n",
    "                \"n1\": {\n",
    "                    \"categories\": [\n",
    "                        \"biolink:DiseaseOrPhenotypicFeature\"\n",
    "                    ]\n",
    "                }\n",
    "            },\n",
    "            \"edges\": {\n",
    "                \"e0\": {\n",
    "                    \"subject\": \"n0\",\n",
    "                    \"object\": \"n1\",\n",
    "                    \"predicates\": [\"biolink:treats\", \"biolink:has_real_world_evidence_of_association_with\"]\n",
    "                }\n",
    "            }\n",
    "        }\n",
    "    }\n",
    "}\n",
    "\"\"\"\n",
    "))"
   ]
  },
  {
   "cell_type": "markdown",
   "id": "elder-dollar",
   "metadata": {},
   "source": [
    "https://arax.ncats.io/?source=ARS&id=4c6b07ea-5c01-4ba0-829b-58e0ea27ad90\n",
    "\n",
    "Returns results from 3 ARAs and 5 KPs (COHD, ICEES asthma, ICEES DILI, Multiomics EHR Risk Provider, OpenPredict)"
   ]
  },
  {
   "cell_type": "markdown",
   "id": "integral-necklace",
   "metadata": {},
   "source": [
    "# B.3 (Alternative backup query)\n",
    "\n",
    "This alternative backup query starts with the same first hop as query B.1, but then asks Translator to find chemical entities (including drugs) that directly treat the diseases and phenotypic features associated with DILI. "
   ]
  },
  {
   "cell_type": "code",
   "execution_count": 8,
   "id": "yellow-berlin",
   "metadata": {},
   "outputs": [
    {
     "name": "stdout",
     "output_type": "stream",
     "text": [
      "https://arax.ncats.io/?source=ARS&id=9d0710fc-b36f-480e-83a5-cf03421df276\n",
      "Submitted at 2021-10-03 09:27:11.928722 to https://ars-dev.transltr.io/ars/api\n"
     ]
    },
    {
     "data": {
      "text/plain": [
       "'9d0710fc-b36f-480e-83a5-cf03421df276'"
      ]
     },
     "execution_count": 8,
     "metadata": {},
     "output_type": "execute_result"
    }
   ],
   "source": [
    "submit_to_devars(json.loads(\"\"\"\n",
    "{\n",
    "    \"message\": {\n",
    "        \"query_graph\": {\n",
    "            \"nodes\": {\n",
    "                \"n0\": {\n",
    "                     \"ids\": [\"MONDO:0005359\", \"SNOMEDCT:197354009\"],\n",
    "                     \"categories\": [\"biolink:DiseaseOrPhenotypicFeature\"]\n",
    "                },\n",
    "                \"n1\": {\n",
    "                    \"categories\": [\"biolink:DiseaseOrPhenotypicFeature\"]\n",
    "                },\n",
    "                \"n2\": {\n",
    "                    \"categories\": [\"biolink:ChemicalEntity\"]\n",
    "                }\n",
    "            },\n",
    "            \"edges\": {\n",
    "                \"e01\": {\n",
    "                    \"subject\": \"n0\",\n",
    "                    \"object\": \"n1\",\n",
    "                    \"predicates\": [\"biolink:has_real_world_evidence_of_association_with\"]\n",
    "                },\n",
    "                \"e02\": {\n",
    "                    \"subject\": \"n2\",\n",
    "                    \"object\": \"n1\",\n",
    "                    \"predicates\": [\"biolink:treats\"]\n",
    "                }\n",
    "            }\n",
    "        }\n",
    "    }\n",
    "}\n",
    "\"\"\"))"
   ]
  },
  {
   "cell_type": "markdown",
   "id": "incorporate-validity",
   "metadata": {},
   "source": [
    "https://arax.ncats.io/?source=ARS&id=9d0710fc-b36f-480e-83a5-cf03421df276  \n",
    "\n",
    "ARAX results find:\n",
    "* **#3 silybin:** Milk thistle and silymarin have a long history in the treatment of chronic liver diseases and have been used as prophylaxis against DILI due to tuberculosis drugs, with benefit claimed; not regulated.\n",
    "* **#6 methylprednisolone:** There is anecdotal evidence to suggest that prednisone is effective in the treatment of DILI; regulated.\n",
    "* **#95 prednisone:** There is anecdotal evidence to suggest that prednisone is effective in the treatment of DILI; regulated.\n",
    "* **#386 resveratrol:** There is published literature to support the use of resveratrol in the prevention of DILI; not regulated"
   ]
  },
  {
   "cell_type": "code",
   "execution_count": null,
   "id": "modern-grove",
   "metadata": {},
   "outputs": [],
   "source": []
  }
 ],
 "metadata": {
  "kernelspec": {
   "display_name": "Python 3",
   "language": "python",
   "name": "python3"
  },
  "language_info": {
   "codemirror_mode": {
    "name": "ipython",
    "version": 3
   },
   "file_extension": ".py",
   "mimetype": "text/x-python",
   "name": "python",
   "nbconvert_exporter": "python",
   "pygments_lexer": "ipython3",
   "version": "3.9.1"
  }
 },
 "nbformat": 4,
 "nbformat_minor": 5
}
