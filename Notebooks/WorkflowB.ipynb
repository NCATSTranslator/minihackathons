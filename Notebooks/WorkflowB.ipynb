{
 "cells": [
  {
   "cell_type": "code",
   "execution_count": 1,
   "id": "latter-glenn",
   "metadata": {},
   "outputs": [],
   "source": [
    "import json\n",
    "import requests"
   ]
  },
  {
   "cell_type": "code",
   "execution_count": 2,
   "id": "fourth-tomorrow",
   "metadata": {},
   "outputs": [],
   "source": [
    "#https://pypi.org/project/gamma-viewer/\n",
    "from gamma_viewer import GammaViewer\n",
    "from IPython.display import display"
   ]
  },
  {
   "cell_type": "code",
   "execution_count": 3,
   "id": "loose-timber",
   "metadata": {},
   "outputs": [],
   "source": [
    "def submit_to_ars(m,ars_url='https://ars.transltr.io/ars/api',arax_url='https://arax.ncats.io/legacy'):\n",
    "    submit_url=f'{ars_url}/submit'\n",
    "    response = requests.post(submit_url,json=m)\n",
    "    try:\n",
    "        message_id = response.json()['pk']\n",
    "    except:\n",
    "        print('fail')\n",
    "        message_id = None\n",
    "    print(f'{arax_url}/?source=ARS&id={message_id}')\n",
    "    return message_id\n",
    "\n",
    "def retrieve_ars_results(mid,ars_url='https://ars.transltr.io/ars/api'):\n",
    "    message_url = f'{ars_url}/messages/{mid}?trace=y'\n",
    "    response = requests.get(message_url)\n",
    "    j = response.json()\n",
    "    print( j['status'] )\n",
    "    results = {}\n",
    "    for child in j['children']:\n",
    "        print(child['status'])\n",
    "        if child['status']  == 'Done':\n",
    "            childmessage_id = child['message']\n",
    "            child_url = f'{ars_url}/messages/{childmessage_id}'\n",
    "            try:\n",
    "                child_response = requests.get(child_url).json()\n",
    "                nresults = len(child_response['fields']['data']['message']['results'])\n",
    "                if nresults > 0:\n",
    "                    results[child['actor']['agent']] = {'message':child_response['fields']['data']['message']}\n",
    "            except Exception as e:\n",
    "                nresults=0\n",
    "                child['status'] = 'ARS Error'\n",
    "        elif child['status'] == 'Error':\n",
    "            nresults=0\n",
    "            childmessage_id = child['message']\n",
    "            child_url = f'{ars_url}/messages/{childmessage_id}'\n",
    "            try:\n",
    "                child_response = requests.get(child_url).json()\n",
    "                results[child['actor']['agent']] = {'message':child_response['fields']['data']['message']}\n",
    "            except Exception as e:\n",
    "                print(e)\n",
    "                child['status'] = 'ARS Error'\n",
    "        else:\n",
    "            nresults = 0\n",
    "        print( child['status'], child['actor']['agent'],nresults )\n",
    "    return results"
   ]
  },
  {
   "cell_type": "code",
   "execution_count": 4,
   "id": "honest-conducting",
   "metadata": {},
   "outputs": [],
   "source": [
    "def submit_to_devars(m):\n",
    "    return submit_to_ars(m,ars_url='https://ars-dev.transltr.io/ars/api',arax_url='https://arax.ncats.io')\n",
    "\n",
    "def retrieve_devars_results(m):\n",
    "    return retrieve_ars_results(m,ars_url='https://ars-dev.transltr.io/ars/api')"
   ]
  },
  {
   "cell_type": "code",
   "execution_count": 5,
   "id": "future-technique",
   "metadata": {},
   "outputs": [],
   "source": [
    "def printjson(j):\n",
    "    print(json.dumps(j,indent=4))\n",
    "\n",
    "def print_json(j):\n",
    "    printjson(j)"
   ]
  },
  {
   "cell_type": "code",
   "execution_count": 6,
   "id": "minimal-device",
   "metadata": {},
   "outputs": [],
   "source": [
    "def name_lookup(text):\n",
    "    url= f'https://name-resolution-sri.renci.org/lookup?string={text}&offset=0&limit=10'\n",
    "    response = requests.post(url)\n",
    "    printjson(response.json())"
   ]
  },
  {
   "cell_type": "code",
   "execution_count": 7,
   "id": "least-investment",
   "metadata": {},
   "outputs": [],
   "source": [
    "def one_hop_message(subject_category,object_category,predicate=None,subject_id = None, object_id = None):\n",
    "    query_graph = {\n",
    "    \"nodes\": {\n",
    "        'a':{\n",
    "            \"category\": subject_category\n",
    "        },\n",
    "        'b':{\n",
    "            \"category\": object_category\n",
    "        }\n",
    "    },\n",
    "    \"edges\": {\n",
    "        'ab':{\n",
    "            \"subject\": \"a\",\n",
    "            \"object\": \"b\",\n",
    "            #\"predicate\": predicate\n",
    "        }\n",
    "    }\n",
    "    }\n",
    "    if predicate is not None:\n",
    "        query_graph['edges']['ab']['predicate'] = predicate\n",
    "    if subject_id is not None:\n",
    "        query_graph['nodes']['a']['id'] = subject_id\n",
    "    if object_id is not None:\n",
    "        query_graph['nodes']['b']['id'] = object_id\n",
    "    message = {\"message\": {\"query_graph\": query_graph},'knowledge_graph':{\"nodes\": [], \"edges\": [],}, 'results':[]}\n",
    "    return message"
   ]
  },
  {
   "cell_type": "markdown",
   "id": "standard-recovery",
   "metadata": {},
   "source": [
    "# DILI Drug Repurposing"
   ]
  },
  {
   "cell_type": "code",
   "execution_count": 15,
   "id": "equipped-annotation",
   "metadata": {},
   "outputs": [],
   "source": [
    "dqg={\n",
    "  \"nodes\": {\n",
    "    \"n0\": {\n",
    "      \"name\": \"drug-induced liver injury\",\n",
    "      \"ids\": [\"MONDO:0005359\"]\n",
    "    },\n",
    "    \"n1\": {\n",
    "      \"categories\": [\n",
    "        \"biolink:DiseaseOrPhenotypicFeature\"\n",
    "      ],\n",
    "      \"name\": \"Disease Or Phenotypic Feature\"\n",
    "    },\n",
    "    \"n2\": {\n",
    "      \"categories\": [\n",
    "        \"biolink:Gene\"\n",
    "      ],\n",
    "      \"name\": \"Gene\"\n",
    "    },\n",
    "    \"n3\": {\n",
    "      \"categories\": [\n",
    "        \"biolink:ChemicalSubstance\"\n",
    "      ],\n",
    "      \"name\": \"Chemical Substance\"\n",
    "    }\n",
    "  },\n",
    "  \"edges\": {\n",
    "    \"e0\": {\n",
    "      \"subject\": \"n0\",\n",
    "      \"object\": \"n1\",\n",
    "      \"predicates\": [\n",
    "        \"biolink:correlated_with\"\n",
    "      ]\n",
    "    },\n",
    "    \"e1\": {\n",
    "      \"subject\": \"n1\",\n",
    "      \"object\": \"n2\",\n",
    "      \"predicates\": [\n",
    "        \"biolink:condition_associated_with_gene\"\n",
    "      ]\n",
    "    },\n",
    "    \"e2\": {\n",
    "      \"subject\": \"n2\",\n",
    "      \"object\": \"n3\",\n",
    "      \"predicates\": [\n",
    "        \"biolink:related_to\"\n",
    "      ]\n",
    "    }\n",
    "  }\n",
    "}\n",
    "\n",
    "threehopquery = {'message': {'query_graph':dqg}}"
   ]
  },
  {
   "cell_type": "code",
   "execution_count": 16,
   "id": "wired-filename",
   "metadata": {},
   "outputs": [
    {
     "name": "stdout",
     "output_type": "stream",
     "text": [
      "https://arax.ncats.io/?source=ARS&id=0445a10f-05b6-4bf3-82a5-586a55655e1c\n"
     ]
    }
   ],
   "source": [
    "threehopresult = submit_to_devars(threehopquery)"
   ]
  },
  {
   "cell_type": "code",
   "execution_count": 18,
   "id": "hired-victory",
   "metadata": {},
   "outputs": [],
   "source": [
    "hop1={\n",
    "  \"nodes\": {\n",
    "    \"n0\": {\n",
    "      \"name\": \"drug-induced liver injury\",\n",
    "      \"ids\": [\"MONDO:0005359\"]\n",
    "    },\n",
    "    \"n1\": {\n",
    "      \"categories\": [\n",
    "        \"biolink:DiseaseOrPhenotypicFeature\"\n",
    "      ],\n",
    "      \"name\": \"Disease Or Phenotypic Feature\"\n",
    "    }\n",
    "  },\n",
    "  \"edges\": {\n",
    "    \"e0\": {\n",
    "      \"subject\": \"n0\",\n",
    "      \"object\": \"n1\",\n",
    "      \"predicates\": [\n",
    "        \"biolink:correlated_with\"\n",
    "      ]\n",
    "    }\n",
    "  }\n",
    "}\n",
    "\n",
    "onehopquery = {'message': {'query_graph':hop1}}"
   ]
  },
  {
   "cell_type": "code",
   "execution_count": 19,
   "id": "environmental-elevation",
   "metadata": {},
   "outputs": [
    {
     "name": "stdout",
     "output_type": "stream",
     "text": [
      "https://arax.ncats.io/?source=ARS&id=28390bb4-3831-4cb7-b7bf-df08a80f2585\n"
     ]
    }
   ],
   "source": [
    "onehopresult = submit_to_devars(onehopquery)"
   ]
  },
  {
   "cell_type": "code",
   "execution_count": 20,
   "id": "acknowledged-collins",
   "metadata": {},
   "outputs": [],
   "source": [
    "hop1allpred={\n",
    "  \"nodes\": {\n",
    "    \"n0\": {\n",
    "      \"name\": \"drug-induced liver injury\",\n",
    "      \"ids\": [\"MONDO:0005359\"]\n",
    "    },\n",
    "    \"n1\": {\n",
    "      \"categories\": [\n",
    "        \"biolink:DiseaseOrPhenotypicFeature\"\n",
    "      ],\n",
    "      \"name\": \"Disease Or Phenotypic Feature\"\n",
    "    }\n",
    "  },\n",
    "  \"edges\": {\n",
    "    \"e0\": {\n",
    "      \"subject\": \"n0\",\n",
    "      \"object\": \"n1\",\n",
    "      \"predicates\": [\n",
    "        \"biolink:related_to\"\n",
    "      ]\n",
    "    }\n",
    "  }\n",
    "}\n",
    "\n",
    "onehopallpredquery = {'message': {'query_graph':hop1allpred}}"
   ]
  },
  {
   "cell_type": "code",
   "execution_count": 21,
   "id": "neural-commission",
   "metadata": {},
   "outputs": [
    {
     "name": "stdout",
     "output_type": "stream",
     "text": [
      "https://arax.ncats.io/?source=ARS&id=5805892a-6365-44ab-8bdf-177c6bc5a555\n"
     ]
    }
   ],
   "source": [
    "onehopallpredresult = submit_to_devars(onehopallpredquery)"
   ]
  },
  {
   "cell_type": "code",
   "execution_count": 22,
   "id": "driving-numbers",
   "metadata": {},
   "outputs": [],
   "source": [
    "hop1snomed={\n",
    "  \"nodes\": {\n",
    "    \"n0\": {\n",
    "      \"name\": \"drug-induced liver injury\",\n",
    "      \"ids\": [\"SNOMEDCT:197358007\"]\n",
    "    },\n",
    "    \"n1\": {\n",
    "      \"categories\": [\n",
    "        \"biolink:DiseaseOrPhenotypicFeature\"\n",
    "      ],\n",
    "      \"name\": \"Disease Or Phenotypic Feature\"\n",
    "    }\n",
    "  },\n",
    "  \"edges\": {\n",
    "    \"e0\": {\n",
    "      \"subject\": \"n0\",\n",
    "      \"object\": \"n1\",\n",
    "      \"predicates\": [\n",
    "        \"biolink:correlated_with\"\n",
    "      ]\n",
    "    }\n",
    "  }\n",
    "}\n",
    "\n",
    "onehopsnomedquery = {'message': {'query_graph':hop1snomed}}"
   ]
  },
  {
   "cell_type": "code",
   "execution_count": 23,
   "id": "fresh-currency",
   "metadata": {},
   "outputs": [
    {
     "name": "stdout",
     "output_type": "stream",
     "text": [
      "https://arax.ncats.io/?source=ARS&id=7c8d4771-cbdb-4e71-84bc-33fb65e068cb\n"
     ]
    }
   ],
   "source": [
    "onehopsnomedresult = submit_to_devars(onehopsnomedquery)"
   ]
  },
  {
   "cell_type": "code",
   "execution_count": 24,
   "id": "periodic-capitol",
   "metadata": {},
   "outputs": [],
   "source": [
    "twohopsnomed={\n",
    "  \"nodes\": {\n",
    "    \"n0\": {\n",
    "      \"name\": \"drug-induced liver injury\",\n",
    "      \"ids\": [\"SNOMEDCT:197358007\"]\n",
    "    },\n",
    "    \"n1\": {\n",
    "      \"categories\": [\n",
    "        \"biolink:DiseaseOrPhenotypicFeature\"\n",
    "      ],\n",
    "      \"name\": \"Disease Or Phenotypic Feature\"\n",
    "    },\n",
    "    \"n2\": {\n",
    "      \"categories\": [\n",
    "        \"biolink:Gene\"\n",
    "      ],\n",
    "      \"name\": \"Gene\"\n",
    "    }\n",
    "  },\n",
    "  \"edges\": {\n",
    "    \"e0\": {\n",
    "      \"subject\": \"n0\",\n",
    "      \"object\": \"n1\",\n",
    "      \"predicates\": [\n",
    "        \"biolink:correlated_with\"\n",
    "      ]\n",
    "    },\n",
    "    \"e1\": {\n",
    "      \"subject\": \"n1\",\n",
    "      \"object\": \"n2\",\n",
    "      \"predicates\": [\n",
    "        \"biolink:condition_associated_with_gene\"\n",
    "      ]\n",
    "    }\n",
    "  }\n",
    "}\n",
    "\n",
    "twohopsnomedquery = {'message': {'query_graph':twohopsnomed}}"
   ]
  },
  {
   "cell_type": "code",
   "execution_count": 25,
   "id": "comprehensive-spectrum",
   "metadata": {},
   "outputs": [
    {
     "name": "stdout",
     "output_type": "stream",
     "text": [
      "https://arax.ncats.io/?source=ARS&id=12cf506e-bb4b-425e-851e-7e91bc90e489\n"
     ]
    }
   ],
   "source": [
    "twohopsnomedresult = submit_to_devars(twohopsnomedquery)"
   ]
  },
  {
   "cell_type": "code",
   "execution_count": null,
   "id": "supported-amplifier",
   "metadata": {},
   "outputs": [],
   "source": []
  }
 ],
 "metadata": {
  "kernelspec": {
   "display_name": "Python 3",
   "language": "python",
   "name": "python3"
  },
  "language_info": {
   "codemirror_mode": {
    "name": "ipython",
    "version": 3
   },
   "file_extension": ".py",
   "mimetype": "text/x-python",
   "name": "python",
   "nbconvert_exporter": "python",
   "pygments_lexer": "ipython3",
   "version": "3.9.1"
  }
 },
 "nbformat": 4,
 "nbformat_minor": 5
}
