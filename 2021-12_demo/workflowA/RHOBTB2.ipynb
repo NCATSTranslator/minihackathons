{
 "cells": [
  {
   "cell_type": "markdown",
   "id": "binary-jersey",
   "metadata": {},
   "source": [
    "This query is based on patients seen at the Hugh Kaul Precision Medicine Institute.  \n",
    "\n",
    "Two PMI patients with developmental and speech delays, as well as seizures have been identified with missense variants in the [RHOBTB2](https://docs.google.com/presentation/d/1393qJ_Pcsl-hkwrsScqNLycEOuk-7dDkp5ey4UuEBbA/edit#slide=id.gd71774717d_0_6) gene.   [RHOBTB2 Syndrome](https://rarechromo.org/media/singlegeneinfo/Single%20Gene%20Disorder%20Guides/RHOBTB2%20syndrome%20QFN.pdf) has only been known since 2018, and as of 2020, only 13 children with such variations have been identified.\n",
    "\n",
    "The syndrome is thought to be related to gain of function missense mutations in RHOBTB2, so the PMI researchers want to use Translator to find interventions that will reduce the expression or activity of RHOBTB2 with the aim of ameliorating symptoms."
   ]
  },
  {
   "cell_type": "markdown",
   "id": "steady-inclusion",
   "metadata": {},
   "source": [
    "The following functions are used send queries to Translator and display the results"
   ]
  },
  {
   "cell_type": "code",
   "execution_count": 1,
   "id": "neural-greece",
   "metadata": {},
   "outputs": [],
   "source": [
    "#imports\n",
    "import json\n",
    "import requests\n",
    "from collections import defaultdict\n",
    "import pandas as pd\n",
    "import copy\n",
    "from datetime import datetime as dt"
   ]
  },
  {
   "cell_type": "code",
   "execution_count": 2,
   "id": "serious-environment",
   "metadata": {},
   "outputs": [],
   "source": [
    "#ARS functions\n",
    "def submit_to_ars(m,ars_url='https://ars.ci.transltr.io/ars/api',arax_url='https://arax.ncats.io'):\n",
    "    submit_url=f'{ars_url}/submit'\n",
    "    response = requests.post(submit_url,json=m)\n",
    "    try:\n",
    "        message_id = response.json()['pk']\n",
    "    except:\n",
    "        print('fail')\n",
    "        message_id = None\n",
    "    print(f'{arax_url}/?source=ARS&id={message_id}')\n",
    "    return message_id\n",
    "\n",
    "def retrieve_ars_results(mid,ars_url='https://ars.ci.transltr.io/ars/api'):\n",
    "    message_url = f'{ars_url}/messages/{mid}?trace=y'\n",
    "    response = requests.get(message_url)\n",
    "    j = response.json()\n",
    "    print( j['status'] )\n",
    "    results = {}\n",
    "    for child in j['children']:\n",
    "        print(child['status'])\n",
    "        if child['status']  == 'Done':\n",
    "            childmessage_id = child['message']\n",
    "            child_url = f'{ars_url}/messages/{childmessage_id}'\n",
    "            try:\n",
    "                child_response = requests.get(child_url).json()\n",
    "                nresults = len(child_response['fields']['data']['message']['results'])\n",
    "                if nresults > 0:\n",
    "                    results[child['actor']['agent']] = {'message':child_response['fields']['data']['message']}\n",
    "            except Exception as e:\n",
    "                nresults=0\n",
    "                child['status'] = 'ARS Error'\n",
    "        elif child['status'] == 'Error':\n",
    "            nresults=0\n",
    "            childmessage_id = child['message']\n",
    "            child_url = f'{ars_url}/messages/{childmessage_id}'\n",
    "            try:\n",
    "                child_response = requests.get(child_url).json()\n",
    "                results[child['actor']['agent']] = {'message':child_response['fields']['data']['message']}\n",
    "            except Exception as e:\n",
    "                print(e)\n",
    "                child['status'] = 'ARS Error'\n",
    "        else:\n",
    "            nresults = 0\n",
    "        print( child['status'], child['actor']['agent'],nresults )\n",
    "    return results"
   ]
  },
  {
   "cell_type": "code",
   "execution_count": 3,
   "id": "meaning-deviation",
   "metadata": {},
   "outputs": [],
   "source": [
    "#utils\n",
    "def printjson(j):\n",
    "    print(json.dumps(j,indent=4))\n",
    "def print_json(j):\n",
    "    printjson(j)"
   ]
  },
  {
   "cell_type": "markdown",
   "id": "bigger-planet",
   "metadata": {},
   "source": [
    "The story continues..."
   ]
  },
  {
   "cell_type": "markdown",
   "id": "finished-maker",
   "metadata": {},
   "source": [
    "We first want to know if there are any chemicals that can reduce RHOBTB2 activity or amount.   This is a simple query that looks for chemicals with such an effect:"
   ]
  },
  {
   "cell_type": "code",
   "execution_count": 4,
   "id": "homeless-blackjack",
   "metadata": {},
   "outputs": [
    {
     "name": "stdout",
     "output_type": "stream",
     "text": [
      "{\n",
      "    \"message\": {\n",
      "        \"query_graph\": {\n",
      "            \"edges\": {\n",
      "                \"e01\": {\n",
      "                    \"object\": \"n0\",\n",
      "                    \"subject\": \"n1\",\n",
      "                    \"predicates\": [\n",
      "                        \"biolink:entity_negatively_regulates_entity\"\n",
      "                    ]\n",
      "                }\n",
      "            },\n",
      "            \"nodes\": {\n",
      "                \"n0\": {\n",
      "                    \"ids\": [\n",
      "                        \"NCBIGene:23221\"\n",
      "                    ],\n",
      "                    \"categories\": [\n",
      "                        \"biolink:Gene\"\n",
      "                    ]\n",
      "                },\n",
      "                \"n1\": {\n",
      "                    \"categories\": [\n",
      "                        \"biolink:SmallMolecule\"\n",
      "                    ]\n",
      "                }\n",
      "            }\n",
      "        }\n",
      "    }\n",
      "}\n"
     ]
    }
   ],
   "source": [
    "with open('A.0_RHOBTB2_direct.json','r') as inf:\n",
    "    query_0 = json.load(inf)\n",
    "printjson(query_0)"
   ]
  },
  {
   "cell_type": "markdown",
   "id": "systematic-morning",
   "metadata": {},
   "source": [
    "The query above links a Gene, specified with an NCBIGene identifier, with an unnamed SmallMolecule.   Furthermore, it asks that relationship(predicate) between these two things is that the SmallMolecule \"decreases\" the Gene.  Here \"decreases\" is defined as one of any number of relationships in our shared data model, the [biolink model](https://github.com/biolink/biolink-model/blob/master/biolink-model.yaml).  We can send this query to Translator and view the results."
   ]
  },
  {
   "cell_type": "code",
   "execution_count": 5,
   "id": "vital-south",
   "metadata": {},
   "outputs": [
    {
     "name": "stdout",
     "output_type": "stream",
     "text": [
      "https://arax.ncats.io/?source=ARS&id=2c3211dd-b27c-488c-97ef-93e57d6d47ef\n"
     ]
    }
   ],
   "source": [
    "pk_0 = submit_to_ars(query_0)"
   ]
  },
  {
   "cell_type": "markdown",
   "id": "treated-courtesy",
   "metadata": {},
   "source": [
    "Unfortunately, we find that there are no chemicals that inhibit, downregulate, lower the amount of, or decrease the expression of RHOBTB2 known to Translator.  This may not be uncommon for a poorly studied gene.\n",
    "\n",
    "To affect RHOBTB2, then, we will need to take a more indirect approach.  Now, we will attempt to find genes that can downregulate RHOBTB2, and then find SmallMolecule that increase the activity of those genes."
   ]
  },
  {
   "cell_type": "code",
   "execution_count": 17,
   "id": "ec0189d0",
   "metadata": {},
   "outputs": [
    {
     "name": "stdout",
     "output_type": "stream",
     "text": [
      "{\n",
      "    \"message\": {\n",
      "        \"query_graph\": {\n",
      "            \"nodes\": {\n",
      "                \"n0\": {\n",
      "                    \"ids\": [\n",
      "                        \"NCBIGene:23221\"\n",
      "                    ],\n",
      "                    \"categories\": [\n",
      "                        \"biolink:Gene\"\n",
      "                    ]\n",
      "                },\n",
      "                \"n1\": {\n",
      "                    \"categories\": [\n",
      "                        \"biolink:SmallMolecule\"\n",
      "                    ]\n",
      "                }\n",
      "            },\n",
      "            \"edges\": {\n",
      "                \"e01\": {\n",
      "                    \"subject\": \"n0\",\n",
      "                    \"object\": \"n1\",\n",
      "                    \"predicates\": [\n",
      "                        \"biolink:affects_response_to\"\n",
      "                    ]\n",
      "                }\n",
      "            }\n",
      "        }\n",
      "    }\n",
      "}\n"
     ]
    }
   ],
   "source": [
    "with open('A.Multiomics_BigGIM_DR_KP_RHOBTB2.json','r') as inf:\n",
    "    query_1 = json.load(inf)\n",
    "printjson(query_1)"
   ]
  },
  {
   "cell_type": "code",
   "execution_count": 18,
   "id": "c39137e3",
   "metadata": {},
   "outputs": [
    {
     "name": "stdout",
     "output_type": "stream",
     "text": [
      "https://arax.ncats.io/?source=ARS&id=db4bfd09-084f-449e-8495-d524092ebef6\n"
     ]
    }
   ],
   "source": [
    "pk_1 = submit_to_ars(query_1)"
   ]
  },
  {
   "cell_type": "markdown",
   "id": "f0244dd7",
   "metadata": {},
   "source": [
    "The difference between query_0_1 and query_0 is the reverse direction between the Gene and SmallMolecule. We found only a few results such as  <font color='blue'>RUXOLITINIB</font>. Evidence from the biothings-multiomics-biggim-drugresponse KP shows cell lines with RHOBTB2 mutations shows significant lower IC50 values compared to cell lines with wildtype RHOBTB2. RUXOLITINIB is JAK inhibitors. JAK-STAT3 signaling has been reported to cross-talk with Rho GTPase signaling in the context of cancer [PMC4125382]. The underline mechanism of the higher sensitivity of JAK inhibitor RUXOLITINIB in the RHOBTB2 mutated samples is still not clear. More knowledge graphs or multiple hop queries will be needed. </br> Edit by Guangrong Qin "
   ]
  },
  {
   "cell_type": "code",
   "execution_count": 13,
   "id": "communist-dublin",
   "metadata": {},
   "outputs": [
    {
     "name": "stdout",
     "output_type": "stream",
     "text": [
      "{\n",
      "    \"message\": {\n",
      "        \"query_graph\": {\n",
      "            \"edges\": {\n",
      "                \"e01\": {\n",
      "                    \"object\": \"n0\",\n",
      "                    \"subject\": \"n1\",\n",
      "                    \"predicates\": [\n",
      "                        \"biolink:entity_regulates_entity\",\n",
      "                        \"biolink:genetically_interacts_with\"\n",
      "                    ]\n",
      "                },\n",
      "                \"e02\": {\n",
      "                    \"object\": \"n1\",\n",
      "                    \"subject\": \"n2\",\n",
      "                    \"predicates\": [\n",
      "                        \"biolink:related_to\"\n",
      "                    ]\n",
      "                }\n",
      "            },\n",
      "            \"nodes\": {\n",
      "                \"n0\": {\n",
      "                    \"ids\": [\n",
      "                        \"NCBIGene:23221\"\n",
      "                    ],\n",
      "                    \"categories\": [\n",
      "                        \"biolink:Gene\"\n",
      "                    ]\n",
      "                },\n",
      "                \"n1\": {\n",
      "                    \"categories\": [\n",
      "                        \"biolink:Gene\"\n",
      "                    ]\n",
      "                },\n",
      "                \"n2\": {\n",
      "                    \"categories\": [\n",
      "                        \"biolink:SmallMolecule\"\n",
      "                    ]\n",
      "                }\n",
      "            }\n",
      "        }\n",
      "    }\n",
      "}\n"
     ]
    }
   ],
   "source": [
    "with open('A.2_RHOBTB2_twohop.json','r') as inf:\n",
    "    query_2 = json.load(inf)\n",
    "printjson(query_2)"
   ]
  },
  {
   "cell_type": "code",
   "execution_count": 14,
   "id": "prostate-sympathy",
   "metadata": {},
   "outputs": [
    {
     "name": "stdout",
     "output_type": "stream",
     "text": [
      "https://arax.ncats.io/?source=ARS&id=3f68f0a5-8fc7-43bc-b458-0ccf23938d00\n"
     ]
    }
   ],
   "source": [
    "pk_2 = submit_to_ars(query_2)"
   ]
  },
  {
   "cell_type": "code",
   "execution_count": null,
   "id": "36976d98",
   "metadata": {},
   "outputs": [],
   "source": []
  }
 ],
 "metadata": {
  "kernelspec": {
   "display_name": "Python 3 (ipykernel)",
   "language": "python",
   "name": "python3"
  },
  "language_info": {
   "codemirror_mode": {
    "name": "ipython",
    "version": 3
   },
   "file_extension": ".py",
   "mimetype": "text/x-python",
   "name": "python",
   "nbconvert_exporter": "python",
   "pygments_lexer": "ipython3",
   "version": "3.9.6"
  }
 },
 "nbformat": 4,
 "nbformat_minor": 5
}
